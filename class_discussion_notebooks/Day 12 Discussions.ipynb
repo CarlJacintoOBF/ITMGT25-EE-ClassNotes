{
 "cells": [
  {
   "cell_type": "markdown",
   "metadata": {},
   "source": [
    "## More Preparation Exercises"
   ]
  },
  {
   "cell_type": "markdown",
   "metadata": {},
   "source": [
    "### Warm-up"
   ]
  },
  {
   "cell_type": "code",
   "execution_count": 89,
   "metadata": {},
   "outputs": [
    {
     "name": "stdout",
     "output_type": "stream",
     "text": [
      "['*']\n",
      "['*', '*']\n",
      "['*', '*', '*']\n",
      "['*', '*', '*', '*']\n"
     ]
    }
   ],
   "source": [
    "print(\"*\".split(\" \"))\n",
    "print(\"* *\".split(\" \"))\n",
    "print(\"* * *\".split(\" \"))\n",
    "print(\"* * * *\".split(\" \"))\n"
   ]
  },
  {
   "cell_type": "code",
   "execution_count": 93,
   "metadata": {},
   "outputs": [
    {
     "name": "stdout",
     "output_type": "stream",
     "text": [
      "1\n",
      "2\n",
      "3\n",
      "4\n"
     ]
    }
   ],
   "source": [
    "print(len(\"*\".split(\" \")))\n",
    "print(len(\"* *\".split(\" \")))\n",
    "print(len(\"* * *\".split(\" \")))\n",
    "print(len(\"* * * *\".split(\" \")))"
   ]
  },
  {
   "cell_type": "code",
   "execution_count": 97,
   "metadata": {},
   "outputs": [
    {
     "name": "stdout",
     "output_type": "stream",
     "text": [
      "* \n",
      "* * \n",
      "* * * \n",
      "* * * * \n"
     ]
    }
   ],
   "source": [
    "print(1*\"* \")\n",
    "print(2*\"* \")\n",
    "print(3*\"* \")\n",
    "print(4*\"* \")"
   ]
  },
  {
   "cell_type": "code",
   "execution_count": 114,
   "metadata": {},
   "outputs": [
    {
     "name": "stdout",
     "output_type": "stream",
     "text": [
      "* \n",
      "* * \n",
      "* * * \n",
      "* * * * \n"
     ]
    }
   ],
   "source": [
    "[print(\"*\",end=\" \") for j in range(1,1+1)]\n",
    "print(\"\")\n",
    "[print(\"*\",end=\" \") for j in range(1,2+1)]\n",
    "print(\"\")\n",
    "[print(\"*\",end=\" \") for j in range(1,3+1)]\n",
    "print(\"\")\n",
    "[print(\"*\",end=\" \") for j in range(1,4+1)]\n",
    "print(\"\")\n"
   ]
  },
  {
   "cell_type": "code",
   "execution_count": 156,
   "metadata": {},
   "outputs": [
    {
     "name": "stdout",
     "output_type": "stream",
     "text": [
      "0,1,2,3,4,5,6,7,8,9,"
     ]
    }
   ],
   "source": [
    "for i in range(10):\n",
    "    print(i,end=\",\")"
   ]
  },
  {
   "cell_type": "code",
   "execution_count": 179,
   "metadata": {},
   "outputs": [
    {
     "name": "stdout",
     "output_type": "stream",
     "text": [
      "[1, 0]\n",
      "[2, 0]\n",
      "[2, 1]\n",
      "[3, 0]\n",
      "[3, 1]\n",
      "[3, 2]\n",
      "[4, 0]\n",
      "[4, 1]\n",
      "[4, 2]\n",
      "[4, 3]\n"
     ]
    }
   ],
   "source": [
    "for i in range(0,5):\n",
    "    for j in range(0,i):\n",
    "        print([i,j])"
   ]
  },
  {
   "cell_type": "code",
   "execution_count": 154,
   "metadata": {},
   "outputs": [
    {
     "name": "stdout",
     "output_type": "stream",
     "text": [
      "* \n",
      "* * \n",
      "* * * \n",
      "* * * * \n"
     ]
    }
   ],
   "source": [
    "for i in range(1,4+1):\n",
    "    [print(\"*\",end=\" \") for j in range(1,i+1)]\n",
    "    print(\"\")"
   ]
  },
  {
   "cell_type": "code",
   "execution_count": 173,
   "metadata": {},
   "outputs": [
    {
     "name": "stdout",
     "output_type": "stream",
     "text": [
      "\n",
      "(1, 0) \n",
      "(2, 0) (2, 1) \n"
     ]
    }
   ],
   "source": [
    "for i in range(0,3):\n",
    "    for j in range(0,i):\n",
    "      print((i,j),end=\" \")\n",
    "    print(\"\")"
   ]
  },
  {
   "cell_type": "code",
   "execution_count": 177,
   "metadata": {},
   "outputs": [
    {
     "name": "stdout",
     "output_type": "stream",
     "text": [
      "something\n"
     ]
    }
   ],
   "source": [
    "for i in range(1):\n",
    "    print(\"something\")"
   ]
  },
  {
   "cell_type": "code",
   "execution_count": 155,
   "metadata": {},
   "outputs": [
    {
     "name": "stdout",
     "output_type": "stream",
     "text": [
      "* \n",
      "* * \n",
      "* * * \n",
      "* * * * \n"
     ]
    }
   ],
   "source": [
    "n=4\n",
    "for i in range(1,n+1):\n",
    "    [print(\"*\",end=\" \") for j in range(1,i+1)]\n",
    "    print(\"\")"
   ]
  },
  {
   "cell_type": "code",
   "execution_count": 145,
   "metadata": {},
   "outputs": [
    {
     "name": "stdout",
     "output_type": "stream",
     "text": [
      "* \n",
      "* * \n",
      "* * * \n",
      "* * * * \n"
     ]
    }
   ],
   "source": [
    "for j in range(1,1+1):\n",
    "    print(\"*\",end=\" \")\n",
    "print(\"\")\n",
    "\n",
    "for j in range(1,2+1):\n",
    "    print(\"*\",end=\" \")\n",
    "print(\"\")\n",
    "\n",
    "for j in range(1,3+1):\n",
    "    print(\"*\",end=\" \")\n",
    "print(\"\")\n",
    "\n",
    "for j in range(1,4+1):\n",
    "    print(\"*\",end=\" \")\n",
    "print(\"\")"
   ]
  },
  {
   "cell_type": "markdown",
   "metadata": {},
   "source": [
    "### Debugging Code\n",
    "\n",
    "1) Read the code snippet below. Do not attempt to run until you are confident of your answer. Copy and fix the code in the cell below the original."
   ]
  },
  {
   "cell_type": "code",
   "execution_count": null,
   "metadata": {},
   "outputs": [],
   "source": [
    "# Original code\n",
    "#\n",
    "# This program has syntax and functional errors. Spot them.\n",
    "\n",
    "def fibonacci(n):\n",
    "    prev = 0\n",
    "    next = 1\n",
    "    output = 0\n",
    "    for i in (0,n):\n",
    "        if(i<=1):\n",
    "            output = i\n",
    "        else\n",
    "            prev, next = next, prev+next\n",
    "            output = next\n",
    "            \n",
    "    print(output, end==\",\")\n",
    "    \n",
    "fibonacci(10)"
   ]
  },
  {
   "cell_type": "code",
   "execution_count": null,
   "metadata": {},
   "outputs": [],
   "source": [
    "# Copy code above, fix and run here\n",
    "# Note: We will solve in class together\n",
    "#\n",
    "#\n",
    "#\n",
    "#\n",
    "# Scroll to reveal on screen\n",
    "#\n",
    "#\n",
    "\n",
    "def fibonacci(n):\n",
    "    prev = 0\n",
    "    next = 1\n",
    "    output = 0\n",
    "    for i in range(0,n):\n",
    "        if(i<=1):\n",
    "            output = i\n",
    "        else:\n",
    "            prev, next = next, prev+next\n",
    "            output = next\n",
    "            \n",
    "        print(output, end=\",\")\n",
    "    \n",
    "fibonacci(10)"
   ]
  },
  {
   "cell_type": "markdown",
   "metadata": {},
   "source": [
    "Errors:\n",
    "* the indent of the print line is off\n",
    "* the end parameter in print should have only one \"=\", not \"==\"\n",
    "* range() should have been used\n",
    "* else is missing a colon"
   ]
  },
  {
   "cell_type": "markdown",
   "metadata": {},
   "source": [
    "2) Read the code snippet below. Do not attempt to run until you are confident of your answer. Copy and fix the code in the cell below the original."
   ]
  },
  {
   "cell_type": "code",
   "execution_count": 32,
   "metadata": {},
   "outputs": [],
   "source": [
    "# original code\n",
    "#\n",
    "# This program has syntax and functional errors. Spot them.\n",
    "\n",
    "def is_prime(n):\n",
    "    prime! = true\n",
    "    for i in range(2,n):\n",
    "        if(n>2 and n%i = 0)\n",
    "            prime! = false\n",
    "            break\n",
    "    \n",
    "            return prime!\n",
    "\n",
    "is_prime(23)\n",
    "    "
   ]
  },
  {
   "cell_type": "code",
   "execution_count": null,
   "metadata": {},
   "outputs": [],
   "source": [
    "# Copy code above, fix and run here\n",
    "# Note: We will solve in class together\n",
    "#\n",
    "#\n",
    "#\n",
    "#\n",
    "# Scroll to reveal on screen\n",
    "#\n",
    "#\n",
    "def is_prime(n):\n",
    "    prime = True\n",
    "    for i in range(2,n):\n",
    "        if(n>2 and n%i == 0):\n",
    "            prime = False\n",
    "            break\n",
    "    \n",
    "    return prime\n",
    "\n",
    "is_prime(23)"
   ]
  },
  {
   "cell_type": "markdown",
   "metadata": {},
   "source": [
    "Errors:\n",
    "* if has no colon\n",
    "* prime! variable name is invalid\n",
    "* true and false are not spelled correctly"
   ]
  },
  {
   "cell_type": "markdown",
   "metadata": {},
   "source": [
    "3) Read the code snippet below. Do not attempt to run until you are confident of your answer. Copy and fix the code in the cell below the original."
   ]
  },
  {
   "cell_type": "code",
   "execution_count": null,
   "metadata": {},
   "outputs": [],
   "source": [
    "# original code\n",
    "#\n",
    "# This program has syntax and functional errors. Spot them.\n",
    "\n",
    "quiz={\"question\":\"Which is better? Python or VBA?\",\"answer\":\"Python of course!\"}\n",
    "\n",
    "def get_answer():\n",
    "    print(quiz[answer])\n",
    "    \n",
    "get_answer()"
   ]
  },
  {
   "cell_type": "code",
   "execution_count": null,
   "metadata": {},
   "outputs": [],
   "source": [
    "# Copy code above, fix and run here\n",
    "# Note: We will solve in class together\n",
    "#\n",
    "#\n",
    "#\n",
    "#\n",
    "# Scroll to reveal on screen\n",
    "#\n",
    "#\n",
    "quiz={\"question\":\"Which is better? Python or VBA?\",\"answer\":\"Python of course!\"}\n",
    "\n",
    "def get_answer():\n",
    "    print(quiz[\"answer\"])\n",
    "    \n",
    "get_answer()"
   ]
  },
  {
   "cell_type": "markdown",
   "metadata": {},
   "source": [
    "4) Read the code snippet below. 4) Do not attempt to run until you are confident of your answer. Copy and fix the code in the cell below the original."
   ]
  },
  {
   "cell_type": "code",
   "execution_count": null,
   "metadata": {},
   "outputs": [],
   "source": [
    "# original code\n",
    "#\n",
    "# This program has syntax and functional errors. Spot them.\n",
    "\n",
    "def squares(n):\n",
    "    for i in range(1,n):\n",
    "        yield i**2\n",
    "        \n",
    "def square_roots(n):\n",
    "    \n",
    "    for i in squares(n):\n",
    "        print(int(i ** 1/2), end=\",\")\n",
    "        \n",
    "square_roots(10)"
   ]
  },
  {
   "cell_type": "code",
   "execution_count": 40,
   "metadata": {},
   "outputs": [],
   "source": [
    "# Copy code above, fix and run here\n",
    "# Note: We will solve in class together\n",
    "#\n",
    "#\n",
    "#\n",
    "#\n",
    "# Scroll to reveal on screen\n",
    "#\n",
    "#\n",
    "def squares(n):\n",
    "    for i in range(1,n):\n",
    "        yield i**2\n",
    "        \n",
    "def square_roots(n):\n",
    "    \n",
    "    for i in squares(n):\n",
    "        print(int(i ** (1/2)), end=\",\")\n",
    "        \n",
    "square_roots(10)"
   ]
  },
  {
   "cell_type": "markdown",
   "metadata": {},
   "source": [
    "Hints and Tips:\n",
    "* Review Python operator precedence (PEMDAS, etc)"
   ]
  },
  {
   "cell_type": "markdown",
   "metadata": {},
   "source": [
    "### Reading Source Code"
   ]
  },
  {
   "cell_type": "markdown",
   "metadata": {},
   "source": [
    "5) What is the output of this program?"
   ]
  },
  {
   "cell_type": "code",
   "execution_count": null,
   "metadata": {},
   "outputs": [],
   "source": [
    "hidden_message = \"\"\"\n",
    "We're about to administer the Long Test this Tuesday. \n",
    "No one is allowed to bring laptops and smartphones.\n",
    "Strangers (family and friends) are not allowed in the test area.\n",
    "To prepare for the exam, print out all your Jupyter Notebooks and reference material from the Internet.\n",
    "Love the craft of programming and you will do well in the exam.\n",
    "You will be given three hours for the test. There will be no extensions.\n",
    "Know the basics of Python's syntax and the various data types.\n",
    "The format of the test is written. The hands-on version of the Long Test will be the next one.\n",
    "Rules governing the test have been posted on our Facebook Group.\n",
    "And, practice questions will be given out over the weekend.\n",
    "So, since you've been given all the material you need to prepare,\n",
    "do run through all the samples in the notebooks again and again.\n",
    "I will be available for online consultation via FB messenger.\n",
    "A free cut will be given on Monday. I won't be able to make it anyway, so I'm making this as convenient excuse.\n",
    "Full disclosure: I was asked to give the most difficult question in the exam. I am confident you will be able to answer.\n",
    "Commitment's reward will be given to those who strive for mastery of the material.\n",
    "What is needed is your belief in yourselves.\n",
    "I'm confident that you will pass the test.\n",
    "Thinking that you are non-techie will be your downfall. Do not let this mindset cripple you.\n",
    "Of course, it takes time and practice to master programming. I've tried to give you the practice that you need.\n",
    "You shouldn't worry too much about the whole thing.\n",
    "Wouldn't you agree that if you do ace the exams, all your self-doubt will be wiped out?\n",
    "Get going with the practice questions, and let me know if you need help.\n",
    "This is it. \n",
    "From now until Tuesday, practice, practice, practice.\n",
    "Any opportunity to collaborate with friends on practice questions will help a lot too!\n",
    "Other friends from other sections would definitely need your help also.\n",
    "...\n",
    "\"\"\"\n",
    "\n",
    "lines = hidden_message.splitlines()\n",
    "\n",
    "for line in lines:\n",
    "    print(line.split(\" \")[0], end=\" \")\n"
   ]
  },
  {
   "cell_type": "markdown",
   "metadata": {},
   "source": [
    "### Writing Programs"
   ]
  },
  {
   "cell_type": "markdown",
   "metadata": {},
   "source": [
    "6) Write a program that accepts a string as user input (using ```input()```) and extracts all letters and remove duplicates. Remove spaces too."
   ]
  },
  {
   "cell_type": "code",
   "execution_count": 79,
   "metadata": {},
   "outputs": [
    {
     "name": "stdout",
     "output_type": "stream",
     "text": [
      "Enter string: this is a test\n"
     ]
    },
    {
     "data": {
      "text/plain": [
       "{'a', 'e', 'h', 'i', 's', 't'}"
      ]
     },
     "execution_count": 79,
     "metadata": {},
     "output_type": "execute_result"
    }
   ],
   "source": [
    "somestring=input(\"Enter string: \")\n",
    "somestring=somestring.replace(\" \",\"\")\n",
    "charlist = [i for i in somestring]\n",
    "set([i for i in somestring])"
   ]
  },
  {
   "cell_type": "markdown",
   "metadata": {},
   "source": [
    "7) Count the number of occurences of each fruit in a list."
   ]
  },
  {
   "cell_type": "code",
   "execution_count": 87,
   "metadata": {},
   "outputs": [
    {
     "data": {
      "text/plain": [
       "{'apple': 3,\n",
       " 'avocado': 1,\n",
       " 'banana': 2,\n",
       " 'grapes': 1,\n",
       " 'mango': 1,\n",
       " 'papaya': 1,\n",
       " 'pear': 1,\n",
       " 'strawberry': 1}"
      ]
     },
     "execution_count": 87,
     "metadata": {},
     "output_type": "execute_result"
    }
   ],
   "source": [
    "fruit_list = [\"apple\",\"banana\",\"mango\",\"avocado\",\"pear\",\"papaya\",\"apple\",\"banana\",\"grapes\",\"strawberry\",\"apple\"]\n",
    "\n",
    "fruit_tally = {}\n",
    "\n",
    "# initialize each fruit to zero\n",
    "fruit_set = set(fruit_list)\n",
    "\n",
    "for fruit in fruit_set:\n",
    "    fruit_tally[fruit]=0\n",
    "    \n",
    "# count\n",
    "for fruit in fruit_list:\n",
    "    fruit_tally[fruit] += 1\n",
    "    \n",
    "fruit_tally"
   ]
  },
  {
   "cell_type": "markdown",
   "metadata": {},
   "source": [
    "## What's in store for next week?"
   ]
  },
  {
   "cell_type": "markdown",
   "metadata": {},
   "source": [
    "* Regular Expressions (RegEx)\n",
    "* NumPy\n",
    "* Pandas\n",
    "* HTML and XML revisited\n",
    "* HTTP\n",
    "* BeautifulSoup\n",
    "* Data Cleaning and Exploratory Data Analysis\n",
    "* Databases\n",
    "* Microsoft Excel VBA\n"
   ]
  },
  {
   "cell_type": "code",
   "execution_count": null,
   "metadata": {},
   "outputs": [],
   "source": []
  }
 ],
 "metadata": {
  "kernelspec": {
   "display_name": "Python 3",
   "language": "python",
   "name": "python3"
  },
  "language_info": {
   "codemirror_mode": {
    "name": "ipython",
    "version": 3
   },
   "file_extension": ".py",
   "mimetype": "text/x-python",
   "name": "python",
   "nbconvert_exporter": "python",
   "pygments_lexer": "ipython3",
   "version": "3.6.8"
  }
 },
 "nbformat": 4,
 "nbformat_minor": 2
}
