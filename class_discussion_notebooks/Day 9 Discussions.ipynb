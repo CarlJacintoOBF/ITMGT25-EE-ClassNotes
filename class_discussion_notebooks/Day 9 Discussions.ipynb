{
 "cells": [
  {
   "cell_type": "markdown",
   "metadata": {},
   "source": [
    "## More LT Tips"
   ]
  },
  {
   "cell_type": "code",
   "execution_count": 183,
   "metadata": {},
   "outputs": [
    {
     "name": "stdout",
     "output_type": "stream",
     "text": [
      "Subtotals: [6, 15, 24] \n"
     ]
    }
   ],
   "source": [
    "# How do you get aggregate values of \"columns\" in a table?\n",
    "\n",
    "table=[[1,2,3],[4,5,6],[7,8,9]]\n",
    "\n",
    "rows = [row for row in table]\n",
    "\n",
    "sum_rows = [sum(row) for row in table]\n",
    "print(\"Subtotals: {} \".format(sum_rows))\n",
    "\n",
    "\n",
    "\n"
   ]
  },
  {
   "cell_type": "code",
   "execution_count": 184,
   "metadata": {},
   "outputs": [
    {
     "name": "stdout",
     "output_type": "stream",
     "text": [
      "Columns: [[1, 4, 7], [2, 5, 8], [3, 6, 9]]\n",
      "Column totals: [12, 15, 18]\n",
      "Averages: [4.0, 5.0, 6.0]\n"
     ]
    }
   ],
   "source": [
    "# this is one way to initialize a list with pre-allocated spaces\n",
    "columns=[] \n",
    "\n",
    "# if you don't do the following, you will have index referencing issues\n",
    "for i in range(len(rows)):\n",
    "    columns.append(list())\n",
    "    \n",
    "for row in rows:\n",
    "    for column,cval in enumerate(row):\n",
    "        columns[column].append(cval)\n",
    "                \n",
    "print(\"Columns: {}\".format(columns))\n",
    "\n",
    "sum_columns = [sum(column) for column in columns]\n",
    "print(\"Column totals: {}\".format(sum_columns))\n",
    "\n",
    "avg_columns = [sum(column)/len(columns) for column in columns]\n",
    "print(\"Averages: {}\".format(avg_columns))"
   ]
  },
  {
   "cell_type": "markdown",
   "metadata": {},
   "source": [
    "### What is zip()\n",
    "\n",
    "The purpose of ```zip()``` is to map the similar index of multiple containers so that they can be used just using as single entity."
   ]
  },
  {
   "cell_type": "code",
   "execution_count": 185,
   "metadata": {},
   "outputs": [],
   "source": [
    "# Python code to demonstrate the working of  \n",
    "# zip() \n",
    "  \n",
    "# initializing lists \n",
    "code = [ \"espresso\", \"americano\", \"capuccino\"] \n",
    "qty = [ 1, 1, 2 ] \n",
    "price = [ 140, 150, 170 ] \n",
    "  \n",
    "# using zip() to map values \n",
    "mapped = zip(code, qty, price) \n",
    "  \n",
    "# converting values to print as set \n",
    "mapped = list(mapped) "
   ]
  },
  {
   "cell_type": "code",
   "execution_count": 186,
   "metadata": {},
   "outputs": [
    {
     "name": "stdout",
     "output_type": "stream",
     "text": [
      "[('espresso', 1, 140), ('americano', 1, 150), ('capuccino', 2, 170)]\n"
     ]
    }
   ],
   "source": [
    "print(mapped)"
   ]
  },
  {
   "cell_type": "code",
   "execution_count": 187,
   "metadata": {},
   "outputs": [
    {
     "data": {
      "text/plain": [
       "[140, 150, 170]"
      ]
     },
     "execution_count": 187,
     "metadata": {},
     "output_type": "execute_result"
    }
   ],
   "source": [
    "[m[2] for m in mapped]"
   ]
  },
  {
   "cell_type": "code",
   "execution_count": 188,
   "metadata": {},
   "outputs": [
    {
     "data": {
      "text/plain": [
       "[140, 150, 340]"
      ]
     },
     "execution_count": 188,
     "metadata": {},
     "output_type": "execute_result"
    }
   ],
   "source": [
    "# Get subtotal\n",
    "[m[1]*m[2] for m in mapped]"
   ]
  },
  {
   "cell_type": "code",
   "execution_count": 191,
   "metadata": {},
   "outputs": [
    {
     "name": "stdout",
     "output_type": "stream",
     "text": [
      "Column Values: [(1, 4, 7), (2, 5, 8), (3, 6, 9)]\n",
      "\n",
      "Column totals: [12, 15, 18]\n"
     ]
    }
   ],
   "source": [
    "# alternate solution using \"zip()\"\n",
    "\n",
    "print(\"Column Values: {}\".format([c for c in zip(*table)]))\n",
    "print()\n",
    "\n",
    "column_totals = [sum(c) for c in zip(*rows)]\n",
    "print(\"Column totals: {}\".format(column_totals))\n",
    "\n"
   ]
  },
  {
   "cell_type": "markdown",
   "metadata": {},
   "source": [
    "### How do you determine if all elements in the list are the same?\n"
   ]
  },
  {
   "cell_type": "code",
   "execution_count": 163,
   "metadata": {},
   "outputs": [],
   "source": [
    "list_a = [\"a\",\"a\",\"b\"]"
   ]
  },
  {
   "cell_type": "code",
   "execution_count": 161,
   "metadata": {},
   "outputs": [
    {
     "name": "stdout",
     "output_type": "stream",
     "text": [
      "False\n"
     ]
    }
   ],
   "source": [
    "# Solution 1: loop\n",
    "\n",
    "same=True\n",
    "start_char = list_a[0]\n",
    "for i in list_a:\n",
    "    if(start_char!=i):\n",
    "        same=False\n",
    "        break\n",
    "print(same)"
   ]
  },
  {
   "cell_type": "code",
   "execution_count": 201,
   "metadata": {},
   "outputs": [
    {
     "name": "stdout",
     "output_type": "stream",
     "text": [
      "False\n"
     ]
    }
   ],
   "source": [
    "# alternate solution\n",
    "list_a = [\"a\",\"a\",\"b\"]\n",
    "\n",
    "same=True\n",
    "if all(c == list_a[0] for c in list_a):\n",
    "    same=True\n",
    "else:\n",
    "    same=False\n",
    "\n",
    "print(same)"
   ]
  },
  {
   "cell_type": "code",
   "execution_count": 199,
   "metadata": {},
   "outputs": [
    {
     "data": {
      "text/plain": [
       "False"
      ]
     },
     "execution_count": 199,
     "metadata": {},
     "output_type": "execute_result"
    }
   ],
   "source": [
    "all([\"a\"==\"a\",\"b\"==\"b\",\"c\"==\"c\",(1>4)])"
   ]
  },
  {
   "cell_type": "code",
   "execution_count": 203,
   "metadata": {},
   "outputs": [
    {
     "name": "stdout",
     "output_type": "stream",
     "text": [
      "a=3\n",
      "b=1\n"
     ]
    }
   ],
   "source": [
    "## Swap\n",
    "a = 1\n",
    "b = 3\n",
    "\n",
    "# solution 1: use a temp variable\n",
    "c = 0\n",
    "c = a\n",
    "a = b\n",
    "b = c\n",
    "print(\"a={}\".format(a))\n",
    "print(\"b={}\".format(b))"
   ]
  },
  {
   "cell_type": "code",
   "execution_count": 204,
   "metadata": {},
   "outputs": [
    {
     "name": "stdout",
     "output_type": "stream",
     "text": [
      "a=3\n",
      "b=1\n"
     ]
    }
   ],
   "source": [
    "# solution #2: use Python's syntactic sugar \n",
    "a = 1\n",
    "b = 3\n",
    "\n",
    "a,b = b,a\n",
    "\n",
    "print(\"a={}\".format(a))\n",
    "print(\"b={}\".format(b))"
   ]
  },
  {
   "cell_type": "markdown",
   "metadata": {},
   "source": [
    "## CSV Review"
   ]
  },
  {
   "cell_type": "code",
   "execution_count": 206,
   "metadata": {},
   "outputs": [
    {
     "data": {
      "text/plain": [
       "{'americano': {'name': 'Americano', 'price': 150.0},\n",
       " 'brewedcoffee': {'name': 'Brewed Coffee', 'price': 120.0},\n",
       " 'capuccino': {'name': 'Capuccino', 'price': 170.0},\n",
       " 'espresso': {'name': 'Espresso', 'price': 140.0}}"
      ]
     },
     "execution_count": 206,
     "metadata": {},
     "output_type": "execute_result"
    }
   ],
   "source": [
    "import csv\n",
    "\n",
    "products = dict()\n",
    "\n",
    "with open('products.csv') as csv_file:\n",
    "    csv_reader = csv.reader(csv_file, delimiter=',')\n",
    "    line_count = 0\n",
    "    for row in csv_reader:\n",
    "        if line_count == 0:\n",
    "            pass\n",
    "        else:\n",
    "            products[row[0]]={\"name\":row[1], \"price\":float(row[2])}\n",
    "        line_count += 1\n",
    "        \n",
    "products"
   ]
  },
  {
   "cell_type": "code",
   "execution_count": 207,
   "metadata": {},
   "outputs": [
    {
     "data": {
      "text/plain": [
       "{'americano': {'name': 'Americano', 'price': 150.0},\n",
       " 'brewedcoffee': {'name': 'Brewed Coffee', 'price': 120.0},\n",
       " 'capuccino': {'name': 'Capuccino', 'price': 170.0},\n",
       " 'coldbrew': {'name': 'Cold Brew', 'price': 150.0},\n",
       " 'espresso': {'name': 'Espresso', 'price': 140.0},\n",
       " 'flatwhite': {'name': 'Flat White', 'price': 110.0},\n",
       " 'latte': {'name': 'Latte', 'price': 150.0},\n",
       " 'mocha': {'name': 'Mocha', 'price': 140.0},\n",
       " 'nitro': {'name': 'Nitro Black', 'price': 200.0}}"
      ]
     },
     "execution_count": 207,
     "metadata": {},
     "output_type": "execute_result"
    }
   ],
   "source": [
    "products_new = dict()\n",
    "\n",
    "with open('products_new.csv') as csv_file:\n",
    "    csv_reader = csv.reader(csv_file, delimiter=',')\n",
    "    line_count = 0\n",
    "    for row in csv_reader:\n",
    "        if line_count == 0:\n",
    "            pass\n",
    "        else:\n",
    "            products_new[row[0]]={\"name\":row[1], \"price\":float(row[2])}\n",
    "        line_count += 1\n",
    "        \n",
    "products_new"
   ]
  },
  {
   "cell_type": "code",
   "execution_count": 212,
   "metadata": {},
   "outputs": [
    {
     "data": {
      "text/plain": [
       "[{'First_Name': 'Jason', 'Last_Name': 'Francisco'},\n",
       " {'First_Name': 'Karl', 'Last_Name': 'Jacinto'},\n",
       " {'First_Name': 'Joe', 'Last_Name': 'Ilagan'},\n",
       " {'First_Name': 'David', 'Last_Name': 'Malabanan'},\n",
       " {'First_Name': 'Joe', 'Last_Name': 'Ilagan'}]"
      ]
     },
     "execution_count": 212,
     "metadata": {},
     "output_type": "execute_result"
    }
   ],
   "source": [
    "class_directory = list()\n",
    "\n",
    "with open('class_list.csv') as csv_file:\n",
    "    csv_reader = csv.reader(csv_file, delimiter=',')\n",
    "    line_count = 0\n",
    "    for row in csv_reader:\n",
    "        if line_count == 0:\n",
    "            pass\n",
    "        else:\n",
    "            class_directory.append({\"First_Name\":row[0], \"Last_Name\":row[1]})\n",
    "        line_count += 1\n",
    "        \n",
    "class_directory\n",
    "\n"
   ]
  },
  {
   "cell_type": "markdown",
   "metadata": {},
   "source": [
    "## Writing to CSV files"
   ]
  },
  {
   "cell_type": "code",
   "execution_count": 208,
   "metadata": {},
   "outputs": [],
   "source": [
    "import csv\n",
    "\n",
    "with open('sales_orders.csv', 'a', newline='') as csvfile:\n",
    "    order_writer = csv.writer(csvfile, quoting=csv.QUOTE_MINIMAL)\n",
    "    order_writer.writerow([\"code\",\"qty\",\"subtotal\"])\n",
    "    order_writer.writerow([\"espresso\",2,280])\n",
    "    order_writer.writerow(['americano', 1, 150])\n",
    "    order_writer.writerow(['latte', 1, 150])"
   ]
  },
  {
   "cell_type": "code",
   "execution_count": 213,
   "metadata": {},
   "outputs": [],
   "source": [
    "# Using DictWriter\n",
    "\n",
    "import csv\n",
    "\n",
    "with open('sales_orders_2.csv', 'a', newline='') as csvfile:\n",
    "    fieldnames = ['code', 'qty', 'subtotal']\n",
    "    writer = csv.DictWriter(csvfile, fieldnames=fieldnames)\n",
    "\n",
    "    writer.writeheader()\n",
    "    writer.writerow({'code': 'espresso', 'qty': 1, 'subtotal':140})\n",
    "    writer.writerow({'code': 'capuccino', 'qty': 1, 'subtotal':170})\n",
    "    writer.writerow({'code': 'americano', 'qty': 1, 'subtotal':150})"
   ]
  },
  {
   "cell_type": "code",
   "execution_count": 214,
   "metadata": {},
   "outputs": [
    {
     "name": "stdout",
     "output_type": "stream",
     "text": [
      "espresso 140\n",
      "capuccino 170\n",
      "americano 150\n",
      "code subtotal\n",
      "espresso 140\n",
      "capuccino 170\n",
      "americano 150\n"
     ]
    }
   ],
   "source": [
    "# Using DictReader\n",
    "\n",
    "import csv\n",
    "with open('sales_orders_2.csv', newline='') as csvfile:\n",
    "    reader = csv.DictReader(csvfile)\n",
    "    for row in reader:\n",
    "        print(row['code'], row['subtotal'])"
   ]
  },
  {
   "cell_type": "markdown",
   "metadata": {},
   "source": [
    "## More I/O Examples"
   ]
  },
  {
   "cell_type": "code",
   "execution_count": 215,
   "metadata": {},
   "outputs": [],
   "source": [
    "string = \"some string\"\n",
    "\n",
    "with open('some_string.txt',\"w+\") as file:\n",
    "    file.write(string)"
   ]
  },
  {
   "cell_type": "code",
   "execution_count": 216,
   "metadata": {},
   "outputs": [],
   "source": [
    "my_html = \"\"\"\n",
    "    <html>\n",
    "        <body>\n",
    "            <h1>Heading 1</h1>\n",
    "            <h2>Heading 2</h2>\n",
    "            The <b>quick</b> brown <i>fox</i> jumps over the lazy dogs.\n",
    "            <p/>\n",
    "            <h3>What do you want to do next?</h3>\n",
    "            <ul>\n",
    "               <li> Generate HTML from Python </li>\n",
    "               <li> ...\n",
    "            </ul>\n",
    "            <p/>\n",
    "            Sample ordered list:\n",
    "            <ol>\n",
    "               <li> Generate HTML from Python </li>\n",
    "               <li> ...\n",
    "            </ol>\n",
    "            <hr/>\n",
    "        </body>\n",
    "    </html\n",
    "\"\"\"\n",
    "\n",
    "with open('index.html',\"w+\") as file:\n",
    "    file.write(my_html)"
   ]
  },
  {
   "cell_type": "code",
   "execution_count": 217,
   "metadata": {},
   "outputs": [],
   "source": [
    "cp_menu_html = \"\"\"\n",
    "     <table>\n",
    "         <th><td>Code</td></th><th><td>Name</td></th><th><td>Price</td></th>\n",
    "         <tr><td>espresso</td></th><th><td>Espresso</td></th><th><td>140</td></tr>\n",
    "         <tr><td>americano</td></th><th><td>Americano</td></th><th><td>150</td></tr>\n",
    "     </table>\n",
    "\"\"\"\n",
    "\n",
    "with open('cp_menu.html',\"w+\") as file:\n",
    "    file.write(cp_menu_html)"
   ]
  },
  {
   "cell_type": "code",
   "execution_count": 218,
   "metadata": {},
   "outputs": [],
   "source": [
    "menu_html = \"\"\"\n",
    "    <html>\n",
    "        <body>\n",
    "            <h1>Heading 1</h1>\n",
    "            <h2>Heading 2</h2>\n",
    "            The <b>quick</b> brown <i>fox</i> jumps over the lazy dogs.\n",
    "            <p/>\n",
    "            <h3>What do you want to do next?</h3>\n",
    "            <ul>\n",
    "               <li> Generate HTML from Python </li>\n",
    "               <li> ...\n",
    "            </ul>\n",
    "            <hr/>\n",
    "            <h3>Menu</h3>\n",
    "            {}\n",
    "        </body>\n",
    "    </html\n",
    "\"\"\"\n",
    "\n",
    "main_html = menu_html.format(cp_menu_html)\n",
    "\n",
    "with open('cp_menu.html',\"w+\") as file:\n",
    "    file.write(main_html)"
   ]
  },
  {
   "cell_type": "code",
   "execution_count": 219,
   "metadata": {},
   "outputs": [],
   "source": [
    "menu = [{\"code\":\"espresso\",\"name\":\"Espresso\",\"price\":140},\n",
    "        {\"code\":\"americano\",\"name\":\"Americano\",\"price\":150},\n",
    "       ]\n",
    "\n",
    "cp_menu_html = \"\"\"\n",
    "     <table>\n",
    "         <th><td>Code</td></th><th><td>Name</td></th><th><td>Price</td></th>\n",
    "         {}\n",
    "     </table>\n",
    "\"\"\"\n",
    "\n",
    "cp_menu_table = \"\"\n",
    "for i in menu:\n",
    "    cp_menu_row = cp_menu_row + \"<tr>\"\n",
    "    cp_menu_row = cp_menu_row + \"<td>\"+i[\"code\"]+\"</td>\"\n",
    "    cp_menu_row = cp_menu_row + \"<td>\"+i[\"name\"]+\"</td>\"\n",
    "    cp_menu_row = cp_menu_row +  \"<td>\"+str(i[\"price\"])+\"</td>\"\n",
    "    cp_menu_row = cp_menu_row + \"</tr>\"\n",
    "    cp_menu_table = cp_menu_table + cp_menu_row\n",
    "    cp_menu_table = cp_menu_table + \"</tr>\"\n",
    "    \n",
    "\n",
    "main_html = menu_html.format(cp_menu_html.format(cp_menu_table))\n",
    "\n",
    "with open('cp_menu.html',\"w+\") as file:\n",
    "    file.write(main_html)\n"
   ]
  },
  {
   "cell_type": "markdown",
   "metadata": {},
   "source": [
    "## Classes and Objects"
   ]
  },
  {
   "cell_type": "code",
   "execution_count": 2,
   "metadata": {},
   "outputs": [
    {
     "name": "stdout",
     "output_type": "stream",
     "text": [
      "Hello world\n"
     ]
    }
   ],
   "source": [
    "class Parent:\n",
    "    \n",
    "    def doSomething(self):\n",
    "        print(\"Hello world\")\n",
    "        \n",
    "parent = Parent()\n",
    "\n",
    "parent.doSomething()"
   ]
  },
  {
   "cell_type": "code",
   "execution_count": 4,
   "metadata": {},
   "outputs": [],
   "source": [
    "class Child(Parent):\n",
    "    \n",
    "    def doSomething(self):\n",
    "        print(\"Hello mama/papa\")"
   ]
  },
  {
   "cell_type": "code",
   "execution_count": 5,
   "metadata": {},
   "outputs": [
    {
     "name": "stdout",
     "output_type": "stream",
     "text": [
      "Hello mama/papa\n"
     ]
    }
   ],
   "source": [
    "person = Child()\n",
    "\n",
    "person.doSomething()"
   ]
  },
  {
   "cell_type": "code",
   "execution_count": 7,
   "metadata": {},
   "outputs": [],
   "source": [
    "class Animal:\n",
    "    \n",
    "    def make_sound(self):\n",
    "        print(\"silence...\")\n",
    "        \n",
    "class Dog(Animal):\n",
    "    \n",
    "    def make_sound(self):\n",
    "        print(\"arf!\")\n",
    "        \n",
    "class Cat(Animal):\n",
    "    \n",
    "    def make_sound(self):\n",
    "        print(\"meow\")\n",
    "        \n",
    "def delight(animal):\n",
    "    animal.make_sound()\n",
    "    "
   ]
  },
  {
   "cell_type": "code",
   "execution_count": 8,
   "metadata": {},
   "outputs": [
    {
     "name": "stdout",
     "output_type": "stream",
     "text": [
      "arf!\n",
      "meow\n"
     ]
    }
   ],
   "source": [
    "fido = Dog()\n",
    "kitler = Cat()\n",
    "\n",
    "delight(fido)\n",
    "delight(kitler)"
   ]
  },
  {
   "cell_type": "code",
   "execution_count": 10,
   "metadata": {},
   "outputs": [],
   "source": [
    "class Animal:\n",
    "    \n",
    "    def __init__(self,name):\n",
    "        self.name = name\n",
    "    \n",
    "    def make_sound(self):\n",
    "        print(\"silence...\")\n",
    "        \n",
    "class Dog(Animal):\n",
    "    \n",
    "    def make_sound(self):\n",
    "        print(\"arf!\")\n",
    "        \n",
    "class Cat(Animal):\n",
    "    \n",
    "    def make_sound(self):\n",
    "        print(\"meow\")\n",
    "        \n",
    "def delight(animal):\n",
    "    animal.make_sound()"
   ]
  },
  {
   "cell_type": "code",
   "execution_count": 16,
   "metadata": {},
   "outputs": [
    {
     "name": "stdout",
     "output_type": "stream",
     "text": [
      "Fido\n",
      "Kitler\n",
      "arf!\n",
      "meow\n"
     ]
    }
   ],
   "source": [
    "fido = Dog(\"Fido\")\n",
    "kitler = Cat(\"Kitler\")\n",
    "\n",
    "print(fido.name)\n",
    "print(kitler.name)\n",
    "\n",
    "delight(fido)\n",
    "delight(kitler)"
   ]
  },
  {
   "cell_type": "code",
   "execution_count": 17,
   "metadata": {},
   "outputs": [],
   "source": [
    "fido.food = \"bones\""
   ]
  },
  {
   "cell_type": "code",
   "execution_count": 18,
   "metadata": {},
   "outputs": [],
   "source": [
    "kitler.food = \"mice\""
   ]
  },
  {
   "cell_type": "code",
   "execution_count": 19,
   "metadata": {},
   "outputs": [
    {
     "data": {
      "text/plain": [
       "'bones'"
      ]
     },
     "execution_count": 19,
     "metadata": {},
     "output_type": "execute_result"
    }
   ],
   "source": [
    "fido.food"
   ]
  },
  {
   "cell_type": "code",
   "execution_count": 20,
   "metadata": {},
   "outputs": [
    {
     "data": {
      "text/plain": [
       "'mice'"
      ]
     },
     "execution_count": 20,
     "metadata": {},
     "output_type": "execute_result"
    }
   ],
   "source": [
    "kitler.food"
   ]
  },
  {
   "cell_type": "code",
   "execution_count": 22,
   "metadata": {},
   "outputs": [
    {
     "name": "stdout",
     "output_type": "stream",
     "text": [
      "bones\n",
      "mice\n"
     ]
    }
   ],
   "source": [
    "def ask_food(animal):\n",
    "    return(animal.food)\n",
    "\n",
    "print(ask_food(fido))\n",
    "print(ask_food(kitler))"
   ]
  },
  {
   "cell_type": "code",
   "execution_count": null,
   "metadata": {},
   "outputs": [],
   "source": []
  }
 ],
 "metadata": {
  "kernelspec": {
   "display_name": "Python 3",
   "language": "python",
   "name": "python3"
  },
  "language_info": {
   "codemirror_mode": {
    "name": "ipython",
    "version": 3
   },
   "file_extension": ".py",
   "mimetype": "text/x-python",
   "name": "python",
   "nbconvert_exporter": "python",
   "pygments_lexer": "ipython3",
   "version": "3.6.8"
  }
 },
 "nbformat": 4,
 "nbformat_minor": 2
}
