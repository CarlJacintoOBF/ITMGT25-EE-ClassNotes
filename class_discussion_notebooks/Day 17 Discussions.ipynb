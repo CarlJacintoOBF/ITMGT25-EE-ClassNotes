{
 "cells": [
  {
   "cell_type": "markdown",
   "metadata": {},
   "source": [
    "## Day 17 Discussions"
   ]
  },
  {
   "cell_type": "markdown",
   "metadata": {},
   "source": [
    "## More Pandas"
   ]
  },
  {
   "cell_type": "markdown",
   "metadata": {},
   "source": [
    "#### Wikipedia:\n",
    "\n",
    "A data set (or dataset) is a collection of data. Most commonly a data set corresponds to the contents of a single database table, or a single statistical data matrix, where every column of the table represents a particular variable, and each row corresponds to a given member of the data set in question."
   ]
  },
  {
   "cell_type": "code",
   "execution_count": 88,
   "metadata": {},
   "outputs": [],
   "source": [
    "import pandas as pd"
   ]
  },
  {
   "cell_type": "code",
   "execution_count": 89,
   "metadata": {},
   "outputs": [
    {
     "data": {
      "text/html": [
       "<div>\n",
       "<style scoped>\n",
       "    .dataframe tbody tr th:only-of-type {\n",
       "        vertical-align: middle;\n",
       "    }\n",
       "\n",
       "    .dataframe tbody tr th {\n",
       "        vertical-align: top;\n",
       "    }\n",
       "\n",
       "    .dataframe thead th {\n",
       "        text-align: right;\n",
       "    }\n",
       "</style>\n",
       "<table border=\"1\" class=\"dataframe\">\n",
       "  <thead>\n",
       "    <tr style=\"text-align: right;\">\n",
       "      <th></th>\n",
       "      <th>name</th>\n",
       "      <th>mobile</th>\n",
       "    </tr>\n",
       "  </thead>\n",
       "  <tbody>\n",
       "    <tr>\n",
       "      <th>0</th>\n",
       "      <td>Rodrigo Duterte</td>\n",
       "      <td>+63917 8999990</td>\n",
       "    </tr>\n",
       "    <tr>\n",
       "      <th>1</th>\n",
       "      <td>Leni Robredo</td>\n",
       "      <td>+63918 8995555</td>\n",
       "    </tr>\n",
       "    <tr>\n",
       "      <th>2</th>\n",
       "      <td>Tito Sotto</td>\n",
       "      <td>+63917 7790000</td>\n",
       "    </tr>\n",
       "    <tr>\n",
       "      <th>3</th>\n",
       "      <td>Peter Cayetano</td>\n",
       "      <td>+63918 8991234</td>\n",
       "    </tr>\n",
       "    <tr>\n",
       "      <th>4</th>\n",
       "      <td>Nancy Binay</td>\n",
       "      <td>+63927 2222222</td>\n",
       "    </tr>\n",
       "  </tbody>\n",
       "</table>\n",
       "</div>"
      ],
      "text/plain": [
       "              name          mobile\n",
       "0  Rodrigo Duterte  +63917 8999990\n",
       "1     Leni Robredo  +63918 8995555\n",
       "2       Tito Sotto  +63917 7790000\n",
       "3   Peter Cayetano  +63918 8991234\n",
       "4      Nancy Binay  +63927 2222222"
      ]
     },
     "execution_count": 89,
     "metadata": {},
     "output_type": "execute_result"
    }
   ],
   "source": [
    "df = pd.DataFrame({\"name\":[\"Rodrigo Duterte\",\"Leni Robredo\",\"Tito Sotto\",\"Peter Cayetano\",\"Nancy Binay\"],\n",
    "                  \"mobile\":[\"+63917 8999990\", \"+63918 8995555\", \"+63917 7790000\", \"+63918 8991234\",\"+63927 2222222\"]})\n",
    "df"
   ]
  },
  {
   "cell_type": "code",
   "execution_count": 90,
   "metadata": {},
   "outputs": [
    {
     "data": {
      "text/plain": [
       "Index(['name', 'mobile', 'gender'], dtype='object')"
      ]
     },
     "execution_count": 90,
     "metadata": {},
     "output_type": "execute_result"
    }
   ],
   "source": [
    "# Add columns\n",
    "df[\"gender\"] = [\"Male\",\"Female\",\"Male\",\"Male\",\"Female\"]\n",
    "df.columns"
   ]
  },
  {
   "cell_type": "code",
   "execution_count": 91,
   "metadata": {},
   "outputs": [
    {
     "data": {
      "text/html": [
       "<div>\n",
       "<style scoped>\n",
       "    .dataframe tbody tr th:only-of-type {\n",
       "        vertical-align: middle;\n",
       "    }\n",
       "\n",
       "    .dataframe tbody tr th {\n",
       "        vertical-align: top;\n",
       "    }\n",
       "\n",
       "    .dataframe thead th {\n",
       "        text-align: right;\n",
       "    }\n",
       "</style>\n",
       "<table border=\"1\" class=\"dataframe\">\n",
       "  <thead>\n",
       "    <tr style=\"text-align: right;\">\n",
       "      <th></th>\n",
       "      <th>name</th>\n",
       "      <th>mobile</th>\n",
       "      <th>gender</th>\n",
       "    </tr>\n",
       "  </thead>\n",
       "  <tbody>\n",
       "    <tr>\n",
       "      <th>0</th>\n",
       "      <td>Rodrigo Duterte</td>\n",
       "      <td>+63917 8999990</td>\n",
       "      <td>Male</td>\n",
       "    </tr>\n",
       "    <tr>\n",
       "      <th>1</th>\n",
       "      <td>Leni Robredo</td>\n",
       "      <td>+63918 8995555</td>\n",
       "      <td>Female</td>\n",
       "    </tr>\n",
       "    <tr>\n",
       "      <th>2</th>\n",
       "      <td>Tito Sotto</td>\n",
       "      <td>+63917 7790000</td>\n",
       "      <td>Male</td>\n",
       "    </tr>\n",
       "    <tr>\n",
       "      <th>3</th>\n",
       "      <td>Peter Cayetano</td>\n",
       "      <td>+63918 8991234</td>\n",
       "      <td>Male</td>\n",
       "    </tr>\n",
       "    <tr>\n",
       "      <th>4</th>\n",
       "      <td>Nancy Binay</td>\n",
       "      <td>+63927 2222222</td>\n",
       "      <td>Female</td>\n",
       "    </tr>\n",
       "  </tbody>\n",
       "</table>\n",
       "</div>"
      ],
      "text/plain": [
       "              name          mobile  gender\n",
       "0  Rodrigo Duterte  +63917 8999990    Male\n",
       "1     Leni Robredo  +63918 8995555  Female\n",
       "2       Tito Sotto  +63917 7790000    Male\n",
       "3   Peter Cayetano  +63918 8991234    Male\n",
       "4      Nancy Binay  +63927 2222222  Female"
      ]
     },
     "execution_count": 91,
     "metadata": {},
     "output_type": "execute_result"
    }
   ],
   "source": [
    "df"
   ]
  },
  {
   "cell_type": "code",
   "execution_count": 92,
   "metadata": {},
   "outputs": [
    {
     "data": {
      "text/html": [
       "<div>\n",
       "<style scoped>\n",
       "    .dataframe tbody tr th:only-of-type {\n",
       "        vertical-align: middle;\n",
       "    }\n",
       "\n",
       "    .dataframe tbody tr th {\n",
       "        vertical-align: top;\n",
       "    }\n",
       "\n",
       "    .dataframe thead th {\n",
       "        text-align: right;\n",
       "    }\n",
       "</style>\n",
       "<table border=\"1\" class=\"dataframe\">\n",
       "  <thead>\n",
       "    <tr style=\"text-align: right;\">\n",
       "      <th></th>\n",
       "      <th>name</th>\n",
       "      <th>mobile</th>\n",
       "      <th>gender</th>\n",
       "    </tr>\n",
       "  </thead>\n",
       "  <tbody>\n",
       "    <tr>\n",
       "      <th>0</th>\n",
       "      <td>Rodrigo Duterte</td>\n",
       "      <td>+63917 8999990</td>\n",
       "      <td>Male</td>\n",
       "    </tr>\n",
       "    <tr>\n",
       "      <th>1</th>\n",
       "      <td>Leni Robredo</td>\n",
       "      <td>+63918 8995555</td>\n",
       "      <td>Female</td>\n",
       "    </tr>\n",
       "    <tr>\n",
       "      <th>2</th>\n",
       "      <td>Tito Sotto</td>\n",
       "      <td>+63917 7790000</td>\n",
       "      <td>Male</td>\n",
       "    </tr>\n",
       "    <tr>\n",
       "      <th>3</th>\n",
       "      <td>Peter Cayetano</td>\n",
       "      <td>+63918 8991234</td>\n",
       "      <td>Male</td>\n",
       "    </tr>\n",
       "    <tr>\n",
       "      <th>4</th>\n",
       "      <td>Nancy Binay</td>\n",
       "      <td>+63927 2222222</td>\n",
       "      <td>Female</td>\n",
       "    </tr>\n",
       "    <tr>\n",
       "      <th>5</th>\n",
       "      <td>Manny Pacquiao</td>\n",
       "      <td>+63927 1234567</td>\n",
       "      <td>Male</td>\n",
       "    </tr>\n",
       "  </tbody>\n",
       "</table>\n",
       "</div>"
      ],
      "text/plain": [
       "              name          mobile  gender\n",
       "0  Rodrigo Duterte  +63917 8999990    Male\n",
       "1     Leni Robredo  +63918 8995555  Female\n",
       "2       Tito Sotto  +63917 7790000    Male\n",
       "3   Peter Cayetano  +63918 8991234    Male\n",
       "4      Nancy Binay  +63927 2222222  Female\n",
       "5   Manny Pacquiao  +63927 1234567    Male"
      ]
     },
     "execution_count": 92,
     "metadata": {},
     "output_type": "execute_result"
    }
   ],
   "source": [
    "# Add rows\n",
    "df = df.append({\"name\":\"Manny Pacquiao\",\"gender\":\"Male\",\"mobile\":\"+63927 1234567\"}, ignore_index=True)\n",
    "df"
   ]
  },
  {
   "cell_type": "code",
   "execution_count": 93,
   "metadata": {},
   "outputs": [
    {
     "data": {
      "text/plain": [
       "0    0917 8999990\n",
       "1    0918 8995555\n",
       "2    0917 7790000\n",
       "3    0918 8991234\n",
       "4    0927 2222222\n",
       "5    0927 1234567\n",
       "Name: mobile, dtype: object"
      ]
     },
     "execution_count": 93,
     "metadata": {},
     "output_type": "execute_result"
    }
   ],
   "source": [
    "# substitute\n",
    "df.loc[:,\"mobile\"].replace(r\"^\\+63\",\"0\",regex=True)"
   ]
  },
  {
   "cell_type": "code",
   "execution_count": 94,
   "metadata": {},
   "outputs": [
    {
     "data": {
      "text/html": [
       "<div>\n",
       "<style scoped>\n",
       "    .dataframe tbody tr th:only-of-type {\n",
       "        vertical-align: middle;\n",
       "    }\n",
       "\n",
       "    .dataframe tbody tr th {\n",
       "        vertical-align: top;\n",
       "    }\n",
       "\n",
       "    .dataframe thead th {\n",
       "        text-align: right;\n",
       "    }\n",
       "</style>\n",
       "<table border=\"1\" class=\"dataframe\">\n",
       "  <thead>\n",
       "    <tr style=\"text-align: right;\">\n",
       "      <th></th>\n",
       "      <th>name</th>\n",
       "      <th>mobile</th>\n",
       "      <th>gender</th>\n",
       "    </tr>\n",
       "  </thead>\n",
       "  <tbody>\n",
       "    <tr>\n",
       "      <th>0</th>\n",
       "      <td>Rodrigo Duterte</td>\n",
       "      <td>+63917 8999990</td>\n",
       "      <td>Male</td>\n",
       "    </tr>\n",
       "    <tr>\n",
       "      <th>1</th>\n",
       "      <td>Leni Robredo</td>\n",
       "      <td>+63918 8995555</td>\n",
       "      <td>Female</td>\n",
       "    </tr>\n",
       "    <tr>\n",
       "      <th>2</th>\n",
       "      <td>Tito Sotto</td>\n",
       "      <td>+63917 7790000</td>\n",
       "      <td>Male</td>\n",
       "    </tr>\n",
       "    <tr>\n",
       "      <th>3</th>\n",
       "      <td>Peter Cayetano</td>\n",
       "      <td>+63918 8991234</td>\n",
       "      <td>Male</td>\n",
       "    </tr>\n",
       "    <tr>\n",
       "      <th>4</th>\n",
       "      <td>Nancy Binay</td>\n",
       "      <td>+63927 2222222</td>\n",
       "      <td>Female</td>\n",
       "    </tr>\n",
       "    <tr>\n",
       "      <th>5</th>\n",
       "      <td>Manny Pacquiao</td>\n",
       "      <td>+63927 1234567</td>\n",
       "      <td>Male</td>\n",
       "    </tr>\n",
       "  </tbody>\n",
       "</table>\n",
       "</div>"
      ],
      "text/plain": [
       "              name          mobile  gender\n",
       "0  Rodrigo Duterte  +63917 8999990    Male\n",
       "1     Leni Robredo  +63918 8995555  Female\n",
       "2       Tito Sotto  +63917 7790000    Male\n",
       "3   Peter Cayetano  +63918 8991234    Male\n",
       "4      Nancy Binay  +63927 2222222  Female\n",
       "5   Manny Pacquiao  +63927 1234567    Male"
      ]
     },
     "execution_count": 94,
     "metadata": {},
     "output_type": "execute_result"
    }
   ],
   "source": [
    "df"
   ]
  },
  {
   "cell_type": "code",
   "execution_count": 95,
   "metadata": {},
   "outputs": [],
   "source": [
    "df.loc[:,\"mobile\"].replace(r\"^\\+63\",\"0\",regex=True, inplace=True)"
   ]
  },
  {
   "cell_type": "code",
   "execution_count": 96,
   "metadata": {},
   "outputs": [
    {
     "data": {
      "text/html": [
       "<div>\n",
       "<style scoped>\n",
       "    .dataframe tbody tr th:only-of-type {\n",
       "        vertical-align: middle;\n",
       "    }\n",
       "\n",
       "    .dataframe tbody tr th {\n",
       "        vertical-align: top;\n",
       "    }\n",
       "\n",
       "    .dataframe thead th {\n",
       "        text-align: right;\n",
       "    }\n",
       "</style>\n",
       "<table border=\"1\" class=\"dataframe\">\n",
       "  <thead>\n",
       "    <tr style=\"text-align: right;\">\n",
       "      <th></th>\n",
       "      <th>name</th>\n",
       "      <th>mobile</th>\n",
       "      <th>gender</th>\n",
       "    </tr>\n",
       "  </thead>\n",
       "  <tbody>\n",
       "    <tr>\n",
       "      <th>0</th>\n",
       "      <td>Rodrigo Duterte</td>\n",
       "      <td>0917 8999990</td>\n",
       "      <td>Male</td>\n",
       "    </tr>\n",
       "    <tr>\n",
       "      <th>1</th>\n",
       "      <td>Leni Robredo</td>\n",
       "      <td>0918 8995555</td>\n",
       "      <td>Female</td>\n",
       "    </tr>\n",
       "    <tr>\n",
       "      <th>2</th>\n",
       "      <td>Tito Sotto</td>\n",
       "      <td>0917 7790000</td>\n",
       "      <td>Male</td>\n",
       "    </tr>\n",
       "    <tr>\n",
       "      <th>3</th>\n",
       "      <td>Peter Cayetano</td>\n",
       "      <td>0918 8991234</td>\n",
       "      <td>Male</td>\n",
       "    </tr>\n",
       "    <tr>\n",
       "      <th>4</th>\n",
       "      <td>Nancy Binay</td>\n",
       "      <td>0927 2222222</td>\n",
       "      <td>Female</td>\n",
       "    </tr>\n",
       "    <tr>\n",
       "      <th>5</th>\n",
       "      <td>Manny Pacquiao</td>\n",
       "      <td>0927 1234567</td>\n",
       "      <td>Male</td>\n",
       "    </tr>\n",
       "  </tbody>\n",
       "</table>\n",
       "</div>"
      ],
      "text/plain": [
       "              name        mobile  gender\n",
       "0  Rodrigo Duterte  0917 8999990    Male\n",
       "1     Leni Robredo  0918 8995555  Female\n",
       "2       Tito Sotto  0917 7790000    Male\n",
       "3   Peter Cayetano  0918 8991234    Male\n",
       "4      Nancy Binay  0927 2222222  Female\n",
       "5   Manny Pacquiao  0927 1234567    Male"
      ]
     },
     "execution_count": 96,
     "metadata": {},
     "output_type": "execute_result"
    }
   ],
   "source": [
    "df"
   ]
  },
  {
   "cell_type": "code",
   "execution_count": 97,
   "metadata": {},
   "outputs": [
    {
     "data": {
      "text/plain": [
       "0    +63917 8999990\n",
       "1    +63918 8995555\n",
       "2    +63917 7790000\n",
       "3    +63918 8991234\n",
       "4    +63927 2222222\n",
       "5    +63927 1234567\n",
       "Name: mobile, dtype: object"
      ]
     },
     "execution_count": 97,
     "metadata": {},
     "output_type": "execute_result"
    }
   ],
   "source": [
    "# Alternative: use apply\n",
    "import re\n",
    "\n",
    "df.loc[:,\"mobile\"].apply(lambda x: re.sub(r\"^0\",\"+63\", x) )"
   ]
  },
  {
   "cell_type": "code",
   "execution_count": 98,
   "metadata": {},
   "outputs": [],
   "source": [
    "df.loc[:,\"mobile\"] = df.loc[:,\"mobile\"].apply(lambda x: re.sub(r\"^0\",\"+63\", x) )"
   ]
  },
  {
   "cell_type": "code",
   "execution_count": 99,
   "metadata": {},
   "outputs": [
    {
     "data": {
      "text/html": [
       "<div>\n",
       "<style scoped>\n",
       "    .dataframe tbody tr th:only-of-type {\n",
       "        vertical-align: middle;\n",
       "    }\n",
       "\n",
       "    .dataframe tbody tr th {\n",
       "        vertical-align: top;\n",
       "    }\n",
       "\n",
       "    .dataframe thead th {\n",
       "        text-align: right;\n",
       "    }\n",
       "</style>\n",
       "<table border=\"1\" class=\"dataframe\">\n",
       "  <thead>\n",
       "    <tr style=\"text-align: right;\">\n",
       "      <th></th>\n",
       "      <th>name</th>\n",
       "      <th>mobile</th>\n",
       "      <th>gender</th>\n",
       "    </tr>\n",
       "  </thead>\n",
       "  <tbody>\n",
       "    <tr>\n",
       "      <th>0</th>\n",
       "      <td>Rodrigo Duterte</td>\n",
       "      <td>+63917 8999990</td>\n",
       "      <td>Male</td>\n",
       "    </tr>\n",
       "    <tr>\n",
       "      <th>1</th>\n",
       "      <td>Leni Robredo</td>\n",
       "      <td>+63918 8995555</td>\n",
       "      <td>Female</td>\n",
       "    </tr>\n",
       "    <tr>\n",
       "      <th>2</th>\n",
       "      <td>Tito Sotto</td>\n",
       "      <td>+63917 7790000</td>\n",
       "      <td>Male</td>\n",
       "    </tr>\n",
       "    <tr>\n",
       "      <th>3</th>\n",
       "      <td>Peter Cayetano</td>\n",
       "      <td>+63918 8991234</td>\n",
       "      <td>Male</td>\n",
       "    </tr>\n",
       "    <tr>\n",
       "      <th>4</th>\n",
       "      <td>Nancy Binay</td>\n",
       "      <td>+63927 2222222</td>\n",
       "      <td>Female</td>\n",
       "    </tr>\n",
       "    <tr>\n",
       "      <th>5</th>\n",
       "      <td>Manny Pacquiao</td>\n",
       "      <td>+63927 1234567</td>\n",
       "      <td>Male</td>\n",
       "    </tr>\n",
       "  </tbody>\n",
       "</table>\n",
       "</div>"
      ],
      "text/plain": [
       "              name          mobile  gender\n",
       "0  Rodrigo Duterte  +63917 8999990    Male\n",
       "1     Leni Robredo  +63918 8995555  Female\n",
       "2       Tito Sotto  +63917 7790000    Male\n",
       "3   Peter Cayetano  +63918 8991234    Male\n",
       "4      Nancy Binay  +63927 2222222  Female\n",
       "5   Manny Pacquiao  +63927 1234567    Male"
      ]
     },
     "execution_count": 99,
     "metadata": {},
     "output_type": "execute_result"
    }
   ],
   "source": [
    "df"
   ]
  },
  {
   "cell_type": "code",
   "execution_count": 100,
   "metadata": {},
   "outputs": [
    {
     "data": {
      "text/plain": [
       "0    +63917\n",
       "1    +63918\n",
       "2    +63917\n",
       "3    +63918\n",
       "4    +63927\n",
       "5    +63927\n",
       "Name: mobile, dtype: object"
      ]
     },
     "execution_count": 100,
     "metadata": {},
     "output_type": "execute_result"
    }
   ],
   "source": [
    "# Add a column based on values from existing ones\n",
    "df.loc[:,\"mobile\"].str[0:6]"
   ]
  },
  {
   "cell_type": "code",
   "execution_count": 101,
   "metadata": {},
   "outputs": [
    {
     "data": {
      "text/plain": [
       "'Globe'"
      ]
     },
     "execution_count": 101,
     "metadata": {},
     "output_type": "execute_result"
    }
   ],
   "source": [
    "carrier = {\"+63917\":\"Globe\",\"+63918\":\"Smart\", \"+63927\":\"Globe\"}\n",
    "carrier[\"+63917\"]"
   ]
  },
  {
   "cell_type": "code",
   "execution_count": 102,
   "metadata": {},
   "outputs": [
    {
     "data": {
      "text/plain": [
       "0    Globe\n",
       "1    Smart\n",
       "2    Globe\n",
       "3    Smart\n",
       "4    Globe\n",
       "5    Globe\n",
       "Name: mobile, dtype: object"
      ]
     },
     "execution_count": 102,
     "metadata": {},
     "output_type": "execute_result"
    }
   ],
   "source": [
    "df.loc[:,\"mobile\"].str[0:6].apply(lambda x: carrier[x])\n"
   ]
  },
  {
   "cell_type": "code",
   "execution_count": 103,
   "metadata": {},
   "outputs": [
    {
     "data": {
      "text/html": [
       "<div>\n",
       "<style scoped>\n",
       "    .dataframe tbody tr th:only-of-type {\n",
       "        vertical-align: middle;\n",
       "    }\n",
       "\n",
       "    .dataframe tbody tr th {\n",
       "        vertical-align: top;\n",
       "    }\n",
       "\n",
       "    .dataframe thead th {\n",
       "        text-align: right;\n",
       "    }\n",
       "</style>\n",
       "<table border=\"1\" class=\"dataframe\">\n",
       "  <thead>\n",
       "    <tr style=\"text-align: right;\">\n",
       "      <th></th>\n",
       "      <th>name</th>\n",
       "      <th>mobile</th>\n",
       "      <th>gender</th>\n",
       "      <th>carrier</th>\n",
       "    </tr>\n",
       "  </thead>\n",
       "  <tbody>\n",
       "    <tr>\n",
       "      <th>0</th>\n",
       "      <td>Rodrigo Duterte</td>\n",
       "      <td>+63917 8999990</td>\n",
       "      <td>Male</td>\n",
       "      <td>Globe</td>\n",
       "    </tr>\n",
       "    <tr>\n",
       "      <th>1</th>\n",
       "      <td>Leni Robredo</td>\n",
       "      <td>+63918 8995555</td>\n",
       "      <td>Female</td>\n",
       "      <td>Smart</td>\n",
       "    </tr>\n",
       "    <tr>\n",
       "      <th>2</th>\n",
       "      <td>Tito Sotto</td>\n",
       "      <td>+63917 7790000</td>\n",
       "      <td>Male</td>\n",
       "      <td>Globe</td>\n",
       "    </tr>\n",
       "    <tr>\n",
       "      <th>3</th>\n",
       "      <td>Peter Cayetano</td>\n",
       "      <td>+63918 8991234</td>\n",
       "      <td>Male</td>\n",
       "      <td>Smart</td>\n",
       "    </tr>\n",
       "    <tr>\n",
       "      <th>4</th>\n",
       "      <td>Nancy Binay</td>\n",
       "      <td>+63927 2222222</td>\n",
       "      <td>Female</td>\n",
       "      <td>Globe</td>\n",
       "    </tr>\n",
       "    <tr>\n",
       "      <th>5</th>\n",
       "      <td>Manny Pacquiao</td>\n",
       "      <td>+63927 1234567</td>\n",
       "      <td>Male</td>\n",
       "      <td>Globe</td>\n",
       "    </tr>\n",
       "  </tbody>\n",
       "</table>\n",
       "</div>"
      ],
      "text/plain": [
       "              name          mobile  gender carrier\n",
       "0  Rodrigo Duterte  +63917 8999990    Male   Globe\n",
       "1     Leni Robredo  +63918 8995555  Female   Smart\n",
       "2       Tito Sotto  +63917 7790000    Male   Globe\n",
       "3   Peter Cayetano  +63918 8991234    Male   Smart\n",
       "4      Nancy Binay  +63927 2222222  Female   Globe\n",
       "5   Manny Pacquiao  +63927 1234567    Male   Globe"
      ]
     },
     "execution_count": 103,
     "metadata": {},
     "output_type": "execute_result"
    }
   ],
   "source": [
    "df[\"carrier\"] = df.loc[:,\"mobile\"].str[0:6].apply(lambda x: carrier[x])\n",
    "df"
   ]
  },
  {
   "cell_type": "code",
   "execution_count": 104,
   "metadata": {},
   "outputs": [
    {
     "data": {
      "text/html": [
       "<div>\n",
       "<style scoped>\n",
       "    .dataframe tbody tr th:only-of-type {\n",
       "        vertical-align: middle;\n",
       "    }\n",
       "\n",
       "    .dataframe tbody tr th {\n",
       "        vertical-align: top;\n",
       "    }\n",
       "\n",
       "    .dataframe thead th {\n",
       "        text-align: right;\n",
       "    }\n",
       "</style>\n",
       "<table border=\"1\" class=\"dataframe\">\n",
       "  <thead>\n",
       "    <tr style=\"text-align: right;\">\n",
       "      <th></th>\n",
       "      <th></th>\n",
       "      <th>name</th>\n",
       "      <th>mobile</th>\n",
       "    </tr>\n",
       "    <tr>\n",
       "      <th>gender</th>\n",
       "      <th>carrier</th>\n",
       "      <th></th>\n",
       "      <th></th>\n",
       "    </tr>\n",
       "  </thead>\n",
       "  <tbody>\n",
       "    <tr>\n",
       "      <th rowspan=\"2\" valign=\"top\">Female</th>\n",
       "      <th>Globe</th>\n",
       "      <td>1</td>\n",
       "      <td>1</td>\n",
       "    </tr>\n",
       "    <tr>\n",
       "      <th>Smart</th>\n",
       "      <td>1</td>\n",
       "      <td>1</td>\n",
       "    </tr>\n",
       "    <tr>\n",
       "      <th rowspan=\"2\" valign=\"top\">Male</th>\n",
       "      <th>Globe</th>\n",
       "      <td>3</td>\n",
       "      <td>3</td>\n",
       "    </tr>\n",
       "    <tr>\n",
       "      <th>Smart</th>\n",
       "      <td>1</td>\n",
       "      <td>1</td>\n",
       "    </tr>\n",
       "  </tbody>\n",
       "</table>\n",
       "</div>"
      ],
      "text/plain": [
       "                name  mobile\n",
       "gender carrier              \n",
       "Female Globe       1       1\n",
       "       Smart       1       1\n",
       "Male   Globe       3       3\n",
       "       Smart       1       1"
      ]
     },
     "execution_count": 104,
     "metadata": {},
     "output_type": "execute_result"
    }
   ],
   "source": [
    "# Group By\n",
    "df.groupby([\"gender\",\"carrier\"]).count()"
   ]
  },
  {
   "cell_type": "code",
   "execution_count": 105,
   "metadata": {},
   "outputs": [
    {
     "data": {
      "text/plain": [
       "gender  carrier\n",
       "Female  Globe      1\n",
       "        Smart      1\n",
       "Male    Globe      3\n",
       "        Smart      1\n",
       "Name: name, dtype: int64"
      ]
     },
     "execution_count": 105,
     "metadata": {},
     "output_type": "execute_result"
    }
   ],
   "source": [
    "group_df = df.groupby([\"gender\",\"carrier\"])[\"name\"].count()\n",
    "group_df"
   ]
  },
  {
   "cell_type": "code",
   "execution_count": 106,
   "metadata": {},
   "outputs": [
    {
     "data": {
      "text/plain": [
       "pandas.core.series.Series"
      ]
     },
     "execution_count": 106,
     "metadata": {},
     "output_type": "execute_result"
    }
   ],
   "source": [
    "type(group_df)"
   ]
  },
  {
   "cell_type": "code",
   "execution_count": 107,
   "metadata": {},
   "outputs": [
    {
     "data": {
      "text/plain": [
       "('Female', 'Globe')"
      ]
     },
     "execution_count": 107,
     "metadata": {},
     "output_type": "execute_result"
    }
   ],
   "source": [
    "group_df.index[0]"
   ]
  },
  {
   "cell_type": "code",
   "execution_count": 108,
   "metadata": {},
   "outputs": [
    {
     "data": {
      "text/plain": [
       "1"
      ]
     },
     "execution_count": 108,
     "metadata": {},
     "output_type": "execute_result"
    }
   ],
   "source": [
    "group_df[('Female','Smart')]"
   ]
  },
  {
   "cell_type": "code",
   "execution_count": 109,
   "metadata": {},
   "outputs": [
    {
     "data": {
      "text/plain": [
       "1"
      ]
     },
     "execution_count": 109,
     "metadata": {},
     "output_type": "execute_result"
    }
   ],
   "source": [
    "group_df[('Male','Smart')]"
   ]
  },
  {
   "cell_type": "code",
   "execution_count": 110,
   "metadata": {},
   "outputs": [
    {
     "data": {
      "text/plain": [
       "3"
      ]
     },
     "execution_count": 110,
     "metadata": {},
     "output_type": "execute_result"
    }
   ],
   "source": [
    "group_df[('Male','Globe')]"
   ]
  },
  {
   "cell_type": "markdown",
   "metadata": {},
   "source": [
    "#### Prepare another dataframe"
   ]
  },
  {
   "cell_type": "code",
   "execution_count": 135,
   "metadata": {},
   "outputs": [],
   "source": [
    "ratings_df = pd.DataFrame({\"mobile\":[\"+63927 1234567\",\"+63917 8999990\", \"+63927 2222222\"],\n",
    "                           \"rating\":[4.0,4.0,5.0]\n",
    "                          })"
   ]
  },
  {
   "cell_type": "code",
   "execution_count": 136,
   "metadata": {},
   "outputs": [
    {
     "data": {
      "text/html": [
       "<div>\n",
       "<style scoped>\n",
       "    .dataframe tbody tr th:only-of-type {\n",
       "        vertical-align: middle;\n",
       "    }\n",
       "\n",
       "    .dataframe tbody tr th {\n",
       "        vertical-align: top;\n",
       "    }\n",
       "\n",
       "    .dataframe thead th {\n",
       "        text-align: right;\n",
       "    }\n",
       "</style>\n",
       "<table border=\"1\" class=\"dataframe\">\n",
       "  <thead>\n",
       "    <tr style=\"text-align: right;\">\n",
       "      <th></th>\n",
       "      <th>mobile</th>\n",
       "      <th>rating</th>\n",
       "    </tr>\n",
       "  </thead>\n",
       "  <tbody>\n",
       "    <tr>\n",
       "      <th>0</th>\n",
       "      <td>+63927 1234567</td>\n",
       "      <td>4.0</td>\n",
       "    </tr>\n",
       "    <tr>\n",
       "      <th>1</th>\n",
       "      <td>+63917 8999990</td>\n",
       "      <td>4.0</td>\n",
       "    </tr>\n",
       "    <tr>\n",
       "      <th>2</th>\n",
       "      <td>+63927 2222222</td>\n",
       "      <td>5.0</td>\n",
       "    </tr>\n",
       "  </tbody>\n",
       "</table>\n",
       "</div>"
      ],
      "text/plain": [
       "           mobile  rating\n",
       "0  +63927 1234567     4.0\n",
       "1  +63917 8999990     4.0\n",
       "2  +63927 2222222     5.0"
      ]
     },
     "execution_count": 136,
     "metadata": {},
     "output_type": "execute_result"
    }
   ],
   "source": [
    "ratings_df"
   ]
  },
  {
   "cell_type": "markdown",
   "metadata": {},
   "source": [
    "#### Merge Dataframes"
   ]
  },
  {
   "cell_type": "code",
   "execution_count": 137,
   "metadata": {},
   "outputs": [
    {
     "data": {
      "text/html": [
       "<div>\n",
       "<style scoped>\n",
       "    .dataframe tbody tr th:only-of-type {\n",
       "        vertical-align: middle;\n",
       "    }\n",
       "\n",
       "    .dataframe tbody tr th {\n",
       "        vertical-align: top;\n",
       "    }\n",
       "\n",
       "    .dataframe thead th {\n",
       "        text-align: right;\n",
       "    }\n",
       "</style>\n",
       "<table border=\"1\" class=\"dataframe\">\n",
       "  <thead>\n",
       "    <tr style=\"text-align: right;\">\n",
       "      <th></th>\n",
       "      <th>name</th>\n",
       "      <th>mobile</th>\n",
       "      <th>gender</th>\n",
       "      <th>carrier</th>\n",
       "      <th>rating</th>\n",
       "    </tr>\n",
       "  </thead>\n",
       "  <tbody>\n",
       "    <tr>\n",
       "      <th>0</th>\n",
       "      <td>Rodrigo Duterte</td>\n",
       "      <td>+63917 8999990</td>\n",
       "      <td>Male</td>\n",
       "      <td>Globe</td>\n",
       "      <td>4.0</td>\n",
       "    </tr>\n",
       "    <tr>\n",
       "      <th>1</th>\n",
       "      <td>Nancy Binay</td>\n",
       "      <td>+63927 2222222</td>\n",
       "      <td>Female</td>\n",
       "      <td>Globe</td>\n",
       "      <td>5.0</td>\n",
       "    </tr>\n",
       "    <tr>\n",
       "      <th>2</th>\n",
       "      <td>Manny Pacquiao</td>\n",
       "      <td>+63927 1234567</td>\n",
       "      <td>Male</td>\n",
       "      <td>Globe</td>\n",
       "      <td>4.0</td>\n",
       "    </tr>\n",
       "  </tbody>\n",
       "</table>\n",
       "</div>"
      ],
      "text/plain": [
       "              name          mobile  gender carrier  rating\n",
       "0  Rodrigo Duterte  +63917 8999990    Male   Globe     4.0\n",
       "1      Nancy Binay  +63927 2222222  Female   Globe     5.0\n",
       "2   Manny Pacquiao  +63927 1234567    Male   Globe     4.0"
      ]
     },
     "execution_count": 137,
     "metadata": {},
     "output_type": "execute_result"
    }
   ],
   "source": [
    "pd.merge(df, ratings_df, left_on=[\"mobile\"], right_on=[\"mobile\"])"
   ]
  },
  {
   "cell_type": "code",
   "execution_count": 138,
   "metadata": {},
   "outputs": [
    {
     "data": {
      "text/html": [
       "<div>\n",
       "<style scoped>\n",
       "    .dataframe tbody tr th:only-of-type {\n",
       "        vertical-align: middle;\n",
       "    }\n",
       "\n",
       "    .dataframe tbody tr th {\n",
       "        vertical-align: top;\n",
       "    }\n",
       "\n",
       "    .dataframe thead th {\n",
       "        text-align: right;\n",
       "    }\n",
       "</style>\n",
       "<table border=\"1\" class=\"dataframe\">\n",
       "  <thead>\n",
       "    <tr style=\"text-align: right;\">\n",
       "      <th></th>\n",
       "      <th>name</th>\n",
       "      <th>mobile</th>\n",
       "      <th>gender</th>\n",
       "      <th>carrier</th>\n",
       "      <th>rating</th>\n",
       "    </tr>\n",
       "  </thead>\n",
       "  <tbody>\n",
       "    <tr>\n",
       "      <th>0</th>\n",
       "      <td>Rodrigo Duterte</td>\n",
       "      <td>+63917 8999990</td>\n",
       "      <td>Male</td>\n",
       "      <td>Globe</td>\n",
       "      <td>4.0</td>\n",
       "    </tr>\n",
       "    <tr>\n",
       "      <th>1</th>\n",
       "      <td>Leni Robredo</td>\n",
       "      <td>+63918 8995555</td>\n",
       "      <td>Female</td>\n",
       "      <td>Smart</td>\n",
       "      <td>NaN</td>\n",
       "    </tr>\n",
       "    <tr>\n",
       "      <th>2</th>\n",
       "      <td>Tito Sotto</td>\n",
       "      <td>+63917 7790000</td>\n",
       "      <td>Male</td>\n",
       "      <td>Globe</td>\n",
       "      <td>NaN</td>\n",
       "    </tr>\n",
       "    <tr>\n",
       "      <th>3</th>\n",
       "      <td>Peter Cayetano</td>\n",
       "      <td>+63918 8991234</td>\n",
       "      <td>Male</td>\n",
       "      <td>Smart</td>\n",
       "      <td>NaN</td>\n",
       "    </tr>\n",
       "    <tr>\n",
       "      <th>4</th>\n",
       "      <td>Nancy Binay</td>\n",
       "      <td>+63927 2222222</td>\n",
       "      <td>Female</td>\n",
       "      <td>Globe</td>\n",
       "      <td>5.0</td>\n",
       "    </tr>\n",
       "    <tr>\n",
       "      <th>5</th>\n",
       "      <td>Manny Pacquiao</td>\n",
       "      <td>+63927 1234567</td>\n",
       "      <td>Male</td>\n",
       "      <td>Globe</td>\n",
       "      <td>4.0</td>\n",
       "    </tr>\n",
       "  </tbody>\n",
       "</table>\n",
       "</div>"
      ],
      "text/plain": [
       "              name          mobile  gender carrier  rating\n",
       "0  Rodrigo Duterte  +63917 8999990    Male   Globe     4.0\n",
       "1     Leni Robredo  +63918 8995555  Female   Smart     NaN\n",
       "2       Tito Sotto  +63917 7790000    Male   Globe     NaN\n",
       "3   Peter Cayetano  +63918 8991234    Male   Smart     NaN\n",
       "4      Nancy Binay  +63927 2222222  Female   Globe     5.0\n",
       "5   Manny Pacquiao  +63927 1234567    Male   Globe     4.0"
      ]
     },
     "execution_count": 138,
     "metadata": {},
     "output_type": "execute_result"
    }
   ],
   "source": [
    "pd.merge(df, ratings_df, how=\"left\", left_on=[\"mobile\"], right_on=[\"mobile\"])"
   ]
  },
  {
   "cell_type": "code",
   "execution_count": 139,
   "metadata": {},
   "outputs": [
    {
     "data": {
      "text/html": [
       "<div>\n",
       "<style scoped>\n",
       "    .dataframe tbody tr th:only-of-type {\n",
       "        vertical-align: middle;\n",
       "    }\n",
       "\n",
       "    .dataframe tbody tr th {\n",
       "        vertical-align: top;\n",
       "    }\n",
       "\n",
       "    .dataframe thead th {\n",
       "        text-align: right;\n",
       "    }\n",
       "</style>\n",
       "<table border=\"1\" class=\"dataframe\">\n",
       "  <thead>\n",
       "    <tr style=\"text-align: right;\">\n",
       "      <th></th>\n",
       "      <th>name</th>\n",
       "      <th>mobile</th>\n",
       "      <th>gender</th>\n",
       "      <th>carrier</th>\n",
       "      <th>rating</th>\n",
       "    </tr>\n",
       "  </thead>\n",
       "  <tbody>\n",
       "    <tr>\n",
       "      <th>0</th>\n",
       "      <td>Rodrigo Duterte</td>\n",
       "      <td>+63917 8999990</td>\n",
       "      <td>Male</td>\n",
       "      <td>Globe</td>\n",
       "      <td>4.0</td>\n",
       "    </tr>\n",
       "    <tr>\n",
       "      <th>1</th>\n",
       "      <td>Leni Robredo</td>\n",
       "      <td>+63918 8995555</td>\n",
       "      <td>Female</td>\n",
       "      <td>Smart</td>\n",
       "      <td>NaN</td>\n",
       "    </tr>\n",
       "    <tr>\n",
       "      <th>2</th>\n",
       "      <td>Tito Sotto</td>\n",
       "      <td>+63917 7790000</td>\n",
       "      <td>Male</td>\n",
       "      <td>Globe</td>\n",
       "      <td>NaN</td>\n",
       "    </tr>\n",
       "    <tr>\n",
       "      <th>3</th>\n",
       "      <td>Peter Cayetano</td>\n",
       "      <td>+63918 8991234</td>\n",
       "      <td>Male</td>\n",
       "      <td>Smart</td>\n",
       "      <td>NaN</td>\n",
       "    </tr>\n",
       "    <tr>\n",
       "      <th>4</th>\n",
       "      <td>Nancy Binay</td>\n",
       "      <td>+63927 2222222</td>\n",
       "      <td>Female</td>\n",
       "      <td>Globe</td>\n",
       "      <td>5.0</td>\n",
       "    </tr>\n",
       "    <tr>\n",
       "      <th>5</th>\n",
       "      <td>Manny Pacquiao</td>\n",
       "      <td>+63927 1234567</td>\n",
       "      <td>Male</td>\n",
       "      <td>Globe</td>\n",
       "      <td>4.0</td>\n",
       "    </tr>\n",
       "  </tbody>\n",
       "</table>\n",
       "</div>"
      ],
      "text/plain": [
       "              name          mobile  gender carrier  rating\n",
       "0  Rodrigo Duterte  +63917 8999990    Male   Globe     4.0\n",
       "1     Leni Robredo  +63918 8995555  Female   Smart     NaN\n",
       "2       Tito Sotto  +63917 7790000    Male   Globe     NaN\n",
       "3   Peter Cayetano  +63918 8991234    Male   Smart     NaN\n",
       "4      Nancy Binay  +63927 2222222  Female   Globe     5.0\n",
       "5   Manny Pacquiao  +63927 1234567    Male   Globe     4.0"
      ]
     },
     "execution_count": 139,
     "metadata": {},
     "output_type": "execute_result"
    }
   ],
   "source": [
    "merged_df = pd.merge(df, ratings_df, how=\"left\", left_on=[\"mobile\"], right_on=[\"mobile\"])\n",
    "merged_df"
   ]
  },
  {
   "cell_type": "code",
   "execution_count": 140,
   "metadata": {},
   "outputs": [
    {
     "data": {
      "text/html": [
       "<div>\n",
       "<style scoped>\n",
       "    .dataframe tbody tr th:only-of-type {\n",
       "        vertical-align: middle;\n",
       "    }\n",
       "\n",
       "    .dataframe tbody tr th {\n",
       "        vertical-align: top;\n",
       "    }\n",
       "\n",
       "    .dataframe thead th {\n",
       "        text-align: right;\n",
       "    }\n",
       "</style>\n",
       "<table border=\"1\" class=\"dataframe\">\n",
       "  <thead>\n",
       "    <tr style=\"text-align: right;\">\n",
       "      <th></th>\n",
       "      <th>name</th>\n",
       "      <th>mobile</th>\n",
       "      <th>gender</th>\n",
       "      <th>carrier</th>\n",
       "      <th>rating</th>\n",
       "    </tr>\n",
       "  </thead>\n",
       "  <tbody>\n",
       "    <tr>\n",
       "      <th>0</th>\n",
       "      <td>Rodrigo Duterte</td>\n",
       "      <td>+63917 8999990</td>\n",
       "      <td>Male</td>\n",
       "      <td>Globe</td>\n",
       "      <td>4.0</td>\n",
       "    </tr>\n",
       "    <tr>\n",
       "      <th>1</th>\n",
       "      <td>Leni Robredo</td>\n",
       "      <td>+63918 8995555</td>\n",
       "      <td>Female</td>\n",
       "      <td>Smart</td>\n",
       "      <td>0.0</td>\n",
       "    </tr>\n",
       "    <tr>\n",
       "      <th>2</th>\n",
       "      <td>Tito Sotto</td>\n",
       "      <td>+63917 7790000</td>\n",
       "      <td>Male</td>\n",
       "      <td>Globe</td>\n",
       "      <td>0.0</td>\n",
       "    </tr>\n",
       "    <tr>\n",
       "      <th>3</th>\n",
       "      <td>Peter Cayetano</td>\n",
       "      <td>+63918 8991234</td>\n",
       "      <td>Male</td>\n",
       "      <td>Smart</td>\n",
       "      <td>0.0</td>\n",
       "    </tr>\n",
       "    <tr>\n",
       "      <th>4</th>\n",
       "      <td>Nancy Binay</td>\n",
       "      <td>+63927 2222222</td>\n",
       "      <td>Female</td>\n",
       "      <td>Globe</td>\n",
       "      <td>5.0</td>\n",
       "    </tr>\n",
       "    <tr>\n",
       "      <th>5</th>\n",
       "      <td>Manny Pacquiao</td>\n",
       "      <td>+63927 1234567</td>\n",
       "      <td>Male</td>\n",
       "      <td>Globe</td>\n",
       "      <td>4.0</td>\n",
       "    </tr>\n",
       "  </tbody>\n",
       "</table>\n",
       "</div>"
      ],
      "text/plain": [
       "              name          mobile  gender carrier  rating\n",
       "0  Rodrigo Duterte  +63917 8999990    Male   Globe     4.0\n",
       "1     Leni Robredo  +63918 8995555  Female   Smart     0.0\n",
       "2       Tito Sotto  +63917 7790000    Male   Globe     0.0\n",
       "3   Peter Cayetano  +63918 8991234    Male   Smart     0.0\n",
       "4      Nancy Binay  +63927 2222222  Female   Globe     5.0\n",
       "5   Manny Pacquiao  +63927 1234567    Male   Globe     4.0"
      ]
     },
     "execution_count": 140,
     "metadata": {},
     "output_type": "execute_result"
    }
   ],
   "source": [
    "merged_df.fillna(0)"
   ]
  },
  {
   "cell_type": "code",
   "execution_count": 141,
   "metadata": {},
   "outputs": [
    {
     "data": {
      "text/html": [
       "<div>\n",
       "<style scoped>\n",
       "    .dataframe tbody tr th:only-of-type {\n",
       "        vertical-align: middle;\n",
       "    }\n",
       "\n",
       "    .dataframe tbody tr th {\n",
       "        vertical-align: top;\n",
       "    }\n",
       "\n",
       "    .dataframe thead th {\n",
       "        text-align: right;\n",
       "    }\n",
       "</style>\n",
       "<table border=\"1\" class=\"dataframe\">\n",
       "  <thead>\n",
       "    <tr style=\"text-align: right;\">\n",
       "      <th></th>\n",
       "      <th>name</th>\n",
       "      <th>mobile</th>\n",
       "      <th>gender</th>\n",
       "      <th>carrier</th>\n",
       "      <th>rating</th>\n",
       "    </tr>\n",
       "  </thead>\n",
       "  <tbody>\n",
       "    <tr>\n",
       "      <th>0</th>\n",
       "      <td>Rodrigo Duterte</td>\n",
       "      <td>+63917 8999990</td>\n",
       "      <td>Male</td>\n",
       "      <td>Globe</td>\n",
       "      <td>4.0</td>\n",
       "    </tr>\n",
       "    <tr>\n",
       "      <th>1</th>\n",
       "      <td>Leni Robredo</td>\n",
       "      <td>+63918 8995555</td>\n",
       "      <td>Female</td>\n",
       "      <td>Smart</td>\n",
       "      <td>NaN</td>\n",
       "    </tr>\n",
       "    <tr>\n",
       "      <th>2</th>\n",
       "      <td>Tito Sotto</td>\n",
       "      <td>+63917 7790000</td>\n",
       "      <td>Male</td>\n",
       "      <td>Globe</td>\n",
       "      <td>NaN</td>\n",
       "    </tr>\n",
       "    <tr>\n",
       "      <th>3</th>\n",
       "      <td>Peter Cayetano</td>\n",
       "      <td>+63918 8991234</td>\n",
       "      <td>Male</td>\n",
       "      <td>Smart</td>\n",
       "      <td>NaN</td>\n",
       "    </tr>\n",
       "    <tr>\n",
       "      <th>4</th>\n",
       "      <td>Nancy Binay</td>\n",
       "      <td>+63927 2222222</td>\n",
       "      <td>Female</td>\n",
       "      <td>Globe</td>\n",
       "      <td>5.0</td>\n",
       "    </tr>\n",
       "    <tr>\n",
       "      <th>5</th>\n",
       "      <td>Manny Pacquiao</td>\n",
       "      <td>+63927 1234567</td>\n",
       "      <td>Male</td>\n",
       "      <td>Globe</td>\n",
       "      <td>4.0</td>\n",
       "    </tr>\n",
       "  </tbody>\n",
       "</table>\n",
       "</div>"
      ],
      "text/plain": [
       "              name          mobile  gender carrier  rating\n",
       "0  Rodrigo Duterte  +63917 8999990    Male   Globe     4.0\n",
       "1     Leni Robredo  +63918 8995555  Female   Smart     NaN\n",
       "2       Tito Sotto  +63917 7790000    Male   Globe     NaN\n",
       "3   Peter Cayetano  +63918 8991234    Male   Smart     NaN\n",
       "4      Nancy Binay  +63927 2222222  Female   Globe     5.0\n",
       "5   Manny Pacquiao  +63927 1234567    Male   Globe     4.0"
      ]
     },
     "execution_count": 141,
     "metadata": {},
     "output_type": "execute_result"
    }
   ],
   "source": [
    "merged_df"
   ]
  },
  {
   "cell_type": "code",
   "execution_count": 142,
   "metadata": {},
   "outputs": [
    {
     "data": {
      "text/html": [
       "<div>\n",
       "<style scoped>\n",
       "    .dataframe tbody tr th:only-of-type {\n",
       "        vertical-align: middle;\n",
       "    }\n",
       "\n",
       "    .dataframe tbody tr th {\n",
       "        vertical-align: top;\n",
       "    }\n",
       "\n",
       "    .dataframe thead th {\n",
       "        text-align: right;\n",
       "    }\n",
       "</style>\n",
       "<table border=\"1\" class=\"dataframe\">\n",
       "  <thead>\n",
       "    <tr style=\"text-align: right;\">\n",
       "      <th></th>\n",
       "      <th>name</th>\n",
       "      <th>mobile</th>\n",
       "      <th>gender</th>\n",
       "      <th>carrier</th>\n",
       "      <th>rating</th>\n",
       "    </tr>\n",
       "  </thead>\n",
       "  <tbody>\n",
       "    <tr>\n",
       "      <th>0</th>\n",
       "      <td>Rodrigo Duterte</td>\n",
       "      <td>+63917 8999990</td>\n",
       "      <td>Male</td>\n",
       "      <td>Globe</td>\n",
       "      <td>4.0</td>\n",
       "    </tr>\n",
       "    <tr>\n",
       "      <th>1</th>\n",
       "      <td>Leni Robredo</td>\n",
       "      <td>+63918 8995555</td>\n",
       "      <td>Female</td>\n",
       "      <td>Smart</td>\n",
       "      <td>0.0</td>\n",
       "    </tr>\n",
       "    <tr>\n",
       "      <th>2</th>\n",
       "      <td>Tito Sotto</td>\n",
       "      <td>+63917 7790000</td>\n",
       "      <td>Male</td>\n",
       "      <td>Globe</td>\n",
       "      <td>0.0</td>\n",
       "    </tr>\n",
       "    <tr>\n",
       "      <th>3</th>\n",
       "      <td>Peter Cayetano</td>\n",
       "      <td>+63918 8991234</td>\n",
       "      <td>Male</td>\n",
       "      <td>Smart</td>\n",
       "      <td>0.0</td>\n",
       "    </tr>\n",
       "    <tr>\n",
       "      <th>4</th>\n",
       "      <td>Nancy Binay</td>\n",
       "      <td>+63927 2222222</td>\n",
       "      <td>Female</td>\n",
       "      <td>Globe</td>\n",
       "      <td>5.0</td>\n",
       "    </tr>\n",
       "    <tr>\n",
       "      <th>5</th>\n",
       "      <td>Manny Pacquiao</td>\n",
       "      <td>+63927 1234567</td>\n",
       "      <td>Male</td>\n",
       "      <td>Globe</td>\n",
       "      <td>4.0</td>\n",
       "    </tr>\n",
       "  </tbody>\n",
       "</table>\n",
       "</div>"
      ],
      "text/plain": [
       "              name          mobile  gender carrier  rating\n",
       "0  Rodrigo Duterte  +63917 8999990    Male   Globe     4.0\n",
       "1     Leni Robredo  +63918 8995555  Female   Smart     0.0\n",
       "2       Tito Sotto  +63917 7790000    Male   Globe     0.0\n",
       "3   Peter Cayetano  +63918 8991234    Male   Smart     0.0\n",
       "4      Nancy Binay  +63927 2222222  Female   Globe     5.0\n",
       "5   Manny Pacquiao  +63927 1234567    Male   Globe     4.0"
      ]
     },
     "execution_count": 142,
     "metadata": {},
     "output_type": "execute_result"
    }
   ],
   "source": [
    "merged_df.fillna(0,inplace=True)\n",
    "merged_df"
   ]
  },
  {
   "cell_type": "code",
   "execution_count": 145,
   "metadata": {},
   "outputs": [
    {
     "data": {
      "text/plain": [
       "<BarContainer object of 6 artists>"
      ]
     },
     "execution_count": 145,
     "metadata": {},
     "output_type": "execute_result"
    },
    {
     "data": {
      "image/png": "[encoded data removed]",
      "text/plain": [
       "<Figure size 432x288 with 1 Axes>"
      ]
     },
     "metadata": {
      "needs_background": "light"
     },
     "output_type": "display_data"
    }
   ],
   "source": [
    "import matplotlib.pyplot as plt\n",
    "fig, ax = plt.subplots(1)\n",
    "ax.barh(width=merged_df.loc[:,\"rating\"], y=merged_df.loc[:,\"name\"], color=\"Orange\")\n"
   ]
  },
  {
   "cell_type": "markdown",
   "metadata": {},
   "source": [
    "#### Reporting or generating dynamic text\n",
    "\n"
   ]
  },
  {
   "cell_type": "code",
   "execution_count": 157,
   "metadata": {},
   "outputs": [],
   "source": [
    "html = \"\"\"\n",
    "<html>\n",
    "   <table>\n",
    "       <tr><th>Name</th><th>Rating</th><tr>\n",
    "       {}\n",
    "   </table>\n",
    "</html>\n",
    "\"\"\""
   ]
  },
  {
   "cell_type": "code",
   "execution_count": 158,
   "metadata": {},
   "outputs": [
    {
     "data": {
      "text/plain": [
       "0    Rodrigo Duterte4.0\n",
       "1       Leni Robredo0.0\n",
       "2         Tito Sotto0.0\n",
       "3     Peter Cayetano0.0\n",
       "4        Nancy Binay5.0\n",
       "5     Manny Pacquiao4.0\n",
       "dtype: object"
      ]
     },
     "execution_count": 158,
     "metadata": {},
     "output_type": "execute_result"
    }
   ],
   "source": [
    "# prepare <td> lines\n",
    "merged_df.loc[:,[\"name\",\"rating\"]].apply(lambda x: x[0]+str(x[1]), axis=1) # note the axis parameter"
   ]
  },
  {
   "cell_type": "code",
   "execution_count": 159,
   "metadata": {},
   "outputs": [
    {
     "data": {
      "text/plain": [
       "0    <tr><td>Rodrigo Duterte</td><td>4.0</td></tr>\n",
       "1       <tr><td>Leni Robredo</td><td>0.0</td></tr>\n",
       "2         <tr><td>Tito Sotto</td><td>0.0</td></tr>\n",
       "3     <tr><td>Peter Cayetano</td><td>0.0</td></tr>\n",
       "4        <tr><td>Nancy Binay</td><td>5.0</td></tr>\n",
       "5     <tr><td>Manny Pacquiao</td><td>4.0</td></tr>\n",
       "dtype: object"
      ]
     },
     "execution_count": 159,
     "metadata": {},
     "output_type": "execute_result"
    }
   ],
   "source": [
    "merged_df.loc[:,[\"name\",\"rating\"]].apply(lambda x: \"<tr><td>{}</td><td>{}</td></tr>\".format(x[0],str(x[1])), axis=1)"
   ]
  },
  {
   "cell_type": "code",
   "execution_count": 160,
   "metadata": {},
   "outputs": [
    {
     "data": {
      "text/plain": [
       "'<tr><td>Rodrigo Duterte</td><td>4.0</td></tr><tr><td>Leni Robredo</td><td>0.0</td></tr><tr><td>Tito Sotto</td><td>0.0</td></tr><tr><td>Peter Cayetano</td><td>0.0</td></tr><tr><td>Nancy Binay</td><td>5.0</td></tr><tr><td>Manny Pacquiao</td><td>4.0</td></tr>'"
      ]
     },
     "execution_count": 160,
     "metadata": {},
     "output_type": "execute_result"
    }
   ],
   "source": [
    "td_string = \"\".join(merged_df.loc[:,[\"name\",\"rating\"]].apply(lambda x: \"<tr><td>{}</td><td>{}</td></tr>\".format(x[0],str(x[1])), axis=1))\n",
    "td_string"
   ]
  },
  {
   "cell_type": "code",
   "execution_count": 161,
   "metadata": {},
   "outputs": [
    {
     "data": {
      "text/plain": [
       "'\\n<html>\\n   <table>\\n       <tr><th>Name</th><th>Rating</th><tr>\\n       {}\\n   </table>\\n</html>\\n'"
      ]
     },
     "execution_count": 161,
     "metadata": {},
     "output_type": "execute_result"
    }
   ],
   "source": [
    "html.format(td_string)\n",
    "html"
   ]
  },
  {
   "cell_type": "code",
   "execution_count": 162,
   "metadata": {},
   "outputs": [
    {
     "data": {
      "text/html": [
       "\n",
       "<html>\n",
       "   <table>\n",
       "       <tr><th>Name</th><th>Rating</th><tr>\n",
       "       <tr><td>Rodrigo Duterte</td><td>4.0</td></tr><tr><td>Leni Robredo</td><td>0.0</td></tr><tr><td>Tito Sotto</td><td>0.0</td></tr><tr><td>Peter Cayetano</td><td>0.0</td></tr><tr><td>Nancy Binay</td><td>5.0</td></tr><tr><td>Manny Pacquiao</td><td>4.0</td></tr>\n",
       "   </table>\n",
       "</html>\n"
      ],
      "text/plain": [
       "<IPython.core.display.HTML object>"
      ]
     },
     "execution_count": 162,
     "metadata": {},
     "output_type": "execute_result"
    }
   ],
   "source": [
    "from IPython.core.display import HTML\n",
    "HTML(html.format(td_string))"
   ]
  },
  {
   "cell_type": "markdown",
   "metadata": {},
   "source": [
    "## Network Analysis"
   ]
  },
  {
   "cell_type": "markdown",
   "metadata": {},
   "source": [
    "To do in class: Discuss basic graph theory, nodes and edges"
   ]
  },
  {
   "attachments": {
    "image.png": {
     "image/png": "[encoded data removed]"
    }
   },
   "cell_type": "markdown",
   "metadata": {},
   "source": [
    "![image.png](attachment:image.png)"
   ]
  },
  {
   "cell_type": "markdown",
   "metadata": {},
   "source": [
    "From [Wikipedia](https://en.wikipedia.org/wiki/Graph_theory):\n",
    "\n",
    "In mathematics, graph theory is the study of graphs, which are mathematical structures used to model pairwise relations between objects. A graph in this context is made up of vertices (also called nodes or points) which are connected by edges (also called links or lines). A distinction is made between undirected graphs, where edges link two vertices symmetrically, and directed graphs, where edges link two vertices asymmetrically; see Graph (discrete mathematics) for more detailed definitions and for other variations in the types of graph that are commonly considered. Graphs are one of the prime objects of study in discrete mathematics.\n",
    "\n",
    "In one more general sense of the term allowing multiple edges,[3][4] a graph is an ordered triple G = (V, E, ϕ) comprising:\n",
    "\n",
    "V a set of vertices (also called nodes or points);\n",
    "E a set of edges (also called links or lines);"
   ]
  },
  {
   "cell_type": "code",
   "execution_count": 113,
   "metadata": {},
   "outputs": [],
   "source": [
    "import networkx as nx"
   ]
  },
  {
   "cell_type": "code",
   "execution_count": 114,
   "metadata": {},
   "outputs": [],
   "source": [
    "G=nx.Graph()"
   ]
  },
  {
   "cell_type": "code",
   "execution_count": 115,
   "metadata": {},
   "outputs": [
    {
     "data": {
      "text/plain": [
       "<networkx.classes.graph.Graph at 0x1141afc18>"
      ]
     },
     "execution_count": 115,
     "metadata": {},
     "output_type": "execute_result"
    }
   ],
   "source": [
    "G"
   ]
  },
  {
   "cell_type": "code",
   "execution_count": 116,
   "metadata": {},
   "outputs": [],
   "source": [
    "G.add_node(\"@jobenilagan\")"
   ]
  },
  {
   "cell_type": "code",
   "execution_count": 117,
   "metadata": {},
   "outputs": [],
   "source": [
    "G.add_nodes_from([\"@joeilagan\",\"@eeebieee\"])"
   ]
  },
  {
   "cell_type": "code",
   "execution_count": 118,
   "metadata": {},
   "outputs": [],
   "source": [
    "G.add_node(\"@chums\")"
   ]
  },
  {
   "cell_type": "code",
   "execution_count": 119,
   "metadata": {},
   "outputs": [
    {
     "data": {
      "text/plain": [
       "<networkx.classes.graph.Graph at 0x1141afc18>"
      ]
     },
     "execution_count": 119,
     "metadata": {},
     "output_type": "execute_result"
    }
   ],
   "source": [
    "G"
   ]
  },
  {
   "cell_type": "markdown",
   "metadata": {},
   "source": [
    "#### Add edges"
   ]
  },
  {
   "cell_type": "code",
   "execution_count": 120,
   "metadata": {},
   "outputs": [],
   "source": [
    "G.add_edge(\"@jobenilagan\",\"@joeilagan\",reltype=\"follower\")"
   ]
  },
  {
   "cell_type": "code",
   "execution_count": 121,
   "metadata": {},
   "outputs": [],
   "source": [
    "e=(\"@jobenilagan\",\"@eeebieee\")\n",
    "G.add_edge(*e,reltype=\"follower\")"
   ]
  },
  {
   "cell_type": "code",
   "execution_count": 122,
   "metadata": {},
   "outputs": [],
   "source": [
    "G.add_edges_from([(\"@chums\",\"@jobenilagan\"),(\"@joeilagan\",\"@jobenilagan\")])"
   ]
  },
  {
   "cell_type": "markdown",
   "metadata": {},
   "source": [
    "#### Graph Statistics"
   ]
  },
  {
   "cell_type": "code",
   "execution_count": 123,
   "metadata": {},
   "outputs": [
    {
     "data": {
      "text/plain": [
       "4"
      ]
     },
     "execution_count": 123,
     "metadata": {},
     "output_type": "execute_result"
    }
   ],
   "source": [
    "G.number_of_nodes()"
   ]
  },
  {
   "cell_type": "code",
   "execution_count": 124,
   "metadata": {},
   "outputs": [
    {
     "data": {
      "text/plain": [
       "3"
      ]
     },
     "execution_count": 124,
     "metadata": {},
     "output_type": "execute_result"
    }
   ],
   "source": [
    "G.number_of_edges()"
   ]
  },
  {
   "cell_type": "code",
   "execution_count": 125,
   "metadata": {},
   "outputs": [
    {
     "data": {
      "text/plain": [
       "NodeView(('@jobenilagan', '@joeilagan', '@eeebieee', '@chums'))"
      ]
     },
     "execution_count": 125,
     "metadata": {},
     "output_type": "execute_result"
    }
   ],
   "source": [
    "G.nodes()"
   ]
  },
  {
   "cell_type": "code",
   "execution_count": 126,
   "metadata": {},
   "outputs": [
    {
     "data": {
      "text/plain": [
       "['@jobenilagan', '@joeilagan', '@eeebieee', '@chums']"
      ]
     },
     "execution_count": 126,
     "metadata": {},
     "output_type": "execute_result"
    }
   ],
   "source": [
    "[n for n in G.nodes()]"
   ]
  },
  {
   "cell_type": "code",
   "execution_count": 127,
   "metadata": {},
   "outputs": [],
   "source": [
    "G.nodes[\"@jobenilagan\"][\"profile\"]={\"name\":\"Joben Ilagan\",\"course\":\"BSME\"}\n",
    "G.nodes[\"@chums\"][\"profile\"]={\"name\":\"Matthew Uy\",\"course\":\"BSME\"}\n",
    "G.nodes[\"@joeilagan\"][\"profile\"]={\"name\":\"Joe Ilagan\",\"course\":\"BSME\"}\n",
    "G.nodes[\"@eeebieee\"][\"profile\"]={\"name\":\"Elizabeth Ilagan\",\"course\":\"BSCMT\"}"
   ]
  },
  {
   "cell_type": "code",
   "execution_count": 128,
   "metadata": {},
   "outputs": [
    {
     "data": {
      "text/plain": [
       "{'@jobenilagan': {'name': 'Joben Ilagan', 'course': 'BSME'},\n",
       " '@joeilagan': {'name': 'Joe Ilagan', 'course': 'BSME'},\n",
       " '@eeebieee': {'name': 'Elizabeth Ilagan', 'course': 'BSCMT'},\n",
       " '@chums': {'name': 'Matthew Uy', 'course': 'BSME'}}"
      ]
     },
     "execution_count": 128,
     "metadata": {},
     "output_type": "execute_result"
    }
   ],
   "source": [
    "nx.get_node_attributes(G,'profile')"
   ]
  },
  {
   "cell_type": "code",
   "execution_count": 129,
   "metadata": {},
   "outputs": [
    {
     "data": {
      "text/plain": [
       "'Joben Ilagan'"
      ]
     },
     "execution_count": 129,
     "metadata": {},
     "output_type": "execute_result"
    }
   ],
   "source": [
    "nx.get_node_attributes(G,'profile')[\"@jobenilagan\"][\"name\"]"
   ]
  },
  {
   "cell_type": "code",
   "execution_count": 130,
   "metadata": {},
   "outputs": [
    {
     "data": {
      "text/plain": [
       "[('@jobenilagan', '@joeilagan'),\n",
       " ('@jobenilagan', '@eeebieee'),\n",
       " ('@jobenilagan', '@chums')]"
      ]
     },
     "execution_count": 130,
     "metadata": {},
     "output_type": "execute_result"
    }
   ],
   "source": [
    "[e for e in G.edges()]"
   ]
  },
  {
   "cell_type": "code",
   "execution_count": 131,
   "metadata": {},
   "outputs": [
    {
     "data": {
      "text/plain": [
       "EdgeView([('@jobenilagan', '@joeilagan'), ('@jobenilagan', '@eeebieee'), ('@jobenilagan', '@chums')])"
      ]
     },
     "execution_count": 131,
     "metadata": {},
     "output_type": "execute_result"
    }
   ],
   "source": [
    "G.edges()"
   ]
  },
  {
   "cell_type": "code",
   "execution_count": 132,
   "metadata": {},
   "outputs": [
    {
     "data": {
      "text/plain": [
       "{('@jobenilagan', '@joeilagan'): 'follower',\n",
       " ('@jobenilagan', '@eeebieee'): 'follower'}"
      ]
     },
     "execution_count": 132,
     "metadata": {},
     "output_type": "execute_result"
    }
   ],
   "source": [
    "nx.get_edge_attributes(G,'reltype')"
   ]
  },
  {
   "cell_type": "markdown",
   "metadata": {},
   "source": [
    "#### Adding attributes"
   ]
  },
  {
   "cell_type": "markdown",
   "metadata": {},
   "source": [
    "### Drawing Graphs"
   ]
  },
  {
   "cell_type": "code",
   "execution_count": 133,
   "metadata": {},
   "outputs": [],
   "source": [
    "import matplotlib.pyplot as plt"
   ]
  },
  {
   "cell_type": "code",
   "execution_count": 134,
   "metadata": {},
   "outputs": [
    {
     "name": "stderr",
     "output_type": "stream",
     "text": [
      "/anaconda3/lib/python3.7/site-packages/networkx/drawing/nx_pylab.py:611: MatplotlibDeprecationWarning: isinstance(..., numbers.Number)\n",
      "  if cb.is_numlike(alpha):\n"
     ]
    },
    {
     "data": {
      "image/png": "[encoded data removed]",
      "text/plain": [
       "<Figure size 432x288 with 1 Axes>"
      ]
     },
     "metadata": {},
     "output_type": "display_data"
    }
   ],
   "source": [
    "nx.draw(G)"
   ]
  },
  {
   "cell_type": "code",
   "execution_count": 135,
   "metadata": {},
   "outputs": [],
   "source": [
    " plt.show()"
   ]
  },
  {
   "cell_type": "markdown",
   "metadata": {},
   "source": [
    "### Exercise: Load the whole class to the graph\n"
   ]
  },
  {
   "cell_type": "code",
   "execution_count": null,
   "metadata": {},
   "outputs": [],
   "source": []
  }
 ],
 "metadata": {
  "kernelspec": {
   "display_name": "Python 3",
   "language": "python",
   "name": "python3"
  },
  "language_info": {
   "codemirror_mode": {
    "name": "ipython",
    "version": 3
   },
   "file_extension": ".py",
   "mimetype": "text/x-python",
   "name": "python",
   "nbconvert_exporter": "python",
   "pygments_lexer": "ipython3",
   "version": "3.7.3"
  }
 },
 "nbformat": 4,
 "nbformat_minor": 2
}
