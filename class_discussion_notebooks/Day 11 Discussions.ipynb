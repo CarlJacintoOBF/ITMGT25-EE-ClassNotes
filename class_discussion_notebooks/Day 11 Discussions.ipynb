{
 "cells": [
  {
   "cell_type": "markdown",
   "metadata": {},
   "source": [
    "# Day 11 Discussions"
   ]
  },
  {
   "cell_type": "markdown",
   "metadata": {},
   "source": [
    "### JSON"
   ]
  },
  {
   "cell_type": "markdown",
   "metadata": {},
   "source": [
    "**Wikipedia:**\n",
    "    \n",
    "In computing, JavaScript Object Notation (JSON) (/ˈdʒeɪsən/ \"Jason\",[1] /ˈdʒeɪsɒn/) is an open-standard file format that uses human-readable text to transmit data objects consisting of attribute–value pairs and array data types (or any other serializable value). It is a very common data format used for asynchronous browser–server communication, including as a replacement for XML in some AJAX-style systems.[2]\n",
    "\n",
    "JSON is a language-independent data format. It was derived from JavaScript, but as of 2017, many programming languages include code to generate and parse JSON-format data. The official Internet media type for JSON is application/json. JSON filenames use the extension .json."
   ]
  },
  {
   "cell_type": "code",
   "execution_count": 118,
   "metadata": {},
   "outputs": [],
   "source": [
    "jsonstring = \"\"\"\n",
    "{\"code\":\"espresso\",\"name\":\"Espresso\",\"price\":\"140\"}\n",
    "\"\"\""
   ]
  },
  {
   "cell_type": "code",
   "execution_count": 119,
   "metadata": {},
   "outputs": [
    {
     "data": {
      "text/plain": [
       "str"
      ]
     },
     "execution_count": 119,
     "metadata": {},
     "output_type": "execute_result"
    }
   ],
   "source": [
    "type(jsonstring)"
   ]
  },
  {
   "cell_type": "code",
   "execution_count": 122,
   "metadata": {},
   "outputs": [],
   "source": [
    "import json\n",
    "\n",
    "jsondata = json.loads(jsonstring)"
   ]
  },
  {
   "cell_type": "code",
   "execution_count": 123,
   "metadata": {},
   "outputs": [
    {
     "data": {
      "text/plain": [
       "{'code': 'espresso', 'name': 'Espresso', 'price': '140'}"
      ]
     },
     "execution_count": 123,
     "metadata": {},
     "output_type": "execute_result"
    }
   ],
   "source": [
    "jsondata"
   ]
  },
  {
   "cell_type": "code",
   "execution_count": 124,
   "metadata": {},
   "outputs": [
    {
     "data": {
      "text/plain": [
       "dict"
      ]
     },
     "execution_count": 124,
     "metadata": {},
     "output_type": "execute_result"
    }
   ],
   "source": [
    "type(jsondata)"
   ]
  },
  {
   "cell_type": "code",
   "execution_count": 175,
   "metadata": {},
   "outputs": [],
   "source": [
    "jsonliststring = \"\"\"\n",
    "[\n",
    "   {\"code\":\"espresso\",\"name\":\"Espresso\",\"price\":\"140\"},\n",
    "   {\"code\":\"americano\",\"name\":\"Americano\",\"price\":\"150\"},\n",
    "   {\"code\":\"cappuccino\",\"name\":\"Cappuccino\",\"price\":\"170\"}\n",
    "]\n",
    "\"\"\""
   ]
  },
  {
   "cell_type": "code",
   "execution_count": 176,
   "metadata": {},
   "outputs": [],
   "source": [
    "jsondata = json.loads(jsonliststring)"
   ]
  },
  {
   "cell_type": "code",
   "execution_count": 177,
   "metadata": {},
   "outputs": [
    {
     "data": {
      "text/plain": [
       "list"
      ]
     },
     "execution_count": 177,
     "metadata": {},
     "output_type": "execute_result"
    }
   ],
   "source": [
    "type(jsondata)"
   ]
  },
  {
   "cell_type": "code",
   "execution_count": 178,
   "metadata": {},
   "outputs": [
    {
     "data": {
      "text/plain": [
       "[{'code': 'espresso', 'name': 'Espresso', 'price': '140'},\n",
       " {'code': 'americano', 'name': 'Americano', 'price': '150'},\n",
       " {'code': 'cappuccino', 'name': 'Cappuccino', 'price': '170'}]"
      ]
     },
     "execution_count": 178,
     "metadata": {},
     "output_type": "execute_result"
    }
   ],
   "source": [
    "jsondata"
   ]
  },
  {
   "cell_type": "markdown",
   "metadata": {},
   "source": [
    "### Write JSON to file"
   ]
  },
  {
   "cell_type": "code",
   "execution_count": 179,
   "metadata": {},
   "outputs": [],
   "source": [
    "with open('cp_menu.json', 'w') as menu_file:  # writing JSON object\n",
    "    json.dump(jsondata, menu_file)"
   ]
  },
  {
   "cell_type": "markdown",
   "metadata": {},
   "source": [
    "### Read JSON File"
   ]
  },
  {
   "cell_type": "code",
   "execution_count": 180,
   "metadata": {},
   "outputs": [],
   "source": [
    "with open('cp_menu.json', 'r') as menu_file:  # reading JSON object\n",
    "    jsondata2 = json.loads(menu_file.read())"
   ]
  },
  {
   "cell_type": "code",
   "execution_count": 181,
   "metadata": {},
   "outputs": [
    {
     "data": {
      "text/plain": [
       "[{'code': 'espresso', 'name': 'Espresso', 'price': '140'},\n",
       " {'code': 'americano', 'name': 'Americano', 'price': '150'},\n",
       " {'code': 'cappuccino', 'name': 'Cappuccino', 'price': '170'}]"
      ]
     },
     "execution_count": 181,
     "metadata": {},
     "output_type": "execute_result"
    }
   ],
   "source": [
    "jsondata2"
   ]
  },
  {
   "cell_type": "code",
   "execution_count": 28,
   "metadata": {},
   "outputs": [
    {
     "data": {
      "text/plain": [
       "list"
      ]
     },
     "execution_count": 28,
     "metadata": {},
     "output_type": "execute_result"
    }
   ],
   "source": [
    "type(jsondata2)"
   ]
  },
  {
   "cell_type": "markdown",
   "metadata": {},
   "source": [
    "### More CSV"
   ]
  },
  {
   "cell_type": "code",
   "execution_count": 134,
   "metadata": {},
   "outputs": [
    {
     "data": {
      "text/plain": [
       "[{'First_Name': 'Jason', 'Last_Name': 'Francisco'},\n",
       " {'First_Name': 'Carl', 'Last_Name': 'Jacinto'},\n",
       " {'First_Name': 'Joe', 'Last_Name': 'Ilagan'},\n",
       " {'First_Name': 'David', 'Last_Name': 'Malabanan'},\n",
       " {'First_Name': 'Joe', 'Last_Name': 'Ilagan'}]"
      ]
     },
     "execution_count": 134,
     "metadata": {},
     "output_type": "execute_result"
    }
   ],
   "source": [
    "import csv\n",
    "\n",
    "class_directory = list()\n",
    "\n",
    "with open('class_list.csv') as csv_file:\n",
    "    csv_reader = csv.reader(csv_file, delimiter=',')\n",
    "    line_count = 0\n",
    "    for row in csv_reader:\n",
    "        if line_count == 0:\n",
    "            pass\n",
    "        else:\n",
    "            class_directory.append({\"First_Name\":row[0], \"Last_Name\":row[1]})\n",
    "        line_count += 1\n",
    "        \n",
    "class_directory\n",
    "\n"
   ]
  },
  {
   "cell_type": "markdown",
   "metadata": {},
   "source": [
    "## Writing to CSV files"
   ]
  },
  {
   "cell_type": "code",
   "execution_count": 135,
   "metadata": {},
   "outputs": [],
   "source": [
    "import csv\n",
    "\n",
    "with open('sales_orders.csv', 'a', newline='') as csvfile:\n",
    "    order_writer = csv.writer(csvfile, quoting=csv.QUOTE_MINIMAL)\n",
    "    order_writer.writerow([\"code\",\"qty\",\"subtotal\"])\n",
    "    order_writer.writerow([\"espresso\",2,280])\n",
    "    order_writer.writerow(['americano', 1, 150])\n",
    "    order_writer.writerow(['latte', 1, 150])"
   ]
  },
  {
   "cell_type": "code",
   "execution_count": 182,
   "metadata": {},
   "outputs": [],
   "source": [
    "# Using DictWriter\n",
    "\n",
    "import csv\n",
    "\n",
    "with open('sales_orders_2.csv', 'a', newline='') as csvfile:\n",
    "    fieldnames = ['code', 'qty', 'subtotal']\n",
    "    writer = csv.DictWriter(csvfile, fieldnames=fieldnames)\n",
    "\n",
    "    writer.writeheader()\n",
    "    writer.writerow({'code': 'espresso', 'qty': 1, 'subtotal':140})\n",
    "    writer.writerow({'code': 'cappuccino', 'qty': 1, 'subtotal':170})\n",
    "    writer.writerow({'code': 'americano', 'qty': 1, 'subtotal':150})"
   ]
  },
  {
   "cell_type": "code",
   "execution_count": 183,
   "metadata": {},
   "outputs": [
    {
     "name": "stdout",
     "output_type": "stream",
     "text": [
      "espresso 140\n",
      "cappuccino 170\n",
      "americano 150\n",
      "code subtotal\n",
      "espresso 140\n",
      "cappuccino 170\n",
      "americano 150\n",
      "code subtotal\n",
      "espresso 140\n",
      "cappuccino 170\n",
      "americano 150\n",
      "code subtotal\n",
      "espresso 140\n",
      "cappuccino 170\n",
      "americano 150\n",
      "code subtotal\n",
      "espresso 140\n",
      "cappuccino 170\n",
      "americano 150\n",
      "code subtotal\n",
      "espresso 140\n",
      "cappuccino 170\n",
      "americano 150\n",
      "code subtotal\n",
      "espresso 140\n",
      "cappuccino 170\n",
      "americano 150\n"
     ]
    }
   ],
   "source": [
    "# Using DictReader\n",
    "\n",
    "import csv\n",
    "with open('sales_orders_2.csv', newline='') as csvfile:\n",
    "    reader = csv.DictReader(csvfile)\n",
    "    for row in reader:\n",
    "        print(row['code'], row['subtotal'])"
   ]
  },
  {
   "cell_type": "markdown",
   "metadata": {},
   "source": [
    "## More I/O Examples"
   ]
  },
  {
   "cell_type": "markdown",
   "metadata": {},
   "source": [
    "### Review"
   ]
  },
  {
   "cell_type": "code",
   "execution_count": 137,
   "metadata": {},
   "outputs": [],
   "source": [
    "string = \"some string\"\n",
    "\n",
    "with open('some_string.txt',\"w+\") as file:\n",
    "    file.write(string)"
   ]
  },
  {
   "cell_type": "code",
   "execution_count": 138,
   "metadata": {},
   "outputs": [],
   "source": [
    "my_html = \"\"\"\n",
    "    <html>\n",
    "        <header></header>\n",
    "        <body>\n",
    "            <h1>Heading 1</h1>\n",
    "            <h2>Heading 2</h2>\n",
    "            The <b>quick</b> brown <i>fox</i> jumps over the lazy dogs.\n",
    "            <p/>\n",
    "            <h3>What do you want to do next?</h3>\n",
    "            <ul>\n",
    "               <li> Generate HTML from Python </li>\n",
    "               <li> ...\n",
    "            </ul>\n",
    "            <p/>\n",
    "            Sample ordered list:\n",
    "            <ol>\n",
    "               <li> Generate HTML from Python </li>\n",
    "               <li> ...\n",
    "            </ol>\n",
    "            <hr/>\n",
    "        </body>\n",
    "    </html\n",
    "\"\"\"\n",
    "\n",
    "with open('index.html',\"w+\") as file:\n",
    "    file.write(my_html)"
   ]
  },
  {
   "cell_type": "code",
   "execution_count": 139,
   "metadata": {},
   "outputs": [],
   "source": [
    "cp_menu_html = \"\"\"\n",
    "     <table>\n",
    "         <tr><th>Code</th><th>Name</th><th>Price</th></tr>\n",
    "         <tr><td>espresso</td></th><th><td>Espresso</td></th><th><td>140</td></tr>\n",
    "         <tr><td>americano</td></th><th><td>Americano</td></th><th><td>150</td></tr>\n",
    "     </table>\n",
    "\"\"\"\n",
    "\n",
    "with open('cp_menu.html',\"w+\") as file:\n",
    "    file.write(cp_menu_html)"
   ]
  },
  {
   "cell_type": "code",
   "execution_count": 218,
   "metadata": {},
   "outputs": [],
   "source": [
    "menu_html = \"\"\"\n",
    "    <html>\n",
    "        <body>\n",
    "            <h1>Heading 1</h1>\n",
    "            <h2>Heading 2</h2>\n",
    "            The <b>quick</b> brown <i>fox</i> jumps over the lazy dogs.\n",
    "            <p/>\n",
    "            <h3>What do you want to do next?</h3>\n",
    "            <ul>\n",
    "               <li> Generate HTML from Python </li>\n",
    "               <li> ...\n",
    "            </ul>\n",
    "            <hr/>\n",
    "            <h3>Menu</h3>\n",
    "            {}\n",
    "        </body>\n",
    "    </html\n",
    "\"\"\"\n",
    "\n",
    "main_html = menu_html.format(cp_menu_html)\n",
    "\n",
    "with open('cp_menu.html',\"w+\") as file:\n",
    "    file.write(main_html)"
   ]
  },
  {
   "cell_type": "code",
   "execution_count": 14,
   "metadata": {},
   "outputs": [],
   "source": [
    "menu_html = \"\"\"\n",
    "<html>\n",
    "    <body>\n",
    "       <h1>Coffee Python</h1>\n",
    "       <h2>Latest Menu</h2>\n",
    "       {}\n",
    "    </body>\n",
    "</html>\n",
    "\"\"\"\"\"\n",
    "menu = [{\"code\":\"espresso\",\"name\":\"Espresso\",\"price\":140},\n",
    "        {\"code\":\"americano\",\"name\":\"Americano\",\"price\":150},\n",
    "       ]\n",
    "\n",
    "# Correction from previous lecture\n",
    "cp_menu_html = \"\"\"\n",
    "     <table>\n",
    "         <tr><th>Code</th><th>Name</th><th>Price</th></tr>\n",
    "         {}\n",
    "     </table>\n",
    "\"\"\"\n",
    "\n",
    "cp_menu_table = \"\"\n",
    "\n",
    "# Correction from previous lecture\n",
    "cp_menu_row = \"\"\n",
    "for i in menu:\n",
    "    cp_menu_row = cp_menu_row + \"<tr>\"\n",
    "    cp_menu_row = cp_menu_row + \"<td>\"+i[\"code\"]+\"</td>\"\n",
    "    cp_menu_row = cp_menu_row + \"<td>\"+i[\"name\"]+\"</td>\"\n",
    "    cp_menu_row = cp_menu_row +  \"<td>\"+str(i[\"price\"])+\"</td>\"\n",
    "    cp_menu_row = cp_menu_row + \"</tr>\"\n",
    "    cp_menu_table = cp_menu_table + cp_menu_row\n",
    "    cp_menu_table = cp_menu_table + \"</tr>\"\n",
    "    \n",
    "\n",
    "main_html = menu_html.format(cp_menu_html.format(cp_menu_table))\n",
    "\n",
    "with open('cp_menu.html',\"w+\") as file:\n",
    "    file.write(main_html)\n"
   ]
  },
  {
   "cell_type": "markdown",
   "metadata": {},
   "source": [
    "### Exercise: Convert CSV File to HTML"
   ]
  },
  {
   "cell_type": "code",
   "execution_count": 140,
   "metadata": {},
   "outputs": [],
   "source": [
    "import csv\n",
    "\n",
    "class_directory_html = \"\"\"\n",
    "    <html>\n",
    "        <body>\n",
    "           <h1>ITMGT 25 EE</h1>\n",
    "           <h2>Class Directory</h2>\n",
    "           <p/>\n",
    "           <br/>\n",
    "           <b>Instructor: </b> {instructor}\n",
    "           <br/>\n",
    "           <br/>\n",
    "           {directory}\n",
    "        </body>\n",
    "    </html>\n",
    "\"\"\"\n",
    "\n",
    "\n",
    "class_directory = list()\n",
    "\n",
    "instructor = \"Joben Ilagan\"\n",
    "\n",
    "with open('class_list.csv') as csv_file:\n",
    "    csv_reader = csv.reader(csv_file, delimiter=',')\n",
    "    line_count = 0\n",
    "    for row in csv_reader:\n",
    "        if line_count == 0:\n",
    "            pass\n",
    "        else:\n",
    "            class_directory.append({\"First_Name\":row[0], \"Last_Name\":row[1]})\n",
    "        line_count += 1\n",
    "        \n",
    "\n",
    "class_directory_table_html = \"\"\"\n",
    "     <table>\n",
    "         <tr><th>First Name</th><th>Last Name</th></tr>\n",
    "         {}\n",
    "     </table>\n",
    "\"\"\"\n",
    "\n",
    "class_directory_table = \"\"\n",
    "\n",
    "# Correction from previous lecture\n",
    "class_directory_row = \"\"\n",
    "for i in class_directory:\n",
    "    #print(i)\n",
    "    class_directory_row = \"\"\n",
    "    class_directory_row = class_directory_row + \"<tr>\"\n",
    "    class_directory_row = class_directory_row + \"<td>\"+i[\"First_Name\"]+\"</td>\"\n",
    "    class_directory_row = class_directory_row + \"<td>\"+i[\"Last_Name\"]+\"</td>\"\n",
    "    class_directory_row = class_directory_row + \"</tr>\"\n",
    "    class_directory_table = class_directory_table + class_directory_row\n",
    "    #print(class_directory_row)\n",
    "    \n",
    "\n",
    "main_html = class_directory_html.format(instructor=instructor,\n",
    "                                        directory=class_directory_table_html.format(class_directory_table))\n",
    "\n",
    "with open('class_directory.html',\"w\") as file:\n",
    "    file.write(main_html)\n"
   ]
  },
  {
   "cell_type": "code",
   "execution_count": 142,
   "metadata": {},
   "outputs": [],
   "source": [
    "html = \"\"\"\n",
    "<b>This is bold</b>\n",
    "<i>This is italics</i>\n",
    "\n",
    "<table>\n",
    "    <tr><th>Code</th><th>Name</th></tr>\n",
    "    <tr><td>espresso</td><td>Espresso</td></tr>    \n",
    "    <tr><td>americano</td><td>Americano</td></tr>    \n",
    "</table>\n",
    "\"\"\"\n",
    "\n",
    "with open('html_review.html',\"w\") as file:\n",
    "    file.write(html)"
   ]
  },
  {
   "cell_type": "markdown",
   "metadata": {},
   "source": [
    "## Classes and Objects"
   ]
  },
  {
   "cell_type": "markdown",
   "metadata": {},
   "source": [
    "Classes provide a means of bundling data and functionality together. Creating a new class creates a new type of object, allowing new instances of that type to be made. Each class instance can have attributes attached to it for maintaining its state. Class instances can also have methods (defined by its class) for modifying its state."
   ]
  },
  {
   "cell_type": "markdown",
   "metadata": {},
   "source": [
    "There are 4 major principles that make an language Object Oriented. These are:\n",
    "* Encapsulation \n",
    "* Data Abstraction \n",
    "* Polymorphism\n",
    "* Inheritance \n",
    "\n",
    "These are also called as four pillars of Object Oriented Programming."
   ]
  },
  {
   "cell_type": "code",
   "execution_count": 143,
   "metadata": {},
   "outputs": [
    {
     "name": "stdout",
     "output_type": "stream",
     "text": [
      "Hello world\n"
     ]
    }
   ],
   "source": [
    "class Parent:\n",
    "    \n",
    "    def doSomething(self):\n",
    "        print(\"Hello world\")\n",
    "        \n",
    "parent = Parent()\n",
    "\n",
    "parent.doSomething()"
   ]
  },
  {
   "cell_type": "markdown",
   "metadata": {},
   "source": [
    "Of course, a language feature would not be worthy of the name “class” without supporting **inheritance**. The syntax for a derived class definition looks like this:"
   ]
  },
  {
   "cell_type": "code",
   "execution_count": 144,
   "metadata": {},
   "outputs": [],
   "source": [
    "class Child(Parent):\n",
    "    \n",
    "    def doSomething(self):\n",
    "        print(\"Hello mama/papa\")"
   ]
  },
  {
   "cell_type": "code",
   "execution_count": 146,
   "metadata": {},
   "outputs": [
    {
     "name": "stdout",
     "output_type": "stream",
     "text": [
      "Hello world\n"
     ]
    }
   ],
   "source": [
    "person = Child()\n",
    "\n",
    "person.doSomething()"
   ]
  },
  {
   "cell_type": "code",
   "execution_count": 152,
   "metadata": {},
   "outputs": [],
   "source": [
    "class Animal:\n",
    "    \n",
    "    def grow(self):\n",
    "        print(\"grow...\")\n",
    "    \n",
    "    def eat(self):\n",
    "        print(\"consume some food\")\n",
    "    \n",
    "    def make_sound(self):\n",
    "        print(\"silence...\")\n",
    "        \n",
    "class Dog(Animal):\n",
    "    \n",
    "    def eat(self):\n",
    "        print(\"eat bones\")\n",
    "    \n",
    "    def make_sound(self):\n",
    "        print(\"arf!\")\n",
    "        \n",
    "class Cat(Animal):\n",
    "    \n",
    "    def make_sound(self):\n",
    "        print(\"meow\")\n",
    "        \n",
    "def delight(animal):\n",
    "    animal.make_sound()\n",
    "    "
   ]
  },
  {
   "cell_type": "code",
   "execution_count": 153,
   "metadata": {},
   "outputs": [
    {
     "name": "stdout",
     "output_type": "stream",
     "text": [
      "arf!\n",
      "meow\n",
      "eat bones\n",
      "consume some food\n"
     ]
    }
   ],
   "source": [
    "fido = Dog()\n",
    "kitler = Cat()\n",
    "\n",
    "delight(fido)\n",
    "delight(kitler)\n",
    "\n",
    "fido.eat()\n",
    "kitler.eat()"
   ]
  },
  {
   "cell_type": "markdown",
   "metadata": {},
   "source": [
    "**Data attributes** correspond to “instance variables” in Smalltalk, and to “data members” in C++. Data attributes need not be declared; like local variables, they spring into existence when they are first assigned to.\n",
    "\n",
    "The other kind of instance attribute reference is a **method**. A method is a function that “belongs to” an object. (In Python, the term method is not unique to class instances: other object types can have methods as well. For example, list objects have methods called append, insert, remove, sort, and so on. However, in the following discussion, we’ll use the term method exclusively to mean methods of class instance objects, unless explicitly stated otherwise.)"
   ]
  },
  {
   "cell_type": "markdown",
   "metadata": {},
   "source": [
    "The instantiation operation (“calling” a class object) creates an empty object. Many classes like to create objects with instances customized to a specific initial state. Therefore a class may define a special method named ```__init__()```,"
   ]
  },
  {
   "cell_type": "code",
   "execution_count": 154,
   "metadata": {},
   "outputs": [],
   "source": [
    "class Animal:\n",
    "    \n",
    "    def __init__(self,name):\n",
    "        self.name = name\n",
    "    \n",
    "    def make_sound(self):\n",
    "        print(\"silence...\")\n",
    "        \n",
    "class Dog(Animal):\n",
    "    \n",
    "    def make_sound(self):\n",
    "        print(\"arf!\")\n",
    "        \n",
    "class Cat(Animal):\n",
    "    \n",
    "    def make_sound(self):\n",
    "        print(\"meow\")\n",
    "        \n",
    "def delight(animal):\n",
    "    animal.make_sound()"
   ]
  },
  {
   "cell_type": "code",
   "execution_count": 155,
   "metadata": {},
   "outputs": [
    {
     "name": "stdout",
     "output_type": "stream",
     "text": [
      "Fido\n",
      "Kitler\n",
      "Bruno\n",
      "arf!\n",
      "meow\n"
     ]
    }
   ],
   "source": [
    "fido = Dog(\"Fido\")\n",
    "bruno = Dog(\"Bruno\")\n",
    "kitler = Cat(\"Kitler\")\n",
    "\n",
    "print(fido.name)\n",
    "print(kitler.name)\n",
    "print(bruno.name)\n",
    "\n",
    "delight(fido)\n",
    "delight(kitler)"
   ]
  },
  {
   "cell_type": "code",
   "execution_count": 156,
   "metadata": {},
   "outputs": [],
   "source": [
    "fido.food = \"bones\""
   ]
  },
  {
   "cell_type": "code",
   "execution_count": 157,
   "metadata": {},
   "outputs": [],
   "source": [
    "kitler.food = \"mice\""
   ]
  },
  {
   "cell_type": "code",
   "execution_count": 158,
   "metadata": {},
   "outputs": [
    {
     "data": {
      "text/plain": [
       "'bones'"
      ]
     },
     "execution_count": 158,
     "metadata": {},
     "output_type": "execute_result"
    }
   ],
   "source": [
    "fido.food"
   ]
  },
  {
   "cell_type": "code",
   "execution_count": 159,
   "metadata": {},
   "outputs": [
    {
     "data": {
      "text/plain": [
       "'mice'"
      ]
     },
     "execution_count": 159,
     "metadata": {},
     "output_type": "execute_result"
    }
   ],
   "source": [
    "kitler.food"
   ]
  },
  {
   "cell_type": "code",
   "execution_count": 160,
   "metadata": {},
   "outputs": [
    {
     "name": "stdout",
     "output_type": "stream",
     "text": [
      "bones\n",
      "mice\n"
     ]
    }
   ],
   "source": [
    "def ask_food(animal):\n",
    "    return(animal.food)\n",
    "\n",
    "print(ask_food(fido))\n",
    "print(ask_food(kitler))"
   ]
  },
  {
   "cell_type": "markdown",
   "metadata": {},
   "source": [
    "### More Practical Examples"
   ]
  },
  {
   "cell_type": "code",
   "execution_count": 161,
   "metadata": {},
   "outputs": [],
   "source": [
    "class Customer:\n",
    "    def get_discount_eligibility(self):\n",
    "        return False\n",
    "    \n",
    "class SeniorCitizenCustomer(Customer):\n",
    "    def get_discount_eligibility(self):\n",
    "        return True\n",
    "    \n",
    "class PWDCustomer(Customer):\n",
    "    def get_discount_eligibility(self):\n",
    "        return True\n",
    "    \n",
    "class SingleParentCustomer(Customer):\n",
    "    def get_discount_eligibility(self):\n",
    "        return True\n",
    "    \n",
    "    \n",
    "def get_final_price(customer,price):\n",
    "    \n",
    "    if(not customer.get_discount_eligibility()):\n",
    "        return price\n",
    "    else:\n",
    "        return price * 0.8\n",
    "    \n"
   ]
  },
  {
   "cell_type": "code",
   "execution_count": 162,
   "metadata": {},
   "outputs": [
    {
     "name": "stdout",
     "output_type": "stream",
     "text": [
      "100\n",
      "80.0\n",
      "80.0\n"
     ]
    }
   ],
   "source": [
    "bowser = Customer()\n",
    "mario = SeniorCitizenCustomer()\n",
    "luigi = SingleParentCustomer()\n",
    "\n",
    "print(get_final_price(bowser,100))\n",
    "print(get_final_price(mario, 100))\n",
    "print(get_final_price(luigi, 100))"
   ]
  },
  {
   "cell_type": "markdown",
   "metadata": {},
   "source": [
    "### Alternate way"
   ]
  },
  {
   "cell_type": "code",
   "execution_count": 165,
   "metadata": {},
   "outputs": [
    {
     "name": "stdout",
     "output_type": "stream",
     "text": [
      "Bowser: 100\n",
      "Mario: 80.0\n",
      "Luigi: 80.0\n"
     ]
    }
   ],
   "source": [
    "class Customer:\n",
    "    \n",
    "    def __init__(self,name):\n",
    "        self.name = name\n",
    "        \n",
    "    def get_final_price(self,price):\n",
    "        return price\n",
    "    \n",
    "class WithDiscountCustomer(Customer):\n",
    "    def get_final_price(self,price):\n",
    "        return price * 0.8\n",
    "    \n",
    "class SeniorCitizenCustomer(WithDiscountCustomer):\n",
    "    pass\n",
    "\n",
    "class PWDCustomer(WithDiscountCustomer):\n",
    "    pass\n",
    "\n",
    "class SingleParentCustomer(WithDiscountCustomer):\n",
    "    pass\n",
    "    \n",
    "bowser = Customer(\"Bowser\")\n",
    "mario = SeniorCitizenCustomer(\"Mario\")\n",
    "luigi = SingleParentCustomer(\"Luigi\")\n",
    "\n",
    "print(\"{name}: {price}\".format(name=bowser.name, price=bowser.get_final_price(100)))\n",
    "print(\"{name}: {price}\".format(name=mario.name, price=mario.get_final_price(100)))\n",
    "print(\"{name}: {price}\".format(name=luigi.name, price=luigi.get_final_price(100)))"
   ]
  },
  {
   "cell_type": "markdown",
   "metadata": {},
   "source": [
    "#### Encapsulation\n",
    "\n",
    "Encapsulation is the mechanism of hiding of data implementation by restricting access to public methods. Instance variables are kept private and accessor methods are made public to achieve this."
   ]
  },
  {
   "cell_type": "markdown",
   "metadata": {},
   "source": [
    "#### Abstraction\n",
    "\n",
    "Abstract means a concept or an Idea which is not associated with any particular instance. Using abstract class/Interface we express the intent of the class rather than the actual implementation. In a way, one class should not know the inner details of another in order to use it, just knowing the interfaces should be good enough."
   ]
  },
  {
   "cell_type": "markdown",
   "metadata": {},
   "source": [
    "#### Inheritance\n",
    "\n",
    "Inheritance expresses “is-a” and/or “has-a” relationship between two objects. Using Inheritance, In derived classes we can reuse the code of existing super classes."
   ]
  },
  {
   "cell_type": "markdown",
   "metadata": {},
   "source": [
    "#### Polymorphism\n",
    "It means one name many forms."
   ]
  },
  {
   "cell_type": "markdown",
   "metadata": {},
   "source": [
    "## Sample Exercise\n",
    "\n",
    "Implement a TriangleDrawer classes and three subclasses:\n",
    "* LeftAlignedTriangleDrawer\n",
    "* CenteredTriangleDrawer\n",
    "* RightAlignedTriangleDrawer\n"
   ]
  },
  {
   "cell_type": "code",
   "execution_count": 114,
   "metadata": {},
   "outputs": [],
   "source": [
    "class TriangleDrawer:\n",
    "    \n",
    "    \n",
    "    def __init__(self,n):\n",
    "        self.n = n\n",
    "        self.line_length = 20\n",
    "        \n",
    "    def draw(self):\n",
    "        for i in range(0,self.n):\n",
    "            for j in range (0, i):\n",
    "                print(\"*\",end=\" \")\n",
    "            print()\n",
    "            \n",
    "class CenteredTriangleDrawer(TriangleDrawer):\n",
    "    \n",
    "    def draw(self):\n",
    "\n",
    "        for i in range(0,self.n):\n",
    "            line_output = \"\"\n",
    "            for j in range (0, i):\n",
    "                line_output += \"* \"\n",
    "            lead_spaces = \" \"*int(self.line_length-len(line_output)/2)\n",
    "            print(lead_spaces + line_output)\n",
    "        print()\n",
    "        \n",
    "class RightAlignedTriangleDrawer(TriangleDrawer):\n",
    "    \n",
    "    def draw(self):\n",
    "\n",
    "        for i in range(0,self.n):\n",
    "            line_output = \"\"\n",
    "            for j in range (0, i):\n",
    "                line_output += \"* \"\n",
    "            lead_spaces = \" \"*int(self.line_length-len(line_output))\n",
    "            print(lead_spaces + line_output)\n",
    "        print()\n",
    "        \n",
    "    \n",
    "        "
   ]
  },
  {
   "cell_type": "code",
   "execution_count": 166,
   "metadata": {},
   "outputs": [
    {
     "name": "stdout",
     "output_type": "stream",
     "text": [
      "\n",
      "* \n",
      "* * \n",
      "* * * \n",
      "* * * * \n",
      "* * * * * \n",
      "* * * * * * \n",
      "* * * * * * * \n",
      "* * * * * * * * \n",
      "* * * * * * * * * \n"
     ]
    }
   ],
   "source": [
    "tdrawer = TriangleDrawer(10)\n",
    "tdrawer.draw()"
   ]
  },
  {
   "cell_type": "code",
   "execution_count": 170,
   "metadata": {},
   "outputs": [
    {
     "name": "stdout",
     "output_type": "stream",
     "text": [
      "                    \n",
      "                   * \n",
      "                  * * \n",
      "                 * * * \n",
      "                * * * * \n",
      "               * * * * * \n",
      "\n"
     ]
    }
   ],
   "source": [
    "catdrawer = CenteredTriangleDrawer(6)\n",
    "catdrawer.draw()"
   ]
  },
  {
   "cell_type": "code",
   "execution_count": 168,
   "metadata": {},
   "outputs": [
    {
     "name": "stdout",
     "output_type": "stream",
     "text": [
      "                    \n",
      "                  * \n",
      "                * * \n",
      "              * * * \n",
      "            * * * * \n",
      "          * * * * * \n",
      "        * * * * * * \n",
      "      * * * * * * * \n",
      "    * * * * * * * * \n",
      "  * * * * * * * * * \n",
      "\n"
     ]
    }
   ],
   "source": [
    "ratdrawer = RightAlignedTriangleDrawer(10)\n",
    "ratdrawer.draw()"
   ]
  },
  {
   "cell_type": "code",
   "execution_count": 174,
   "metadata": {},
   "outputs": [
    {
     "name": "stdout",
     "output_type": "stream",
     "text": [
      "automatically started. not really useful.\n"
     ]
    }
   ],
   "source": [
    "class SomeClass:\n",
    "    \n",
    "    def __init__(self):\n",
    "        print(\"automatically started. not really useful.\")\n",
    "        \n",
    "someclass = SomeClass()"
   ]
  },
  {
   "cell_type": "code",
   "execution_count": 172,
   "metadata": {},
   "outputs": [
    {
     "data": {
      "text/plain": [
       "__main__.SomeClass"
      ]
     },
     "execution_count": 172,
     "metadata": {},
     "output_type": "execute_result"
    }
   ],
   "source": [
    "type(someclass)"
   ]
  },
  {
   "cell_type": "code",
   "execution_count": null,
   "metadata": {},
   "outputs": [],
   "source": []
  }
 ],
 "metadata": {
  "kernelspec": {
   "display_name": "Python 3",
   "language": "python",
   "name": "python3"
  },
  "language_info": {
   "codemirror_mode": {
    "name": "ipython",
    "version": 3
   },
   "file_extension": ".py",
   "mimetype": "text/x-python",
   "name": "python",
   "nbconvert_exporter": "python",
   "pygments_lexer": "ipython3",
   "version": "3.6.8"
  }
 },
 "nbformat": 4,
 "nbformat_minor": 2
}
