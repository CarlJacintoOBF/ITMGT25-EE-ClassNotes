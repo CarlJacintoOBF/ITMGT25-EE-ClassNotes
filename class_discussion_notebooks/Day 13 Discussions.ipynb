{
 "cells": [
  {
   "cell_type": "markdown",
   "metadata": {},
   "source": [
    "## Free Day"
   ]
  },
  {
   "cell_type": "markdown",
   "metadata": {},
   "source": [
    "There won't be classes on Day 13. Instead, I am leaving you a set of exercises to prepare for the Long Test.\n",
    "\n",
    "**Note:** This notebook will evolve heavily over the weekend."
   ]
  },
  {
   "cell_type": "markdown",
   "metadata": {},
   "source": [
    "### Writing Code"
   ]
  },
  {
   "cell_type": "markdown",
   "metadata": {},
   "source": [
    "Write code that checks a possible winner for the current state of a 3x3 tic-tac-toe board.\n",
    "\n",
    "There are several strategies here:\n",
    "- check if any symbol has all three slots in any row, column, or any of the two diagonals\n",
    "- create a set for each row, column and diagonal; if the set count of 1 indicates a winner. (Why?)"
   ]
  },
  {
   "cell_type": "code",
   "execution_count": 150,
   "metadata": {},
   "outputs": [
    {
     "name": "stdout",
     "output_type": "stream",
     "text": [
      "{'', 'X'}\n",
      "{'X', 'O'}\n",
      "{'', 'X', 'O'}\n",
      "{'O'}\n"
     ]
    }
   ],
   "source": [
    "# What is the significance of this code snippet?\n",
    "\n",
    "\n",
    "print(set(['X','X','']))\n",
    "print(set(['X','X','O']))\n",
    "print(set(['O','','X']))\n",
    "print(set(['O','O','O']))\n"
   ]
  },
  {
   "cell_type": "code",
   "execution_count": 151,
   "metadata": {},
   "outputs": [
    {
     "name": "stdout",
     "output_type": "stream",
     "text": [
      "(0, 0)\n",
      "(0, 1)\n",
      "(0, 2)\n",
      "(1, 0)\n",
      "(1, 1)\n",
      "(1, 2)\n",
      "(2, 0)\n",
      "(2, 1)\n",
      "(2, 2)\n",
      "----\n",
      "(2, 2)\n",
      "(2, 1)\n",
      "(2, 0)\n",
      "(1, 2)\n",
      "(1, 1)\n",
      "(1, 0)\n",
      "(0, 2)\n",
      "(0, 1)\n",
      "(0, 0)\n"
     ]
    }
   ],
   "source": [
    "# How about this?\n",
    "for i in range(0,3):\n",
    "    for j in range(0,3):\n",
    "        print((i,j))\n",
    "print(\"----\")\n",
    "for i in range(3-1,0-1,-1):\n",
    "    for j in range(3-1,0-1,-1):\n",
    "        print((i,j))"
   ]
  },
  {
   "cell_type": "code",
   "execution_count": null,
   "metadata": {},
   "outputs": [],
   "source": [
    "# Review zip\n",
    "board1 = [\n",
    "    ['X','X','O'],\n",
    "    ['O','X','O'],\n",
    "    ['O','','X'],\n",
    "]\n"
   ]
  },
  {
   "cell_type": "code",
   "execution_count": 112,
   "metadata": {},
   "outputs": [
    {
     "name": "stdout",
     "output_type": "stream",
     "text": [
      "[['X', 'X', 'O'], ['O', 'X', 'O'], ['O', '', 'X']]\n"
     ]
    }
   ],
   "source": [
    "print(board1)"
   ]
  },
  {
   "cell_type": "code",
   "execution_count": 113,
   "metadata": {},
   "outputs": [
    {
     "name": "stdout",
     "output_type": "stream",
     "text": [
      "[(['X', 'X', 'O'],), (['O', 'X', 'O'],), (['O', '', 'X'],)]\n"
     ]
    }
   ],
   "source": [
    "print([c for c in zip(board1)])"
   ]
  },
  {
   "cell_type": "code",
   "execution_count": 115,
   "metadata": {},
   "outputs": [
    {
     "name": "stdout",
     "output_type": "stream",
     "text": [
      "[('X', 'O', 'O'), ('X', 'X', ''), ('O', 'O', 'X')]\n"
     ]
    }
   ],
   "source": [
    "# zip will create tuples based on position in the list, so:\n",
    "# -elements at position 0 will be grouped together: \n",
    "# -- 'X','O','O' (all at index 0)\n",
    "# -- 'X','X','' (all at index 1)\n",
    "# -- 'O','O','X' (all at index 3)\n",
    "#\n",
    "# Review what \"*\" means when passing parameters means in Python (not just zip)\n",
    "\n",
    "# the command below transposes the table--columns become rows\n",
    "print([c for c in zip(*board1)])"
   ]
  },
  {
   "cell_type": "markdown",
   "metadata": {},
   "source": [
    "See the solution outline below."
   ]
  },
  {
   "cell_type": "code",
   "execution_count": 141,
   "metadata": {},
   "outputs": [],
   "source": [
    "board1 = [\n",
    "    ['X','X','O'],\n",
    "    ['O','X','O'],\n",
    "    ['O','','X'],\n",
    "]\n",
    "\n",
    "board2 = [\n",
    "    ['X','X','O'],\n",
    "    ['O','X','O'],\n",
    "    ['','O','X'],\n",
    "]\n",
    "\n",
    "board3 = [\n",
    "    ['O','X','O'],\n",
    "    ['','O','X'],\n",
    "    ['X','X','O'],\n",
    "]\n",
    "\n",
    "board4 = [\n",
    "    ['X','X','X'],\n",
    "    ['O','X','O'],\n",
    "    ['O','','O'],\n",
    "]\n",
    "\n",
    "board5 = [\n",
    "    ['X','X','O'],\n",
    "    ['O','X','O'],\n",
    "    ['X','','O'],\n",
    "]\n",
    "\n",
    "board6 = [\n",
    "    ['X','X','O'],\n",
    "    ['O','X','O'],\n",
    "    ['X','',''],\n",
    "]\n",
    "\n",
    "\n",
    "\n",
    "def get_winner(board):\n",
    "    \n",
    "    winner = None\n",
    "    \n",
    "    ## check diagonals\n",
    "    ## guide questions:\n",
    "    ## - how do you go from left to right?\n",
    "    ## - how do you go from right to left?\n",
    "    \n",
    "    ## check rows\n",
    "    \n",
    "    ## check columns\n",
    "    \n",
    "    "
   ]
  },
  {
   "cell_type": "markdown",
   "metadata": {},
   "source": [
    "#### Here is my take on the solution. This is by no means necessarily the best answer."
   ]
  },
  {
   "cell_type": "code",
   "execution_count": 55,
   "metadata": {},
   "outputs": [],
   "source": [
    "# possible solution\n",
    "#\n",
    "#\n",
    "# Scroll to see\n",
    "#\n",
    "#\n",
    "#\n",
    "#\n",
    "\n",
    "board1 = [\n",
    "    ['X','X','O'],\n",
    "    ['O','X','O'],\n",
    "    ['O','','X'],\n",
    "]\n",
    "\n",
    "board2 = [\n",
    "    ['X','X','O'],\n",
    "    ['O','X','O'],\n",
    "    ['','O','X'],\n",
    "]\n",
    "\n",
    "board3 = [\n",
    "    ['O','X','O'],\n",
    "    ['','O','X'],\n",
    "    ['X','X','O'],\n",
    "]\n",
    "\n",
    "board4 = [\n",
    "    ['X','X','X'],\n",
    "    ['O','X','O'],\n",
    "    ['O','','O'],\n",
    "]\n",
    "\n",
    "board5 = [\n",
    "    ['X','X','O'],\n",
    "    ['O','X','O'],\n",
    "    ['X','','O'],\n",
    "]\n",
    "\n",
    "board6 = [\n",
    "    ['X','X','O'],\n",
    "    ['O','X','O'],\n",
    "    ['X','',''],\n",
    "]\n",
    "\n",
    "board7 = [\n",
    "    ['X','X','X'],\n",
    "    ['O','X','O'],\n",
    "    ['X','O',''],\n",
    "]\n",
    "\n",
    "\n",
    "def get_winner(board):\n",
    "    \"\"\"\n",
    "    @type list\n",
    "    @rtype string\n",
    "    \n",
    "    board1 = [\n",
    "        ['X','X','O'],\n",
    "        ['O','X','O'],\n",
    "        ['O','','X'],\n",
    "    ]\n",
    "\n",
    "    board2 = [\n",
    "        ['X','X','O'],\n",
    "        ['O','X','O'],\n",
    "        ['','O','X'],\n",
    "    ]\n",
    "\n",
    "    board3 = [\n",
    "        ['O','X','O'],\n",
    "        ['','O','X'],\n",
    "        ['X','X','O'],\n",
    "    ]\n",
    "\n",
    "    board4 = [\n",
    "        ['X','X','X'],\n",
    "        ['O','X','O'],\n",
    "        ['O','','O'],\n",
    "    ]\n",
    "\n",
    "    board5 = [\n",
    "        ['X','X','O'],\n",
    "        ['O','X','O'],\n",
    "        ['X','','O'],\n",
    "    ]\n",
    "    \n",
    "    board6 = [\n",
    "        ['X','X','O'],\n",
    "        ['O','X','O'],\n",
    "        ['X','',''],\n",
    "    ]\n",
    "\n",
    "    board7 = [\n",
    "        ['','X','X'],\n",
    "        ['O','X','O'],\n",
    "        ['X','O',''],\n",
    "    ]\n",
    "\n",
    "    \n",
    "    >>> get_winner(board1)\n",
    "    'X'\n",
    "    \n",
    "    >>> get_winner(board2)\n",
    "    'X'\n",
    "    \n",
    "    >>> get_winner(board3)\n",
    "    'O'\n",
    "    \n",
    "    >>> get_winner(board4)\n",
    "    'X'\n",
    "    \n",
    "    >>> get_winner(board5)\n",
    "    'O'\n",
    "    \n",
    "    >>> get_winner(board6)\n",
    "\n",
    "\n",
    "    >>> get_winner(board7)\n",
    "    'X'\n",
    "\n",
    "    \"\"\"\n",
    "    \n",
    "    winner = None\n",
    "    \n",
    "    board_length = len(board[0])\n",
    "    \n",
    "    ## check diagonals\n",
    "    ## guide questions:\n",
    "    ## - how do you go from left to right?\n",
    "    ## - how do you go from right to left?\n",
    "    \n",
    "    # left-to-right\n",
    "    lrslots = []\n",
    "    for i in range(0,board_length):\n",
    "        for j in range(1, board_length+1):\n",
    "            if(i==j):\n",
    "                lrslots.append(board[i][j])\n",
    "                \n",
    "    if len(set(lrslots))==1:\n",
    "        return lrslots[0]\n",
    "    \n",
    "    # right-to-left\n",
    "    rlslots = []\n",
    "    for i in range(board_length-1,-1,-1):\n",
    "        for j in range(board_length-1, -1, -1):\n",
    "        #for j in range(0,board_length, -1):\n",
    "            if((2-i)==j):\n",
    "                rlslots.append(board[i][j])\n",
    "                \n",
    "    if len(set(rlslots))==1:\n",
    "        return rlslots[0]\n",
    "    \n",
    "    ## check rows\n",
    "    for i in range(0, board_length):\n",
    "        if(len(set([r for r in board[i]]))==1):\n",
    "            return board[i][0]\n",
    "    \n",
    "    ## check columns\n",
    "    for i in range(0, board_length):\n",
    "        column = [c for c in zip(*board)][i]\n",
    "        if(len(set(column))==1):\n",
    "            return column[0]\n",
    "        \n",
    "    # if this code is reached:\n",
    "    return None"
   ]
  },
  {
   "cell_type": "code",
   "execution_count": 56,
   "metadata": {},
   "outputs": [],
   "source": [
    "get_winner(board6)"
   ]
  },
  {
   "cell_type": "code",
   "execution_count": 57,
   "metadata": {},
   "outputs": [
    {
     "data": {
      "text/plain": [
       "'X'"
      ]
     },
     "execution_count": 57,
     "metadata": {},
     "output_type": "execute_result"
    }
   ],
   "source": [
    "get_winner(board7)"
   ]
  },
  {
   "cell_type": "code",
   "execution_count": 58,
   "metadata": {},
   "outputs": [
    {
     "data": {
      "text/plain": [
       "TestResults(failed=0, attempted=7)"
      ]
     },
     "execution_count": 58,
     "metadata": {},
     "output_type": "execute_result"
    }
   ],
   "source": [
    "import doctest\n",
    "doctest.testmod()"
   ]
  },
  {
   "cell_type": "code",
   "execution_count": 60,
   "metadata": {},
   "outputs": [
    {
     "name": "stdout",
     "output_type": "stream",
     "text": [
      "(0,0)-> (1,1)-> (2,2)-> \n",
      "(2,0)-> (1,1)-> (0,2)-> "
     ]
    }
   ],
   "source": [
    "# To illustrate the drawing\n",
    "\n",
    "board_length = 3\n",
    "for i in range(0,board_length):\n",
    "    for j in range(0,board_length):\n",
    "        if(i==j):\n",
    "           print(\"({},{})->\".format(i,j),end=\" \")\n",
    "        \n",
    "print(\"\")\n",
    "\n",
    "board_length = 3\n",
    "for i in range(board_length-1,-1,-1):\n",
    "    for j in range(0,board_length):\n",
    "        if((2-i)==j):\n",
    "           print(\"({},{})->\".format(i,j),end=\" \")"
   ]
  },
  {
   "cell_type": "markdown",
   "metadata": {},
   "source": [
    "### Drills on Loops, List Comprehensions and Dictionaries"
   ]
  },
  {
   "cell_type": "markdown",
   "metadata": {},
   "source": [
    "1) In number theory, an abundant number or excessive number is a number for which the sum of its proper divisors is greater than the number itself. The integer 12 is the first abundant number. Its proper divisors are 1, 2, 3, 4 and 6 for a total of 16.\n",
    "\n",
    "Write a function ```is_abundant(n)``` to find out if the given number is abundant.\n",
    "\n",
    "```\n",
    ">>> is_abundant(12)\n",
    "True\n",
    "\n",
    ">>> is_abundant(13)\n",
    "False\n",
    "```\n",
    "\n",
    "For reference, the first abundant numbers are:\n",
    "\n",
    "12, 18, 20, 24, 30, 36, 40, 42, 48, 54, 56, 60, 66, 70, 72, 78, 80, 84, 88, 90, 96, 100, 102, 104, 108, 112, 114, 120, …"
   ]
  },
  {
   "cell_type": "code",
   "execution_count": 174,
   "metadata": {},
   "outputs": [],
   "source": [
    "#\n",
    "#\n",
    "#\n",
    "# Scroll to see solution\n",
    "#\n",
    "#\n",
    "#\n",
    "#\n",
    "#\n",
    "\n",
    "def is_abundant(n):\n",
    "    \"\"\"\n",
    "    @type int\n",
    "    @rtype bool\n",
    "\n",
    "    >>> is_abundant(12)\n",
    "    True\n",
    "    \n",
    "    >>> is_abundant(13)\n",
    "    False\n",
    "    \n",
    "    >>> is_abundant(18)\n",
    "    True\n",
    "    \n",
    "    \"\"\"\n",
    "    \n",
    "    # use accumulator pattern\n",
    "    sum_of_proper_divisors = 0\n",
    "    \n",
    "    for i in range(1,n): # start with 1 because you can't divide by 0 anyway\n",
    "        if(n%i==0): # proper divisor\n",
    "            sum_of_proper_divisors += i\n",
    "            \n",
    "    if(sum_of_proper_divisors > n):\n",
    "        return True\n",
    "    else:\n",
    "        return False\n",
    "    "
   ]
  },
  {
   "cell_type": "code",
   "execution_count": 175,
   "metadata": {},
   "outputs": [
    {
     "data": {
      "text/plain": [
       "False"
      ]
     },
     "execution_count": 175,
     "metadata": {},
     "output_type": "execute_result"
    }
   ],
   "source": [
    "is_abundant(115)"
   ]
  },
  {
   "cell_type": "code",
   "execution_count": 176,
   "metadata": {},
   "outputs": [
    {
     "data": {
      "text/plain": [
       "TestResults(failed=0, attempted=9)"
      ]
     },
     "execution_count": 176,
     "metadata": {},
     "output_type": "execute_result"
    }
   ],
   "source": [
    "import doctest\n",
    "doctest.testmod()"
   ]
  },
  {
   "cell_type": "markdown",
   "metadata": {},
   "source": [
    "#### More exercises involving Dictionaries\n",
    "\n",
    "A delivery van service is tasked to travel along a predefined circular route as follows:\n",
    "\n",
    "* UP Diliman->Ateneo de Manila (Estimated Time: 20 mins)\n",
    "* Ateneo de Manila->De La Salle Taft (Estimated Time: 70 mins)\n",
    "* De La Salle Taft->UP Diliman (Estimated Time: 110 mins)\n",
    "\n",
    "The route is one-way only. So, the van cannot go back directly to UP Diliman from Ateneo de Manila; rather, it will have to drop by De La Salle Taft first before going to UP Diliman.\n",
    "\n",
    "Write a function called ```eta``` that accepts the source and destination of the van and returns the estimated number of minutes to reach the destination.\n"
   ]
  },
  {
   "cell_type": "code",
   "execution_count": 221,
   "metadata": {},
   "outputs": [],
   "source": [
    "locations = {\n",
    "    \"admu\":{\n",
    "        \"name\":\"Ateneo de Manila University\",\n",
    "        \"latitude\":14.6394557,\n",
    "        \"longitude\":121.0758975        \n",
    "    },\n",
    "    \"upd\":{\n",
    "        \"name\":\"University of the Philippines-Diliman Campus\",\n",
    "        \"latitude\":14.6538519,\n",
    "        \"longitude\":121.0663348\n",
    "    },\n",
    "    \"dlsu\":{\n",
    "        \"name\":\"De La Salle University-Taft\",\n",
    "        \"latitude\":14.5647346,\n",
    "        \"longitude\":120.9909876\n",
    "\n",
    "    }, # <-- Note that Python does not complain about this extra comma. This is perfectly okay.\n",
    "       #     The creators of Python saw that dictionaries tend to be changed a lot, so allowing this is a\n",
    "       #     convenience for developers who need to add elements when needed.\n",
    "}\n",
    "\n",
    "legs = {\n",
    "     (\"upd\",\"admu\"):{\n",
    "         \"travel_time_mins\":20\n",
    "     },\n",
    "     (\"admu\",\"dlsu\"):{\n",
    "         \"travel_time_mins\":70\n",
    "     },\n",
    "     (\"dlsu\",\"upd\"):{\n",
    "         \"travel_time_mins\":110\n",
    "     }\n",
    "}\n",
    "\n",
    "def eta(source,destination):\n",
    "    pass\n",
    "    # write your code here\n",
    "    \n",
    "    "
   ]
  },
  {
   "cell_type": "code",
   "execution_count": 224,
   "metadata": {},
   "outputs": [],
   "source": [
    "#\n",
    "#\n",
    "#\n",
    "# Scroll down to see solution\n",
    "#\n",
    "#\n",
    "#\n",
    "\n",
    "locations = {\n",
    "    \"admu\":{\n",
    "        \"name\":\"Ateneo de Manila University\",\n",
    "        \"latitude\":14.6394557,\n",
    "        \"longitude\":121.0758975        \n",
    "    },\n",
    "    \"upd\":{\n",
    "        \"name\":\"University of the Philippines-Diliman Campus\",\n",
    "        \"latitude\":14.6538519,\n",
    "        \"longitude\":121.0663348\n",
    "    },\n",
    "    \"dlsu\":{\n",
    "        \"name\":\"De La Salle University-Taft\",\n",
    "        \"latitude\":14.5647346,\n",
    "        \"longitude\":120.9909876\n",
    "\n",
    "    }, # <-- Note that Python does not complain about this extra comma. This is perfectly okay.\n",
    "       #     The creators of Python saw that dictionaries tend to be changed a lot, so allowing this is a\n",
    "       #     convenience for developers who need to add elements when needed.\n",
    "}\n",
    "\n",
    "legs = {\n",
    "     (\"upd\",\"admu\"):{\n",
    "         \"travel_time_mins\":20\n",
    "     },\n",
    "     (\"admu\",\"dlsu\"):{\n",
    "         \"travel_time_mins\":70\n",
    "     },\n",
    "     (\"dlsu\",\"upd\"):{\n",
    "         \"travel_time_mins\":110\n",
    "     }\n",
    "}\n",
    "\n",
    "def eta(source,destination):\n",
    "    \"\"\"\n",
    "    @type str, str\n",
    "    @rtype int\n",
    "    \n",
    "    >>> eta(\"admu\",\"dlsu\")\n",
    "    70\n",
    "    \n",
    "    >>> eta(\"dlsu\",\"dlsu\")\n",
    "    0\n",
    "    \n",
    "    >>> eta(\"dlsu\",\"admu\")\n",
    "    130\n",
    "    \n",
    "    \"\"\"\n",
    "    \n",
    "    previous_stop = source\n",
    "    next_stop = source\n",
    "    \n",
    "    end_of_trip = False\n",
    "    \n",
    "    minutes = 0\n",
    "    \n",
    "    while(not end_of_trip):\n",
    "        if(next_stop==destination):\n",
    "            end_of_trip = True\n",
    "        else:\n",
    "            \n",
    "            # go through leg entries and determine destination for the given source\n",
    "            next_stop = [leg[1] for leg in legs if leg[0]==next_stop][0] # get the first entry, which is the only one anyway\n",
    "            \n",
    "            minutes += legs[(previous_stop,next_stop)][\"travel_time_mins\"]\n",
    "            \n",
    "            previous_stop = next_stop\n",
    "            \n",
    "        \n",
    "    return minutes"
   ]
  },
  {
   "cell_type": "code",
   "execution_count": 225,
   "metadata": {},
   "outputs": [
    {
     "data": {
      "text/plain": [
       "180"
      ]
     },
     "execution_count": 225,
     "metadata": {},
     "output_type": "execute_result"
    }
   ],
   "source": [
    "eta(\"admu\",\"upd\")"
   ]
  },
  {
   "cell_type": "code",
   "execution_count": 226,
   "metadata": {},
   "outputs": [
    {
     "data": {
      "text/plain": [
       "TestResults(failed=0, attempted=12)"
      ]
     },
     "execution_count": 226,
     "metadata": {},
     "output_type": "execute_result"
    }
   ],
   "source": [
    "import doctest\n",
    "doctest.testmod()"
   ]
  },
  {
   "cell_type": "markdown",
   "metadata": {},
   "source": [
    "#### Social Media Example"
   ]
  },
  {
   "cell_type": "markdown",
   "metadata": {},
   "source": [
    "In a prototype of a new in-campus mobile app, there is social media support similar to what's seen on\n",
    "Facebook, Instagram and Spotify. Students and Faculty belong to the same social graph. Any student or teacher can follow other members of the app community. If two members follow each other, they are considered friends.\n",
    "\n",
    "Write a function ```relationship_status(from_member, to_member)``` that determines if two members are **friends**, or if the first person **follows** or is **followed by** the second person. The function should return one of these:\n",
    "\n",
    "* \"follower\" (type is str)\n",
    "* \"followed by\"(type is str)\n",
    "* None (type is None)\n",
    "\n",
    "For example:\n",
    "\n",
    "```\n",
    "    >>> relationship_status(\"@chums\",\"@jobenilagan\")\n",
    "    'followed by'\n",
    "\n",
    "    >>> relationship_status(\"@jobenilagan\",\"@joeilagan\")\n",
    "    'friends'\n",
    "\n",
    "    >>> relationship_status(\"@bongolpoc\",\"@chums\")\n",
    "    'followed by'\n",
    "\n",
    "    >>> relationship_status(\"@bongolpoc\",\"@jobenilagan\")\n",
    "\n",
    "    >>> relationship_status(\"@bongolpoc\",\"@chums\")\n",
    "    'followed by'\n",
    "\n",
    "    >>> relationship_status(\"@chums\",\"@joeilagan\")\n",
    "    'friends'\n",
    "\n",
    "    >>> relationship_status(\"@joeilagan\",\"@chums\")\n",
    "    'friends'\n",
    "\n",
    "\n",
    "```\n",
    "\n",
    "The small social graph is provided below, so you may use this in your coding exercise.\n",
    "\n",
    "```\n",
    "social_graph = {\n",
    "    \"@bongolpoc\":{\"first_name\":\"Joselito\",\n",
    "                  \"last_name\":\"Olpoc\",\n",
    "                  \"following\":[\n",
    "                  ]\n",
    "    },\n",
    "    \"@joaquin\":  {\"first_name\":\"Joaquin\",\n",
    "                  \"last_name\":\"Gonzales\",\n",
    "                  \"following\":[\n",
    "                      \"@chums\",\"@jobenilagan\"\n",
    "                  ]\n",
    "    },\n",
    "    \"@chums\" : {\"first_name\":\"Matthew\",\n",
    "                \"last_name\":\"Uy\",\n",
    "                \"following\":[\n",
    "                    \"@bongolpoc\",\"@miketan\",\"@rudyang\",\"@joeilagan\"\n",
    "                ]\n",
    "    },\n",
    "    \"@jobenilagan\":{\"first_name\":\"Joben\",\n",
    "                   \"last_name\":\"Ilagan\",\n",
    "                   \"following\":[\n",
    "                    \"@eeebeee\",\"@joeilagan\",\"@chums\",\"@joaquin\"\n",
    "                   ]\n",
    "    },\n",
    "    \"@joeilagan\":{\"first_name\":\"Joe\",\n",
    "                  \"last_name\":\"Ilagan\",\n",
    "                  \"following\":[\n",
    "                    \"@eeebeee\",\"@jobenilagan\",\"@chums\"\n",
    "                  ]\n",
    "    },\n",
    "    \"@eeebeee\":  {\"first_name\":\"Elizabeth\",\n",
    "                  \"last_name\":\"Ilagan\",\n",
    "                  \"following\":[\n",
    "                    \"@jobenilagan\",\"@joeilagan\"\n",
    "                  ]\n",
    "    },\n",
    "}\n",
    "```"
   ]
  },
  {
   "cell_type": "code",
   "execution_count": 227,
   "metadata": {},
   "outputs": [],
   "source": [
    "social_graph = {\n",
    "    \"@bongolpoc\":{\"first_name\":\"Joselito\",\n",
    "                  \"last_name\":\"Olpoc\",\n",
    "                  \"following\":[\n",
    "                  ]\n",
    "    },\n",
    "    \"@joaquin\":  {\"first_name\":\"Joaquin\",\n",
    "                  \"last_name\":\"Gonzales\",\n",
    "                  \"following\":[\n",
    "                      \"@chums\",\"@jobenilagan\"\n",
    "                  ]\n",
    "    },\n",
    "    \"@chums\" : {\"first_name\":\"Matthew\",\n",
    "                \"last_name\":\"Uy\",\n",
    "                \"following\":[\n",
    "                    \"@bongolpoc\",\"@miketan\",\"@rudyang\",\"@joeilagan\"\n",
    "                ]\n",
    "    },\n",
    "    \"@jobenilagan\":{\"first_name\":\"Joben\",\n",
    "                   \"last_name\":\"Ilagan\",\n",
    "                   \"following\":[\n",
    "                    \"@eeebeee\",\"@joeilagan\",\"@chums\",\"@joaquin\"\n",
    "                   ]\n",
    "    },\n",
    "    \"@joeilagan\":{\"first_name\":\"Joe\",\n",
    "                  \"last_name\":\"Ilagan\",\n",
    "                  \"following\":[\n",
    "                    \"@eeebeee\",\"@jobenilagan\",\"@chums\"\n",
    "                  ]\n",
    "    },\n",
    "    \"@eeebeee\":  {\"first_name\":\"Elizabeth\",\n",
    "                  \"last_name\":\"Ilagan\",\n",
    "                  \"following\":[\n",
    "                    \"@jobenilagan\",\"@joeilagan\"\n",
    "                  ]\n",
    "    },\n",
    "}\n",
    "\n",
    "def relationship_status(from_person, to_person):\n",
    "    \n",
    "    #Replace with your own code\n",
    "    pass "
   ]
  },
  {
   "cell_type": "code",
   "execution_count": 259,
   "metadata": {},
   "outputs": [],
   "source": [
    "## Placeholder for solution key\n",
    "#\n",
    "#\n",
    "#\n",
    "#\n",
    "# Scroll to see solution\n",
    "#\n",
    "#\n",
    "#\n",
    "#\n",
    "\n",
    "\n",
    "\n",
    "social_graph = {\n",
    "    \"@bongolpoc\":{\"first_name\":\"Joselito\",\n",
    "                  \"last_name\":\"Olpoc\",\n",
    "                  \"following\":[\n",
    "                  ]\n",
    "    },\n",
    "    \"@joaquin\":  {\"first_name\":\"Joaquin\",\n",
    "                  \"last_name\":\"Gonzales\",\n",
    "                  \"following\":[\n",
    "                      \"@chums\",\"@jobenilagan\"\n",
    "                  ]\n",
    "    },\n",
    "    \"@chums\" : {\"first_name\":\"Matthew\",\n",
    "                \"last_name\":\"Uy\",\n",
    "                \"following\":[\n",
    "                    \"@bongolpoc\",\"@miketan\",\"@rudyang\",\"@joeilagan\"\n",
    "                ]\n",
    "    },\n",
    "    \"@jobenilagan\":{\"first_name\":\"Joben\",\n",
    "                   \"last_name\":\"Ilagan\",\n",
    "                   \"following\":[\n",
    "                    \"@eeebeee\",\"@joeilagan\",\"@chums\",\"@joaquin\"\n",
    "                   ]\n",
    "    },\n",
    "    \"@joeilagan\":{\"first_name\":\"Joe\",\n",
    "                  \"last_name\":\"Ilagan\",\n",
    "                  \"following\":[\n",
    "                    \"@eeebeee\",\"@jobenilagan\",\"@chums\"\n",
    "                  ]\n",
    "    },\n",
    "    \"@eeebeee\":  {\"first_name\":\"Elizabeth\",\n",
    "                  \"last_name\":\"Ilagan\",\n",
    "                  \"following\":[\n",
    "                    \"@jobenilagan\",\"@joeilagan\"\n",
    "                  ]\n",
    "    },\n",
    "}\n",
    "\n",
    "def relationship_status(from_person, to_person):\n",
    "    \n",
    "    \"\"\"\n",
    "    @type str, str\n",
    "    @rtype str\n",
    "    \n",
    "    >>> relationship_status(\"@chums\",\"@jobenilagan\")\n",
    "    'followed by'\n",
    "\n",
    "    >>> relationship_status(\"@jobenilagan\",\"@joeilagan\")\n",
    "    'friends'\n",
    "\n",
    "    >>> relationship_status(\"@bongolpoc\",\"@chums\")\n",
    "    'followed by'\n",
    "\n",
    "    >>> relationship_status(\"@bongolpoc\",\"@jobenilagan\")\n",
    "\n",
    "    >>> relationship_status(\"@bongolpoc\",\"@chums\")\n",
    "    'followed by'\n",
    "\n",
    "    >>> relationship_status(\"@chums\",\"@joeilagan\")\n",
    "    'friends'\n",
    "\n",
    "    >>> relationship_status(\"@joeilagan\",\"@chums\")\n",
    "    'friends'\n",
    "    \"\"\"\n",
    "    \n",
    "    # Check if from_person follows to_person:\n",
    "    following = (to_person in social_graph[from_person][\"following\"])\n",
    "    \n",
    "    # Check if to_person follows from_person:\n",
    "    followee = (from_person in social_graph[to_person][\"following\"])\n",
    "    \n",
    "    if(following and followee):\n",
    "        return \"friends\"\n",
    "    elif(following):\n",
    "        return \"follower\"\n",
    "    elif(followee):\n",
    "        return \"followed by\"\n",
    "    else:\n",
    "        return None"
   ]
  },
  {
   "cell_type": "code",
   "execution_count": 260,
   "metadata": {},
   "outputs": [
    {
     "data": {
      "text/plain": [
       "'followed by'"
      ]
     },
     "execution_count": 260,
     "metadata": {},
     "output_type": "execute_result"
    }
   ],
   "source": [
    "relationship_status(\"@chums\",\"@jobenilagan\")"
   ]
  },
  {
   "cell_type": "code",
   "execution_count": 261,
   "metadata": {},
   "outputs": [
    {
     "data": {
      "text/plain": [
       "'friends'"
      ]
     },
     "execution_count": 261,
     "metadata": {},
     "output_type": "execute_result"
    }
   ],
   "source": [
    "relationship_status(\"@jobenilagan\",\"@joeilagan\")"
   ]
  },
  {
   "cell_type": "code",
   "execution_count": 262,
   "metadata": {},
   "outputs": [
    {
     "data": {
      "text/plain": [
       "'friends'"
      ]
     },
     "execution_count": 262,
     "metadata": {},
     "output_type": "execute_result"
    }
   ],
   "source": [
    "relationship_status(\"@chums\",\"@joeilagan\")"
   ]
  },
  {
   "cell_type": "code",
   "execution_count": 263,
   "metadata": {},
   "outputs": [
    {
     "data": {
      "text/plain": [
       "True"
      ]
     },
     "execution_count": 263,
     "metadata": {},
     "output_type": "execute_result"
    }
   ],
   "source": [
    "## Hints: study the one-line code below\n",
    "\"@chums\" in social_graph[\"@jobenilagan\"][\"following\"]"
   ]
  },
  {
   "cell_type": "code",
   "execution_count": 264,
   "metadata": {},
   "outputs": [
    {
     "data": {
      "text/plain": [
       "TestResults(failed=0, attempted=19)"
      ]
     },
     "execution_count": 264,
     "metadata": {},
     "output_type": "execute_result"
    }
   ],
   "source": [
    "import doctest\n",
    "doctest.testmod()"
   ]
  },
  {
   "cell_type": "code",
   "execution_count": null,
   "metadata": {},
   "outputs": [],
   "source": []
  }
 ],
 "metadata": {
  "kernelspec": {
   "display_name": "Python 3",
   "language": "python",
   "name": "python3"
  },
  "language_info": {
   "codemirror_mode": {
    "name": "ipython",
    "version": 3
   },
   "file_extension": ".py",
   "mimetype": "text/x-python",
   "name": "python",
   "nbconvert_exporter": "python",
   "pygments_lexer": "ipython3",
   "version": "3.6.8"
  }
 },
 "nbformat": 4,
 "nbformat_minor": 2
}
