{
 "cells": [
  {
   "cell_type": "markdown",
   "metadata": {},
   "source": [
    "## Free Day"
   ]
  },
  {
   "cell_type": "markdown",
   "metadata": {},
   "source": [
    "There won't be classes on Day 13. Instead, I am leaving you a set of exercises to prepare for the Long Test.\n",
    "\n",
    "**Note:** This notebook will evolve heavily over the weekend."
   ]
  },
  {
   "cell_type": "markdown",
   "metadata": {},
   "source": [
    "### Writing Code"
   ]
  },
  {
   "cell_type": "markdown",
   "metadata": {},
   "source": [
    "Write code that checks a possible winner for the current state of a 3x3 tic-tac-toe board.\n",
    "\n",
    "There are several strategies here:\n",
    "- check if any symbol has all three slots in any row, column, or any of the two diagonals\n",
    "- create a set for each row, column and diagonal; if the set count of 1 indicates a winner. (Why?)"
   ]
  },
  {
   "cell_type": "code",
   "execution_count": 150,
   "metadata": {},
   "outputs": [
    {
     "name": "stdout",
     "output_type": "stream",
     "text": [
      "{'', 'X'}\n",
      "{'X', 'O'}\n",
      "{'', 'X', 'O'}\n",
      "{'O'}\n"
     ]
    }
   ],
   "source": [
    "# What is the significance of this code snippet?\n",
    "\n",
    "\n",
    "print(set(['X','X','']))\n",
    "print(set(['X','X','O']))\n",
    "print(set(['O','','X']))\n",
    "print(set(['O','O','O']))\n"
   ]
  },
  {
   "cell_type": "code",
   "execution_count": 151,
   "metadata": {},
   "outputs": [
    {
     "name": "stdout",
     "output_type": "stream",
     "text": [
      "(0, 0)\n",
      "(0, 1)\n",
      "(0, 2)\n",
      "(1, 0)\n",
      "(1, 1)\n",
      "(1, 2)\n",
      "(2, 0)\n",
      "(2, 1)\n",
      "(2, 2)\n",
      "----\n",
      "(2, 2)\n",
      "(2, 1)\n",
      "(2, 0)\n",
      "(1, 2)\n",
      "(1, 1)\n",
      "(1, 0)\n",
      "(0, 2)\n",
      "(0, 1)\n",
      "(0, 0)\n"
     ]
    }
   ],
   "source": [
    "# How about this?\n",
    "for i in range(0,3):\n",
    "    for j in range(0,3):\n",
    "        print((i,j))\n",
    "print(\"----\")\n",
    "for i in range(3-1,0-1,-1):\n",
    "    for j in range(3-1,0-1,-1):\n",
    "        print((i,j))"
   ]
  },
  {
   "cell_type": "code",
   "execution_count": null,
   "metadata": {},
   "outputs": [],
   "source": [
    "# Review zip\n",
    "board1 = [\n",
    "    ['X','X','O'],\n",
    "    ['O','X','O'],\n",
    "    ['O','','X'],\n",
    "]\n"
   ]
  },
  {
   "cell_type": "code",
   "execution_count": 112,
   "metadata": {},
   "outputs": [
    {
     "name": "stdout",
     "output_type": "stream",
     "text": [
      "[['X', 'X', 'O'], ['O', 'X', 'O'], ['O', '', 'X']]\n"
     ]
    }
   ],
   "source": [
    "print(board1)"
   ]
  },
  {
   "cell_type": "code",
   "execution_count": 113,
   "metadata": {},
   "outputs": [
    {
     "name": "stdout",
     "output_type": "stream",
     "text": [
      "[(['X', 'X', 'O'],), (['O', 'X', 'O'],), (['O', '', 'X'],)]\n"
     ]
    }
   ],
   "source": [
    "print([c for c in zip(board1)])"
   ]
  },
  {
   "cell_type": "code",
   "execution_count": 115,
   "metadata": {},
   "outputs": [
    {
     "name": "stdout",
     "output_type": "stream",
     "text": [
      "[('X', 'O', 'O'), ('X', 'X', ''), ('O', 'O', 'X')]\n"
     ]
    }
   ],
   "source": [
    "# zip will create tuples based on position in the list, so:\n",
    "# -elements at position 0 will be grouped together: \n",
    "# -- 'X','O','O' (all at index 0)\n",
    "# -- 'X','X','' (all at index 1)\n",
    "# -- 'O','O','X' (all at index 3)\n",
    "#\n",
    "# Review what \"*\" means when passing parameters means in Python (not just zip)\n",
    "\n",
    "# the command below transposes the table--columns become rows\n",
    "print([c for c in zip(*board1)])"
   ]
  },
  {
   "cell_type": "markdown",
   "metadata": {},
   "source": [
    "See the solution outline below."
   ]
  },
  {
   "cell_type": "code",
   "execution_count": 141,
   "metadata": {},
   "outputs": [],
   "source": [
    "board1 = [\n",
    "    ['X','X','O'],\n",
    "    ['O','X','O'],\n",
    "    ['O','','X'],\n",
    "]\n",
    "\n",
    "board2 = [\n",
    "    ['X','X','O'],\n",
    "    ['O','X','O'],\n",
    "    ['','O','X'],\n",
    "]\n",
    "\n",
    "board3 = [\n",
    "    ['O','X','O'],\n",
    "    ['','O','X'],\n",
    "    ['X','X','O'],\n",
    "]\n",
    "\n",
    "board4 = [\n",
    "    ['X','X','X'],\n",
    "    ['O','X','O'],\n",
    "    ['O','','O'],\n",
    "]\n",
    "\n",
    "board5 = [\n",
    "    ['X','X','O'],\n",
    "    ['O','X','O'],\n",
    "    ['X','','O'],\n",
    "]\n",
    "\n",
    "board6 = [\n",
    "    ['X','X','O'],\n",
    "    ['O','X','O'],\n",
    "    ['X','',''],\n",
    "]\n",
    "\n",
    "\n",
    "\n",
    "def get_winner(board):\n",
    "    \n",
    "    winner = None\n",
    "    \n",
    "    ## check diagonals\n",
    "    ## guide questions:\n",
    "    ## - how do you go from left to right?\n",
    "    ## - how do you go from right to left?\n",
    "    \n",
    "    ## check rows\n",
    "    \n",
    "    ## check columns\n",
    "    \n",
    "    "
   ]
  },
  {
   "cell_type": "markdown",
   "metadata": {},
   "source": [
    "#### Here is my take on the solution. This is by no means necessarily the best answer."
   ]
  },
  {
   "cell_type": "code",
   "execution_count": 147,
   "metadata": {},
   "outputs": [],
   "source": [
    "# possible solution\n",
    "#\n",
    "#\n",
    "# Scroll to see\n",
    "#\n",
    "#\n",
    "#\n",
    "#\n",
    "\n",
    "board1 = [\n",
    "    ['X','X','O'],\n",
    "    ['O','X','O'],\n",
    "    ['O','','X'],\n",
    "]\n",
    "\n",
    "board2 = [\n",
    "    ['X','X','O'],\n",
    "    ['O','X','O'],\n",
    "    ['','O','X'],\n",
    "]\n",
    "\n",
    "board3 = [\n",
    "    ['O','X','O'],\n",
    "    ['','O','X'],\n",
    "    ['X','X','O'],\n",
    "]\n",
    "\n",
    "board4 = [\n",
    "    ['X','X','X'],\n",
    "    ['O','X','O'],\n",
    "    ['O','','O'],\n",
    "]\n",
    "\n",
    "board5 = [\n",
    "    ['X','X','O'],\n",
    "    ['O','X','O'],\n",
    "    ['X','','O'],\n",
    "]\n",
    "\n",
    "board6 = [\n",
    "    ['X','X','O'],\n",
    "    ['O','X','O'],\n",
    "    ['X','',''],\n",
    "]\n",
    "\n",
    "\n",
    "def get_winner(board):\n",
    "    \"\"\"\n",
    "    @type list\n",
    "    @rtype string\n",
    "    \n",
    "    board1 = [\n",
    "        ['X','X','O'],\n",
    "        ['O','X','O'],\n",
    "        ['O','','X'],\n",
    "    ]\n",
    "\n",
    "    board2 = [\n",
    "        ['X','X','O'],\n",
    "        ['O','X','O'],\n",
    "        ['','O','X'],\n",
    "    ]\n",
    "\n",
    "    board3 = [\n",
    "        ['O','X','O'],\n",
    "        ['','O','X'],\n",
    "        ['X','X','O'],\n",
    "    ]\n",
    "\n",
    "    board4 = [\n",
    "        ['X','X','X'],\n",
    "        ['O','X','O'],\n",
    "        ['O','','O'],\n",
    "    ]\n",
    "\n",
    "    board5 = [\n",
    "        ['X','X','O'],\n",
    "        ['O','X','O'],\n",
    "        ['X','','O'],\n",
    "    ]\n",
    "\n",
    "    \n",
    "    >>> get_winner(board1)\n",
    "    'X'\n",
    "    \n",
    "    >>> get_winner(board2)\n",
    "    'X'\n",
    "    \n",
    "    >>> get_winner(board3)\n",
    "    'O'\n",
    "    \n",
    "    >>> get_winner(board4)\n",
    "    'X'\n",
    "    \n",
    "    >>> get_winner(board5)\n",
    "    'O'\n",
    "    \n",
    "    >>> get_winner(board6)\n",
    "    \n",
    "    \"\"\"\n",
    "    \n",
    "    winner = None\n",
    "    \n",
    "    board_length = len(board[0])\n",
    "    \n",
    "    ## check diagonals\n",
    "    ## guide questions:\n",
    "    ## - how do you go from left to right?\n",
    "    ## - how do you go from right to left?\n",
    "    \n",
    "    # left-to-right\n",
    "    lrslots = []\n",
    "    for i in range(0,board_length):\n",
    "        for j in range(1, board_length+1):\n",
    "            if(i==j):\n",
    "                lrslots.append(board[i][j])\n",
    "                \n",
    "    if len(set(lrslots))==1:\n",
    "        return lrslots[0]\n",
    "    \n",
    "    # right-to-left\n",
    "    rlslots = []\n",
    "    for i in range(board_length-1,-1,-1):\n",
    "        for j in range(board_length-1, -1, -1):\n",
    "            if(i==j):\n",
    "                rlslots.append(board[i][j])\n",
    "                \n",
    "    if len(set(rlslots))==1:\n",
    "        return rlslots[0]\n",
    "    \n",
    "    ## check rows\n",
    "    for i in range(0, board_length):\n",
    "        if(len(set([r for r in board[i]]))==1):\n",
    "            return board[i][0]\n",
    "    \n",
    "    ## check columns\n",
    "    for i in range(0, board_length):\n",
    "        column = [c for c in zip(*board)][i]\n",
    "        if(len(set(column))==1):\n",
    "            return column[0]\n",
    "        \n",
    "    # if this code is reached:\n",
    "    return None"
   ]
  },
  {
   "cell_type": "code",
   "execution_count": 148,
   "metadata": {},
   "outputs": [],
   "source": [
    "get_winner(board6)"
   ]
  },
  {
   "cell_type": "code",
   "execution_count": 149,
   "metadata": {},
   "outputs": [
    {
     "data": {
      "text/plain": [
       "TestResults(failed=0, attempted=6)"
      ]
     },
     "execution_count": 149,
     "metadata": {},
     "output_type": "execute_result"
    }
   ],
   "source": [
    "import doctest\n",
    "doctest.testmod()"
   ]
  },
  {
   "cell_type": "markdown",
   "metadata": {},
   "source": [
    "### Drills on Loops, List Comprehensions and Dictionaries"
   ]
  },
  {
   "cell_type": "markdown",
   "metadata": {},
   "source": [
    "1) In number theory, an abundant number or excessive number is a number for which the sum of its proper divisors is greater than the number itself. The integer 12 is the first abundant number. Its proper divisors are 1, 2, 3, 4 and 6 for a total of 16.\n",
    "\n",
    "Write a function ```is_abundant(n)``` to find out if the given number is abundant.\n",
    "\n",
    "```\n",
    ">>> is_abundant(12)\n",
    "True\n",
    "\n",
    ">>> is_abundant(13)\n",
    "False\n",
    "```\n",
    "\n",
    "For reference, the first abundant numbers are:\n",
    "\n",
    "12, 18, 20, 24, 30, 36, 40, 42, 48, 54, 56, 60, 66, 70, 72, 78, 80, 84, 88, 90, 96, 100, 102, 104, 108, 112, 114, 120, …"
   ]
  },
  {
   "cell_type": "code",
   "execution_count": 174,
   "metadata": {},
   "outputs": [],
   "source": [
    "#\n",
    "#\n",
    "#\n",
    "# Scroll to see solution\n",
    "#\n",
    "#\n",
    "#\n",
    "#\n",
    "#\n",
    "\n",
    "def is_abundant(n):\n",
    "    \"\"\"\n",
    "    @type int\n",
    "    @rtype bool\n",
    "\n",
    "    >>> is_abundant(12)\n",
    "    True\n",
    "    \n",
    "    >>> is_abundant(13)\n",
    "    False\n",
    "    \n",
    "    >>> is_abundant(18)\n",
    "    True\n",
    "    \n",
    "    \"\"\"\n",
    "    \n",
    "    # use accumulator pattern\n",
    "    sum_of_proper_divisors = 0\n",
    "    \n",
    "    for i in range(1,n): # start with 1 because you can't divide by 0 anyway\n",
    "        if(n%i==0): # proper divisor\n",
    "            sum_of_proper_divisors += i\n",
    "            \n",
    "    if(sum_of_proper_divisors > n):\n",
    "        return True\n",
    "    else:\n",
    "        return False\n",
    "    "
   ]
  },
  {
   "cell_type": "code",
   "execution_count": 175,
   "metadata": {},
   "outputs": [
    {
     "data": {
      "text/plain": [
       "False"
      ]
     },
     "execution_count": 175,
     "metadata": {},
     "output_type": "execute_result"
    }
   ],
   "source": [
    "is_abundant(115)"
   ]
  },
  {
   "cell_type": "code",
   "execution_count": 176,
   "metadata": {},
   "outputs": [
    {
     "data": {
      "text/plain": [
       "TestResults(failed=0, attempted=9)"
      ]
     },
     "execution_count": 176,
     "metadata": {},
     "output_type": "execute_result"
    }
   ],
   "source": [
    "import doctest\n",
    "doctest.testmod()"
   ]
  },
  {
   "cell_type": "code",
   "execution_count": null,
   "metadata": {},
   "outputs": [],
   "source": []
  }
 ],
 "metadata": {
  "kernelspec": {
   "display_name": "Python 3",
   "language": "python",
   "name": "python3"
  },
  "language_info": {
   "codemirror_mode": {
    "name": "ipython",
    "version": 3
   },
   "file_extension": ".py",
   "mimetype": "text/x-python",
   "name": "python",
   "nbconvert_exporter": "python",
   "pygments_lexer": "ipython3",
   "version": "3.6.8"
  }
 },
 "nbformat": 4,
 "nbformat_minor": 2
}
