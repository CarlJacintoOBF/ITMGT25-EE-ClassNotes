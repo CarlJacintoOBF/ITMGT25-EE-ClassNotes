{
 "cells": [
  {
   "cell_type": "markdown",
   "metadata": {},
   "source": [
    "## Day 16 Discussions"
   ]
  },
  {
   "cell_type": "markdown",
   "metadata": {},
   "source": [
    "### Data Visualization"
   ]
  },
  {
   "cell_type": "markdown",
   "metadata": {},
   "source": [
    "Options:\n",
    "* matplotlib\n",
    "* seaborn"
   ]
  },
  {
   "cell_type": "markdown",
   "metadata": {},
   "source": [
    "#### Example: Tourism Data"
   ]
  },
  {
   "cell_type": "code",
   "execution_count": 1,
   "metadata": {},
   "outputs": [],
   "source": [
    "import pandas as pd"
   ]
  },
  {
   "cell_type": "code",
   "execution_count": 29,
   "metadata": {},
   "outputs": [],
   "source": [
    "df = pd.read_csv(\"2I5DEMP0.csv\",skiprows=1)"
   ]
  },
  {
   "cell_type": "code",
   "execution_count": 34,
   "metadata": {},
   "outputs": [
    {
     "data": {
      "text/html": [
       "<div>\n",
       "<style scoped>\n",
       "    .dataframe tbody tr th:only-of-type {\n",
       "        vertical-align: middle;\n",
       "    }\n",
       "\n",
       "    .dataframe tbody tr th {\n",
       "        vertical-align: top;\n",
       "    }\n",
       "\n",
       "    .dataframe thead th {\n",
       "        text-align: right;\n",
       "    }\n",
       "</style>\n",
       "<table border=\"1\" class=\"dataframe\">\n",
       "  <thead>\n",
       "    <tr style=\"text-align: right;\">\n",
       "      <th></th>\n",
       "      <th>Tourism consumption products</th>\n",
       "      <th>2000</th>\n",
       "      <th>2001</th>\n",
       "      <th>2002</th>\n",
       "      <th>2003</th>\n",
       "      <th>2004</th>\n",
       "      <th>2005</th>\n",
       "      <th>2006</th>\n",
       "      <th>2007</th>\n",
       "      <th>2008</th>\n",
       "      <th>2009</th>\n",
       "      <th>2010</th>\n",
       "      <th>2011</th>\n",
       "      <th>2012</th>\n",
       "      <th>2013</th>\n",
       "      <th>2014</th>\n",
       "      <th>2015</th>\n",
       "      <th>2016</th>\n",
       "      <th>2017</th>\n",
       "      <th>2018</th>\n",
       "    </tr>\n",
       "  </thead>\n",
       "  <tbody>\n",
       "    <tr>\n",
       "      <th>0</th>\n",
       "      <td>Tourism characteristic industries</td>\n",
       "      <td>2639</td>\n",
       "      <td>2724</td>\n",
       "      <td>2799</td>\n",
       "      <td>2941</td>\n",
       "      <td>3077</td>\n",
       "      <td>3137</td>\n",
       "      <td>3450</td>\n",
       "      <td>3548</td>\n",
       "      <td>3643</td>\n",
       "      <td>3912</td>\n",
       "      <td>4126</td>\n",
       "      <td>4266</td>\n",
       "      <td>4561</td>\n",
       "      <td>4709</td>\n",
       "      <td>4819</td>\n",
       "      <td>4971</td>\n",
       "      <td>5224</td>\n",
       "      <td>5269</td>\n",
       "      <td>5365</td>\n",
       "    </tr>\n",
       "    <tr>\n",
       "      <th>1</th>\n",
       "      <td>..Accommodation and food and beverage</td>\n",
       "      <td>684</td>\n",
       "      <td>668</td>\n",
       "      <td>693</td>\n",
       "      <td>750</td>\n",
       "      <td>806</td>\n",
       "      <td>861</td>\n",
       "      <td>893</td>\n",
       "      <td>907</td>\n",
       "      <td>953</td>\n",
       "      <td>1017</td>\n",
       "      <td>1045</td>\n",
       "      <td>1116</td>\n",
       "      <td>1579</td>\n",
       "      <td>1601</td>\n",
       "      <td>1694</td>\n",
       "      <td>1743</td>\n",
       "      <td>1756</td>\n",
       "      <td>1740</td>\n",
       "      <td>1729</td>\n",
       "    </tr>\n",
       "    <tr>\n",
       "      <th>2</th>\n",
       "      <td>..Passenger transport</td>\n",
       "      <td>1085</td>\n",
       "      <td>1157</td>\n",
       "      <td>1181</td>\n",
       "      <td>1262</td>\n",
       "      <td>1326</td>\n",
       "      <td>1339</td>\n",
       "      <td>1533</td>\n",
       "      <td>1598</td>\n",
       "      <td>1593</td>\n",
       "      <td>1762</td>\n",
       "      <td>1902</td>\n",
       "      <td>1870</td>\n",
       "      <td>1675</td>\n",
       "      <td>1746</td>\n",
       "      <td>1713</td>\n",
       "      <td>1779</td>\n",
       "      <td>1927</td>\n",
       "      <td>1995</td>\n",
       "      <td>2048</td>\n",
       "    </tr>\n",
       "    <tr>\n",
       "      <th>3</th>\n",
       "      <td>..Travel Agents, tour operators and tourism gu...</td>\n",
       "      <td>115</td>\n",
       "      <td>124</td>\n",
       "      <td>126</td>\n",
       "      <td>127</td>\n",
       "      <td>137</td>\n",
       "      <td>142</td>\n",
       "      <td>23</td>\n",
       "      <td>26</td>\n",
       "      <td>26</td>\n",
       "      <td>26</td>\n",
       "      <td>26</td>\n",
       "      <td>30</td>\n",
       "      <td>26</td>\n",
       "      <td>29</td>\n",
       "      <td>30</td>\n",
       "      <td>26</td>\n",
       "      <td>33</td>\n",
       "      <td>35</td>\n",
       "      <td>38</td>\n",
       "    </tr>\n",
       "    <tr>\n",
       "      <th>4</th>\n",
       "      <td>..Recreation, entertainment and cultural services</td>\n",
       "      <td>240</td>\n",
       "      <td>245</td>\n",
       "      <td>250</td>\n",
       "      <td>265</td>\n",
       "      <td>278</td>\n",
       "      <td>258</td>\n",
       "      <td>233</td>\n",
       "      <td>241</td>\n",
       "      <td>280</td>\n",
       "      <td>279</td>\n",
       "      <td>279</td>\n",
       "      <td>328</td>\n",
       "      <td>338</td>\n",
       "      <td>343</td>\n",
       "      <td>349</td>\n",
       "      <td>349</td>\n",
       "      <td>368</td>\n",
       "      <td>325</td>\n",
       "      <td>370</td>\n",
       "    </tr>\n",
       "    <tr>\n",
       "      <th>5</th>\n",
       "      <td>..Retail trade on tourism-charactersitic goods</td>\n",
       "      <td>179</td>\n",
       "      <td>205</td>\n",
       "      <td>219</td>\n",
       "      <td>219</td>\n",
       "      <td>229</td>\n",
       "      <td>240</td>\n",
       "      <td>261</td>\n",
       "      <td>266</td>\n",
       "      <td>270</td>\n",
       "      <td>274</td>\n",
       "      <td>276</td>\n",
       "      <td>307</td>\n",
       "      <td>300</td>\n",
       "      <td>312</td>\n",
       "      <td>319</td>\n",
       "      <td>323</td>\n",
       "      <td>353</td>\n",
       "      <td>348</td>\n",
       "      <td>352</td>\n",
       "    </tr>\n",
       "    <tr>\n",
       "      <th>6</th>\n",
       "      <td>..Miscellaneous</td>\n",
       "      <td>336</td>\n",
       "      <td>325</td>\n",
       "      <td>330</td>\n",
       "      <td>318</td>\n",
       "      <td>301</td>\n",
       "      <td>297</td>\n",
       "      <td>507</td>\n",
       "      <td>510</td>\n",
       "      <td>521</td>\n",
       "      <td>554</td>\n",
       "      <td>598</td>\n",
       "      <td>615</td>\n",
       "      <td>643</td>\n",
       "      <td>678</td>\n",
       "      <td>714</td>\n",
       "      <td>751</td>\n",
       "      <td>787</td>\n",
       "      <td>826</td>\n",
       "      <td>829</td>\n",
       "    </tr>\n",
       "  </tbody>\n",
       "</table>\n",
       "</div>"
      ],
      "text/plain": [
       "                        Tourism consumption products  2000  2001  2002  2003  \\\n",
       "0                  Tourism characteristic industries  2639  2724  2799  2941   \n",
       "1              ..Accommodation and food and beverage   684   668   693   750   \n",
       "2                              ..Passenger transport  1085  1157  1181  1262   \n",
       "3  ..Travel Agents, tour operators and tourism gu...   115   124   126   127   \n",
       "4  ..Recreation, entertainment and cultural services   240   245   250   265   \n",
       "5     ..Retail trade on tourism-charactersitic goods   179   205   219   219   \n",
       "6                                    ..Miscellaneous   336   325   330   318   \n",
       "\n",
       "   2004  2005  2006  2007  2008  2009  2010  2011  2012  2013  2014  2015  \\\n",
       "0  3077  3137  3450  3548  3643  3912  4126  4266  4561  4709  4819  4971   \n",
       "1   806   861   893   907   953  1017  1045  1116  1579  1601  1694  1743   \n",
       "2  1326  1339  1533  1598  1593  1762  1902  1870  1675  1746  1713  1779   \n",
       "3   137   142    23    26    26    26    26    30    26    29    30    26   \n",
       "4   278   258   233   241   280   279   279   328   338   343   349   349   \n",
       "5   229   240   261   266   270   274   276   307   300   312   319   323   \n",
       "6   301   297   507   510   521   554   598   615   643   678   714   751   \n",
       "\n",
       "   2016  2017  2018  \n",
       "0  5224  5269  5365  \n",
       "1  1756  1740  1729  \n",
       "2  1927  1995  2048  \n",
       "3    33    35    38  \n",
       "4   368   325   370  \n",
       "5   353   348   352  \n",
       "6   787   826   829  "
      ]
     },
     "execution_count": 34,
     "metadata": {},
     "output_type": "execute_result"
    }
   ],
   "source": [
    "df"
   ]
  },
  {
   "cell_type": "code",
   "execution_count": 65,
   "metadata": {},
   "outputs": [],
   "source": [
    "detailed_df=df.loc[1:,:].copy()\n",
    "detailed_df.reset_index(inplace=True)"
   ]
  },
  {
   "cell_type": "code",
   "execution_count": 66,
   "metadata": {},
   "outputs": [
    {
     "data": {
      "text/plain": [
       "0                ..Accommodation and food and beverage\n",
       "1                                ..Passenger transport\n",
       "2    ..Travel Agents, tour operators and tourism gu...\n",
       "3    ..Recreation, entertainment and cultural services\n",
       "4       ..Retail trade on tourism-charactersitic goods\n",
       "5                                      ..Miscellaneous\n",
       "Name: Tourism consumption products, dtype: object"
      ]
     },
     "execution_count": 66,
     "metadata": {},
     "output_type": "execute_result"
    }
   ],
   "source": [
    "detailed_df.loc[:,\"Tourism consumption products\"]"
   ]
  },
  {
   "cell_type": "code",
   "execution_count": 67,
   "metadata": {},
   "outputs": [
    {
     "data": {
      "text/html": [
       "<div>\n",
       "<style scoped>\n",
       "    .dataframe tbody tr th:only-of-type {\n",
       "        vertical-align: middle;\n",
       "    }\n",
       "\n",
       "    .dataframe tbody tr th {\n",
       "        vertical-align: top;\n",
       "    }\n",
       "\n",
       "    .dataframe thead th {\n",
       "        text-align: right;\n",
       "    }\n",
       "</style>\n",
       "<table border=\"1\" class=\"dataframe\">\n",
       "  <thead>\n",
       "    <tr style=\"text-align: right;\">\n",
       "      <th></th>\n",
       "      <th>2000</th>\n",
       "      <th>2001</th>\n",
       "      <th>2002</th>\n",
       "      <th>2003</th>\n",
       "      <th>2004</th>\n",
       "      <th>2005</th>\n",
       "      <th>2006</th>\n",
       "      <th>2007</th>\n",
       "      <th>2008</th>\n",
       "      <th>2009</th>\n",
       "      <th>2010</th>\n",
       "      <th>2011</th>\n",
       "      <th>2012</th>\n",
       "      <th>2013</th>\n",
       "      <th>2014</th>\n",
       "      <th>2015</th>\n",
       "      <th>2016</th>\n",
       "      <th>2017</th>\n",
       "      <th>2018</th>\n",
       "    </tr>\n",
       "  </thead>\n",
       "  <tbody>\n",
       "    <tr>\n",
       "      <th>0</th>\n",
       "      <td>2639</td>\n",
       "      <td>2724</td>\n",
       "      <td>2799</td>\n",
       "      <td>2941</td>\n",
       "      <td>3077</td>\n",
       "      <td>3137</td>\n",
       "      <td>3450</td>\n",
       "      <td>3548</td>\n",
       "      <td>3643</td>\n",
       "      <td>3912</td>\n",
       "      <td>4126</td>\n",
       "      <td>4266</td>\n",
       "      <td>4561</td>\n",
       "      <td>4709</td>\n",
       "      <td>4819</td>\n",
       "      <td>4971</td>\n",
       "      <td>5224</td>\n",
       "      <td>5269</td>\n",
       "      <td>5366</td>\n",
       "    </tr>\n",
       "  </tbody>\n",
       "</table>\n",
       "</div>"
      ],
      "text/plain": [
       "   2000  2001  2002  2003  2004  2005  2006  2007  2008  2009  2010  2011  \\\n",
       "0  2639  2724  2799  2941  3077  3137  3450  3548  3643  3912  4126  4266   \n",
       "\n",
       "   2012  2013  2014  2015  2016  2017  2018  \n",
       "0  4561  4709  4819  4971  5224  5269  5366  "
      ]
     },
     "execution_count": 67,
     "metadata": {},
     "output_type": "execute_result"
    }
   ],
   "source": [
    "pd.DataFrame(detailed_df.loc[:,\"2000\":\"2018\"].sum()).transpose()"
   ]
  },
  {
   "cell_type": "code",
   "execution_count": 68,
   "metadata": {},
   "outputs": [
    {
     "data": {
      "text/plain": [
       "Index(['index', 'Tourism consumption products', '2000', '2001', '2002', '2003',\n",
       "       '2004', '2005', '2006', '2007', '2008', '2009', '2010', '2011', '2012',\n",
       "       '2013', '2014', '2015', '2016', '2017', '2018'],\n",
       "      dtype='object')"
      ]
     },
     "execution_count": 68,
     "metadata": {},
     "output_type": "execute_result"
    }
   ],
   "source": [
    "detailed_df.columns"
   ]
  },
  {
   "cell_type": "markdown",
   "metadata": {},
   "source": [
    "#### What questions would you might have about the dataset?\n",
    "\n",
    "(Class Exercise: List questions here)\n",
    "\n",
    "1)\n",
    "\n",
    "2)\n",
    "\n",
    "3)\n",
    "\n",
    "4)\n"
   ]
  },
  {
   "cell_type": "code",
   "execution_count": 72,
   "metadata": {},
   "outputs": [
    {
     "data": {
      "text/html": [
       "<div>\n",
       "<style scoped>\n",
       "    .dataframe tbody tr th:only-of-type {\n",
       "        vertical-align: middle;\n",
       "    }\n",
       "\n",
       "    .dataframe tbody tr th {\n",
       "        vertical-align: top;\n",
       "    }\n",
       "\n",
       "    .dataframe thead th {\n",
       "        text-align: right;\n",
       "    }\n",
       "</style>\n",
       "<table border=\"1\" class=\"dataframe\">\n",
       "  <thead>\n",
       "    <tr style=\"text-align: right;\">\n",
       "      <th></th>\n",
       "      <th>Tourism consumption products</th>\n",
       "      <th>2000</th>\n",
       "      <th>2001</th>\n",
       "      <th>2002</th>\n",
       "      <th>2003</th>\n",
       "      <th>2004</th>\n",
       "      <th>2005</th>\n",
       "      <th>2006</th>\n",
       "      <th>2007</th>\n",
       "      <th>2008</th>\n",
       "      <th>2009</th>\n",
       "      <th>2010</th>\n",
       "      <th>2011</th>\n",
       "      <th>2012</th>\n",
       "      <th>2013</th>\n",
       "      <th>2014</th>\n",
       "      <th>2015</th>\n",
       "      <th>2016</th>\n",
       "      <th>2017</th>\n",
       "      <th>2018</th>\n",
       "    </tr>\n",
       "  </thead>\n",
       "  <tbody>\n",
       "    <tr>\n",
       "      <th>0</th>\n",
       "      <td>..Accommodation and food and beverage</td>\n",
       "      <td>684</td>\n",
       "      <td>668</td>\n",
       "      <td>693</td>\n",
       "      <td>750</td>\n",
       "      <td>806</td>\n",
       "      <td>861</td>\n",
       "      <td>893</td>\n",
       "      <td>907</td>\n",
       "      <td>953</td>\n",
       "      <td>1017</td>\n",
       "      <td>1045</td>\n",
       "      <td>1116</td>\n",
       "      <td>1579</td>\n",
       "      <td>1601</td>\n",
       "      <td>1694</td>\n",
       "      <td>1743</td>\n",
       "      <td>1756</td>\n",
       "      <td>1740</td>\n",
       "      <td>1729</td>\n",
       "    </tr>\n",
       "    <tr>\n",
       "      <th>1</th>\n",
       "      <td>..Passenger transport</td>\n",
       "      <td>1085</td>\n",
       "      <td>1157</td>\n",
       "      <td>1181</td>\n",
       "      <td>1262</td>\n",
       "      <td>1326</td>\n",
       "      <td>1339</td>\n",
       "      <td>1533</td>\n",
       "      <td>1598</td>\n",
       "      <td>1593</td>\n",
       "      <td>1762</td>\n",
       "      <td>1902</td>\n",
       "      <td>1870</td>\n",
       "      <td>1675</td>\n",
       "      <td>1746</td>\n",
       "      <td>1713</td>\n",
       "      <td>1779</td>\n",
       "      <td>1927</td>\n",
       "      <td>1995</td>\n",
       "      <td>2048</td>\n",
       "    </tr>\n",
       "    <tr>\n",
       "      <th>2</th>\n",
       "      <td>..Travel Agents, tour operators and tourism gu...</td>\n",
       "      <td>115</td>\n",
       "      <td>124</td>\n",
       "      <td>126</td>\n",
       "      <td>127</td>\n",
       "      <td>137</td>\n",
       "      <td>142</td>\n",
       "      <td>23</td>\n",
       "      <td>26</td>\n",
       "      <td>26</td>\n",
       "      <td>26</td>\n",
       "      <td>26</td>\n",
       "      <td>30</td>\n",
       "      <td>26</td>\n",
       "      <td>29</td>\n",
       "      <td>30</td>\n",
       "      <td>26</td>\n",
       "      <td>33</td>\n",
       "      <td>35</td>\n",
       "      <td>38</td>\n",
       "    </tr>\n",
       "    <tr>\n",
       "      <th>3</th>\n",
       "      <td>..Recreation, entertainment and cultural services</td>\n",
       "      <td>240</td>\n",
       "      <td>245</td>\n",
       "      <td>250</td>\n",
       "      <td>265</td>\n",
       "      <td>278</td>\n",
       "      <td>258</td>\n",
       "      <td>233</td>\n",
       "      <td>241</td>\n",
       "      <td>280</td>\n",
       "      <td>279</td>\n",
       "      <td>279</td>\n",
       "      <td>328</td>\n",
       "      <td>338</td>\n",
       "      <td>343</td>\n",
       "      <td>349</td>\n",
       "      <td>349</td>\n",
       "      <td>368</td>\n",
       "      <td>325</td>\n",
       "      <td>370</td>\n",
       "    </tr>\n",
       "    <tr>\n",
       "      <th>4</th>\n",
       "      <td>..Retail trade on tourism-charactersitic goods</td>\n",
       "      <td>179</td>\n",
       "      <td>205</td>\n",
       "      <td>219</td>\n",
       "      <td>219</td>\n",
       "      <td>229</td>\n",
       "      <td>240</td>\n",
       "      <td>261</td>\n",
       "      <td>266</td>\n",
       "      <td>270</td>\n",
       "      <td>274</td>\n",
       "      <td>276</td>\n",
       "      <td>307</td>\n",
       "      <td>300</td>\n",
       "      <td>312</td>\n",
       "      <td>319</td>\n",
       "      <td>323</td>\n",
       "      <td>353</td>\n",
       "      <td>348</td>\n",
       "      <td>352</td>\n",
       "    </tr>\n",
       "    <tr>\n",
       "      <th>5</th>\n",
       "      <td>..Miscellaneous</td>\n",
       "      <td>336</td>\n",
       "      <td>325</td>\n",
       "      <td>330</td>\n",
       "      <td>318</td>\n",
       "      <td>301</td>\n",
       "      <td>297</td>\n",
       "      <td>507</td>\n",
       "      <td>510</td>\n",
       "      <td>521</td>\n",
       "      <td>554</td>\n",
       "      <td>598</td>\n",
       "      <td>615</td>\n",
       "      <td>643</td>\n",
       "      <td>678</td>\n",
       "      <td>714</td>\n",
       "      <td>751</td>\n",
       "      <td>787</td>\n",
       "      <td>826</td>\n",
       "      <td>829</td>\n",
       "    </tr>\n",
       "  </tbody>\n",
       "</table>\n",
       "</div>"
      ],
      "text/plain": [
       "                        Tourism consumption products  2000  2001  2002  2003  \\\n",
       "0              ..Accommodation and food and beverage   684   668   693   750   \n",
       "1                              ..Passenger transport  1085  1157  1181  1262   \n",
       "2  ..Travel Agents, tour operators and tourism gu...   115   124   126   127   \n",
       "3  ..Recreation, entertainment and cultural services   240   245   250   265   \n",
       "4     ..Retail trade on tourism-charactersitic goods   179   205   219   219   \n",
       "5                                    ..Miscellaneous   336   325   330   318   \n",
       "\n",
       "   2004  2005  2006  2007  2008  2009  2010  2011  2012  2013  2014  2015  \\\n",
       "0   806   861   893   907   953  1017  1045  1116  1579  1601  1694  1743   \n",
       "1  1326  1339  1533  1598  1593  1762  1902  1870  1675  1746  1713  1779   \n",
       "2   137   142    23    26    26    26    26    30    26    29    30    26   \n",
       "3   278   258   233   241   280   279   279   328   338   343   349   349   \n",
       "4   229   240   261   266   270   274   276   307   300   312   319   323   \n",
       "5   301   297   507   510   521   554   598   615   643   678   714   751   \n",
       "\n",
       "   2016  2017  2018  \n",
       "0  1756  1740  1729  \n",
       "1  1927  1995  2048  \n",
       "2    33    35    38  \n",
       "3   368   325   370  \n",
       "4   353   348   352  \n",
       "5   787   826   829  "
      ]
     },
     "execution_count": 72,
     "metadata": {},
     "output_type": "execute_result"
    }
   ],
   "source": [
    "detailed_df.loc[:,\"Tourism consumption products\":\"2018\"]"
   ]
  },
  {
   "cell_type": "code",
   "execution_count": 141,
   "metadata": {},
   "outputs": [],
   "source": [
    "detailed_df.loc[:,\"Tourism consumption products\"]=detailed_df.loc[:,\"Tourism consumption products\"].str.replace(r\"\\.\\.\",\"\",regex=True)"
   ]
  },
  {
   "cell_type": "code",
   "execution_count": 142,
   "metadata": {},
   "outputs": [
    {
     "data": {
      "text/html": [
       "<div>\n",
       "<style scoped>\n",
       "    .dataframe tbody tr th:only-of-type {\n",
       "        vertical-align: middle;\n",
       "    }\n",
       "\n",
       "    .dataframe tbody tr th {\n",
       "        vertical-align: top;\n",
       "    }\n",
       "\n",
       "    .dataframe thead th {\n",
       "        text-align: right;\n",
       "    }\n",
       "</style>\n",
       "<table border=\"1\" class=\"dataframe\">\n",
       "  <thead>\n",
       "    <tr style=\"text-align: right;\">\n",
       "      <th></th>\n",
       "      <th>index</th>\n",
       "      <th>Tourism consumption products</th>\n",
       "      <th>2000</th>\n",
       "      <th>2001</th>\n",
       "      <th>2002</th>\n",
       "      <th>2003</th>\n",
       "      <th>2004</th>\n",
       "      <th>2005</th>\n",
       "      <th>2006</th>\n",
       "      <th>2007</th>\n",
       "      <th>...</th>\n",
       "      <th>2009</th>\n",
       "      <th>2010</th>\n",
       "      <th>2011</th>\n",
       "      <th>2012</th>\n",
       "      <th>2013</th>\n",
       "      <th>2014</th>\n",
       "      <th>2015</th>\n",
       "      <th>2016</th>\n",
       "      <th>2017</th>\n",
       "      <th>2018</th>\n",
       "    </tr>\n",
       "  </thead>\n",
       "  <tbody>\n",
       "    <tr>\n",
       "      <th>0</th>\n",
       "      <td>1</td>\n",
       "      <td>Accommodation and food and beverage</td>\n",
       "      <td>684</td>\n",
       "      <td>668</td>\n",
       "      <td>693</td>\n",
       "      <td>750</td>\n",
       "      <td>806</td>\n",
       "      <td>861</td>\n",
       "      <td>893</td>\n",
       "      <td>907</td>\n",
       "      <td>...</td>\n",
       "      <td>1017</td>\n",
       "      <td>1045</td>\n",
       "      <td>1116</td>\n",
       "      <td>1579</td>\n",
       "      <td>1601</td>\n",
       "      <td>1694</td>\n",
       "      <td>1743</td>\n",
       "      <td>1756</td>\n",
       "      <td>1740</td>\n",
       "      <td>1729</td>\n",
       "    </tr>\n",
       "    <tr>\n",
       "      <th>1</th>\n",
       "      <td>2</td>\n",
       "      <td>Passenger transport</td>\n",
       "      <td>1085</td>\n",
       "      <td>1157</td>\n",
       "      <td>1181</td>\n",
       "      <td>1262</td>\n",
       "      <td>1326</td>\n",
       "      <td>1339</td>\n",
       "      <td>1533</td>\n",
       "      <td>1598</td>\n",
       "      <td>...</td>\n",
       "      <td>1762</td>\n",
       "      <td>1902</td>\n",
       "      <td>1870</td>\n",
       "      <td>1675</td>\n",
       "      <td>1746</td>\n",
       "      <td>1713</td>\n",
       "      <td>1779</td>\n",
       "      <td>1927</td>\n",
       "      <td>1995</td>\n",
       "      <td>2048</td>\n",
       "    </tr>\n",
       "    <tr>\n",
       "      <th>2</th>\n",
       "      <td>3</td>\n",
       "      <td>Travel Agents, tour operators and tourism guides</td>\n",
       "      <td>115</td>\n",
       "      <td>124</td>\n",
       "      <td>126</td>\n",
       "      <td>127</td>\n",
       "      <td>137</td>\n",
       "      <td>142</td>\n",
       "      <td>23</td>\n",
       "      <td>26</td>\n",
       "      <td>...</td>\n",
       "      <td>26</td>\n",
       "      <td>26</td>\n",
       "      <td>30</td>\n",
       "      <td>26</td>\n",
       "      <td>29</td>\n",
       "      <td>30</td>\n",
       "      <td>26</td>\n",
       "      <td>33</td>\n",
       "      <td>35</td>\n",
       "      <td>38</td>\n",
       "    </tr>\n",
       "    <tr>\n",
       "      <th>3</th>\n",
       "      <td>4</td>\n",
       "      <td>Recreation, entertainment and cultural services</td>\n",
       "      <td>240</td>\n",
       "      <td>245</td>\n",
       "      <td>250</td>\n",
       "      <td>265</td>\n",
       "      <td>278</td>\n",
       "      <td>258</td>\n",
       "      <td>233</td>\n",
       "      <td>241</td>\n",
       "      <td>...</td>\n",
       "      <td>279</td>\n",
       "      <td>279</td>\n",
       "      <td>328</td>\n",
       "      <td>338</td>\n",
       "      <td>343</td>\n",
       "      <td>349</td>\n",
       "      <td>349</td>\n",
       "      <td>368</td>\n",
       "      <td>325</td>\n",
       "      <td>370</td>\n",
       "    </tr>\n",
       "    <tr>\n",
       "      <th>4</th>\n",
       "      <td>5</td>\n",
       "      <td>Retail trade on tourism-charactersitic goods</td>\n",
       "      <td>179</td>\n",
       "      <td>205</td>\n",
       "      <td>219</td>\n",
       "      <td>219</td>\n",
       "      <td>229</td>\n",
       "      <td>240</td>\n",
       "      <td>261</td>\n",
       "      <td>266</td>\n",
       "      <td>...</td>\n",
       "      <td>274</td>\n",
       "      <td>276</td>\n",
       "      <td>307</td>\n",
       "      <td>300</td>\n",
       "      <td>312</td>\n",
       "      <td>319</td>\n",
       "      <td>323</td>\n",
       "      <td>353</td>\n",
       "      <td>348</td>\n",
       "      <td>352</td>\n",
       "    </tr>\n",
       "    <tr>\n",
       "      <th>5</th>\n",
       "      <td>6</td>\n",
       "      <td>Miscellaneous</td>\n",
       "      <td>336</td>\n",
       "      <td>325</td>\n",
       "      <td>330</td>\n",
       "      <td>318</td>\n",
       "      <td>301</td>\n",
       "      <td>297</td>\n",
       "      <td>507</td>\n",
       "      <td>510</td>\n",
       "      <td>...</td>\n",
       "      <td>554</td>\n",
       "      <td>598</td>\n",
       "      <td>615</td>\n",
       "      <td>643</td>\n",
       "      <td>678</td>\n",
       "      <td>714</td>\n",
       "      <td>751</td>\n",
       "      <td>787</td>\n",
       "      <td>826</td>\n",
       "      <td>829</td>\n",
       "    </tr>\n",
       "  </tbody>\n",
       "</table>\n",
       "<p>6 rows × 21 columns</p>\n",
       "</div>"
      ],
      "text/plain": [
       "   index                      Tourism consumption products  2000  2001  2002  \\\n",
       "0      1               Accommodation and food and beverage   684   668   693   \n",
       "1      2                               Passenger transport  1085  1157  1181   \n",
       "2      3  Travel Agents, tour operators and tourism guides   115   124   126   \n",
       "3      4   Recreation, entertainment and cultural services   240   245   250   \n",
       "4      5      Retail trade on tourism-charactersitic goods   179   205   219   \n",
       "5      6                                     Miscellaneous   336   325   330   \n",
       "\n",
       "   2003  2004  2005  2006  2007  ...  2009  2010  2011  2012  2013  2014  \\\n",
       "0   750   806   861   893   907  ...  1017  1045  1116  1579  1601  1694   \n",
       "1  1262  1326  1339  1533  1598  ...  1762  1902  1870  1675  1746  1713   \n",
       "2   127   137   142    23    26  ...    26    26    30    26    29    30   \n",
       "3   265   278   258   233   241  ...   279   279   328   338   343   349   \n",
       "4   219   229   240   261   266  ...   274   276   307   300   312   319   \n",
       "5   318   301   297   507   510  ...   554   598   615   643   678   714   \n",
       "\n",
       "   2015  2016  2017  2018  \n",
       "0  1743  1756  1740  1729  \n",
       "1  1779  1927  1995  2048  \n",
       "2    26    33    35    38  \n",
       "3   349   368   325   370  \n",
       "4   323   353   348   352  \n",
       "5   751   787   826   829  \n",
       "\n",
       "[6 rows x 21 columns]"
      ]
     },
     "execution_count": 142,
     "metadata": {},
     "output_type": "execute_result"
    }
   ],
   "source": [
    "detailed_df"
   ]
  },
  {
   "cell_type": "code",
   "execution_count": 143,
   "metadata": {},
   "outputs": [],
   "source": [
    "# convert to number\n",
    "detailed_df.loc[:,\"2000\":\"2018\"]=detailed_df.loc[:,\"2000\":\"2018\"].apply(pd.to_numeric)"
   ]
  },
  {
   "cell_type": "code",
   "execution_count": 144,
   "metadata": {},
   "outputs": [
    {
     "data": {
      "text/plain": [
       "Index(['Tourism consumption products', '2000', '2001', '2002', '2003', '2004',\n",
       "       '2005', '2006', '2007', '2008', '2009', '2010', '2011', '2012', '2013',\n",
       "       '2014', '2015', '2016', '2017', '2018'],\n",
       "      dtype='object')"
      ]
     },
     "execution_count": 144,
     "metadata": {},
     "output_type": "execute_result"
    }
   ],
   "source": [
    "detailed_df.columns[1:]"
   ]
  },
  {
   "cell_type": "code",
   "execution_count": 159,
   "metadata": {},
   "outputs": [
    {
     "data": {
      "text/html": [
       "<div>\n",
       "<style scoped>\n",
       "    .dataframe tbody tr th:only-of-type {\n",
       "        vertical-align: middle;\n",
       "    }\n",
       "\n",
       "    .dataframe tbody tr th {\n",
       "        vertical-align: top;\n",
       "    }\n",
       "\n",
       "    .dataframe thead th {\n",
       "        text-align: right;\n",
       "    }\n",
       "</style>\n",
       "<table border=\"1\" class=\"dataframe\">\n",
       "  <thead>\n",
       "    <tr style=\"text-align: right;\">\n",
       "      <th></th>\n",
       "      <th>index</th>\n",
       "      <th>Tourism consumption products</th>\n",
       "      <th>2000</th>\n",
       "      <th>2001</th>\n",
       "      <th>2002</th>\n",
       "      <th>2003</th>\n",
       "      <th>2004</th>\n",
       "      <th>2005</th>\n",
       "      <th>2006</th>\n",
       "      <th>2007</th>\n",
       "      <th>...</th>\n",
       "      <th>2009</th>\n",
       "      <th>2010</th>\n",
       "      <th>2011</th>\n",
       "      <th>2012</th>\n",
       "      <th>2013</th>\n",
       "      <th>2014</th>\n",
       "      <th>2015</th>\n",
       "      <th>2016</th>\n",
       "      <th>2017</th>\n",
       "      <th>2018</th>\n",
       "    </tr>\n",
       "  </thead>\n",
       "  <tbody>\n",
       "    <tr>\n",
       "      <th>1</th>\n",
       "      <td>2</td>\n",
       "      <td>Passenger transport</td>\n",
       "      <td>1085</td>\n",
       "      <td>1157</td>\n",
       "      <td>1181</td>\n",
       "      <td>1262</td>\n",
       "      <td>1326</td>\n",
       "      <td>1339</td>\n",
       "      <td>1533</td>\n",
       "      <td>1598</td>\n",
       "      <td>...</td>\n",
       "      <td>1762</td>\n",
       "      <td>1902</td>\n",
       "      <td>1870</td>\n",
       "      <td>1675</td>\n",
       "      <td>1746</td>\n",
       "      <td>1713</td>\n",
       "      <td>1779</td>\n",
       "      <td>1927</td>\n",
       "      <td>1995</td>\n",
       "      <td>2048</td>\n",
       "    </tr>\n",
       "    <tr>\n",
       "      <th>0</th>\n",
       "      <td>1</td>\n",
       "      <td>Accommodation and food and beverage</td>\n",
       "      <td>684</td>\n",
       "      <td>668</td>\n",
       "      <td>693</td>\n",
       "      <td>750</td>\n",
       "      <td>806</td>\n",
       "      <td>861</td>\n",
       "      <td>893</td>\n",
       "      <td>907</td>\n",
       "      <td>...</td>\n",
       "      <td>1017</td>\n",
       "      <td>1045</td>\n",
       "      <td>1116</td>\n",
       "      <td>1579</td>\n",
       "      <td>1601</td>\n",
       "      <td>1694</td>\n",
       "      <td>1743</td>\n",
       "      <td>1756</td>\n",
       "      <td>1740</td>\n",
       "      <td>1729</td>\n",
       "    </tr>\n",
       "    <tr>\n",
       "      <th>5</th>\n",
       "      <td>6</td>\n",
       "      <td>Miscellaneous</td>\n",
       "      <td>336</td>\n",
       "      <td>325</td>\n",
       "      <td>330</td>\n",
       "      <td>318</td>\n",
       "      <td>301</td>\n",
       "      <td>297</td>\n",
       "      <td>507</td>\n",
       "      <td>510</td>\n",
       "      <td>...</td>\n",
       "      <td>554</td>\n",
       "      <td>598</td>\n",
       "      <td>615</td>\n",
       "      <td>643</td>\n",
       "      <td>678</td>\n",
       "      <td>714</td>\n",
       "      <td>751</td>\n",
       "      <td>787</td>\n",
       "      <td>826</td>\n",
       "      <td>829</td>\n",
       "    </tr>\n",
       "    <tr>\n",
       "      <th>3</th>\n",
       "      <td>4</td>\n",
       "      <td>Recreation, entertainment and cultural services</td>\n",
       "      <td>240</td>\n",
       "      <td>245</td>\n",
       "      <td>250</td>\n",
       "      <td>265</td>\n",
       "      <td>278</td>\n",
       "      <td>258</td>\n",
       "      <td>233</td>\n",
       "      <td>241</td>\n",
       "      <td>...</td>\n",
       "      <td>279</td>\n",
       "      <td>279</td>\n",
       "      <td>328</td>\n",
       "      <td>338</td>\n",
       "      <td>343</td>\n",
       "      <td>349</td>\n",
       "      <td>349</td>\n",
       "      <td>368</td>\n",
       "      <td>325</td>\n",
       "      <td>370</td>\n",
       "    </tr>\n",
       "    <tr>\n",
       "      <th>4</th>\n",
       "      <td>5</td>\n",
       "      <td>Retail trade on tourism-charactersitic goods</td>\n",
       "      <td>179</td>\n",
       "      <td>205</td>\n",
       "      <td>219</td>\n",
       "      <td>219</td>\n",
       "      <td>229</td>\n",
       "      <td>240</td>\n",
       "      <td>261</td>\n",
       "      <td>266</td>\n",
       "      <td>...</td>\n",
       "      <td>274</td>\n",
       "      <td>276</td>\n",
       "      <td>307</td>\n",
       "      <td>300</td>\n",
       "      <td>312</td>\n",
       "      <td>319</td>\n",
       "      <td>323</td>\n",
       "      <td>353</td>\n",
       "      <td>348</td>\n",
       "      <td>352</td>\n",
       "    </tr>\n",
       "    <tr>\n",
       "      <th>2</th>\n",
       "      <td>3</td>\n",
       "      <td>Travel Agents, tour operators and tourism guides</td>\n",
       "      <td>115</td>\n",
       "      <td>124</td>\n",
       "      <td>126</td>\n",
       "      <td>127</td>\n",
       "      <td>137</td>\n",
       "      <td>142</td>\n",
       "      <td>23</td>\n",
       "      <td>26</td>\n",
       "      <td>...</td>\n",
       "      <td>26</td>\n",
       "      <td>26</td>\n",
       "      <td>30</td>\n",
       "      <td>26</td>\n",
       "      <td>29</td>\n",
       "      <td>30</td>\n",
       "      <td>26</td>\n",
       "      <td>33</td>\n",
       "      <td>35</td>\n",
       "      <td>38</td>\n",
       "    </tr>\n",
       "  </tbody>\n",
       "</table>\n",
       "<p>6 rows × 21 columns</p>\n",
       "</div>"
      ],
      "text/plain": [
       "   index                      Tourism consumption products  2000  2001  2002  \\\n",
       "1      2                               Passenger transport  1085  1157  1181   \n",
       "0      1               Accommodation and food and beverage   684   668   693   \n",
       "5      6                                     Miscellaneous   336   325   330   \n",
       "3      4   Recreation, entertainment and cultural services   240   245   250   \n",
       "4      5      Retail trade on tourism-charactersitic goods   179   205   219   \n",
       "2      3  Travel Agents, tour operators and tourism guides   115   124   126   \n",
       "\n",
       "   2003  2004  2005  2006  2007  ...  2009  2010  2011  2012  2013  2014  \\\n",
       "1  1262  1326  1339  1533  1598  ...  1762  1902  1870  1675  1746  1713   \n",
       "0   750   806   861   893   907  ...  1017  1045  1116  1579  1601  1694   \n",
       "5   318   301   297   507   510  ...   554   598   615   643   678   714   \n",
       "3   265   278   258   233   241  ...   279   279   328   338   343   349   \n",
       "4   219   229   240   261   266  ...   274   276   307   300   312   319   \n",
       "2   127   137   142    23    26  ...    26    26    30    26    29    30   \n",
       "\n",
       "   2015  2016  2017  2018  \n",
       "1  1779  1927  1995  2048  \n",
       "0  1743  1756  1740  1729  \n",
       "5   751   787   826   829  \n",
       "3   349   368   325   370  \n",
       "4   323   353   348   352  \n",
       "2    26    33    35    38  \n",
       "\n",
       "[6 rows x 21 columns]"
      ]
     },
     "execution_count": 159,
     "metadata": {},
     "output_type": "execute_result"
    }
   ],
   "source": [
    "# sort\n",
    "detailed_df.sort_values(by=['2018'],ascending=False)"
   ]
  },
  {
   "cell_type": "code",
   "execution_count": 162,
   "metadata": {},
   "outputs": [
    {
     "data": {
      "image/png": "[encoded data removed]",
      "text/plain": [
       "<Figure size 432x288 with 1 Axes>"
      ]
     },
     "metadata": {
      "needs_background": "light"
     },
     "output_type": "display_data"
    }
   ],
   "source": [
    "import matplotlib.pyplot as plt\n",
    "\n",
    "# don't be afraid to copy and paste from past work\n",
    "fig, ax = plt.subplots(1)\n",
    "\n",
    "title_font = {\"fontfamily\":\"Lato\", \"fontsize\":24}\n",
    "label_font = {\"fontfamily\":\"Lato\", \"fontsize\":12}\n",
    "\n",
    "ax.set_title(\"Tourism Consumption Products (2018)\", **title_font)\n",
    "ax.bar(height=detailed_df.sort_values(by=['2018'],ascending=False).loc[:,\"2018\"], x=detailed_df.sort_values(by=['2018'],ascending=False).loc[:,\"Tourism consumption products\"], color=\"Green\")\n",
    "ax.set_ylabel(\"Spending (in Millions of PHP)\", **label_font)\n",
    "ax.set_xlabel(\"Product\", **label_font)\n",
    "\n",
    "for tick in ax.get_xticklabels():\n",
    "    tick.set_rotation(90)\n",
    "\n"
   ]
  },
  {
   "cell_type": "code",
   "execution_count": null,
   "metadata": {},
   "outputs": [],
   "source": [
    "### More "
   ]
  },
  {
   "cell_type": "markdown",
   "metadata": {},
   "source": [
    "### Network Analysis"
   ]
  },
  {
   "cell_type": "code",
   "execution_count": 113,
   "metadata": {},
   "outputs": [],
   "source": [
    "import networkx as nx"
   ]
  },
  {
   "cell_type": "code",
   "execution_count": 114,
   "metadata": {},
   "outputs": [],
   "source": [
    "G=nx.Graph()"
   ]
  },
  {
   "cell_type": "code",
   "execution_count": 115,
   "metadata": {},
   "outputs": [
    {
     "data": {
      "text/plain": [
       "<networkx.classes.graph.Graph at 0x1141afc18>"
      ]
     },
     "execution_count": 115,
     "metadata": {},
     "output_type": "execute_result"
    }
   ],
   "source": [
    "G"
   ]
  },
  {
   "cell_type": "code",
   "execution_count": 116,
   "metadata": {},
   "outputs": [],
   "source": [
    "G.add_node(\"@jobenilagan\")"
   ]
  },
  {
   "cell_type": "code",
   "execution_count": 117,
   "metadata": {},
   "outputs": [],
   "source": [
    "G.add_nodes_from([\"@joeilagan\",\"@eeebieee\"])"
   ]
  },
  {
   "cell_type": "code",
   "execution_count": 118,
   "metadata": {},
   "outputs": [],
   "source": [
    "G.add_node(\"@chums\")"
   ]
  },
  {
   "cell_type": "code",
   "execution_count": 119,
   "metadata": {},
   "outputs": [
    {
     "data": {
      "text/plain": [
       "<networkx.classes.graph.Graph at 0x1141afc18>"
      ]
     },
     "execution_count": 119,
     "metadata": {},
     "output_type": "execute_result"
    }
   ],
   "source": [
    "G"
   ]
  },
  {
   "cell_type": "markdown",
   "metadata": {},
   "source": [
    "#### Add edges"
   ]
  },
  {
   "cell_type": "code",
   "execution_count": 120,
   "metadata": {},
   "outputs": [],
   "source": [
    "G.add_edge(\"@jobenilagan\",\"@joeilagan\",reltype=\"follower\")"
   ]
  },
  {
   "cell_type": "code",
   "execution_count": 121,
   "metadata": {},
   "outputs": [],
   "source": [
    "e=(\"@jobenilagan\",\"@eeebieee\")\n",
    "G.add_edge(*e,reltype=\"follower\")"
   ]
  },
  {
   "cell_type": "code",
   "execution_count": 122,
   "metadata": {},
   "outputs": [],
   "source": [
    "G.add_edges_from([(\"@chums\",\"@jobenilagan\"),(\"@joeilagan\",\"@jobenilagan\")])"
   ]
  },
  {
   "cell_type": "markdown",
   "metadata": {},
   "source": [
    "#### Graph Statistics"
   ]
  },
  {
   "cell_type": "code",
   "execution_count": 123,
   "metadata": {},
   "outputs": [
    {
     "data": {
      "text/plain": [
       "4"
      ]
     },
     "execution_count": 123,
     "metadata": {},
     "output_type": "execute_result"
    }
   ],
   "source": [
    "G.number_of_nodes()"
   ]
  },
  {
   "cell_type": "code",
   "execution_count": 124,
   "metadata": {},
   "outputs": [
    {
     "data": {
      "text/plain": [
       "3"
      ]
     },
     "execution_count": 124,
     "metadata": {},
     "output_type": "execute_result"
    }
   ],
   "source": [
    "G.number_of_edges()"
   ]
  },
  {
   "cell_type": "code",
   "execution_count": 125,
   "metadata": {},
   "outputs": [
    {
     "data": {
      "text/plain": [
       "NodeView(('@jobenilagan', '@joeilagan', '@eeebieee', '@chums'))"
      ]
     },
     "execution_count": 125,
     "metadata": {},
     "output_type": "execute_result"
    }
   ],
   "source": [
    "G.nodes()"
   ]
  },
  {
   "cell_type": "code",
   "execution_count": 126,
   "metadata": {},
   "outputs": [
    {
     "data": {
      "text/plain": [
       "['@jobenilagan', '@joeilagan', '@eeebieee', '@chums']"
      ]
     },
     "execution_count": 126,
     "metadata": {},
     "output_type": "execute_result"
    }
   ],
   "source": [
    "[n for n in G.nodes()]"
   ]
  },
  {
   "cell_type": "code",
   "execution_count": 127,
   "metadata": {},
   "outputs": [],
   "source": [
    "G.nodes[\"@jobenilagan\"][\"profile\"]={\"name\":\"Joben Ilagan\",\"course\":\"BSME\"}\n",
    "G.nodes[\"@chums\"][\"profile\"]={\"name\":\"Matthew Uy\",\"course\":\"BSME\"}\n",
    "G.nodes[\"@joeilagan\"][\"profile\"]={\"name\":\"Joe Ilagan\",\"course\":\"BSME\"}\n",
    "G.nodes[\"@eeebieee\"][\"profile\"]={\"name\":\"Elizabeth Ilagan\",\"course\":\"BSCMT\"}"
   ]
  },
  {
   "cell_type": "code",
   "execution_count": 128,
   "metadata": {},
   "outputs": [
    {
     "data": {
      "text/plain": [
       "{'@jobenilagan': {'name': 'Joben Ilagan', 'course': 'BSME'},\n",
       " '@joeilagan': {'name': 'Joe Ilagan', 'course': 'BSME'},\n",
       " '@eeebieee': {'name': 'Elizabeth Ilagan', 'course': 'BSCMT'},\n",
       " '@chums': {'name': 'Matthew Uy', 'course': 'BSME'}}"
      ]
     },
     "execution_count": 128,
     "metadata": {},
     "output_type": "execute_result"
    }
   ],
   "source": [
    "nx.get_node_attributes(G,'profile')"
   ]
  },
  {
   "cell_type": "code",
   "execution_count": 129,
   "metadata": {},
   "outputs": [
    {
     "data": {
      "text/plain": [
       "'Joben Ilagan'"
      ]
     },
     "execution_count": 129,
     "metadata": {},
     "output_type": "execute_result"
    }
   ],
   "source": [
    "nx.get_node_attributes(G,'profile')[\"@jobenilagan\"][\"name\"]"
   ]
  },
  {
   "cell_type": "code",
   "execution_count": 130,
   "metadata": {},
   "outputs": [
    {
     "data": {
      "text/plain": [
       "[('@jobenilagan', '@joeilagan'),\n",
       " ('@jobenilagan', '@eeebieee'),\n",
       " ('@jobenilagan', '@chums')]"
      ]
     },
     "execution_count": 130,
     "metadata": {},
     "output_type": "execute_result"
    }
   ],
   "source": [
    "[e for e in G.edges()]"
   ]
  },
  {
   "cell_type": "code",
   "execution_count": 131,
   "metadata": {},
   "outputs": [
    {
     "data": {
      "text/plain": [
       "EdgeView([('@jobenilagan', '@joeilagan'), ('@jobenilagan', '@eeebieee'), ('@jobenilagan', '@chums')])"
      ]
     },
     "execution_count": 131,
     "metadata": {},
     "output_type": "execute_result"
    }
   ],
   "source": [
    "G.edges()"
   ]
  },
  {
   "cell_type": "code",
   "execution_count": 132,
   "metadata": {},
   "outputs": [
    {
     "data": {
      "text/plain": [
       "{('@jobenilagan', '@joeilagan'): 'follower',\n",
       " ('@jobenilagan', '@eeebieee'): 'follower'}"
      ]
     },
     "execution_count": 132,
     "metadata": {},
     "output_type": "execute_result"
    }
   ],
   "source": [
    "nx.get_edge_attributes(G,'reltype')"
   ]
  },
  {
   "cell_type": "markdown",
   "metadata": {},
   "source": [
    "#### Adding attributes"
   ]
  },
  {
   "cell_type": "markdown",
   "metadata": {},
   "source": [
    "### Drawing Graphs"
   ]
  },
  {
   "cell_type": "code",
   "execution_count": 133,
   "metadata": {},
   "outputs": [],
   "source": [
    "import matplotlib.pyplot as plt"
   ]
  },
  {
   "cell_type": "code",
   "execution_count": 134,
   "metadata": {},
   "outputs": [
    {
     "name": "stderr",
     "output_type": "stream",
     "text": [
      "/anaconda3/lib/python3.7/site-packages/networkx/drawing/nx_pylab.py:611: MatplotlibDeprecationWarning: isinstance(..., numbers.Number)\n",
      "  if cb.is_numlike(alpha):\n"
     ]
    },
    {
     "data": {
      "image/png": "[encoded data removed]",
      "text/plain": [
       "<Figure size 432x288 with 1 Axes>"
      ]
     },
     "metadata": {},
     "output_type": "display_data"
    }
   ],
   "source": [
    "nx.draw(G)"
   ]
  },
  {
   "cell_type": "code",
   "execution_count": 135,
   "metadata": {},
   "outputs": [],
   "source": [
    " plt.show()"
   ]
  },
  {
   "cell_type": "markdown",
   "metadata": {},
   "source": [
    "### Exercise: Load the whole class to the graph\n"
   ]
  },
  {
   "cell_type": "code",
   "execution_count": null,
   "metadata": {},
   "outputs": [],
   "source": []
  }
 ],
 "metadata": {
  "kernelspec": {
   "display_name": "Python 3",
   "language": "python",
   "name": "python3"
  },
  "language_info": {
   "codemirror_mode": {
    "name": "ipython",
    "version": 3
   },
   "file_extension": ".py",
   "mimetype": "text/x-python",
   "name": "python",
   "nbconvert_exporter": "python",
   "pygments_lexer": "ipython3",
   "version": "3.7.3"
  }
 },
 "nbformat": 4,
 "nbformat_minor": 2
}
