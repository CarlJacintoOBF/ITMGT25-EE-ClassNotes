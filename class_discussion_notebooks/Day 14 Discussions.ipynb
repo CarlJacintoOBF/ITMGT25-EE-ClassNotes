{
 "cells": [
  {
   "cell_type": "markdown",
   "metadata": {},
   "source": [
    "## Announcements\n",
    "\n",
    "Day 14 will be a free cut. Instead, please go through the cells below as these will be important as we go through the remaining topics in this course.\n"
   ]
  },
  {
   "cell_type": "markdown",
   "metadata": {},
   "source": [
    "## Software Design Patterns"
   ]
  },
  {
   "cell_type": "markdown",
   "metadata": {},
   "source": [
    "Source: [Wikipedia](https://www.tutorialspoint.com/python_design_patterns/python_design_patterns_adapter.htm)\n",
    "    \n",
    "In software engineering, a software design pattern is a general, reusable solution to a commonly occurring problem within a given context in software design. It is not a finished design that can be transformed directly into source or machine code. It is a description or template for how to solve a problem that can be used in many different situations. Design patterns are formalized best practices that the programmer can use to solve common problems when designing an application or system.\n",
    "\n",
    "Object-oriented design patterns typically show relationships and interactions between classes or objects, without specifying the final application classes or objects that are involved. Patterns that imply mutable state may be unsuited for functional programming languages, some patterns can be rendered unnecessary in languages that have built-in support for solving the problem they are trying to solve, and object-oriented patterns are not necessarily suitable for non-object-oriented languages.\n",
    "\n",
    "Design patterns may be viewed as a structured approach to computer programming intermediate between the levels of a programming paradigm and a concrete algorithm."
   ]
  },
  {
   "cell_type": "markdown",
   "metadata": {},
   "source": [
    "Structure of a **design pattern**:\n",
    "\n",
    "* Pattern Name\n",
    "* Intent/Motive\n",
    "* Applicability\n",
    "* Participants and Consequences\n",
    "\n",
    "For Python, we need to include:\n",
    "* Aliases\n",
    "* Motivation\n",
    "* Constraints\n",
    "* Sample Code"
   ]
  },
  {
   "cell_type": "markdown",
   "metadata": {},
   "source": [
    "### Benefits of using patterns\n",
    "\n",
    "* Patterns provide developer a selection of tried and tested solutions for the specified problems.\n",
    "* All design patterns are language neutral.\n",
    "* Patterns help to achieve communication and maintain well documentation.\n",
    "* It includes a record of accomplishment to reduce any technical risk to the project.\n",
    "* Design patterns are highly flexible to use and easy to understand."
   ]
  },
  {
   "cell_type": "markdown",
   "metadata": {},
   "source": [
    "### Patterns which may be covered in this class (ones in bold are illustrated in this notebook):\n",
    "* Model View Controller Pattern\n",
    "* Singleton pattern\n",
    "* Factory pattern\n",
    "* Builder Pattern\n",
    "* Prototype Pattern\n",
    "* Facade Pattern\n",
    "* Command Pattern\n",
    "* **Adapter Pattern** \n",
    "* Prototype Pattern\n",
    "* Decorator Pattern\n",
    "* **Proxy Pattern**\n",
    "* Chain of Responsibility Pattern\n",
    "* Observer Pattern\n",
    "* State Pattern\n",
    "* Strategy Pattern\n",
    "* Template Pattern\n",
    "* Flyweight Pattern\n",
    "* Abstract Factory Pattern\n",
    "* Object Oriented Pattern"
   ]
  },
  {
   "cell_type": "markdown",
   "metadata": {},
   "source": [
    "### Adapter Pattern\n",
    "\n",
    "(source: [Wikipedia](https://www.google.com/search?q=adapter+pattern&rlz=1C5CHFA_enPH504PH504&oq=Adapter+pattern&aqs=chrome.0.0l2j69i60j0l3.2925j0j1&sourceid=chrome&ie=UTF-8))\n",
    "\n",
    "In software engineering, the adapter pattern is a software design pattern (also known as wrapper, an alternative naming shared with the decorator pattern) that allows the interface of an existing class to be used as another interface.\n",
    "\n",
    "The adapter design pattern solves problems like:\n",
    "\n",
    "* How can a class be reused that does not have an interface that a client requires?\n",
    "* How can classes that have incompatible interfaces work together?\n",
    "* How can an alternative interface be provided for a class?"
   ]
  },
  {
   "cell_type": "markdown",
   "metadata": {},
   "source": [
    "The adapter design pattern describes how to solve such problems:\n",
    "\n",
    "Define a separate adapter class that converts the (incompatible) interface of a class (adaptee) into another interface (target) clients require.\n",
    "Work through an adapter to work with (reuse) classes that do not have the required interface.\n",
    "The key idea in this pattern is to work through a separate adapter that adapts the interface of an (already existing) class without changing it.\n",
    "\n",
    "Clients don't know whether they work with a target class directly or through an adapter with a class that does not have the target interface.\n",
    "\n"
   ]
  },
  {
   "cell_type": "code",
   "execution_count": 2,
   "metadata": {},
   "outputs": [],
   "source": [
    "# provide sample code here\n",
    "\n",
    "# Say you want to have the flexibility of writing sales transactions as either CSV or JSON. \n",
    "# How would you go about it?\n",
    "\n",
    "import csv\n",
    "import json\n",
    "\n",
    "class SalesTransactionWriter():\n",
    "    def write(self,sales_order):\n",
    "        print(\"Sales order logged successfully.\")\n",
    "    \n",
    "class JSONSalesTransactionWriter(SalesTransactionWriter):\n",
    "    def write(self,sales_order):\n",
    "        \n",
    "        print(\"{}\".format(json.dumps(sales_order)))\n",
    "    \n",
    "class CSVSalesTransactionWriter(SalesTransactionWriter):\n",
    "    def write(self,sales_order):\n",
    "        print(\"{},{}\".format(sales_order[\"customer\"],sales_order[\"amount\"]))        \n",
    "        \n",
    "def log_sales_order(sales_order):\n",
    "    sales_logger = CSVSalesTransactionWriter()\n",
    "    sales_logger.write(sales_order)\n"
   ]
  },
  {
   "cell_type": "code",
   "execution_count": 5,
   "metadata": {},
   "outputs": [
    {
     "name": "stdout",
     "output_type": "stream",
     "text": [
      "Joe,150\n"
     ]
    }
   ],
   "source": [
    "# We will just print out results in this cell to simplify the illustration\n",
    "\n",
    "log_sales_order({\"customer\":\"Joe\",\"amount\":150})"
   ]
  },
  {
   "cell_type": "code",
   "execution_count": 6,
   "metadata": {},
   "outputs": [],
   "source": [
    "# Change the sales log implementation to JSON.\n",
    "# Likewise, we will just print out results to simplify the illustration\n",
    "\n",
    "def log_sales_order(sales_order):\n",
    "    sales_logger = JSONSalesTransactionWriter()\n",
    "    sales_logger.write(sales_order)"
   ]
  },
  {
   "cell_type": "code",
   "execution_count": 4,
   "metadata": {},
   "outputs": [
    {
     "name": "stdout",
     "output_type": "stream",
     "text": [
      "{\"customer\": \"Joe\", \"amount\": 150}\n"
     ]
    }
   ],
   "source": [
    "log_sales_order({\"customer\":\"Joe\",\"amount\":150})"
   ]
  },
  {
   "cell_type": "markdown",
   "metadata": {},
   "source": [
    "### Proxy Pattern\n",
    "\n",
    "(source: [Wikipedia](https://en.wikipedia.org/wiki/Proxy_pattern))\n",
    "\n",
    "In computer programming, the proxy pattern is a software design pattern. A proxy, in its most general form, is a class functioning as an interface to something else. The proxy could interface to anything: a network connection, a large object in memory, a file, or some other resource that is expensive or impossible to duplicate. In short, a proxy is a wrapper or agent object that is being called by the client to access the real serving object behind the scenes. Use of the proxy can simply be forwarding to the real object, or can provide additional logic. In the proxy, extra functionality can be provided, for example caching when operations on the real object are resource intensive, or checking preconditions before operations on the real object are invoked. For the client, usage of a proxy object is similar to using the real object, because both implement the same interface."
   ]
  },
  {
   "cell_type": "markdown",
   "metadata": {},
   "source": [
    "#### What problems do the Proxy Pattern solve?\n",
    "\n",
    "* The access to an object should be controlled.\n",
    "* Additional functionality should be provided when accessing an object.\n",
    "* When accessing sensitive objects, for example, it should be possible to check that clients have the needed access rights."
   ]
  },
  {
   "cell_type": "markdown",
   "metadata": {},
   "source": [
    "#### Oversimplified version of a financial services application"
   ]
  },
  {
   "cell_type": "code",
   "execution_count": 8,
   "metadata": {},
   "outputs": [
    {
     "name": "stdout",
     "output_type": "stream",
     "text": [
      "Before transfer: \n",
      "{'account': 'joben', 'balance': 100000, 'is_active': False}\n",
      "{'account': 'joe', 'balance': 5000, 'is_active': True}\n",
      "After transfer: \n",
      "{'account': 'joben', 'balance': 95000, 'is_active': False}\n",
      "{'account': 'joe', 'balance': 10000, 'is_active': True}\n"
     ]
    }
   ],
   "source": [
    "# provide sample code here\n",
    "\n",
    "joben_account = {\"account\":\"joben\",\"balance\":100000,\"is_active\":False}\n",
    "joe_account = {\"account\":\"joe\",\"balance\":5000,\"is_active\":True}\n",
    "\n",
    "print(\"Before transfer: \")\n",
    "print(joben_account)\n",
    "print(joe_account)\n",
    "\n",
    "def transfer_funds(source, destination, amount):\n",
    "    source[\"balance\"] -= amount\n",
    "    destination[\"balance\"] += amount\n",
    "    \n",
    "transfer_funds(joben_account, joe_account, 5000)\n",
    "\n",
    "print(\"After transfer: \")\n",
    "print(joben_account)\n",
    "print(joe_account)\n",
    "    "
   ]
  },
  {
   "cell_type": "markdown",
   "metadata": {},
   "source": [
    "But what if we need to check if an account is active (i.e. not suspended) before allowing the transaction to proceed?"
   ]
  },
  {
   "cell_type": "code",
   "execution_count": 6,
   "metadata": {},
   "outputs": [
    {
     "name": "stdout",
     "output_type": "stream",
     "text": [
      "Before transfer: \n",
      "{'account': 'joben', 'balance': 100000, 'is_active': False}\n",
      "{'account': 'joe', 'balance': 5000, 'is_active': True}\n",
      "Transaction Failed\n",
      "Reason: Source Account is not active.\n",
      "After transfer: \n",
      "{'account': 'joben', 'balance': 100000, 'is_active': False}\n",
      "{'account': 'joe', 'balance': 5000, 'is_active': True}\n"
     ]
    }
   ],
   "source": [
    "joben_account = {\"account\":\"joben\",\"balance\":100000,\"is_active\":False}\n",
    "joe_account = {\"account\":\"joe\",\"balance\":5000,\"is_active\":True}\n",
    "\n",
    "print(\"Before transfer: \")\n",
    "print(joben_account)\n",
    "print(joe_account)\n",
    "\n",
    "def transfer_funds(source, destination, amount):\n",
    "    # insert validation code here\n",
    "    if(source[\"is_active\"]):\n",
    "        source[\"balance\"] -= amount\n",
    "        destination[\"balance\"] += amount\n",
    "    else:\n",
    "        print(\"Transaction Failed\")\n",
    "        print(\"Reason: Source Account is not active.\")\n",
    "    \n",
    "transfer_funds(joben_account, joe_account, 1000)\n",
    "\n",
    "print(\"After transfer: \")\n",
    "print(joben_account)\n",
    "print(joe_account)"
   ]
  },
  {
   "cell_type": "markdown",
   "metadata": {},
   "source": [
    "The problem is we several more checks before allowing the transaction to proceed. Financial transactions of this nature are not as simple as adding and subtracting amounts:\n",
    "\n",
    "- Is the transaction valid?\n",
    "- Are the accounts active?\n",
    "- Does the sender have sufficient balance in the account?\n",
    "- Is the one performing the transaction--whether human or automated (ex ATM or mobile banking app) authorized?\n",
    "\n",
    "It will be very cumbersome to keep on changing the code of transfer_funds(...) each time.\n",
    "\n",
    "One solution is to implement a separate validator for transfering funds and validating transactions.\n",
    " "
   ]
  },
  {
   "cell_type": "code",
   "execution_count": 7,
   "metadata": {},
   "outputs": [
    {
     "name": "stdout",
     "output_type": "stream",
     "text": [
      "Before transfer: \n",
      "{'account': 'joben', 'balance': 100000, 'is_active': False}\n",
      "{'account': 'joe', 'balance': 5000, 'is_active': True}\n",
      "Source account is not valid.\n",
      "After transfer: \n",
      "{'account': 'joben', 'balance': 100000, 'is_active': False}\n",
      "{'account': 'joe', 'balance': 5000, 'is_active': True}\n"
     ]
    }
   ],
   "source": [
    "joben_account = {\"account\":\"joben\",\"balance\":100000,\"is_active\":False}\n",
    "joe_account = {\"account\":\"joe\",\"balance\":5000,\"is_active\":True}\n",
    "\n",
    "print(\"Before transfer: \")\n",
    "print(joben_account)\n",
    "print(joe_account)\n",
    "\n",
    "def transaction_validator(source, destination, amount):\n",
    "    validation_status = {\n",
    "        \"is_valid\": False,\n",
    "        \"reason\": \"\"\n",
    "    }\n",
    "\n",
    "    if(source[\"is_active\"]):\n",
    "        validation_status[\"is_valid\"] = True\n",
    "    else:\n",
    "        validation_status[\"is_valid\"] = False # redundant for sure, but placing here for readability\n",
    "        validation_status[\"reason\"] = \"Source account is not valid.\"\n",
    "    return validation_status\n",
    "    \n",
    "\n",
    "def transfer_funds(source, destination, amount):\n",
    "    validation_status = transaction_validator(source, destination, amount)\n",
    "    \n",
    "    if(validation_status[\"is_valid\"]):\n",
    "        source[\"balance\"] -= amount\n",
    "        destination[\"balance\"] += amount\n",
    "    else:\n",
    "        print(validation_status[\"reason\"])\n",
    "    \n",
    "transfer_funds(joben_account, joe_account, 1000)\n",
    "\n",
    "print(\"After transfer: \")\n",
    "print(joben_account)\n",
    "print(joe_account)"
   ]
  },
  {
   "cell_type": "markdown",
   "metadata": {},
   "source": [
    "Another solution is to implement the **Proxy** pattern to separate the concern of transfering funds and validating transactions.\n",
    " "
   ]
  },
  {
   "cell_type": "code",
   "execution_count": 8,
   "metadata": {},
   "outputs": [
    {
     "name": "stdout",
     "output_type": "stream",
     "text": [
      "Before transfer: \n",
      "{'account': 'joben', 'balance': 100000, 'is_active': False}\n",
      "{'account': 'joe', 'balance': 5000, 'is_active': True}\n",
      "Source account is not valid.\n",
      "After transfer: \n",
      "{'account': 'joben', 'balance': 100000, 'is_active': False}\n",
      "{'account': 'joe', 'balance': 5000, 'is_active': True}\n"
     ]
    }
   ],
   "source": [
    "joben_account = {\"account\":\"joben\",\"balance\":100000,\"is_active\":False}\n",
    "joe_account = {\"account\":\"joe\",\"balance\":5000,\"is_active\":True}\n",
    "\n",
    "print(\"Before transfer: \")\n",
    "print(joben_account)\n",
    "print(joe_account)\n",
    "\n",
    "def transaction_validator(source, destination, amount):\n",
    "    validation_status = {\n",
    "        \"is_valid\": False,\n",
    "        \"reason\": \"\"\n",
    "    }\n",
    "\n",
    "    if(source[\"is_active\"]):\n",
    "        validation_status[\"is_valid\"] = True\n",
    "    else:\n",
    "        validation_status[\"is_valid\"] = False # redundant for sure, but placing here for readability\n",
    "        validation_status[\"reason\"] = \"Source account is not valid.\"\n",
    "    return validation_status\n",
    "\n",
    "def transfer_funds_secure_proxy(source, destination, amount):\n",
    "    # call transaction_validator first\n",
    "    validation_status = transaction_validator(source, destination, amount)\n",
    "    if(validation_status[\"is_valid\"]):\n",
    "        # proceed with calling transfer_funds(...)\n",
    "        transfer_funds(source, destination, amount)\n",
    "    else:\n",
    "        print(validation_status[\"reason\"])\n",
    "    \n",
    "# this was our original, bare-bones transfer_funds(...) function implementation. short and sweet.    \n",
    "def transfer_funds(source, destination, amount):\n",
    "    source[\"balance\"] -= amount\n",
    "    destination[\"balance\"] += amount\n",
    "\n",
    "# Note that we are now calling the proxy, not the main transaction handler\n",
    "transfer_funds_secure_proxy(joben_account, joe_account, 1000)\n",
    "\n",
    "print(\"After transfer: \")\n",
    "print(joben_account)\n",
    "print(joe_account)"
   ]
  },
  {
   "cell_type": "markdown",
   "metadata": {},
   "source": [
    "#### What's the difference between Adapter and Proxy?\n",
    "\n",
    "The role of the adapter is to change the interface of its adaptee (i.e. adapt them to a new interface) whereas the role of a proxy is to provide the access to an object (which might be located on another system) without changing its interface."
   ]
  },
  {
   "cell_type": "markdown",
   "metadata": {},
   "source": [
    "### *End of patterns discussions for now*"
   ]
  },
  {
   "cell_type": "markdown",
   "metadata": {},
   "source": [
    "## Regular Expression (Regex)"
   ]
  },
  {
   "cell_type": "markdown",
   "metadata": {},
   "source": [
    "**Source:** [RegExOne](https://regexone.com/)\n",
    "\n",
    "Regular expressions are extremely useful in extracting information from text such as code, log files, spreadsheets, or even documents. And while there is a lot of theory behind formal languages, the following lessons and examples will explore the more practical uses of regular expressions so that you can use them as quickly as possible."
   ]
  },
  {
   "cell_type": "markdown",
   "metadata": {},
   "source": [
    "Best way to dive into **regex** is to go through examples."
   ]
  },
  {
   "cell_type": "code",
   "execution_count": 9,
   "metadata": {},
   "outputs": [],
   "source": [
    "import re"
   ]
  },
  {
   "cell_type": "code",
   "execution_count": 10,
   "metadata": {},
   "outputs": [
    {
     "data": {
      "text/plain": [
       "['THE', 'THE']"
      ]
     },
     "execution_count": 10,
     "metadata": {},
     "output_type": "execute_result"
    }
   ],
   "source": [
    "some_string = \"The quick brown fox jumps over the lazy dogs.\"\n",
    "\n",
    "re.findall(\"THE\",some_string.upper())"
   ]
  },
  {
   "cell_type": "code",
   "execution_count": 48,
   "metadata": {},
   "outputs": [
    {
     "name": "stdout",
     "output_type": "stream",
     "text": [
      "Match!\n"
     ]
    }
   ],
   "source": [
    "# next few examples courtesy of DataCamp\n",
    "pattern = r\"Cookie\" # raw string literal\n",
    "sequence = \"Cookie\"\n",
    "if re.match(pattern, sequence):\n",
    "  print(\"Match!\")\n",
    "else: print(\"Not a match!\")"
   ]
  },
  {
   "cell_type": "code",
   "execution_count": 52,
   "metadata": {},
   "outputs": [
    {
     "data": {
      "text/plain": [
       "'Cookie'"
      ]
     },
     "execution_count": 52,
     "metadata": {},
     "output_type": "execute_result"
    }
   ],
   "source": [
    "# Wildcard\n",
    "# . - A period. Matches any single character except newline character.\n",
    "re.search(r'Co.k.e', 'Cookie').group()\n",
    "\n",
    "# The group() function returns the string matched by the re."
   ]
  },
  {
   "cell_type": "code",
   "execution_count": 29,
   "metadata": {},
   "outputs": [
    {
     "name": "stdout",
     "output_type": "stream",
     "text": [
      "Cookie\n",
      "Cuckoo\n",
      "Cockro\n"
     ]
    }
   ],
   "source": [
    "pattern = r'C.....'\n",
    "print(re.search(pattern,\"Cookie\").group())\n",
    "print(re.search(pattern,\"Cuckoo\").group())\n",
    "print(re.search(pattern,\"Cockroach\").group())"
   ]
  },
  {
   "cell_type": "code",
   "execution_count": 55,
   "metadata": {},
   "outputs": [
    {
     "name": "stdout",
     "output_type": "stream",
     "text": [
      "Cookie\n",
      "None\n",
      "None\n"
     ]
    }
   ],
   "source": [
    "# \\w - Lowercase w. Matches any single letter, digit or underscore.\n",
    "pattern = r'Co\\wk\\we'\n",
    "print(re.search(pattern, 'Cookie').group())\n",
    "print(re.search(pattern, 'Coffee'))\n",
    "print(re.search(pattern, 'Co!kee'))"
   ]
  },
  {
   "cell_type": "code",
   "execution_count": 58,
   "metadata": {},
   "outputs": [
    {
     "name": "stdout",
     "output_type": "stream",
     "text": [
      "C*ke\n"
     ]
    }
   ],
   "source": [
    "# \\W - Uppercase w. Matches any character not part of \\w (lowercase w).\n",
    "pattern = r'C\\Wke'\n",
    "print(re.search(pattern, 'C*ke').group())"
   ]
  },
  {
   "cell_type": "code",
   "execution_count": 71,
   "metadata": {},
   "outputs": [
    {
     "name": "stdout",
     "output_type": "stream",
     "text": [
      "Eat cake\n",
      "M E \n"
     ]
    }
   ],
   "source": [
    "# \\s - Lowercase s. Matches a single whitespace character like: space, newline, tab, return.\n",
    "print(re.search(r'Eat\\scake', 'Eat cake').group())\n",
    "print(re.search(r'M\\sE\\s', 'M E ').group())"
   ]
  },
  {
   "cell_type": "code",
   "execution_count": 17,
   "metadata": {},
   "outputs": [
    {
     "name": "stdout",
     "output_type": "stream",
     "text": [
      "Eats,shoots and leaves\n"
     ]
    }
   ],
   "source": [
    "# \\S - Uppercase s. Matches any character not part of \\s (lowercase s).\n",
    "print(re.search(r'Eats\\Sshoots\\sand\\sleaves', 'Eats,shoots and leaves').group())"
   ]
  },
  {
   "cell_type": "code",
   "execution_count": 18,
   "metadata": {},
   "outputs": [
    {
     "data": {
      "text/plain": [
       "'c00kie'"
      ]
     },
     "execution_count": 18,
     "metadata": {},
     "output_type": "execute_result"
    }
   ],
   "source": [
    "#\\n - Lowercase n. Matches newline.\n",
    "#\n",
    "#\\r - Lowercase r. Matches return.\n",
    "#\n",
    "#\\d - Lowercase d. Matches decimal digit 0-9.\n",
    "\n",
    "re.search(r'c\\d\\dkie', 'c00kie').group()"
   ]
  },
  {
   "cell_type": "code",
   "execution_count": 74,
   "metadata": {},
   "outputs": [
    {
     "data": {
      "text/plain": [
       "'Eat'"
      ]
     },
     "execution_count": 74,
     "metadata": {},
     "output_type": "execute_result"
    }
   ],
   "source": [
    "# ^ - Caret. Matches a pattern at the start of the string.\n",
    "re.search(r'^Eat', 'Eat cake').group()"
   ]
  },
  {
   "cell_type": "code",
   "execution_count": 78,
   "metadata": {},
   "outputs": [
    {
     "data": {
      "text/plain": [
       "'cake'"
      ]
     },
     "execution_count": 78,
     "metadata": {},
     "output_type": "execute_result"
    }
   ],
   "source": [
    "# $ - Matches a pattern at the end of string.\n",
    "re.search(r'cake$', 'Throw cake').group()"
   ]
  },
  {
   "cell_type": "code",
   "execution_count": 85,
   "metadata": {},
   "outputs": [
    {
     "data": {
      "text/plain": [
       "'9'"
      ]
     },
     "execution_count": 85,
     "metadata": {},
     "output_type": "execute_result"
    }
   ],
   "source": [
    "re.search(r'\\d$' ,'my mobile number is 0917-9999999').group()"
   ]
  },
  {
   "cell_type": "code",
   "execution_count": 90,
   "metadata": {},
   "outputs": [
    {
     "data": {
      "text/plain": [
       "'Number: 6'"
      ]
     },
     "execution_count": 90,
     "metadata": {},
     "output_type": "execute_result"
    }
   ],
   "source": [
    "# [abc] - Matches a or b or c.\n",
    "# [12] - Matches 1 or 2\n",
    "#\n",
    "# [a-zA-Z0-9] - Matches any letter from (a to z) or (A to Z) or (0 to 9). \n",
    "# Characters that are not within a range can be matched by complementing the set. \n",
    "# If the first character of the set is ^, all the characters that are not in the set will be matched.\n",
    "re.search(r'Number: [0-6]', 'Number: 6').group()\n"
   ]
  },
  {
   "cell_type": "code",
   "execution_count": 103,
   "metadata": {},
   "outputs": [
    {
     "data": {
      "text/plain": [
       "'0998 9999999'"
      ]
     },
     "execution_count": 103,
     "metadata": {},
     "output_type": "execute_result"
    }
   ],
   "source": [
    "re.search(r'^09[129][78][-* ]9999999', '0998 9999999').group()"
   ]
  },
  {
   "cell_type": "code",
   "execution_count": 108,
   "metadata": {},
   "outputs": [
    {
     "name": "stdout",
     "output_type": "stream",
     "text": [
      "Cookie\n",
      "Bookie\n",
      "cookie\n",
      "Zookie\n"
     ]
    }
   ],
   "source": [
    "# \\A - Uppercase a. Matches only at the start of the string. Works across multiple lines as well.\n",
    "pattern = r'\\A[A-Za-e]ookie'\n",
    "\n",
    "print(re.search(pattern, 'Cookie').group())\n",
    "print(re.search(pattern, 'Bookie').group())\n",
    "print(re.search(pattern, 'cookie').group())\n",
    "print(re.search(pattern, 'Zookie').group())"
   ]
  },
  {
   "cell_type": "code",
   "execution_count": null,
   "metadata": {},
   "outputs": [],
   "source": []
  },
  {
   "cell_type": "code",
   "execution_count": 117,
   "metadata": {},
   "outputs": [
    {
     "data": {
      "text/plain": [
       "'bookie'"
      ]
     },
     "execution_count": 117,
     "metadata": {},
     "output_type": "execute_result"
    }
   ],
   "source": [
    "# \\b - Lowercase b. Matches only the beginning or end of the word.\n",
    "\n",
    "re.search(r'\\b[A-Ka-c]ookie', 'bookie').group()"
   ]
  },
  {
   "cell_type": "code",
   "execution_count": 119,
   "metadata": {},
   "outputs": [
    {
     "name": "stdout",
     "output_type": "stream",
     "text": [
      "['123', '123']\n",
      "['abc']\n",
      "['abc123']\n",
      "[]\n",
      "['a', 'b', 'c', 'a', 'n', 'o', 't', 'h', 'e', 'r']\n",
      "['1', '2', '3', '1', '2', '3']\n"
     ]
    }
   ],
   "source": [
    "# Warm-up\n",
    "\n",
    "some_string_2 = \"abc123 another123\"\n",
    "\n",
    "print(re.findall(\"123\",some_string_2))\n",
    "print(re.findall(\"abc\",some_string_2))\n",
    "print(re.findall(\"abc123\",some_string_2))\n",
    "print(re.findall(\"xyz\",some_string_2))\n",
    "print(re.findall(\"[a-z]\",some_string_2)) # find all occurrences of lower case letters (a-z)\n",
    "print(re.findall(\"[0-9]\",some_string_2)) # find all occurrences of numeric digits (0-9)"
   ]
  },
  {
   "cell_type": "markdown",
   "metadata": {},
   "source": [
    "#### Repetitions"
   ]
  },
  {
   "cell_type": "markdown",
   "metadata": {},
   "source": [
    "It becomes quite tedious if you are looking to find long patterns in a sequence. Fortunately, the re module handles repetitions using the following special characters:\n",
    "\n",
    "`+` - Checks for one or more characters to its left."
   ]
  },
  {
   "cell_type": "code",
   "execution_count": 125,
   "metadata": {},
   "outputs": [
    {
     "data": {
      "text/plain": [
       "'Bo0000okie'"
      ]
     },
     "execution_count": 125,
     "metadata": {},
     "output_type": "execute_result"
    }
   ],
   "source": [
    "re.search(r'[A-Z].+kie', 'Bo0000okie').group()"
   ]
  },
  {
   "cell_type": "markdown",
   "metadata": {},
   "source": [
    "`*` - Checks for zero or more characters to its left."
   ]
  },
  {
   "cell_type": "code",
   "execution_count": 136,
   "metadata": {},
   "outputs": [
    {
     "data": {
      "text/plain": [
       "'Caaaaokie'"
      ]
     },
     "execution_count": 136,
     "metadata": {},
     "output_type": "execute_result"
    }
   ],
   "source": [
    "# Checks for any occurrence of a or o or both in the given sequence\n",
    "re.search(r'Ca*o*kie', 'Caaaaokie').group()"
   ]
  },
  {
   "cell_type": "code",
   "execution_count": 27,
   "metadata": {},
   "outputs": [
    {
     "data": {
      "text/plain": [
       "'Caaaaookie'"
      ]
     },
     "execution_count": 27,
     "metadata": {},
     "output_type": "execute_result"
    }
   ],
   "source": [
    "re.search(r'Ca*o*kie', 'Caaaaookie').group()"
   ]
  },
  {
   "cell_type": "markdown",
   "metadata": {},
   "source": [
    "`?` - Checks for exactly zero or one character to its left."
   ]
  },
  {
   "cell_type": "code",
   "execution_count": 138,
   "metadata": {},
   "outputs": [
    {
     "data": {
      "text/plain": [
       "'Colour'"
      ]
     },
     "execution_count": 138,
     "metadata": {},
     "output_type": "execute_result"
    }
   ],
   "source": [
    "# Checks for exactly zero or one occurrence of a or o or both in the given sequence\n",
    "re.search(r'Colou?r', 'Colour').group()"
   ]
  },
  {
   "cell_type": "code",
   "execution_count": 29,
   "metadata": {},
   "outputs": [
    {
     "name": "stdout",
     "output_type": "stream",
     "text": [
      "['0917-9003000', '0917-9003001', '0917-9003002']\n",
      "['tony@example.com', 'tony@ateneo.edu']\n"
     ]
    }
   ],
   "source": [
    "contact_info = \"Tony Stark 0917-9003000, 0917-9003001, 0917-9003002 tony@example.com tony@ateneo.edu\"\n",
    "\n",
    "# Extract possible phone number(s) from text\n",
    "print(re.findall(\"[0-9]{4}-[0-9]{7}\", contact_info)) # find all possible phone numbers in the text\n",
    "print(re.findall(\"[a-zA-Z0-9]+@[a-zA-Z0-9]+.[a-z]+\", contact_info))"
   ]
  },
  {
   "cell_type": "markdown",
   "metadata": {},
   "source": [
    "But what if you want to check for exact number of sequence repetition?\n",
    "\n",
    "For example, checking the validity of a phone number in an application. re module handles this very gracefully as well using the following regular expressions:\n",
    "\n",
    "`{x}` - Repeat exactly x number of times.\n",
    "\n",
    "`{x,}` - Repeat at least x times or more.\n",
    "\n",
    "`{x, y}` - Repeat at least x times but no more than y times."
   ]
  },
  {
   "cell_type": "code",
   "execution_count": 141,
   "metadata": {},
   "outputs": [
    {
     "data": {
      "text/plain": [
       "'0987654321'"
      ]
     },
     "execution_count": 141,
     "metadata": {},
     "output_type": "execute_result"
    }
   ],
   "source": [
    "re.search(r'\\d{9,10}', '0987654321').group()"
   ]
  },
  {
   "cell_type": "code",
   "execution_count": 145,
   "metadata": {},
   "outputs": [
    {
     "data": {
      "text/plain": [
       "'0987 6543210'"
      ]
     },
     "execution_count": 145,
     "metadata": {},
     "output_type": "execute_result"
    }
   ],
   "source": [
    "re.search(r'\\d{4}[- ]\\d{7}', '0987 6543210').group()"
   ]
  },
  {
   "cell_type": "markdown",
   "metadata": {},
   "source": [
    "The `+` and `*` qualifiers are said to be greedy."
   ]
  },
  {
   "cell_type": "markdown",
   "metadata": {},
   "source": [
    "#### Groups and Groupings"
   ]
  },
  {
   "cell_type": "markdown",
   "metadata": {},
   "source": [
    "Suppose that, when you're validating email addresses and want to check the user name and host separately.\n",
    "\n",
    "This is when the group feature of regular expression comes in handy. It allows you to pick up parts of the matching text.\n",
    "\n",
    "Parts of a regular expression pattern bounded by parenthesis() are called **groups**. The parenthesis does not change what the expression matches, but rather forms groups within the matched sequence. You have been using the `group()` function all along in this tutorial's examples. The plain `match.group()` without any argument is still the whole matched text as usual."
   ]
  },
  {
   "cell_type": "code",
   "execution_count": 150,
   "metadata": {
    "scrolled": true
   },
   "outputs": [
    {
     "name": "stdout",
     "output_type": "stream",
     "text": [
      "support.coffee@obf.ateneo.edu\n",
      "support.coffee\n",
      "obf.ateneo.edu\n"
     ]
    }
   ],
   "source": [
    "email_address = 'Please contact us at: support.coffee@obf.ateneo.edu'\n",
    "match = re.search(r'([\\w\\.-]+)@([\\w\\.-]+)', email_address)\n",
    "if match:\n",
    "  print(match.group()) # The whole matched text\n",
    "  print(match.group(1)) # The username (group 1)\n",
    "  print(match.group(2)) # The host (group 2)"
   ]
  },
  {
   "cell_type": "markdown",
   "metadata": {},
   "source": [
    "#### Greedy vs. Non-Greedy Matching\n",
    "\n",
    "When a special character matches as much of the search sequence (string) as possible, it is said to be a \"Greedy Match\". It is the normal behavior of a regular expression but sometimes this behavior is not desired:"
   ]
  },
  {
   "cell_type": "code",
   "execution_count": 32,
   "metadata": {},
   "outputs": [
    {
     "data": {
      "text/plain": [
       "'<h1>TITLE</h1>'"
      ]
     },
     "execution_count": 32,
     "metadata": {},
     "output_type": "execute_result"
    }
   ],
   "source": [
    "pattern = \"cookie\"\n",
    "sequence = \"Cake and cookie\"\n",
    "\n",
    "heading  = r'<h1>TITLE</h1>'\n",
    "re.match(r'<.*>', heading).group()"
   ]
  },
  {
   "cell_type": "markdown",
   "metadata": {},
   "source": [
    "However, if you only wanted to match the first `<h1>` tag, you could have used the greedy qualifier `*?` that matches as little text as possible.\n",
    "\n",
    "Adding `?` after the qualifier makes it perform the match in a non-greedy or minimal fashion; That is, as few characters as possible will be matched. When you run `<.*?>`, you will only get a match with `<h1>`."
   ]
  },
  {
   "cell_type": "code",
   "execution_count": 33,
   "metadata": {},
   "outputs": [
    {
     "data": {
      "text/plain": [
       "'<h1>'"
      ]
     },
     "execution_count": 33,
     "metadata": {},
     "output_type": "execute_result"
    }
   ],
   "source": [
    "heading  = r'<h1>TITLE</h1>'\n",
    "re.match(r'<.*?>', heading).group()"
   ]
  },
  {
   "cell_type": "markdown",
   "metadata": {},
   "source": [
    "#### Replace text\n"
   ]
  },
  {
   "cell_type": "code",
   "execution_count": 157,
   "metadata": {},
   "outputs": [
    {
     "data": {
      "text/plain": [
       "'Tony Stark (0917) 9003000, (0917) 9003001, (0917) 9003002 tony@example.com tony@ateneo.edu'"
      ]
     },
     "execution_count": 157,
     "metadata": {},
     "output_type": "execute_result"
    }
   ],
   "source": [
    "contact_info = \"Tony Stark 0917-9003000, 0917-9003001, 0917-9003002 tony@example.com tony@ateneo.edu\"\n",
    "\n",
    "re.sub(r\"(09[0-9][0-9])-\",r\"(\\1) \",contact_info)\n",
    "\n",
    "# (09[0-9][0-9]) refers to group 1 containing the mobile number prefix\n",
    "# \\1 refers to group 1"
   ]
  },
  {
   "cell_type": "code",
   "execution_count": 173,
   "metadata": {},
   "outputs": [
    {
     "name": "stdout",
     "output_type": "stream",
     "text": [
      "Santo Nino \n"
     ]
    }
   ],
   "source": [
    "brgy = \"Sto.                  Nino   \"\n",
    "brgy = re.sub(\"\\s+\",\" \",brgy)\n",
    "brgy = re.sub(\"Sto.\",\"Santo\",brgy)\n",
    "brgy = re.sub(\"Sto\",\"Santo\",brgy)\n",
    "brgy = re.sub(\"Nino\\s+\",\"Niño\",brgy)"
   ]
  },
  {
   "cell_type": "code",
   "execution_count": 172,
   "metadata": {},
   "outputs": [
    {
     "data": {
      "text/plain": [
       "'Santo Niño'"
      ]
     },
     "execution_count": 172,
     "metadata": {},
     "output_type": "execute_result"
    }
   ],
   "source": [
    "brgy"
   ]
  },
  {
   "cell_type": "code",
   "execution_count": 37,
   "metadata": {},
   "outputs": [],
   "source": [
    "brgy = \"Sto. Nino\"\n",
    "brgy = re.sub(\"Sto.\",\"Santo\",brgy)"
   ]
  },
  {
   "cell_type": "code",
   "execution_count": 174,
   "metadata": {},
   "outputs": [],
   "source": [
    "dirty_location_list = [\n",
    "    \"Paranaque\",\n",
    "    \"Pnque\",\n",
    "    \"Parañaque\",\n",
    "]\n",
    "\n",
    "clean_location_list = [re.sub(r'(Paranaque|Pnque|Parañaque)',r'PARAÑAQUE',loc) for loc in dirty_location_list]"
   ]
  },
  {
   "cell_type": "code",
   "execution_count": 175,
   "metadata": {},
   "outputs": [
    {
     "name": "stdout",
     "output_type": "stream",
     "text": [
      "['Paranaque', 'Pnque', 'Parañaque']\n",
      "['PARAÑAQUE', 'PARAÑAQUE', 'PARAÑAQUE']\n"
     ]
    }
   ],
   "source": [
    "print(dirty_location_list)\n",
    "print(clean_location_list)"
   ]
  },
  {
   "cell_type": "markdown",
   "metadata": {},
   "source": [
    "### IMPORTANT\n",
    "\n",
    "Please go through the tutorials and sample puzzles [here](https://regexcrossword.com/). We won't have time for a full-blown lecture on regex, but the topic is too important for you not to cover through self-study because future assignments and tests will depend heavily on it."
   ]
  },
  {
   "cell_type": "markdown",
   "metadata": {},
   "source": [
    "## Introduction to Data Cleansing (or Data Cleaning)"
   ]
  },
  {
   "cell_type": "markdown",
   "metadata": {},
   "source": [
    "Source: [Techopedia](https://www.techopedia.com/definition/1174/data-cleansing)\n",
    "\n",
    "Data cleansing is the process of altering data in a given storage resource to make sure that it is accurate and correct. There are many ways to pursue data cleansing in various software and data storage architectures; most of them center on the careful review of data sets and the protocols associated with any particular data storage technology.\n",
    "\n",
    "Data cleansing is also known as data cleaning or data scrubbing."
   ]
  },
  {
   "cell_type": "markdown",
   "metadata": {},
   "source": [
    "### Data Cleaning Exercise\n",
    "\n",
    "We have remnants of a Google Forms submission where students were asked to specify their courses. Unfortunately, the form designer was not able to restrict entries to a few valid choices, so the free-form text yielded a messy collection shown below. How would you go about cleaning the data?"
   ]
  },
  {
   "cell_type": "code",
   "execution_count": 177,
   "metadata": {},
   "outputs": [],
   "source": [
    "dirty_course_list = [\n",
    "    \"BS MGT HONORS\",\n",
    "    \"BS Management Honors\",\n",
    "    \"BS Management Engineering\",\n",
    "    \"BS M.E.\",\n",
    "    \"M.E.\",\n",
    "    \"BS M.E.\",\n",
    "    \"BS ME\",\n",
    "    \"BS Mgt Eng\",\n",
    "    \"BS Mgt. Eng.\"\n",
    "    \"BSME\",\n",
    "    \"BS ME\",\n",
    "    \"BS-ME\",\n",
    "    \"BMH\",\n",
    "    \"BM-H\",\n",
    "    \"MH\",\n",
    "    \"BS MH\",\n",
    "    \"MGTH\",\n",
    "    \"Mgt Honors\",\n",
    "    \"ME\"\n",
    "]\n"
   ]
  },
  {
   "cell_type": "markdown",
   "metadata": {},
   "source": [
    "### Candidate Solution\n",
    "\n",
    "This is by no means a recipe for general data cleansing. Rather, it is a simple approach for the given problem above. To simplify the illustration, we won't be using regex just yet (We will go through a more general data cleansing process flow in a future lecture.)\n",
    "\n",
    "#### 1) Find unique names"
   ]
  },
  {
   "cell_type": "code",
   "execution_count": 178,
   "metadata": {},
   "outputs": [
    {
     "data": {
      "text/plain": [
       "{'BM-H',\n",
       " 'BMH',\n",
       " 'BS M.E.',\n",
       " 'BS ME',\n",
       " 'BS MGT HONORS',\n",
       " 'BS MH',\n",
       " 'BS Management Engineering',\n",
       " 'BS Management Honors',\n",
       " 'BS Mgt Eng',\n",
       " 'BS Mgt. Eng.BSME',\n",
       " 'BS-ME',\n",
       " 'M.E.',\n",
       " 'ME',\n",
       " 'MGTH',\n",
       " 'MH',\n",
       " 'Mgt Honors'}"
      ]
     },
     "execution_count": 178,
     "metadata": {},
     "output_type": "execute_result"
    }
   ],
   "source": [
    "# Find unique names\n",
    "\n",
    "unique_names = set(dirty_course_list)\n",
    "\n",
    "unique_names"
   ]
  },
  {
   "cell_type": "code",
   "execution_count": 179,
   "metadata": {},
   "outputs": [
    {
     "data": {
      "text/plain": [
       "['BS Mgt Eng',\n",
       " 'BS Mgt. Eng.BSME',\n",
       " 'MH',\n",
       " 'BS Management Honors',\n",
       " 'MGTH',\n",
       " 'BS-ME',\n",
       " 'BS Management Engineering',\n",
       " 'BS M.E.',\n",
       " 'BS MH',\n",
       " 'M.E.',\n",
       " 'Mgt Honors',\n",
       " 'BS MGT HONORS',\n",
       " 'ME',\n",
       " 'BM-H',\n",
       " 'BMH',\n",
       " 'BS ME']"
      ]
     },
     "execution_count": 179,
     "metadata": {},
     "output_type": "execute_result"
    }
   ],
   "source": [
    "[n for n in unique_names]"
   ]
  },
  {
   "cell_type": "markdown",
   "metadata": {},
   "source": [
    "#### 2) Cluster names and converge to one name per cluster"
   ]
  },
  {
   "cell_type": "code",
   "execution_count": 180,
   "metadata": {},
   "outputs": [],
   "source": [
    "# add unique_names to dictionary\n",
    "\n",
    "unique_names_dictionary = {name:None for name in unique_names}"
   ]
  },
  {
   "cell_type": "code",
   "execution_count": 181,
   "metadata": {},
   "outputs": [
    {
     "data": {
      "text/plain": [
       "{'BS Mgt Eng': None,\n",
       " 'BS Mgt. Eng.BSME': None,\n",
       " 'MH': None,\n",
       " 'BS Management Honors': None,\n",
       " 'MGTH': None,\n",
       " 'BS-ME': None,\n",
       " 'BS Management Engineering': None,\n",
       " 'BS M.E.': None,\n",
       " 'BS MH': None,\n",
       " 'M.E.': None,\n",
       " 'Mgt Honors': None,\n",
       " 'BS MGT HONORS': None,\n",
       " 'ME': None,\n",
       " 'BM-H': None,\n",
       " 'BMH': None,\n",
       " 'BS ME': None}"
      ]
     },
     "execution_count": 181,
     "metadata": {},
     "output_type": "execute_result"
    }
   ],
   "source": [
    "unique_names_dictionary"
   ]
  },
  {
   "cell_type": "markdown",
   "metadata": {},
   "source": [
    "#### 3) Assign an official name per unique name\n",
    "\n",
    "Oftentimes, this is a tedious, manual process. However, the effort is mostly at the start, and succeeding efforts may be automated."
   ]
  },
  {
   "cell_type": "code",
   "execution_count": 182,
   "metadata": {},
   "outputs": [
    {
     "name": "stdout",
     "output_type": "stream",
     "text": [
      "BS Mgt Eng: Enter name: BS Management Engineering\n",
      "BS Mgt. Eng.BSME: Enter name: BS Management Engineering\n",
      "MH: Enter name: BS Management Honors\n",
      "BS Management Honors: Enter name: BS Management Honors\n",
      "MGTH: Enter name: BS Management Honors\n",
      "BS-ME: Enter name: BS Management Engineering\n",
      "BS Management Engineering: Enter name: BS Management Engineering\n",
      "BS M.E.: Enter name: BS Management Engineering\n",
      "BS MH: Enter name: BS Management Honors\n",
      "M.E.: Enter name: BS Management Engineering\n",
      "Mgt Honors: Enter name: BS Management Honors\n",
      "BS MGT HONORS: Enter name: BS Management Honors\n",
      "ME: Enter name: BS Management Engineering\n",
      "BM-H: Enter name: BS Management Honors\n",
      "BMH: Enter name: BS Management Honors\n",
      "BS ME: Enter name: BS Management Engineering\n"
     ]
    }
   ],
   "source": [
    "# Go through each unique name and assign an official name\n",
    "\n",
    "for i in unique_names_dictionary:\n",
    "    final_name = input(i+\": \"+\"Enter name: \")\n",
    "    unique_names_dictionary[i]=final_name"
   ]
  },
  {
   "cell_type": "markdown",
   "metadata": {},
   "source": [
    "Note: another approach is to dump the unique names in a CSV, upload to Excel (where you can manually assign the official names in another column), redump back to CSV, then import back to Python for further processing."
   ]
  },
  {
   "cell_type": "code",
   "execution_count": 183,
   "metadata": {},
   "outputs": [
    {
     "data": {
      "text/plain": [
       "{'BS Mgt Eng': 'BS Management Engineering',\n",
       " 'BS Mgt. Eng.BSME': 'BS Management Engineering',\n",
       " 'MH': 'BS Management Honors',\n",
       " 'BS Management Honors': 'BS Management Honors',\n",
       " 'MGTH': 'BS Management Honors',\n",
       " 'BS-ME': 'BS Management Engineering',\n",
       " 'BS Management Engineering': 'BS Management Engineering',\n",
       " 'BS M.E.': 'BS Management Engineering',\n",
       " 'BS MH': 'BS Management Honors',\n",
       " 'M.E.': 'BS Management Engineering',\n",
       " 'Mgt Honors': 'BS Management Honors',\n",
       " 'BS MGT HONORS': 'BS Management Honors',\n",
       " 'ME': 'BS Management Engineering',\n",
       " 'BM-H': 'BS Management Honors',\n",
       " 'BMH': 'BS Management Honors',\n",
       " 'BS ME': 'BS Management Engineering'}"
      ]
     },
     "execution_count": 183,
     "metadata": {},
     "output_type": "execute_result"
    }
   ],
   "source": [
    "## Verify the new list\n",
    "unique_names_dictionary"
   ]
  },
  {
   "cell_type": "markdown",
   "metadata": {},
   "source": [
    "#### 4) Clean up the dirty course list"
   ]
  },
  {
   "cell_type": "code",
   "execution_count": 184,
   "metadata": {},
   "outputs": [],
   "source": [
    "# Clean up the dirty course list\n",
    "clean_course_list = [re.sub(r''.join(course),r''.join(unique_names_dictionary[course]),course) for course in dirty_course_list]"
   ]
  },
  {
   "cell_type": "code",
   "execution_count": 185,
   "metadata": {},
   "outputs": [
    {
     "data": {
      "text/plain": [
       "['BS Management Honors',\n",
       " 'BS Management Honors',\n",
       " 'BS Management Engineering',\n",
       " 'BS Management Engineering',\n",
       " 'BS Management Engineering',\n",
       " 'BS Management Engineering',\n",
       " 'BS Management Engineering',\n",
       " 'BS Management Engineering',\n",
       " 'BS Management Engineering',\n",
       " 'BS Management Engineering',\n",
       " 'BS Management Engineering',\n",
       " 'BS Management Honors',\n",
       " 'BS Management Honors',\n",
       " 'BS Management Honors',\n",
       " 'BS Management Honors',\n",
       " 'BS Management Honors',\n",
       " 'BS Management Honors',\n",
       " 'BS Management Engineering']"
      ]
     },
     "execution_count": 185,
     "metadata": {},
     "output_type": "execute_result"
    }
   ],
   "source": [
    "clean_course_list"
   ]
  },
  {
   "cell_type": "code",
   "execution_count": 161,
   "metadata": {},
   "outputs": [
    {
     "data": {
      "text/plain": [
       "['BS MGT HONORS',\n",
       " 'BS Management Honors',\n",
       " 'BS Management Engineering',\n",
       " 'BS M.E.',\n",
       " 'M.E.',\n",
       " 'BS M.E.',\n",
       " 'BS ME',\n",
       " 'BS Mgt Eng',\n",
       " 'BS Mgt. Eng.BSME',\n",
       " 'BS ME',\n",
       " 'BS-ME',\n",
       " 'BMH',\n",
       " 'BM-H',\n",
       " 'MH',\n",
       " 'BS MH',\n",
       " 'MGTH',\n",
       " 'Mgt Honors',\n",
       " 'ME']"
      ]
     },
     "execution_count": 161,
     "metadata": {},
     "output_type": "execute_result"
    }
   ],
   "source": [
    "dirty_course_list"
   ]
  },
  {
   "cell_type": "markdown",
   "metadata": {},
   "source": [
    "#### End of Introduction to Data Cleansing Discussion\n",
    "\n",
    "I will be giving an exercise involving a dirty dataset in CSV and ask you to prepare a new and clean CSV using the data cleansing techniques discussed here. The dirty dataset to be provided can only easily be cleaned through your mastery of **regex**."
   ]
  },
  {
   "cell_type": "markdown",
   "metadata": {},
   "source": [
    "### Miscellaneous Assignments for Day 15"
   ]
  },
  {
   "cell_type": "markdown",
   "metadata": {},
   "source": [
    "Install PyPDF2 using the following command (**Terminal** on MacOS, **PowerShell**, **Command Prompt** or equivalent on Windows):\n",
    "```conda install -c conda-forge pypdf2```\n"
   ]
  },
  {
   "cell_type": "code",
   "execution_count": 8,
   "metadata": {},
   "outputs": [],
   "source": []
  },
  {
   "cell_type": "code",
   "execution_count": null,
   "metadata": {},
   "outputs": [],
   "source": []
  }
 ],
 "metadata": {
  "kernelspec": {
   "display_name": "Python 3",
   "language": "python",
   "name": "python3"
  },
  "language_info": {
   "codemirror_mode": {
    "name": "ipython",
    "version": 3
   },
   "file_extension": ".py",
   "mimetype": "text/x-python",
   "name": "python",
   "nbconvert_exporter": "python",
   "pygments_lexer": "ipython3",
   "version": "3.7.3"
  }
 },
 "nbformat": 4,
 "nbformat_minor": 2
}
