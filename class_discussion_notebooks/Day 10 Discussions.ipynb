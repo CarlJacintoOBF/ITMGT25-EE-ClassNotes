{
 "cells": [
  {
   "cell_type": "markdown",
   "metadata": {},
   "source": [
    "## More Tips and Exercises"
   ]
  },
  {
   "cell_type": "code",
   "execution_count": 1,
   "metadata": {},
   "outputs": [
    {
     "name": "stdout",
     "output_type": "stream",
     "text": [
      "{'code': 'espresso', 'name': 'Espresso', 'price': 150}\n",
      "--------\n",
      "{'code': 'code', 'name': 'name', 'price': 'price'}\n",
      "--------\n",
      "{'code': 'espresso', 'name': 'Espresso', 'price': 150}\n"
     ]
    }
   ],
   "source": [
    "def define_product(code,name,price):\n",
    "    print({\"code\":code,\"name\":name,\"price\":price})\n",
    "\n",
    "espresso = {'code':'espresso','name':'Espresso','price':150}\n",
    "\n",
    "# brute-force way to call the function: spell out parameters\n",
    "define_product(espresso[\"code\"],espresso[\"name\"],espresso[\"price\"])\n",
    "print(\"--------\")\n",
    "# one asterisk only uses the list comprehension for dictionaries, which is just the keys\n",
    "# wrong output!\n",
    "define_product(*espresso)\n",
    "print(\"--------\")\n",
    "# double asterisk allows us to get the actual mapping (value) for the keys\n",
    "define_product(**espresso)"
   ]
  },
  {
   "cell_type": "markdown",
   "metadata": {},
   "source": [
    "### String functions"
   ]
  },
  {
   "cell_type": "code",
   "execution_count": 40,
   "metadata": {},
   "outputs": [
    {
     "name": "stdout",
     "output_type": "stream",
     "text": [
      "JOBEN\n"
     ]
    }
   ],
   "source": [
    "namestr=\"Joseph Benjamin R Ilagan\"\n",
    "\n",
    "print((namestr[0:2]+namestr[7:10]).upper())"
   ]
  },
  {
   "cell_type": "code",
   "execution_count": 57,
   "metadata": {},
   "outputs": [],
   "source": [
    "namestr = \"Management Engineering\"\n",
    "\n",
    "words = namestr.split(\" \")"
   ]
  },
  {
   "cell_type": "code",
   "execution_count": 58,
   "metadata": {},
   "outputs": [
    {
     "name": "stdout",
     "output_type": "stream",
     "text": [
      "Engineering Management\n"
     ]
    }
   ],
   "source": [
    "print(words[1]+\" \"+words[0])"
   ]
  },
  {
   "cell_type": "code",
   "execution_count": 100,
   "metadata": {},
   "outputs": [],
   "source": [
    "square = [['D','A','A','X'],\n",
    "          ['A','O','A','X'],\n",
    "          ['X','A','O','M'],\n",
    "          ['A','X','A','R']\n",
    "         ]"
   ]
  },
  {
   "cell_type": "code",
   "execution_count": 150,
   "metadata": {},
   "outputs": [
    {
     "data": {
      "text/plain": [
       "'DOOR'"
      ]
     },
     "execution_count": 150,
     "metadata": {},
     "output_type": "execute_result"
    }
   ],
   "source": [
    "# find the string contained in the diagonal of a square\n",
    "\n",
    "square = [['D','A','A','X'],\n",
    "          ['A','O','A','X'],\n",
    "          ['X','A','O','M'],\n",
    "          ['A','X','A','R']\n",
    "         ]\n",
    "\n",
    "diagonal_string = []\n",
    "\n",
    "length_of_square = 4\n",
    "\n",
    "for i in range(0,length_of_square):\n",
    "    for j in range(0,length_of_square):\n",
    "        if(i==j):\n",
    "            diagonal_string.append(square[i][j])\n",
    "            \n",
    "\"\".join(diagonal_string)"
   ]
  },
  {
   "cell_type": "markdown",
   "metadata": {},
   "source": [
    "### Debugging"
   ]
  },
  {
   "cell_type": "markdown",
   "metadata": {},
   "source": [
    "#### Common for loop errors"
   ]
  },
  {
   "cell_type": "code",
   "execution_count": null,
   "metadata": {},
   "outputs": [],
   "source": [
    "# Note that this stops at 10-1, not 10 itself\n",
    "[i for i in range(1,10)]"
   ]
  },
  {
   "cell_type": "code",
   "execution_count": 96,
   "metadata": {},
   "outputs": [
    {
     "data": {
      "text/plain": [
       "[1, 10]"
      ]
     },
     "execution_count": 96,
     "metadata": {},
     "output_type": "execute_result"
    }
   ],
   "source": [
    "# Forgetting the range\n",
    "[i for i in (1,10)]"
   ]
  },
  {
   "cell_type": "markdown",
   "metadata": {},
   "source": [
    "#### Assuming a full list when a set (without duplicates) is returned"
   ]
  },
  {
   "cell_type": "code",
   "execution_count": 97,
   "metadata": {},
   "outputs": [
    {
     "data": {
      "text/plain": [
       "['J', 'o', 'b', 'e', 'n', ' ', 'I', 'l', 'a', 'g', 'a', 'n']"
      ]
     },
     "execution_count": 97,
     "metadata": {},
     "output_type": "execute_result"
    }
   ],
   "source": [
    "list(\"Joben Ilagan\")"
   ]
  },
  {
   "cell_type": "code",
   "execution_count": 98,
   "metadata": {},
   "outputs": [
    {
     "data": {
      "text/plain": [
       "{' ', 'I', 'J', 'a', 'b', 'e', 'g', 'l', 'n', 'o'}"
      ]
     },
     "execution_count": 98,
     "metadata": {},
     "output_type": "execute_result"
    }
   ],
   "source": [
    "set(\"Joben Ilagan\")"
   ]
  },
  {
   "cell_type": "markdown",
   "metadata": {},
   "source": [
    "#### Tracing through code done by someone else and working with non-friendly variable and function names"
   ]
  },
  {
   "cell_type": "code",
   "execution_count": 153,
   "metadata": {},
   "outputs": [
    {
     "name": "stdout",
     "output_type": "stream",
     "text": [
      "0 2 6 12 20 30 42 56 72 90 110 "
     ]
    },
    {
     "data": {
      "text/plain": [
       "110"
      ]
     },
     "execution_count": 153,
     "metadata": {},
     "output_type": "execute_result"
    }
   ],
   "source": [
    "# What is the output of this function?\n",
    "#-- at 0\n",
    "#-- at 3\n",
    "\n",
    "def i_love_bitcoin(moon):\n",
    "    stash = 0\n",
    "    for lambo in range(0,moon+1):\n",
    "        stash += lambo*2\n",
    "        print(stash,end=\" \")\n",
    "        \n",
    "    return stash\n",
    "\n",
    "i_love_bitcoin(10)"
   ]
  },
  {
   "cell_type": "markdown",
   "metadata": {},
   "source": [
    "### Math (without necessarily using ```math```)"
   ]
  },
  {
   "cell_type": "code",
   "execution_count": 154,
   "metadata": {},
   "outputs": [
    {
     "data": {
      "text/plain": [
       "2.0"
      ]
     },
     "execution_count": 154,
     "metadata": {},
     "output_type": "execute_result"
    }
   ],
   "source": [
    "# get square root\n",
    "x = 4 ** (1/2)\n",
    "x"
   ]
  },
  {
   "cell_type": "code",
   "execution_count": 157,
   "metadata": {},
   "outputs": [
    {
     "data": {
      "text/plain": [
       "2.23606797749979"
      ]
     },
     "execution_count": 157,
     "metadata": {},
     "output_type": "execute_result"
    }
   ],
   "source": [
    "y = 5 ** (1/2)\n",
    "y"
   ]
  },
  {
   "cell_type": "code",
   "execution_count": 89,
   "metadata": {},
   "outputs": [
    {
     "data": {
      "text/plain": [
       "2.0"
      ]
     },
     "execution_count": 89,
     "metadata": {},
     "output_type": "execute_result"
    }
   ],
   "source": [
    "## using math\n",
    "import math\n",
    "\n",
    "x = math.sqrt(4)\n",
    "x"
   ]
  },
  {
   "cell_type": "markdown",
   "metadata": {},
   "source": [
    "#### review modulo"
   ]
  },
  {
   "cell_type": "code",
   "execution_count": 91,
   "metadata": {},
   "outputs": [
    {
     "name": "stdout",
     "output_type": "stream",
     "text": [
      "2.5\n",
      "2\n",
      "1\n"
     ]
    }
   ],
   "source": [
    "x = 5\n",
    "print(x / 2)\n",
    "print(x // 2)\n",
    "print(x % 2)"
   ]
  },
  {
   "cell_type": "markdown",
   "metadata": {},
   "source": [
    "### determine numeric characteristics\n"
   ]
  },
  {
   "cell_type": "markdown",
   "metadata": {},
   "source": [
    "#### how to tell if a number is prime"
   ]
  },
  {
   "cell_type": "markdown",
   "metadata": {},
   "source": [
    "#### how to tell if a number is a perfect square"
   ]
  },
  {
   "cell_type": "markdown",
   "metadata": {},
   "source": [
    "## Python operator precedence"
   ]
  },
  {
   "cell_type": "markdown",
   "metadata": {},
   "source": [
    "Print this out for the exam:\n",
    "\n",
    "[Complete Python Operator Precedence Table](https://docs.python.org/3/reference/expressions.html#operator-precedence)"
   ]
  },
  {
   "cell_type": "code",
   "execution_count": 117,
   "metadata": {},
   "outputs": [
    {
     "data": {
      "text/plain": [
       "2.0"
      ]
     },
     "execution_count": 117,
     "metadata": {},
     "output_type": "execute_result"
    }
   ],
   "source": [
    "10 * 1 / 2"
   ]
  },
  {
   "cell_type": "code",
   "execution_count": 121,
   "metadata": {},
   "outputs": [
    {
     "data": {
      "text/plain": [
       "3.5"
      ]
     },
     "execution_count": 121,
     "metadata": {},
     "output_type": "execute_result"
    }
   ],
   "source": [
    "5 / 2 + 1"
   ]
  },
  {
   "cell_type": "code",
   "execution_count": 158,
   "metadata": {},
   "outputs": [
    {
     "data": {
      "text/plain": [
       "3.5"
      ]
     },
     "execution_count": 158,
     "metadata": {},
     "output_type": "execute_result"
    }
   ],
   "source": [
    "(5/2) + 1"
   ]
  },
  {
   "cell_type": "code",
   "execution_count": 159,
   "metadata": {},
   "outputs": [
    {
     "data": {
      "text/plain": [
       "1.6666666666666667"
      ]
     },
     "execution_count": 159,
     "metadata": {},
     "output_type": "execute_result"
    }
   ],
   "source": [
    "5 / (2+1)"
   ]
  },
  {
   "cell_type": "code",
   "execution_count": 160,
   "metadata": {},
   "outputs": [
    {
     "data": {
      "text/plain": [
       "5.0"
      ]
     },
     "execution_count": 160,
     "metadata": {},
     "output_type": "execute_result"
    }
   ],
   "source": [
    "10 ** 1 / 2"
   ]
  },
  {
   "cell_type": "code",
   "execution_count": 161,
   "metadata": {},
   "outputs": [
    {
     "data": {
      "text/plain": [
       "3.1622776601683795"
      ]
     },
     "execution_count": 161,
     "metadata": {},
     "output_type": "execute_result"
    }
   ],
   "source": [
    "10 ** (1/2)"
   ]
  },
  {
   "cell_type": "markdown",
   "metadata": {},
   "source": [
    "### Variable names"
   ]
  },
  {
   "cell_type": "code",
   "execution_count": 79,
   "metadata": {},
   "outputs": [],
   "source": [
    "assignment = \"Great\""
   ]
  },
  {
   "cell_type": "code",
   "execution_count": 80,
   "metadata": {},
   "outputs": [],
   "source": [
    "assignment1 = \"Cool\""
   ]
  },
  {
   "cell_type": "code",
   "execution_count": 162,
   "metadata": {},
   "outputs": [
    {
     "ename": "SyntaxError",
     "evalue": "invalid syntax (<ipython-input-162-2cb4be4313bb>, line 1)",
     "output_type": "error",
     "traceback": [
      "\u001b[0;36m  File \u001b[0;32m\"<ipython-input-162-2cb4be4313bb>\"\u001b[0;36m, line \u001b[0;32m1\u001b[0m\n\u001b[0;31m    1assignment = \"Not cool\"\u001b[0m\n\u001b[0m              ^\u001b[0m\n\u001b[0;31mSyntaxError\u001b[0m\u001b[0;31m:\u001b[0m invalid syntax\n"
     ]
    }
   ],
   "source": [
    "1assignment = \"Not cool\""
   ]
  },
  {
   "cell_type": "code",
   "execution_count": 82,
   "metadata": {},
   "outputs": [
    {
     "ename": "SyntaxError",
     "evalue": "can't assign to operator (<ipython-input-82-4da10fcb9a4b>, line 1)",
     "output_type": "error",
     "traceback": [
      "\u001b[0;36m  File \u001b[0;32m\"<ipython-input-82-4da10fcb9a4b>\"\u001b[0;36m, line \u001b[0;32m1\u001b[0m\n\u001b[0;31m    assignment-two = \"Not good\"\u001b[0m\n\u001b[0m                               ^\u001b[0m\n\u001b[0;31mSyntaxError\u001b[0m\u001b[0;31m:\u001b[0m can't assign to operator\n"
     ]
    }
   ],
   "source": [
    "assignment-two = \"Not good\""
   ]
  },
  {
   "cell_type": "code",
   "execution_count": 83,
   "metadata": {},
   "outputs": [
    {
     "ename": "SyntaxError",
     "evalue": "invalid syntax (<ipython-input-83-f991a351152c>, line 1)",
     "output_type": "error",
     "traceback": [
      "\u001b[0;36m  File \u001b[0;32m\"<ipython-input-83-f991a351152c>\"\u001b[0;36m, line \u001b[0;32m1\u001b[0m\n\u001b[0;31m    assignment3! = \"no way\"\u001b[0m\n\u001b[0m               ^\u001b[0m\n\u001b[0;31mSyntaxError\u001b[0m\u001b[0;31m:\u001b[0m invalid syntax\n"
     ]
    }
   ],
   "source": [
    "assignment3! = \"no way\""
   ]
  },
  {
   "cell_type": "markdown",
   "metadata": {},
   "source": [
    "### Input"
   ]
  },
  {
   "cell_type": "code",
   "execution_count": null,
   "metadata": {},
   "outputs": [],
   "source": []
  },
  {
   "cell_type": "code",
   "execution_count": null,
   "metadata": {},
   "outputs": [],
   "source": [
    "# If you expect a number, use int(...)\n",
    "\n",
    "x = int(input(\"Enter a number\"))\n",
    "if(x>0):\n",
    "    print(\"Do something\")"
   ]
  },
  {
   "cell_type": "markdown",
   "metadata": {},
   "source": [
    "### Logical Operators"
   ]
  },
  {
   "cell_type": "code",
   "execution_count": 1,
   "metadata": {},
   "outputs": [
    {
     "data": {
      "text/plain": [
       "True"
      ]
     },
     "execution_count": 1,
     "metadata": {},
     "output_type": "execute_result"
    }
   ],
   "source": [
    "(1==1 and 2==2)"
   ]
  },
  {
   "cell_type": "code",
   "execution_count": 2,
   "metadata": {},
   "outputs": [
    {
     "data": {
      "text/plain": [
       "True"
      ]
     },
     "execution_count": 2,
     "metadata": {},
     "output_type": "execute_result"
    }
   ],
   "source": [
    "(1==1 or 1==2)"
   ]
  },
  {
   "cell_type": "code",
   "execution_count": 3,
   "metadata": {},
   "outputs": [
    {
     "data": {
      "text/plain": [
       "True"
      ]
     },
     "execution_count": 3,
     "metadata": {},
     "output_type": "execute_result"
    }
   ],
   "source": [
    "(1<2 and 1<10)"
   ]
  },
  {
   "cell_type": "code",
   "execution_count": 4,
   "metadata": {},
   "outputs": [
    {
     "data": {
      "text/plain": [
       "True"
      ]
     },
     "execution_count": 4,
     "metadata": {},
     "output_type": "execute_result"
    }
   ],
   "source": [
    "a=1\n",
    "(a<=1 and a<10)"
   ]
  },
  {
   "cell_type": "code",
   "execution_count": 78,
   "metadata": {},
   "outputs": [
    {
     "data": {
      "text/plain": [
       "True"
      ]
     },
     "execution_count": 78,
     "metadata": {},
     "output_type": "execute_result"
    }
   ],
   "source": [
    "a<=1 or a<10"
   ]
  },
  {
   "cell_type": "code",
   "execution_count": 6,
   "metadata": {},
   "outputs": [],
   "source": [
    "satoshi = {\n",
    "    \"name\":\"Satoshi Nakamoto\",\n",
    "    \"age\":60,\n",
    "    \"is_pwd\":False\n",
    "}\n",
    "\n",
    "vitalik = {\n",
    "    \"name\":\"Vitalik Buterin\",\n",
    "    \"age\":25,\n",
    "    \"is_pwd\":False\n",
    "}\n",
    "\n",
    "def entitled_to_discount(customer):\n",
    "\n",
    "    if(customer[\"age\"]>=60 or\n",
    "       customer[\"is_pwd\"]):\n",
    "        return True\n",
    "    else:\n",
    "        return False\n",
    "\n"
   ]
  },
  {
   "cell_type": "code",
   "execution_count": 7,
   "metadata": {},
   "outputs": [
    {
     "data": {
      "text/plain": [
       "True"
      ]
     },
     "execution_count": 7,
     "metadata": {},
     "output_type": "execute_result"
    }
   ],
   "source": [
    "entitled_to_discount(satoshi)"
   ]
  },
  {
   "cell_type": "code",
   "execution_count": 135,
   "metadata": {},
   "outputs": [
    {
     "data": {
      "text/plain": [
       "False"
      ]
     },
     "execution_count": 135,
     "metadata": {},
     "output_type": "execute_result"
    }
   ],
   "source": [
    "entitled_to_discount(vitalik)"
   ]
  },
  {
   "cell_type": "markdown",
   "metadata": {},
   "source": [
    "### Series and Sequences"
   ]
  },
  {
   "cell_type": "markdown",
   "metadata": {},
   "source": [
    "#### Triangular Numbers\n"
   ]
  },
  {
   "cell_type": "code",
   "execution_count": 60,
   "metadata": {},
   "outputs": [],
   "source": [
    "def triangular(x):\n",
    "    next = 0\n",
    "    for i in range(1,x+1):\n",
    "        next += i\n",
    "        print(next, end=\" \")"
   ]
  },
  {
   "cell_type": "code",
   "execution_count": 61,
   "metadata": {},
   "outputs": [
    {
     "name": "stdout",
     "output_type": "stream",
     "text": [
      "1 3 6 10 15 21 28 36 45 55 "
     ]
    }
   ],
   "source": [
    "triangular(10)"
   ]
  },
  {
   "cell_type": "markdown",
   "metadata": {},
   "source": [
    "#### Squares"
   ]
  },
  {
   "cell_type": "code",
   "execution_count": 62,
   "metadata": {},
   "outputs": [],
   "source": [
    "def squares(x):\n",
    "    for i in range(1, x+1):\n",
    "        print(i**2, end=\" \")"
   ]
  },
  {
   "cell_type": "code",
   "execution_count": 63,
   "metadata": {},
   "outputs": [
    {
     "name": "stdout",
     "output_type": "stream",
     "text": [
      "1 4 9 16 25 36 49 64 81 100 "
     ]
    }
   ],
   "source": [
    "squares(10)"
   ]
  },
  {
   "cell_type": "markdown",
   "metadata": {},
   "source": [
    "#### Triangle Drawings (Review)"
   ]
  },
  {
   "cell_type": "code",
   "execution_count": 55,
   "metadata": {},
   "outputs": [
    {
     "name": "stdout",
     "output_type": "stream",
     "text": [
      "* \n",
      "* * \n",
      "* * * \n",
      "* * * * \n",
      "* * * * * \n",
      "* * * * * * \n",
      "* * * * * * * \n",
      "* * * * * * * * \n",
      "* * * * * * * * * \n",
      "* * * * * * * * * * \n",
      "* * * * * * * * * * * \n",
      "* * * * * * * * * * * * \n",
      "* * * * * * * * * * * * * \n",
      "* * * * * * * * * * * * * * \n"
     ]
    }
   ],
   "source": [
    "set_value = -99\n",
    "\n",
    "## Left-aligned triangle\n",
    "row = 1\n",
    "while(set_value < 5):\n",
    "    for j in range(1, row+1):\n",
    "        print(\"*\", end = ' ')\n",
    "        set_value+=1\n",
    "    row += 1\n",
    "    print(\"\")\n",
    "        \n"
   ]
  },
  {
   "cell_type": "code",
   "execution_count": 131,
   "metadata": {},
   "outputs": [
    {
     "name": "stdout",
     "output_type": "stream",
     "text": [
      "0 \n",
      "1 2 \n",
      "3 4 5 \n",
      "6 7 8 9 \n",
      "10 11 12 13 14 \n",
      "15 16 17 18 19 20 \n",
      "21 22 23 24 25 26 27 \n",
      "28 29 30 31 32 33 34 35 \n",
      "36 37 38 39 40 41 42 43 44 \n",
      "45 46 47 48 49 50 51 52 53 54 \n",
      "55 56 57 58 59 60 61 62 63 64 65 \n"
     ]
    }
   ],
   "source": [
    "set_value = -10\n",
    "\n",
    "def sequence_generator(n):\n",
    "    for i in range(0,n):\n",
    "        yield i\n",
    "        \n",
    "seqgen = sequence_generator(100)\n",
    "\n",
    "## Left-aligned triangle\n",
    "row = 1\n",
    "while(set_value < 50):\n",
    "    for j in range(1, row+1):\n",
    "        print(next(seqgen), end = ' ')\n",
    "        set_value+=1\n",
    "    row += 1\n",
    "    print(\"\")\n",
    "        \n"
   ]
  },
  {
   "cell_type": "code",
   "execution_count": 8,
   "metadata": {},
   "outputs": [
    {
     "name": "stdout",
     "output_type": "stream",
     "text": [
      "SOME STRING\n"
     ]
    }
   ],
   "source": [
    "print(\"some string\".upper())"
   ]
  },
  {
   "cell_type": "markdown",
   "metadata": {},
   "source": [
    "### JSON"
   ]
  },
  {
   "cell_type": "markdown",
   "metadata": {},
   "source": [
    "**Wikipedia:**\n",
    "    \n",
    "In computing, JavaScript Object Notation (JSON) (/ˈdʒeɪsən/ \"Jason\",[1] /ˈdʒeɪsɒn/) is an open-standard file format that uses human-readable text to transmit data objects consisting of attribute–value pairs and array data types (or any other serializable value). It is a very common data format used for asynchronous browser–server communication, including as a replacement for XML in some AJAX-style systems.[2]\n",
    "\n",
    "JSON is a language-independent data format. It was derived from JavaScript, but as of 2017, many programming languages include code to generate and parse JSON-format data. The official Internet media type for JSON is application/json. JSON filenames use the extension .json."
   ]
  },
  {
   "cell_type": "code",
   "execution_count": 10,
   "metadata": {},
   "outputs": [],
   "source": [
    "jsonstring = \"\"\"\n",
    "{\"code\":\"espresso\",\"name\":\"Espresso\",\"price\":\"140\"}\n",
    "\"\"\""
   ]
  },
  {
   "cell_type": "code",
   "execution_count": 11,
   "metadata": {},
   "outputs": [
    {
     "data": {
      "text/plain": [
       "str"
      ]
     },
     "execution_count": 11,
     "metadata": {},
     "output_type": "execute_result"
    }
   ],
   "source": [
    "type(jsonstring)"
   ]
  },
  {
   "cell_type": "code",
   "execution_count": 12,
   "metadata": {},
   "outputs": [],
   "source": [
    "import json\n",
    "\n",
    "jsondata = json.loads(jsonstring)"
   ]
  },
  {
   "cell_type": "code",
   "execution_count": 13,
   "metadata": {},
   "outputs": [
    {
     "data": {
      "text/plain": [
       "dict"
      ]
     },
     "execution_count": 13,
     "metadata": {},
     "output_type": "execute_result"
    }
   ],
   "source": [
    "type(jsondata)"
   ]
  },
  {
   "cell_type": "code",
   "execution_count": 14,
   "metadata": {},
   "outputs": [
    {
     "data": {
      "text/plain": [
       "{'code': 'espresso', 'name': 'Espresso', 'price': '140'}"
      ]
     },
     "execution_count": 14,
     "metadata": {},
     "output_type": "execute_result"
    }
   ],
   "source": [
    "jsondata"
   ]
  },
  {
   "cell_type": "code",
   "execution_count": 31,
   "metadata": {},
   "outputs": [],
   "source": [
    "jsonliststring = \"\"\"\n",
    "[\n",
    "   {\"code\":\"espresso\",\"name\":\"Espresso\",\"price\":\"140\"},\n",
    "   {\"code\":\"americano\",\"name\":\"Americano\",\"price\":\"150\"},\n",
    "   {\"code\":\"cappuccino\",\"name\":\"Cappuccino\",\"price\":\"170\"}\n",
    "]\n",
    "\"\"\""
   ]
  },
  {
   "cell_type": "code",
   "execution_count": 32,
   "metadata": {},
   "outputs": [
    {
     "name": "stdout",
     "output_type": "stream",
     "text": [
      "\n",
      "The\n",
      "quick\n",
      "brown\n",
      "fox\n",
      "\n"
     ]
    }
   ],
   "source": [
    "jsonliststring2 =  \"\"\"\n",
    "The\n",
    "quick\n",
    "brown\n",
    "fox\n",
    "\"\"\"\n",
    "        \n",
    "print(jsonliststring2)"
   ]
  },
  {
   "cell_type": "code",
   "execution_count": 35,
   "metadata": {},
   "outputs": [],
   "source": [
    "jsondata = json.loads(jsonliststring)"
   ]
  },
  {
   "cell_type": "code",
   "execution_count": 36,
   "metadata": {},
   "outputs": [
    {
     "data": {
      "text/plain": [
       "list"
      ]
     },
     "execution_count": 36,
     "metadata": {},
     "output_type": "execute_result"
    }
   ],
   "source": [
    "type(jsondata)"
   ]
  },
  {
   "cell_type": "code",
   "execution_count": 37,
   "metadata": {},
   "outputs": [
    {
     "data": {
      "text/plain": [
       "[{'code': 'espresso', 'name': 'Espresso', 'price': '140'},\n",
       " {'code': 'americano', 'name': 'Americano', 'price': '150'},\n",
       " {'code': 'cappuccino', 'name': 'Cappuccino', 'price': '170'}]"
      ]
     },
     "execution_count": 37,
     "metadata": {},
     "output_type": "execute_result"
    }
   ],
   "source": [
    "jsondata"
   ]
  },
  {
   "cell_type": "markdown",
   "metadata": {},
   "source": [
    "### Write JSON to file"
   ]
  },
  {
   "cell_type": "code",
   "execution_count": 38,
   "metadata": {},
   "outputs": [],
   "source": [
    "with open('cp_menu.json', 'w') as menu_file:  # writing JSON object\n",
    "    json.dump(jsondata, menu_file)"
   ]
  },
  {
   "cell_type": "markdown",
   "metadata": {},
   "source": [
    "### Read JSON File"
   ]
  },
  {
   "cell_type": "code",
   "execution_count": 39,
   "metadata": {},
   "outputs": [],
   "source": [
    "with open('cp_menu.json', 'r') as menu_file:  # reading JSON object\n",
    "    jsondata2 = json.loads(menu_file.read())"
   ]
  },
  {
   "cell_type": "code",
   "execution_count": 40,
   "metadata": {},
   "outputs": [
    {
     "data": {
      "text/plain": [
       "[{'code': 'espresso', 'name': 'Espresso', 'price': '140'},\n",
       " {'code': 'americano', 'name': 'Americano', 'price': '150'},\n",
       " {'code': 'cappuccino', 'name': 'Cappuccino', 'price': '170'}]"
      ]
     },
     "execution_count": 40,
     "metadata": {},
     "output_type": "execute_result"
    }
   ],
   "source": [
    "jsondata2"
   ]
  },
  {
   "cell_type": "code",
   "execution_count": 28,
   "metadata": {},
   "outputs": [
    {
     "data": {
      "text/plain": [
       "list"
      ]
     },
     "execution_count": 28,
     "metadata": {},
     "output_type": "execute_result"
    }
   ],
   "source": [
    "type(jsondata2)"
   ]
  },
  {
   "cell_type": "markdown",
   "metadata": {},
   "source": [
    "### More CSV"
   ]
  },
  {
   "cell_type": "code",
   "execution_count": 41,
   "metadata": {},
   "outputs": [
    {
     "data": {
      "text/plain": [
       "{'americano': {'name': 'Americano', 'price': 150.0},\n",
       " 'brewedcoffee': {'name': 'Brewed Coffee', 'price': 120.0},\n",
       " 'cappuccino': {'name': 'Cappuccino', 'price': 170.0},\n",
       " 'espresso': {'name': 'Espresso', 'price': 140.0}}"
      ]
     },
     "execution_count": 41,
     "metadata": {},
     "output_type": "execute_result"
    }
   ],
   "source": [
    "import csv\n",
    "\n",
    "products = dict()\n",
    "\n",
    "with open('products.csv') as csv_file:\n",
    "    csv_reader = csv.reader(csv_file, delimiter=',')\n",
    "    line_count = 0\n",
    "    for row in csv_reader:\n",
    "        if line_count == 0:\n",
    "            pass\n",
    "        else:\n",
    "            products[row[0]]={\"name\":row[1], \"price\":float(row[2])}\n",
    "        line_count += 1\n",
    "        \n",
    "products"
   ]
  },
  {
   "cell_type": "code",
   "execution_count": 42,
   "metadata": {},
   "outputs": [
    {
     "data": {
      "text/plain": [
       "{'americano': {'name': 'Americano', 'price': 150.0},\n",
       " 'brewedcoffee': {'name': 'Brewed Coffee', 'price': 120.0},\n",
       " 'cappuccino': {'name': 'Cappuccino', 'price': 170.0},\n",
       " 'coldbrew': {'name': 'Cold Brew', 'price': 150.0},\n",
       " 'espresso': {'name': 'Espresso', 'price': 140.0},\n",
       " 'flatwhite': {'name': 'Flat White', 'price': 110.0},\n",
       " 'latte': {'name': 'Latte', 'price': 150.0},\n",
       " 'mocha': {'name': 'Mocha', 'price': 140.0},\n",
       " 'nitro': {'name': 'Nitro Black', 'price': 200.0}}"
      ]
     },
     "execution_count": 42,
     "metadata": {},
     "output_type": "execute_result"
    }
   ],
   "source": [
    "products_new = dict()\n",
    "\n",
    "with open('products_new.csv') as csv_file:\n",
    "    csv_reader = csv.reader(csv_file, delimiter=',')\n",
    "    line_count = 0\n",
    "    for row in csv_reader:\n",
    "        if line_count == 0:\n",
    "            pass\n",
    "        else:\n",
    "            products_new[row[0]]={\"name\":row[1], \"price\":float(row[2])}\n",
    "        line_count += 1\n",
    "        \n",
    "products_new"
   ]
  },
  {
   "cell_type": "code",
   "execution_count": 212,
   "metadata": {},
   "outputs": [
    {
     "data": {
      "text/plain": [
       "[{'First_Name': 'Jason', 'Last_Name': 'Francisco'},\n",
       " {'First_Name': 'Karl', 'Last_Name': 'Jacinto'},\n",
       " {'First_Name': 'Joe', 'Last_Name': 'Ilagan'},\n",
       " {'First_Name': 'David', 'Last_Name': 'Malabanan'},\n",
       " {'First_Name': 'Joe', 'Last_Name': 'Ilagan'}]"
      ]
     },
     "execution_count": 212,
     "metadata": {},
     "output_type": "execute_result"
    }
   ],
   "source": [
    "class_directory = list()\n",
    "\n",
    "with open('class_list.csv') as csv_file:\n",
    "    csv_reader = csv.reader(csv_file, delimiter=',')\n",
    "    line_count = 0\n",
    "    for row in csv_reader:\n",
    "        if line_count == 0:\n",
    "            pass\n",
    "        else:\n",
    "            class_directory.append({\"First_Name\":row[0], \"Last_Name\":row[1]})\n",
    "        line_count += 1\n",
    "        \n",
    "class_directory\n",
    "\n"
   ]
  },
  {
   "cell_type": "markdown",
   "metadata": {},
   "source": [
    "## Writing to CSV files"
   ]
  },
  {
   "cell_type": "code",
   "execution_count": 208,
   "metadata": {},
   "outputs": [],
   "source": [
    "import csv\n",
    "\n",
    "with open('sales_orders.csv', 'a', newline='') as csvfile:\n",
    "    order_writer = csv.writer(csvfile, quoting=csv.QUOTE_MINIMAL)\n",
    "    order_writer.writerow([\"code\",\"qty\",\"subtotal\"])\n",
    "    order_writer.writerow([\"espresso\",2,280])\n",
    "    order_writer.writerow(['americano', 1, 150])\n",
    "    order_writer.writerow(['latte', 1, 150])"
   ]
  },
  {
   "cell_type": "code",
   "execution_count": 43,
   "metadata": {},
   "outputs": [],
   "source": [
    "# Using DictWriter\n",
    "\n",
    "import csv\n",
    "\n",
    "with open('sales_orders_2.csv', 'a', newline='') as csvfile:\n",
    "    fieldnames = ['code', 'qty', 'subtotal']\n",
    "    writer = csv.DictWriter(csvfile, fieldnames=fieldnames)\n",
    "\n",
    "    writer.writeheader()\n",
    "    writer.writerow({'code': 'espresso', 'qty': 1, 'subtotal':140})\n",
    "    writer.writerow({'code': 'cappuccino', 'qty': 1, 'subtotal':170})\n",
    "    writer.writerow({'code': 'americano', 'qty': 1, 'subtotal':150})"
   ]
  },
  {
   "cell_type": "code",
   "execution_count": 44,
   "metadata": {},
   "outputs": [
    {
     "name": "stdout",
     "output_type": "stream",
     "text": [
      "espresso 140\n",
      "cappuccino 170\n",
      "americano 150\n",
      "code subtotal\n",
      "espresso 140\n",
      "cappuccino 170\n",
      "americano 150\n",
      "code subtotal\n",
      "espresso 140\n",
      "cappuccino 170\n",
      "americano 150\n",
      "code subtotal\n",
      "espresso 140\n",
      "cappuccino 170\n",
      "americano 150\n",
      "code subtotal\n",
      "espresso 140\n",
      "cappuccino 170\n",
      "americano 150\n",
      "code subtotal\n",
      "espresso 140\n",
      "cappuccino 170\n",
      "americano 150\n"
     ]
    }
   ],
   "source": [
    "# Using DictReader\n",
    "\n",
    "import csv\n",
    "with open('sales_orders_2.csv', newline='') as csvfile:\n",
    "    reader = csv.DictReader(csvfile)\n",
    "    for row in reader:\n",
    "        print(row['code'], row['subtotal'])"
   ]
  },
  {
   "cell_type": "markdown",
   "metadata": {},
   "source": [
    "## More I/O Examples"
   ]
  },
  {
   "cell_type": "code",
   "execution_count": 215,
   "metadata": {},
   "outputs": [],
   "source": [
    "string = \"some string\"\n",
    "\n",
    "with open('some_string.txt',\"w+\") as file:\n",
    "    file.write(string)"
   ]
  },
  {
   "cell_type": "code",
   "execution_count": 216,
   "metadata": {},
   "outputs": [],
   "source": [
    "my_html = \"\"\"\n",
    "    <html>\n",
    "        <body>\n",
    "            <h1>Heading 1</h1>\n",
    "            <h2>Heading 2</h2>\n",
    "            The <b>quick</b> brown <i>fox</i> jumps over the lazy dogs.\n",
    "            <p/>\n",
    "            <h3>What do you want to do next?</h3>\n",
    "            <ul>\n",
    "               <li> Generate HTML from Python </li>\n",
    "               <li> ...\n",
    "            </ul>\n",
    "            <p/>\n",
    "            Sample ordered list:\n",
    "            <ol>\n",
    "               <li> Generate HTML from Python </li>\n",
    "               <li> ...\n",
    "            </ol>\n",
    "            <hr/>\n",
    "        </body>\n",
    "    </html\n",
    "\"\"\"\n",
    "\n",
    "with open('index.html',\"w+\") as file:\n",
    "    file.write(my_html)"
   ]
  },
  {
   "cell_type": "code",
   "execution_count": 217,
   "metadata": {},
   "outputs": [],
   "source": [
    "cp_menu_html = \"\"\"\n",
    "     <table>\n",
    "         <th><td>Code</td></th><th><td>Name</td></th><th><td>Price</td></th>\n",
    "         <tr><td>espresso</td></th><th><td>Espresso</td></th><th><td>140</td></tr>\n",
    "         <tr><td>americano</td></th><th><td>Americano</td></th><th><td>150</td></tr>\n",
    "     </table>\n",
    "\"\"\"\n",
    "\n",
    "with open('cp_menu.html',\"w+\") as file:\n",
    "    file.write(cp_menu_html)"
   ]
  },
  {
   "cell_type": "code",
   "execution_count": 218,
   "metadata": {},
   "outputs": [],
   "source": [
    "menu_html = \"\"\"\n",
    "    <html>\n",
    "        <body>\n",
    "            <h1>Heading 1</h1>\n",
    "            <h2>Heading 2</h2>\n",
    "            The <b>quick</b> brown <i>fox</i> jumps over the lazy dogs.\n",
    "            <p/>\n",
    "            <h3>What do you want to do next?</h3>\n",
    "            <ul>\n",
    "               <li> Generate HTML from Python </li>\n",
    "               <li> ...\n",
    "            </ul>\n",
    "            <hr/>\n",
    "            <h3>Menu</h3>\n",
    "            {}\n",
    "        </body>\n",
    "    </html\n",
    "\"\"\"\n",
    "\n",
    "main_html = menu_html.format(cp_menu_html)\n",
    "\n",
    "with open('cp_menu.html',\"w+\") as file:\n",
    "    file.write(main_html)"
   ]
  },
  {
   "cell_type": "code",
   "execution_count": 219,
   "metadata": {},
   "outputs": [],
   "source": [
    "menu = [{\"code\":\"espresso\",\"name\":\"Espresso\",\"price\":140},\n",
    "        {\"code\":\"americano\",\"name\":\"Americano\",\"price\":150},\n",
    "       ]\n",
    "\n",
    "cp_menu_html = \"\"\"\n",
    "     <table>\n",
    "         <th><td>Code</td></th><th><td>Name</td></th><th><td>Price</td></th>\n",
    "         {}\n",
    "     </table>\n",
    "\"\"\"\n",
    "\n",
    "cp_menu_table = \"\"\n",
    "for i in menu:\n",
    "    cp_menu_row = cp_menu_row + \"<tr>\"\n",
    "    cp_menu_row = cp_menu_row + \"<td>\"+i[\"code\"]+\"</td>\"\n",
    "    cp_menu_row = cp_menu_row + \"<td>\"+i[\"name\"]+\"</td>\"\n",
    "    cp_menu_row = cp_menu_row +  \"<td>\"+str(i[\"price\"])+\"</td>\"\n",
    "    cp_menu_row = cp_menu_row + \"</tr>\"\n",
    "    cp_menu_table = cp_menu_table + cp_menu_row\n",
    "    cp_menu_table = cp_menu_table + \"</tr>\"\n",
    "    \n",
    "\n",
    "main_html = menu_html.format(cp_menu_html.format(cp_menu_table))\n",
    "\n",
    "with open('cp_menu.html',\"w+\") as file:\n",
    "    file.write(main_html)\n"
   ]
  },
  {
   "cell_type": "markdown",
   "metadata": {},
   "source": [
    "## Classes and Objects"
   ]
  },
  {
   "cell_type": "code",
   "execution_count": 2,
   "metadata": {},
   "outputs": [
    {
     "name": "stdout",
     "output_type": "stream",
     "text": [
      "Hello world\n"
     ]
    }
   ],
   "source": [
    "class Parent:\n",
    "    \n",
    "    def doSomething(self):\n",
    "        print(\"Hello world\")\n",
    "        \n",
    "parent = Parent()\n",
    "\n",
    "parent.doSomething()"
   ]
  },
  {
   "cell_type": "code",
   "execution_count": 4,
   "metadata": {},
   "outputs": [],
   "source": [
    "class Child(Parent):\n",
    "    \n",
    "    def doSomething(self):\n",
    "        print(\"Hello mama/papa\")"
   ]
  },
  {
   "cell_type": "code",
   "execution_count": 5,
   "metadata": {},
   "outputs": [
    {
     "name": "stdout",
     "output_type": "stream",
     "text": [
      "Hello mama/papa\n"
     ]
    }
   ],
   "source": [
    "person = Child()\n",
    "\n",
    "person.doSomething()"
   ]
  },
  {
   "cell_type": "code",
   "execution_count": 7,
   "metadata": {},
   "outputs": [],
   "source": [
    "class Animal:\n",
    "    \n",
    "    def make_sound(self):\n",
    "        print(\"silence...\")\n",
    "        \n",
    "class Dog(Animal):\n",
    "    \n",
    "    def make_sound(self):\n",
    "        print(\"arf!\")\n",
    "        \n",
    "class Cat(Animal):\n",
    "    \n",
    "    def make_sound(self):\n",
    "        print(\"meow\")\n",
    "        \n",
    "def delight(animal):\n",
    "    animal.make_sound()\n",
    "    "
   ]
  },
  {
   "cell_type": "code",
   "execution_count": 8,
   "metadata": {},
   "outputs": [
    {
     "name": "stdout",
     "output_type": "stream",
     "text": [
      "arf!\n",
      "meow\n"
     ]
    }
   ],
   "source": [
    "fido = Dog()\n",
    "kitler = Cat()\n",
    "\n",
    "delight(fido)\n",
    "delight(kitler)"
   ]
  },
  {
   "cell_type": "code",
   "execution_count": 10,
   "metadata": {},
   "outputs": [],
   "source": [
    "class Animal:\n",
    "    \n",
    "    def __init__(self,name):\n",
    "        self.name = name\n",
    "    \n",
    "    def make_sound(self):\n",
    "        print(\"silence...\")\n",
    "        \n",
    "class Dog(Animal):\n",
    "    \n",
    "    def make_sound(self):\n",
    "        print(\"arf!\")\n",
    "        \n",
    "class Cat(Animal):\n",
    "    \n",
    "    def make_sound(self):\n",
    "        print(\"meow\")\n",
    "        \n",
    "def delight(animal):\n",
    "    animal.make_sound()"
   ]
  },
  {
   "cell_type": "code",
   "execution_count": 16,
   "metadata": {},
   "outputs": [
    {
     "name": "stdout",
     "output_type": "stream",
     "text": [
      "Fido\n",
      "Kitler\n",
      "arf!\n",
      "meow\n"
     ]
    }
   ],
   "source": [
    "fido = Dog(\"Fido\")\n",
    "kitler = Cat(\"Kitler\")\n",
    "\n",
    "print(fido.name)\n",
    "print(kitler.name)\n",
    "\n",
    "delight(fido)\n",
    "delight(kitler)"
   ]
  },
  {
   "cell_type": "code",
   "execution_count": 17,
   "metadata": {},
   "outputs": [],
   "source": [
    "fido.food = \"bones\""
   ]
  },
  {
   "cell_type": "code",
   "execution_count": 18,
   "metadata": {},
   "outputs": [],
   "source": [
    "kitler.food = \"mice\""
   ]
  },
  {
   "cell_type": "code",
   "execution_count": 19,
   "metadata": {},
   "outputs": [
    {
     "data": {
      "text/plain": [
       "'bones'"
      ]
     },
     "execution_count": 19,
     "metadata": {},
     "output_type": "execute_result"
    }
   ],
   "source": [
    "fido.food"
   ]
  },
  {
   "cell_type": "code",
   "execution_count": 20,
   "metadata": {},
   "outputs": [
    {
     "data": {
      "text/plain": [
       "'mice'"
      ]
     },
     "execution_count": 20,
     "metadata": {},
     "output_type": "execute_result"
    }
   ],
   "source": [
    "kitler.food"
   ]
  },
  {
   "cell_type": "code",
   "execution_count": 22,
   "metadata": {},
   "outputs": [
    {
     "name": "stdout",
     "output_type": "stream",
     "text": [
      "bones\n",
      "mice\n"
     ]
    }
   ],
   "source": [
    "def ask_food(animal):\n",
    "    return(animal.food)\n",
    "\n",
    "print(ask_food(fido))\n",
    "print(ask_food(kitler))"
   ]
  },
  {
   "cell_type": "markdown",
   "metadata": {},
   "source": [
    "### More Practical Examples"
   ]
  },
  {
   "cell_type": "code",
   "execution_count": null,
   "metadata": {},
   "outputs": [],
   "source": []
  }
 ],
 "metadata": {
  "kernelspec": {
   "display_name": "Python 3",
   "language": "python",
   "name": "python3"
  },
  "language_info": {
   "codemirror_mode": {
    "name": "ipython",
    "version": 3
   },
   "file_extension": ".py",
   "mimetype": "text/x-python",
   "name": "python",
   "nbconvert_exporter": "python",
   "pygments_lexer": "ipython3",
   "version": "3.6.8"
  }
 },
 "nbformat": 4,
 "nbformat_minor": 2
}
