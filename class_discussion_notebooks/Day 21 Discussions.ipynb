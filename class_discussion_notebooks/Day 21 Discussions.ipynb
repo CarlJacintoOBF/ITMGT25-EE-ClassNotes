{
 "cells": [
  {
   "cell_type": "markdown",
   "metadata": {},
   "source": [
    "# Day 21 Discussions"
   ]
  },
  {
   "cell_type": "markdown",
   "metadata": {},
   "source": [
    "## Introduction to APIs"
   ]
  },
  {
   "cell_type": "markdown",
   "metadata": {},
   "source": [
    "#### Google APIs"
   ]
  },
  {
   "cell_type": "markdown",
   "metadata": {},
   "source": [
    "Follow Python [Quickstart](https://developers.google.com/sheets/api/quickstart/python?refresh=1&pli=1&authuser=1) for Google Sheets:\n",
    "- Enable Google API\n",
    "- Install Google Client Libraries via Anaconda\n",
    "  - `conda install -c conda-forge google-api-python-client`\n",
    "  - `conda install -c conda-forge google-auth-oauthlib`\n",
    "  - `conda install -c conda-forge google-auth-httplib2`\n"
   ]
  },
  {
   "cell_type": "markdown",
   "metadata": {},
   "source": [
    "Download Google Credentials\n",
    "\n"
   ]
  },
  {
   "cell_type": "markdown",
   "metadata": {},
   "source": [
    "Test installation of libraries"
   ]
  },
  {
   "cell_type": "code",
   "execution_count": 2,
   "metadata": {},
   "outputs": [],
   "source": [
    "import pickle\n",
    "import os.path\n",
    "from googleapiclient.discovery import build\n",
    "from google_auth_oauthlib.flow import InstalledAppFlow\n",
    "from google.auth.transport.requests import Request"
   ]
  },
  {
   "cell_type": "code",
   "execution_count": 5,
   "metadata": {},
   "outputs": [],
   "source": [
    "# Spreadsheet Link: https://docs.google.com/spreadsheets/d/1tt6w0qF6ZJZy1xBTyT8R4fzwhHO6xf8jdsRo1ObNuwo/edit?usp=sharing\n",
    "my_spreadsheet_link = \"1tt6w0qF6ZJZy1xBTyT8R4fzwhHO6xf8jdsRo1ObNuwo\""
   ]
  },
  {
   "cell_type": "code",
   "execution_count": 11,
   "metadata": {},
   "outputs": [
    {
     "name": "stdout",
     "output_type": "stream",
     "text": [
      "first name last name base pay\n",
      "Rodrigo Duterte 3000\n",
      "Leni Robredo 3000\n",
      "Tito Sotto 3000\n",
      "Peter Cayetano 3000\n",
      "Gloria Arroyo 3000\n",
      "Bam Aquino 3000\n",
      "Manny Pacquiao 3000\n",
      "Bato Dela Rosa 3000\n",
      "Cynthia Villar 3000\n",
      "Grace Poe 3000\n",
      "Bong Go 3000\n",
      "Sonny Angara 3000\n",
      "Lito Lapid 3000\n",
      "Imee Marcos 3000\n",
      "Francis Tolentino 3000\n",
      "Koko Pimentel 3000\n",
      "Bong Revilla 3000\n",
      "Nancy Binay 3000\n",
      "Pia Cayetano 3000\n",
      "Jinggoy Estrada 3000\n",
      "Mar Roxas 3000\n",
      "Jiggy Manicad 3000\n",
      "JV Ejercito 3000\n"
     ]
    }
   ],
   "source": [
    "import pickle\n",
    "import os.path\n",
    "from googleapiclient.discovery import build\n",
    "from google_auth_oauthlib.flow import InstalledAppFlow\n",
    "from google.auth.transport.requests import Request\n",
    "\n",
    "# If modifying these scopes, delete the file token.pickle.\n",
    "SCOPES = ['https://www.googleapis.com/auth/spreadsheets.readonly']\n",
    "\n",
    "# The ID and range of a sample spreadsheet.\n",
    "# Change with your own spreadsheet\n",
    "\n",
    "# Original\n",
    "# SAMPLE_SPREADSHEET_ID = '1BxiMVs0XRA5nFMdKvBdBZjgmUUqptlbs74OgvE2upms'\n",
    "# SAMPLE_RANGE_NAME = 'Class Data!A2:E'\n",
    "\n",
    "# New\n",
    "SAMPLE_SPREADSHEET_ID = my_spreadsheet_link\n",
    "SAMPLE_RANGE_NAME = 'employees!A1:D24'\n",
    "\n",
    "def main():\n",
    "    \"\"\"Shows basic usage of the Sheets API.\n",
    "    Prints values from a sample spreadsheet.\n",
    "    \"\"\"\n",
    "    creds = None\n",
    "    # The file token.pickle stores the user's access and refresh tokens, and is\n",
    "    # created automatically when the authorization flow completes for the first\n",
    "    # time.\n",
    "    if os.path.exists('token.pickle'):\n",
    "        with open('token.pickle', 'rb') as token:\n",
    "            creds = pickle.load(token)\n",
    "    # If there are no (valid) credentials available, let the user log in.\n",
    "    if not creds or not creds.valid:\n",
    "        if creds and creds.expired and creds.refresh_token:\n",
    "            creds.refresh(Request())\n",
    "        else:\n",
    "            flow = InstalledAppFlow.from_client_secrets_file(\n",
    "                'credentials.json', SCOPES)\n",
    "            creds = flow.run_local_server(port=0)\n",
    "        # Save the credentials for the next run\n",
    "        with open('token.pickle', 'wb') as token:\n",
    "            pickle.dump(creds, token)\n",
    "\n",
    "    service = build('sheets', 'v4', credentials=creds)\n",
    "\n",
    "    # Call the Sheets API\n",
    "    sheet = service.spreadsheets()\n",
    "    result = sheet.values().get(spreadsheetId=SAMPLE_SPREADSHEET_ID,\n",
    "                                range=SAMPLE_RANGE_NAME).execute()\n",
    "    values = result.get('values', [])\n",
    "\n",
    "    if not values:\n",
    "        print('No data found.')\n",
    "    else:\n",
    "        # print('Name, Major:')\n",
    "        for row in values:\n",
    "            # Print columns A, B and D, which correspond to indices 0, 1 and 3.\n",
    "            print('%s %s %s' % (row[0], row[1], row[3]))\n",
    "\n",
    "if __name__ == '__main__':\n",
    "    main()"
   ]
  },
  {
   "cell_type": "markdown",
   "metadata": {},
   "source": [
    "## Introduction to SQL"
   ]
  },
  {
   "cell_type": "code",
   "execution_count": 24,
   "metadata": {},
   "outputs": [],
   "source": [
    "# First, import the mysql python packages\n",
    "import mysql.connector\n",
    "from mysql.connector import MySQLConnection, Error"
   ]
  },
  {
   "cell_type": "code",
   "execution_count": 29,
   "metadata": {},
   "outputs": [],
   "source": [
    "def query_with_fetchall():\n",
    "    try:\n",
    "        conn = mysql.connector.connect(unix_socket='/tmp/mysql.sock',\n",
    "                                       database='order_mgt',\n",
    "                                       user='ateneo',\n",
    "                                       password='ateneo')\n",
    "        cursor = conn.cursor(dictionary=True)\n",
    "        cursor.execute(\"SELECT * FROM customers\")\n",
    "        rows = cursor.fetchall()\n",
    "        print('Total Row(s):', cursor.rowcount)\n",
    "        \n",
    " \n",
    "        for row in rows:\n",
    "            print(row['last_name']+\", \"+row[\"first_name\"])\n",
    "\n",
    "    except Error as e:\n",
    "        print(e)\n",
    " \n",
    "    finally:\n",
    "        cursor.close()\n",
    "        conn.close()"
   ]
  },
  {
   "cell_type": "code",
   "execution_count": 30,
   "metadata": {},
   "outputs": [
    {
     "name": "stdout",
     "output_type": "stream",
     "text": [
      "Total Row(s): 19\n",
      "Poe, Grace\n",
      "Villar, Cynthia\n",
      "Cayetano, Pia\n",
      "Lapid, Lito\n",
      "Binay, Nancy\n",
      "Angara, Sonny\n",
      "Pimentel, Koko\n",
      "Go, Bong\n",
      "Estrada, Jinggoy\n",
      "Roxas, Mar\n",
      "Marcos, Imee\n",
      "Revilla, Bong\n",
      "Aquino, Bam\n",
      "Osmena, Serge\n",
      "Dela Rosa, Bato\n",
      "Ejercito, JV\n",
      "Ponce Enrile, Juan\n",
      "Tolentino, Francis\n",
      "Roque, Harry\n"
     ]
    }
   ],
   "source": [
    "query_with_fetchall()"
   ]
  },
  {
   "cell_type": "code",
   "execution_count": 1,
   "metadata": {},
   "outputs": [],
   "source": [
    "import mysql.connector\n",
    "\n",
    "def mysql_update():\n",
    "    mydb = mysql.connector.connect(\n",
    "      unix_socket='/tmp/mysql.sock',\n",
    "      user=\"ateneo\",\n",
    "      passwd=\"ateneo\",\n",
    "      database=\"order_mgt\"\n",
    "    )\n",
    "\n",
    "    mycursor = mydb.cursor()\n",
    "\n",
    "    sql = \"UPDATE customers SET city = 'Pasig' WHERE last_name = 'Villar'\"\n",
    "\n",
    "    try :\n",
    "        mycursor.execute(sql)\n",
    "\n",
    "        mydb.commit()\n",
    "\n",
    "        print(mycursor.rowcount, \"record(s) affected\")\n",
    "    except:\n",
    "        mydb.rollback()\n",
    "        \n"
   ]
  },
  {
   "cell_type": "code",
   "execution_count": 2,
   "metadata": {},
   "outputs": [
    {
     "name": "stdout",
     "output_type": "stream",
     "text": [
      "1 record(s) affected\n"
     ]
    }
   ],
   "source": [
    "mysql_update()"
   ]
  },
  {
   "cell_type": "code",
   "execution_count": null,
   "metadata": {},
   "outputs": [],
   "source": []
  }
 ],
 "metadata": {
  "kernelspec": {
   "display_name": "Python 3",
   "language": "python",
   "name": "python3"
  },
  "language_info": {
   "codemirror_mode": {
    "name": "ipython",
    "version": 3
   },
   "file_extension": ".py",
   "mimetype": "text/x-python",
   "name": "python",
   "nbconvert_exporter": "python",
   "pygments_lexer": "ipython3",
   "version": "3.7.3"
  }
 },
 "nbformat": 4,
 "nbformat_minor": 2
}
