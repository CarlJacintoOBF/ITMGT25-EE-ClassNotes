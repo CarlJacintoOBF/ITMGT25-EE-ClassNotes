{
 "cells": [
  {
   "cell_type": "markdown",
   "metadata": {},
   "source": [
    "## First LT--July 2"
   ]
  },
  {
   "cell_type": "markdown",
   "metadata": {},
   "source": [
    "### Tips"
   ]
  },
  {
   "cell_type": "markdown",
   "metadata": {},
   "source": [
    "* Practice paper-coding; test your answers in Jupyter Notebook\n",
    "\n",
    "* Familiarize yourselves with handy functions and syntactic notations\n",
    "\n",
    "* Answer questions in Project Euler using paper"
   ]
  },
  {
   "cell_type": "markdown",
   "metadata": {},
   "source": [
    "### Remember in maths:\n",
    "\n",
    "S = {x² : x in {0 ... 9}}\n",
    "\n",
    "V = (1, 2, 4, 8, ..., 2¹²)\n",
    "\n",
    "M = {x | x in S and x even}"
   ]
  },
  {
   "cell_type": "markdown",
   "metadata": {},
   "source": [
    "### List Comprehensions"
   ]
  },
  {
   "cell_type": "code",
   "execution_count": 1,
   "metadata": {},
   "outputs": [
    {
     "name": "stdout",
     "output_type": "stream",
     "text": [
      "['A', 'B', 'C', 'D']\n",
      "[1, 2, 3, 4]\n"
     ]
    }
   ],
   "source": [
    "a_list = ['A','B','C','D']\n",
    "\n",
    "b_list = [1,2,3,4,]\n",
    "\n",
    "print(a_list)\n",
    "print(b_list)"
   ]
  },
  {
   "cell_type": "code",
   "execution_count": 2,
   "metadata": {},
   "outputs": [
    {
     "data": {
      "text/plain": [
       "[0, 1, 2, 3, 4]"
      ]
     },
     "execution_count": 2,
     "metadata": {},
     "output_type": "execute_result"
    }
   ],
   "source": [
    "[i for i in range(5)]"
   ]
  },
  {
   "cell_type": "code",
   "execution_count": 6,
   "metadata": {},
   "outputs": [
    {
     "name": "stdout",
     "output_type": "stream",
     "text": [
      "A-B-C-D-E-F-G-H-I-J-K-L-M-N-O-P-Q-R-S-T-U-V-W-X-Y-Z\n"
     ]
    }
   ],
   "source": [
    "no_of_letters=26\n",
    "charset=[chr(i) for i in range(65,65+no_of_letters)]\n",
    "\n",
    "print(\"-\".join(charset))"
   ]
  },
  {
   "cell_type": "code",
   "execution_count": null,
   "metadata": {},
   "outputs": [],
   "source": [
    "### Splitting characters to different list elements"
   ]
  },
  {
   "cell_type": "code",
   "execution_count": 7,
   "metadata": {},
   "outputs": [],
   "source": [
    "brown_fox_list = \"The quick brown fox jumps over the lazy dogs.\".split(\" \")"
   ]
  },
  {
   "cell_type": "code",
   "execution_count": 8,
   "metadata": {},
   "outputs": [
    {
     "data": {
      "text/plain": [
       "list"
      ]
     },
     "execution_count": 8,
     "metadata": {},
     "output_type": "execute_result"
    }
   ],
   "source": [
    "type(brown_fox_list)"
   ]
  },
  {
   "cell_type": "code",
   "execution_count": 9,
   "metadata": {},
   "outputs": [
    {
     "data": {
      "text/plain": [
       "['The', 'quick', 'brown', 'fox', 'jumps', 'over', 'the', 'lazy', 'dogs.']"
      ]
     },
     "execution_count": 9,
     "metadata": {},
     "output_type": "execute_result"
    }
   ],
   "source": [
    "brown_fox_list"
   ]
  },
  {
   "cell_type": "code",
   "execution_count": 10,
   "metadata": {},
   "outputs": [
    {
     "data": {
      "text/plain": [
       "['THE', 'FOX', 'THE']"
      ]
     },
     "execution_count": 10,
     "metadata": {},
     "output_type": "execute_result"
    }
   ],
   "source": [
    "[word.upper() for word in brown_fox_list if len(word)==3]"
   ]
  },
  {
   "cell_type": "code",
   "execution_count": 11,
   "metadata": {},
   "outputs": [
    {
     "data": {
      "text/plain": [
       "['THE', 'quick', 'brown', 'FOX', 'jumps', 'over', 'THE', 'lazy', 'dogs.']"
      ]
     },
     "execution_count": 11,
     "metadata": {},
     "output_type": "execute_result"
    }
   ],
   "source": [
    "def upper_if_length_of_three(word):\n",
    "    if(len(word)==3):\n",
    "        return word.upper()\n",
    "    else:\n",
    "        return word\n",
    "\n",
    "[upper_if_length_of_three(word) for word in brown_fox_list]"
   ]
  },
  {
   "cell_type": "markdown",
   "metadata": {},
   "source": [
    "### Nested Loop Pattern"
   ]
  },
  {
   "cell_type": "code",
   "execution_count": 19,
   "metadata": {},
   "outputs": [
    {
     "name": "stdout",
     "output_type": "stream",
     "text": [
      "0 0\n",
      "0 1\n",
      "1 0\n",
      "1 1\n"
     ]
    }
   ],
   "source": [
    "for  i in range(0,2):\n",
    "    for j in range(0,2):\n",
    "       print(i,j)"
   ]
  },
  {
   "cell_type": "markdown",
   "metadata": {},
   "source": [
    "#### Triangle Drawing Pattern"
   ]
  },
  {
   "cell_type": "code",
   "execution_count": 15,
   "metadata": {},
   "outputs": [
    {
     "name": "stdout",
     "output_type": "stream",
     "text": [
      "\n",
      "*\n",
      "* *\n",
      "* * *\n",
      "* * * *\n",
      "* * * * *\n",
      "* * * * * *\n",
      "* * * * * * *\n",
      "* * * * * * * *\n",
      "* * * * * * * * *\n"
     ]
    }
   ],
   "source": [
    "# One approach\n",
    "for i in range(10):\n",
    "    some_list = []\n",
    "    for j in range(i):\n",
    "        some_list.append(\"*\")\n",
    "    print(\" \".join(some_list))\n",
    "        "
   ]
  },
  {
   "cell_type": "code",
   "execution_count": 14,
   "metadata": {},
   "outputs": [
    {
     "name": "stdout",
     "output_type": "stream",
     "text": [
      "\n",
      "*\n",
      "* *\n",
      "* * *\n",
      "* * * *\n",
      "* * * * *\n",
      "* * * * * *\n",
      "* * * * * * *\n",
      "* * * * * * * *\n",
      "* * * * * * * * *\n"
     ]
    }
   ],
   "source": [
    "# Another approach\n",
    "for i in range(10):\n",
    "    for j in range(i):\n",
    "        if(j==(i-1)):\n",
    "            end=\"\"\n",
    "        else:\n",
    "            end=\" \"\n",
    "        \n",
    "        print(\"*\",end=end)\n",
    "    print(\"\")"
   ]
  },
  {
   "cell_type": "code",
   "execution_count": 20,
   "metadata": {},
   "outputs": [
    {
     "name": "stdout",
     "output_type": "stream",
     "text": [
      "          \n",
      "         *\n",
      "        * *\n",
      "       * * *\n",
      "      * * * *\n",
      "     * * * * *\n",
      "    * * * * * *\n",
      "   * * * * * * *\n",
      "  * * * * * * * *\n",
      " * * * * * * * * *\n"
     ]
    }
   ],
   "source": [
    "# Centered Triangle\n",
    "line_length = 20\n",
    "# One approach\n",
    "for i in range(10):\n",
    "    some_list = []\n",
    "    for j in range(i):\n",
    "        some_list.append(\"*\")\n",
    "    output_line = \" \".join(some_list)\n",
    "    spaces=(line_length-len(output_line))/2\n",
    "    print(\" \"*int(spaces),end=\"\")\n",
    "    print(output_line)"
   ]
  },
  {
   "cell_type": "code",
   "execution_count": 21,
   "metadata": {},
   "outputs": [
    {
     "name": "stdout",
     "output_type": "stream",
     "text": [
      "                    \n",
      "                   *\n",
      "                 * *\n",
      "               * * *\n",
      "             * * * *\n",
      "           * * * * *\n",
      "         * * * * * *\n",
      "       * * * * * * *\n",
      "     * * * * * * * *\n",
      "   * * * * * * * * *\n"
     ]
    }
   ],
   "source": [
    "# Right-aligned Triangle\n",
    "line_length = 20\n",
    "# One approach\n",
    "for i in range(10):\n",
    "    some_list = []\n",
    "    for j in range(i):\n",
    "        some_list.append(\"*\")\n",
    "    output_line = \" \".join(some_list)\n",
    "    spaces=(line_length-len(output_line))\n",
    "    print(\" \"*int(spaces),end=\"\")\n",
    "    print(output_line)"
   ]
  },
  {
   "cell_type": "code",
   "execution_count": 25,
   "metadata": {},
   "outputs": [
    {
     "name": "stdout",
     "output_type": "stream",
     "text": [
      "a\n",
      "b\n"
     ]
    }
   ],
   "source": [
    "print(\"a\",end=\"\\n\")\n",
    "print(\"b\")"
   ]
  },
  {
   "cell_type": "markdown",
   "metadata": {},
   "source": [
    "### Generators"
   ]
  },
  {
   "cell_type": "markdown",
   "metadata": {},
   "source": [
    "#### Fibonacci"
   ]
  },
  {
   "cell_type": "code",
   "execution_count": null,
   "metadata": {},
   "outputs": [],
   "source": [
    "def fib(n):\n",
    "    prev = 0\n",
    "    next = 1\n",
    "    for i in range(0,n):\n",
    "        if(i>=1):\n",
    "            prev, next = next, prev+next\n",
    "        yield prev\n",
    "        \n",
    "[i for i in fib(10)]"
   ]
  },
  {
   "cell_type": "code",
   "execution_count": null,
   "metadata": {},
   "outputs": [],
   "source": [
    "def fib(n):\n",
    "    prev = 0\n",
    "    next = 1\n",
    "    for i in range(0,n):\n",
    "        if(i>=1):\n",
    "            prev, next = next, prev+next\n",
    "        yield prev\n",
    "        \n",
    "for i, f in enumerate(fib(10)):\n",
    "    some_list = []\n",
    "    for j in range(i):\n",
    "        some_list.append(str(f))\n",
    "    print(\"   \".join(some_list))"
   ]
  },
  {
   "cell_type": "code",
   "execution_count": null,
   "metadata": {},
   "outputs": [],
   "source": [
    "# The previous solution was not what we wanted. Use \"next\" instead.\n",
    "\n",
    "def fib(n):\n",
    "    prev = 0\n",
    "    next = 1\n",
    "    for i in range(0,n):\n",
    "        if(i>=1):\n",
    "            prev, next = next, prev+next\n",
    "        yield prev\n",
    "        \n",
    "max = 10\n",
    "        \n",
    "z = fib(10)\n",
    "\n",
    "count = 0\n",
    "i=0\n",
    "while count<max:\n",
    "    some_list = []\n",
    "    for j in range(i):\n",
    "        some_list.append(str(next(z)))\n",
    "        count += 1\n",
    "        if(count==max):\n",
    "            break\n",
    "    i+=1\n",
    "    print(\" \".join(some_list))"
   ]
  },
  {
   "cell_type": "code",
   "execution_count": null,
   "metadata": {},
   "outputs": [],
   "source": [
    "# How about a series of squares?\n",
    "# Notice how we are able to simply change the function and not the code below\n",
    "\n",
    "def squares(n):\n",
    "    for i in range(0,n):\n",
    "        yield i**2\n",
    "        \n",
    "max = 10\n",
    "        \n",
    "z = squares(10)\n",
    "\n",
    "count = 0\n",
    "i=0\n",
    "while count<max:\n",
    "    some_list = []\n",
    "    for j in range(i):\n",
    "        some_list.append(str(next(z)))\n",
    "        count += 1\n",
    "        if(count==max):\n",
    "            break\n",
    "    i+=1\n",
    "    print(\" \".join(some_list))"
   ]
  },
  {
   "cell_type": "code",
   "execution_count": null,
   "metadata": {},
   "outputs": [],
   "source": [
    "# Centered Fibonacci Triangle\n",
    "# (using a ready-made list instead)\n",
    "line_length = 20\n",
    "fib_list = [f for f in fib(10)] \n",
    "# lol actually you don't need a generator function to do this; I just reused for convenience.\n",
    "\n",
    "count = 0\n",
    "i = 0\n",
    "while(count<len(fib_list)):\n",
    "    some_list = []\n",
    "    for j in range(0,i):\n",
    "        some_list.append(str(fib_list[count]))\n",
    "        count += 1\n",
    "        if(count==len(fib_list)):\n",
    "            break\n",
    "    output_line = \" \".join(some_list)\n",
    "    spaces=(line_length-len(output_line))/2\n",
    "    print(\" \"*int(spaces),end=\"\")\n",
    "    print(output_line)\n",
    "    i+=1"
   ]
  },
  {
   "cell_type": "markdown",
   "metadata": {},
   "source": [
    "### Lambda Functions"
   ]
  },
  {
   "cell_type": "code",
   "execution_count": null,
   "metadata": {},
   "outputs": [],
   "source": [
    "my_lambda_function = lambda x: x + 1"
   ]
  },
  {
   "cell_type": "code",
   "execution_count": null,
   "metadata": {},
   "outputs": [],
   "source": [
    "my_lambda_function(1)"
   ]
  },
  {
   "cell_type": "code",
   "execution_count": null,
   "metadata": {},
   "outputs": [],
   "source": [
    "lfunc = lambda x: x.upper() if len(x)==3 else x\n",
    "[lfunc(word) for word in brown_fox_list]"
   ]
  },
  {
   "cell_type": "code",
   "execution_count": null,
   "metadata": {},
   "outputs": [],
   "source": [
    "[(lambda x: x.upper() if len(x)==3 else x)(word) for word in brown_fox_list]"
   ]
  },
  {
   "cell_type": "code",
   "execution_count": null,
   "metadata": {},
   "outputs": [],
   "source": []
  },
  {
   "cell_type": "markdown",
   "metadata": {},
   "source": [
    "### Enumerate"
   ]
  },
  {
   "cell_type": "code",
   "execution_count": null,
   "metadata": {},
   "outputs": [],
   "source": [
    "# Who died first?\n",
    "got_characters=[{\"name\":\"Prince Viserys Targarian\",\"seq\":1},\n",
    " {\"name\":\"King Robb Stark\", \"seq\":4},\n",
    " {\"name\":\"Lord Eddard \\\"Ned\\\" Stark\", \"seq\":3},\n",
    " {\"name\":\"King Robert Baratheon\", \"seq\":2}\n",
    "]\n",
    "\n",
    "got_characters"
   ]
  },
  {
   "cell_type": "code",
   "execution_count": null,
   "metadata": {},
   "outputs": [],
   "source": [
    "[c[\"name\"] for c in got_characters]"
   ]
  },
  {
   "cell_type": "code",
   "execution_count": null,
   "metadata": {},
   "outputs": [],
   "source": [
    "# Enumerate function\n",
    "for i,c in enumerate(got_characters):\n",
    "    print(str(i)+\":\"+c[\"name\"])\n",
    "    "
   ]
  },
  {
   "cell_type": "code",
   "execution_count": null,
   "metadata": {},
   "outputs": [],
   "source": [
    "got_characters[3]"
   ]
  },
  {
   "cell_type": "code",
   "execution_count": null,
   "metadata": {},
   "outputs": [],
   "source": [
    "key = lambda x: x[\"seq\"]\n",
    "key(got_characters[1])"
   ]
  },
  {
   "cell_type": "markdown",
   "metadata": {},
   "source": [
    "### Sort"
   ]
  },
  {
   "cell_type": "code",
   "execution_count": null,
   "metadata": {},
   "outputs": [],
   "source": [
    "# sorts list in place\n",
    "got_characters.sort(key=lambda x: x[\"seq\"])"
   ]
  },
  {
   "cell_type": "code",
   "execution_count": null,
   "metadata": {},
   "outputs": [],
   "source": [
    "got_characters"
   ]
  },
  {
   "cell_type": "markdown",
   "metadata": {},
   "source": [
    "## Error and Exception Handling"
   ]
  },
  {
   "cell_type": "markdown",
   "metadata": {},
   "source": [
    "Note: Syntax Errors cannot be caught. Only Runtime errors.\n",
    "```\n",
    "try:\n",
    "    ...\n",
    "except IOError:\n",
    "    print('An error occured trying to read the file.')\n",
    "    \n",
    "except ValueError:\n",
    "    print('Non-numeric data found in the file.')\n",
    "\n",
    "except ImportError:\n",
    "    print \"NO module found\"\n",
    "    \n",
    "except EOFError:\n",
    "    print('Why did you do an EOF on me?')\n",
    "\n",
    "except KeyboardInterrupt:\n",
    "    print('You cancelled the operation.')\n",
    "\n",
    "except:\n",
    "    print('An error occured.')\n",
    "```"
   ]
  },
  {
   "cell_type": "code",
   "execution_count": null,
   "metadata": {},
   "outputs": [],
   "source": [
    "x = int(input(\"Enter value: \"))"
   ]
  },
  {
   "cell_type": "code",
   "execution_count": null,
   "metadata": {},
   "outputs": [],
   "source": [
    "try:\n",
    "    x = int(input(\"Enter value: \"))\n",
    "except ValueError:\n",
    "    print(\"Non-numeric data entered.\")"
   ]
  },
  {
   "cell_type": "code",
   "execution_count": null,
   "metadata": {},
   "outputs": [],
   "source": [
    "valid_entry = False\n",
    "while(not valid_entry):\n",
    "    try:\n",
    "        x = int(input(\"Enter value: \"))\n",
    "        valid_entry = True\n",
    "    except ValueError:\n",
    "        print(\"Non-numeric data entered.\")"
   ]
  },
  {
   "cell_type": "markdown",
   "metadata": {},
   "source": [
    "## File I/O"
   ]
  },
  {
   "cell_type": "markdown",
   "metadata": {},
   "source": [
    "Note: Today, we shall only cover text files. Binary files will be covered at a later date (if time permits)."
   ]
  },
  {
   "cell_type": "code",
   "execution_count": null,
   "metadata": {},
   "outputs": [],
   "source": [
    "string = \"Hello world!\""
   ]
  },
  {
   "cell_type": "markdown",
   "metadata": {},
   "source": [
    "The argument mode points to a string beginning with one of the following\n",
    " sequences (Additional characters may follow these sequences.):\n",
    "\n",
    " \"r\"   Open text file for reading.  The stream is positioned at the\n",
    "       beginning of the file.\n",
    "\n",
    " \"r+\"  Open for reading and writing.  The stream is positioned at the\n",
    "       beginning of the file.\n",
    "\n",
    " \"w\"   Truncate file to zero length or create text file for writing.\n",
    "       The stream is positioned at the beginning of the file.\n",
    "\n",
    " \"w+\"  Open for reading and writing.  The file is created if it does not\n",
    "       exist, otherwise it is truncated.  The stream is positioned at\n",
    "       the beginning of the file.\n",
    "\n",
    " \"a\"   Open for writing.  The file is created if it does not exist.  The\n",
    "       stream is positioned at the end of the file.  Subsequent writes\n",
    "       to the file will always end up at the then current end of file,\n",
    "       irrespective of any intervening fseek(3) or similar.\n",
    "\n",
    " \"a+\"  Open for reading and writing.  The file is created if it does not\n",
    "       exist.  The stream is positioned at the end of the file.  Subse-\n",
    "       quent writes to the file will always end up at the then current\n",
    "       end of file, irrespective of any intervening fseek(3) or similar."
   ]
  },
  {
   "cell_type": "markdown",
   "metadata": {},
   "source": [
    "### ```with``` clause"
   ]
  },
  {
   "cell_type": "markdown",
   "metadata": {},
   "source": [
    "Writing to text files"
   ]
  },
  {
   "cell_type": "code",
   "execution_count": null,
   "metadata": {},
   "outputs": [],
   "source": [
    "# with is syntactic sugar for try ... except with file close\n",
    "\n",
    "with open('hello.txt',\"w+\") as file:\n",
    "    file.write(string)"
   ]
  },
  {
   "cell_type": "code",
   "execution_count": null,
   "metadata": {},
   "outputs": [],
   "source": [
    "with open('hello.txt',\"a+\") as file:\n",
    "    file.write(\"Testing again\")"
   ]
  },
  {
   "cell_type": "markdown",
   "metadata": {},
   "source": [
    "### Multiple Lines"
   ]
  },
  {
   "cell_type": "code",
   "execution_count": null,
   "metadata": {},
   "outputs": [],
   "source": [
    "strings = [\"This\",\"is\",\"a\",\"multi-line\",\"document\"]"
   ]
  },
  {
   "cell_type": "code",
   "execution_count": null,
   "metadata": {},
   "outputs": [],
   "source": [
    "strings"
   ]
  },
  {
   "cell_type": "code",
   "execution_count": null,
   "metadata": {},
   "outputs": [],
   "source": [
    "with open(\"multiline.txt\",\"w+\") as multiline_file:\n",
    "    for item in strings:\n",
    "        multiline_file.write(item+'\\n') #unlike print(), write does not append a newline character by default"
   ]
  },
  {
   "cell_type": "markdown",
   "metadata": {},
   "source": [
    "### Reading from Text Files"
   ]
  },
  {
   "cell_type": "code",
   "execution_count": null,
   "metadata": {},
   "outputs": [],
   "source": [
    "with open(\"multiline.txt\",\"r\") as multiline_file:\n",
    "    lines = multiline_file.readlines()\n",
    "    for line in lines:\n",
    "        print(line,end=\"\")"
   ]
  },
  {
   "cell_type": "markdown",
   "metadata": {},
   "source": [
    "### Processing Comma Separated Value (CSV) files"
   ]
  },
  {
   "cell_type": "markdown",
   "metadata": {},
   "source": [
    "#### From Wikipedia:\n",
    "\n",
    "In computing, a comma-separated values (CSV) file is a delimited text file that uses a comma to separate values. A CSV file stores tabular data (numbers and text) in plain text. Each line of the file is a data record. Each record consists of one or more fields, separated by commas. The use of the comma as a field separator is the source of the name for this file format.\n",
    "\n",
    "The CSV file format is not fully standardized. The basic idea of separating fields with a comma is clear, but that idea gets complicated when the field data may also contain commas or even embedded line-breaks. CSV implementations may not handle such field data, or they may use quotation marks to surround the field. Quotation does not solve everything: some fields may need embedded quotation marks, so a CSV implementation may include escape characters or escape sequences.\n",
    "\n",
    "In addition, the term \"CSV\" also denotes some closely related delimiter-separated formats that use different field delimiters, for example, semicolons. These include tab-separated values and space-separated values. A delimiter that is not present in the field data (such as tab) keeps the format parsing simple. These alternate delimiter-separated files are often even given a .csv extension despite the use of a non-comma field separator. This loose terminology can cause problems in data exchange. Many applications that accept CSV files have options to select the delimiter character and the quotation character. Semicolons are often used in some European countries, such as Italy, instead of commas."
   ]
  },
  {
   "cell_type": "markdown",
   "metadata": {},
   "source": [
    "#### Example CSV\n",
    "```\n",
    "code,name,price\n",
    "\"brewedcoffee\",\"Brewed Coffee\",120.0\n",
    "\"espresso\",\"Espresso\",140.00\n",
    "\"americano\",\"Americano\",150.00\n",
    "\"capuccino\",\"Capuccino\",170.00\n",
    "```"
   ]
  },
  {
   "cell_type": "markdown",
   "metadata": {},
   "source": [
    "Create a text file named **products.csv** with contents from the previous cell. Make sure that this line is in the beginning of the file:\n",
    "\n",
    "```code,name,price```\n",
    "\n",
    "Save the file in the same directory as this notebook."
   ]
  },
  {
   "cell_type": "code",
   "execution_count": null,
   "metadata": {},
   "outputs": [],
   "source": [
    "import csv"
   ]
  },
  {
   "cell_type": "code",
   "execution_count": null,
   "metadata": {},
   "outputs": [],
   "source": [
    "with open('products.csv') as csv_file:\n",
    "    csv_reader = csv.reader(csv_file, delimiter=',')\n",
    "    line_count = 0\n",
    "    for row in csv_reader:\n",
    "        if line_count == 0:\n",
    "            print(f'Column names are {\", \".join(row)}')\n",
    "        else:\n",
    "            print(f'\\t{row[0]}  {row[1]}  {row[2]}')\n",
    "        line_count += 1"
   ]
  },
  {
   "cell_type": "markdown",
   "metadata": {},
   "source": [
    "#### Alternative using ```enumerate```\n"
   ]
  },
  {
   "cell_type": "code",
   "execution_count": null,
   "metadata": {},
   "outputs": [],
   "source": [
    "with open('products.csv') as csv_file:\n",
    "    csv_reader = csv.reader(csv_file, delimiter=',')\n",
    "    for line_count, row in enumerate(csv_reader):\n",
    "        if line_count == 0:\n",
    "            print(f'Column names are {\", \".join(row)}')\n",
    "        else:\n",
    "            print(f'\\t{row[0]}  {row[1]}  {row[2]}')"
   ]
  },
  {
   "cell_type": "markdown",
   "metadata": {},
   "source": [
    "### Data Transformation: Constructing the dictionary"
   ]
  },
  {
   "cell_type": "code",
   "execution_count": null,
   "metadata": {},
   "outputs": [],
   "source": [
    "products = dict()\n",
    "\n",
    "with open('products.csv') as csv_file:\n",
    "    csv_reader = csv.reader(csv_file, delimiter=',')\n",
    "    line_count = 0\n",
    "    for row in csv_reader:\n",
    "        if line_count == 0:\n",
    "            pass\n",
    "        else:\n",
    "            products[row[0]]={\"name\":row[1], \"price\":float(row[2])}\n",
    "        line_count += 1\n",
    "        \n",
    "products"
   ]
  },
  {
   "cell_type": "code",
   "execution_count": null,
   "metadata": {},
   "outputs": [],
   "source": [
    "products_new = dict()\n",
    "\n",
    "with open('products_new.csv') as csv_file:\n",
    "    csv_reader = csv.reader(csv_file, delimiter=',')\n",
    "    line_count = 0\n",
    "    for row in csv_reader:\n",
    "        if line_count == 0:\n",
    "            pass\n",
    "        else:\n",
    "            products_new[row[0]]={\"name\":row[1], \"price\":float(row[2])}\n",
    "        line_count += 1\n",
    "        \n",
    "products_new"
   ]
  },
  {
   "cell_type": "markdown",
   "metadata": {},
   "source": [
    "## What's in store for Day 9?"
   ]
  },
  {
   "cell_type": "markdown",
   "metadata": {},
   "source": [
    "More Data Types\n",
    "* JSON\n",
    "* XML\n",
    "* HTML\n",
    "\n",
    "Classes and Objects"
   ]
  },
  {
   "cell_type": "code",
   "execution_count": null,
   "metadata": {},
   "outputs": [],
   "source": []
  }
 ],
 "metadata": {
  "kernelspec": {
   "display_name": "Python 3",
   "language": "python",
   "name": "python3"
  },
  "language_info": {
   "codemirror_mode": {
    "name": "ipython",
    "version": 3
   },
   "file_extension": ".py",
   "mimetype": "text/x-python",
   "name": "python",
   "nbconvert_exporter": "python",
   "pygments_lexer": "ipython3",
   "version": "3.6.8"
  }
 },
 "nbformat": 4,
 "nbformat_minor": 2
}
