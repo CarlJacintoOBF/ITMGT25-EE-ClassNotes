{
 "cells": [
  {
   "cell_type": "markdown",
   "metadata": {},
   "source": [
    "# ITMGT 25.03 EE\n",
    "### Assignment 1\n",
    "\n",
    "These exercises are designed to strengthen your grasp on basic programming concepts. Read what is required of you carefully.\n",
    "\n",
    "This assignment is only over 10 points, but there are 15 points available to earn from answering the questions. It will be credited to Class Participation, which will be over 200 for the entire semester.\n",
    "\n",
    "Rename the file to:\n",
    "\n",
    "Lastname_Assignment_1.ipynb\n",
    "\n",
    "Send to my email account: joben.ilagan@gmail.com. \n",
    "Attach the file or create a Dropbox link. \n",
    "The deadline is Tuesday, 18 June 2019, 12:00 nn.\n",
    "\n",
    "You may earn another 2 bonus points for figuring out GitHub and linking me to your repository in your email. (This brings the absolute maximum possible grade for this assignment to 17/10.)"
   ]
  },
  {
   "cell_type": "markdown",
   "metadata": {},
   "source": [
    "# 1\n",
    "### 1 point\n",
    "\n",
    "Write a function that takes the circumference of a circle as a parameter and **returns** the area of that circle."
   ]
  },
  {
   "cell_type": "code",
   "execution_count": 2,
   "metadata": {},
   "outputs": [],
   "source": [
    "pi = 3.1416\n",
    "\n",
    "def radius(circumference):\n",
    "    # circumference = 2*pi*r\n",
    "    # r = circumference / (2*pi)\n",
    "    return circumference / (2*pi)\n",
    "\n",
    "def area(circumference):\n",
    "    # area = pi * (r**2)\n",
    "    # get r from circumference\n",
    "    # call radius(circumference)\n",
    "    return pi * (radius(circumference) ** 2)"
   ]
  },
  {
   "cell_type": "code",
   "execution_count": 4,
   "metadata": {},
   "outputs": [
    {
     "data": {
      "text/plain": [
       "76.47377132671251"
      ]
     },
     "execution_count": 4,
     "metadata": {},
     "output_type": "execute_result"
    }
   ],
   "source": [
    "area(31)"
   ]
  },
  {
   "cell_type": "markdown",
   "metadata": {},
   "source": [
    "# 2\n",
    "### 2 points\n",
    "\n",
    "Write a function that takes a 5-character string as a parameter and **returns** the string in reverse order.\n",
    "\n",
    "e.g. reverseString(\"Hello\") -> \"olleH\""
   ]
  },
  {
   "cell_type": "code",
   "execution_count": 5,
   "metadata": {},
   "outputs": [
    {
     "data": {
      "text/plain": [
       "5"
      ]
     },
     "execution_count": 5,
     "metadata": {},
     "output_type": "execute_result"
    }
   ],
   "source": [
    "str = \"Hello\"\n",
    "len(str)"
   ]
  },
  {
   "cell_type": "code",
   "execution_count": 7,
   "metadata": {},
   "outputs": [
    {
     "name": "stdout",
     "output_type": "stream",
     "text": [
      "olleH"
     ]
    }
   ],
   "source": [
    "def reverseString(str):\n",
    "    for i in range(len(str)-1,-1,-1):\n",
    "        print(str[i],end='')\n",
    "        \n",
    "reverseString(\"Hello\")"
   ]
  },
  {
   "cell_type": "code",
   "execution_count": null,
   "metadata": {},
   "outputs": [],
   "source": [
    "stra = \"Hello\"\n",
    "strb = \"world\"\n",
    "stra + \" \" + strb\n",
    "stra[1] + stra[0]"
   ]
  },
  {
   "cell_type": "markdown",
   "metadata": {},
   "source": [
    "# 3\n",
    "### 2 points\n",
    "\n",
    "Write a function that takes a positive integer as input and **returns** the sum of all positive integers smaller than and including the number itself.\n",
    "\n",
    "e.g. backAddition(5) -> 1 + 2 + 3 + 4 + 5 -> 15"
   ]
  },
  {
   "cell_type": "code",
   "execution_count": 8,
   "metadata": {},
   "outputs": [
    {
     "data": {
      "text/plain": [
       "15"
      ]
     },
     "execution_count": 8,
     "metadata": {},
     "output_type": "execute_result"
    }
   ],
   "source": [
    "def backAddition(num):\n",
    "    sum = 0\n",
    "    for i in range(0,num+1):\n",
    "        sum += i\n",
    "    return sum\n",
    "        \n",
    "backAddition(5)"
   ]
  },
  {
   "cell_type": "markdown",
   "metadata": {},
   "source": [
    "# 4\n",
    "### 3 points\n",
    "\n",
    "Write a function that does the following:\n",
    "1. The function iterates through each number from 1 to 100. Print each number.\n",
    "2. If the number is divisible by 3, instead of the number, print \"Fizz\"\n",
    "3. If the number is divisible by 5, instead of the number, print \"Buzz\"\n",
    "4. If the number is divisible by both 3 and 5, instead of the number, print \"FizzBuzz\"\n",
    "\n",
    "e.g.\n",
    "\n",
    "1\n",
    "\n",
    "2\n",
    "\n",
    "Fizz\n",
    "\n",
    "4\n",
    "\n",
    "Buzz\n",
    "\n",
    "Fizz\n",
    "\n",
    "...\n",
    "\n",
    "14\n",
    "\n",
    "FizzBuzz\n",
    "\n",
    "16\n",
    "\n",
    "17\n",
    "\n",
    "..."
   ]
  },
  {
   "cell_type": "code",
   "execution_count": null,
   "metadata": {},
   "outputs": [],
   "source": [
    "def fizzbuzz():\n",
    "    for i in range(1,101):\n",
    "       if(i%3==0 and i%5==0):\n",
    "          print(\"FizzBuzz\")\n",
    "       elif(i%3==0):\n",
    "          print(\"Fizz\")\n",
    "       elif(i%5==0):\n",
    "          print(\"Buzz\")\n",
    "       else:\n",
    "          print(i)\n",
    "        \n",
    "fizzbuzz()"
   ]
  },
  {
   "cell_type": "code",
   "execution_count": null,
   "metadata": {},
   "outputs": [],
   "source": [
    "x = 3\n",
    "y = 5\n",
    "\n",
    "print(x==3)\n",
    "print(y==5)\n",
    "print(x==3 and y==5)\n",
    "print(x==3 and y==6) #both must be True\n",
    "print(x==3 or y==6) #one of them must be True"
   ]
  },
  {
   "cell_type": "code",
   "execution_count": null,
   "metadata": {},
   "outputs": [],
   "source": [
    "# The accumulator pattern in programming is a useful strategy for keeping track of running totals.\n",
    "# The following code illustrates the pattern:\n",
    "\n",
    "running_total = 0\n",
    "for i in range(0,5):\n",
    "    running_total += i\n",
    "    \n",
    "print(running_total)\n",
    "\n",
    "# Note that x += y is equivalent to x = x + y, so this is mostly \"syntactic sugar\""
   ]
  },
  {
   "cell_type": "markdown",
   "metadata": {},
   "source": [
    "# 5\n",
    "### 2 points\n",
    "\n",
    "Each new term in the Fibonacci sequence is generated by adding the previous two terms. By starting with 1 and 2, the first 10 terms will be:\n",
    "\n",
    "1, 2, 3, 5, 8, 13, 21, 34, 55, 89, ...\n",
    "\n",
    "By considering the terms in the Fibonacci sequence whose values do not exceed four million, using programming, find the sum of the even-valued terms."
   ]
  },
  {
   "cell_type": "code",
   "execution_count": null,
   "metadata": {},
   "outputs": [],
   "source": [
    "def fibonacci(num):\n",
    "    prev = 0\n",
    "    next = 1\n",
    "    output = 0\n",
    "    for i in range(0,num):\n",
    "        if(i>=1):\n",
    "            prev, next = next, next + prev\n",
    "            output = prev\n",
    "        else:\n",
    "            output = i\n",
    "\n",
    "        print(output,end=\",\")\n",
    "    \n",
    "fibonacci(10)"
   ]
  },
  {
   "cell_type": "code",
   "execution_count": 1,
   "metadata": {},
   "outputs": [
    {
     "name": "stdout",
     "output_type": "stream",
     "text": [
      "\n",
      "Sum of all even-valued terms: 286573922006908542050\n"
     ]
    }
   ],
   "source": [
    "def fibonacci_assignment(num):\n",
    "    prev = 0\n",
    "    next = 1\n",
    "    output = 0\n",
    "    running_total = 0\n",
    "    for i in range(0,num):\n",
    "        if(i>=1):\n",
    "            prev, next = next, next + prev\n",
    "            output = prev\n",
    "        else:\n",
    "            output = i\n",
    "         #print(output,end=\",\")\n",
    "        if(output%2==0):\n",
    "            running_total += output\n",
    "    print(\"\")    \n",
    "    print(\"Sum of all even-valued terms: \"+str(running_total))\n",
    "    \n",
    "fibonacci_assignment(100)"
   ]
  },
  {
   "cell_type": "code",
   "execution_count": 2,
   "metadata": {},
   "outputs": [
    {
     "data": {
      "text/plain": [
       "'2'"
      ]
     },
     "execution_count": 2,
     "metadata": {},
     "output_type": "execute_result"
    }
   ],
   "source": [
    "num=2\n",
    "str(2)"
   ]
  },
  {
   "cell_type": "code",
   "execution_count": 12,
   "metadata": {},
   "outputs": [
    {
     "data": {
      "text/plain": [
       "(0, 1)"
      ]
     },
     "execution_count": 12,
     "metadata": {},
     "output_type": "execute_result"
    }
   ],
   "source": [
    "a, b = 0, 1\n",
    "a, b"
   ]
  },
  {
   "cell_type": "code",
   "execution_count": 13,
   "metadata": {},
   "outputs": [
    {
     "data": {
      "text/plain": [
       "(1, 1)"
      ]
     },
     "execution_count": 13,
     "metadata": {},
     "output_type": "execute_result"
    }
   ],
   "source": [
    "a, b = b, a+b\n",
    "a, b"
   ]
  },
  {
   "cell_type": "code",
   "execution_count": 18,
   "metadata": {},
   "outputs": [
    {
     "name": "stdout",
     "output_type": "stream",
     "text": [
      "0\n",
      "1\n",
      "1\n",
      "2\n",
      "3\n",
      "5\n",
      "8\n",
      "13\n",
      "21\n",
      "34\n"
     ]
    }
   ],
   "source": [
    "f1 = 0\n",
    "f2 = 1\n",
    "\n",
    "temp = 0 \n",
    "# could have been any number; use this variable to juggle values \n",
    "# among f1 (which takes on the value of f2 in the next loop) and\n",
    "# f2, which is derived from the formula in the Wikipedia link I sent\n",
    "\n",
    "for i in range(0,10):\n",
    "    if(i<=1):\n",
    "        print(i)\n",
    "    else:\n",
    "        temp = f1\n",
    "        f1 = f2\n",
    "        f2 = temp +f1\n",
    "        print(f2)"
   ]
  },
  {
   "cell_type": "markdown",
   "metadata": {},
   "source": [
    "# 6\n",
    "### 5 points (all or nothing)\n",
    "\n",
    "The sum of the squares of the first ten natural numbers is,\n",
    "12 + 22 + ... + 102 = 385\n",
    "\n",
    "The square of the sum of the first ten natural numbers is,\n",
    "(1 + 2 + ... + 10)2 = 552 = 3025\n",
    "\n",
    "Hence the difference between the sum of the squares of the first ten natural numbers and the square of the sum is 3025 − 385 = 2640.\n",
    "\n",
    "Find the difference between the sum of the squares of the first one hundred natural numbers and the square of the sum.\n",
    "\n",
    "Show code that generates the answer."
   ]
  },
  {
   "cell_type": "code",
   "execution_count": 12,
   "metadata": {},
   "outputs": [
    {
     "data": {
      "text/plain": [
       "385"
      ]
     },
     "execution_count": 12,
     "metadata": {},
     "output_type": "execute_result"
    }
   ],
   "source": [
    "def sum_of_squares(num):\n",
    "    running_total = 0\n",
    "    for i in range(1,(num+1)):\n",
    "        running_total += (i**2)\n",
    "        \n",
    "    return running_total\n",
    "\n",
    "sum_of_squares(10)"
   ]
  },
  {
   "cell_type": "code",
   "execution_count": 13,
   "metadata": {},
   "outputs": [
    {
     "data": {
      "text/plain": [
       "3025"
      ]
     },
     "execution_count": 13,
     "metadata": {},
     "output_type": "execute_result"
    }
   ],
   "source": [
    "def square_of_sum(num):\n",
    "    running_total = 0\n",
    "    for i in range(1,(num+1)):\n",
    "        running_total += i\n",
    "        \n",
    "    squared_sum = running_total ** 2\n",
    "    return squared_sum\n",
    "\n",
    "square_of_sum(10)"
   ]
  },
  {
   "cell_type": "code",
   "execution_count": 14,
   "metadata": {},
   "outputs": [
    {
     "data": {
      "text/plain": [
       "2640"
      ]
     },
     "execution_count": 14,
     "metadata": {},
     "output_type": "execute_result"
    }
   ],
   "source": [
    "square_of_sum(10) - sum_of_squares(10)"
   ]
  },
  {
   "cell_type": "code",
   "execution_count": 20,
   "metadata": {},
   "outputs": [
    {
     "name": "stdout",
     "output_type": "stream",
     "text": [
      "0\n",
      "1\n",
      "1\n",
      "2\n",
      "3\n",
      "5\n",
      "8\n",
      "13\n",
      "21\n",
      "34\n"
     ]
    }
   ],
   "source": [
    "def Fib(F):\n",
    "    a=0\n",
    "    b=1\n",
    "    \n",
    "    if F==1:\n",
    "        print(a)\n",
    "    else:\n",
    "        print(a)\n",
    "        print(b)\n",
    "        \n",
    "        for i in range (2, F):\n",
    "            c=a+b\n",
    "            a=b\n",
    "            b=c\n",
    "            print(c)\n",
    "            \n",
    "Fib(10)"
   ]
  },
  {
   "cell_type": "code",
   "execution_count": null,
   "metadata": {},
   "outputs": [],
   "source": []
  }
 ],
 "metadata": {
  "kernelspec": {
   "display_name": "Python 3",
   "language": "python",
   "name": "python3"
  },
  "language_info": {
   "codemirror_mode": {
    "name": "ipython",
    "version": 3
   },
   "file_extension": ".py",
   "mimetype": "text/x-python",
   "name": "python",
   "nbconvert_exporter": "python",
   "pygments_lexer": "ipython3",
   "version": "3.6.8"
  }
 },
 "nbformat": 4,
 "nbformat_minor": 2
}
