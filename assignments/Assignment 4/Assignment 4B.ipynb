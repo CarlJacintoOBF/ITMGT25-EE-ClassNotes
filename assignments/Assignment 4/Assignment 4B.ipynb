{
 "cells": [
  {
   "cell_type": "markdown",
   "metadata": {},
   "source": [
    "# Assignment 4B"
   ]
  },
  {
   "cell_type": "markdown",
   "metadata": {},
   "source": [
    "**Prerequisite:** You need to have gone through Assignment 4A to work through the numbers below.\n",
    "\n",
    "To make sure that you've done the work, perform checks by running the next few cells below:\n",
    "\n"
   ]
  },
  {
   "cell_type": "code",
   "execution_count": 1,
   "metadata": {},
   "outputs": [],
   "source": [
    "import pymongo"
   ]
  },
  {
   "cell_type": "code",
   "execution_count": 2,
   "metadata": {},
   "outputs": [
    {
     "name": "stdout",
     "output_type": "stream",
     "text": [
      "['admin', 'config', 'hr', 'local', 'order_management', 'products']\n"
     ]
    }
   ],
   "source": [
    "myclient = pymongo.MongoClient(\"mongodb://localhost:27017/\")\n",
    "\n",
    "print(myclient.list_database_names())"
   ]
  },
  {
   "cell_type": "markdown",
   "metadata": {},
   "source": [
    "You should see the following databases:\n",
    "* order_management\n",
    "* products\n",
    "* hr"
   ]
  },
  {
   "cell_type": "markdown",
   "metadata": {},
   "source": [
    "Let's create handlers for each below:"
   ]
  },
  {
   "cell_type": "code",
   "execution_count": 3,
   "metadata": {},
   "outputs": [],
   "source": [
    "products_db = myclient[\"products\"]\n",
    "order_management_db = myclient[\"order_management\"]\n",
    "hr_db = myclient[\"hr\"]"
   ]
  },
  {
   "cell_type": "markdown",
   "metadata": {},
   "source": [
    "Let's revisit the employees collection. "
   ]
  },
  {
   "cell_type": "code",
   "execution_count": 13,
   "metadata": {},
   "outputs": [
    {
     "data": {
      "text/plain": [
       "[{'_id': 1, 'first_name': 'Bong', 'last_name': 'Olpoc', 'base_pay': 2200.0},\n",
       " {'_id': 2,\n",
       "  'first_name': 'Chums',\n",
       "  'last_name': 'Uy',\n",
       "  'base_pay': 1650.0000000000002},\n",
       " {'_id': 3,\n",
       "  'first_name': 'Joaqs',\n",
       "  'last_name': 'Gonzales',\n",
       "  'base_pay': 1100.0},\n",
       " {'_id': 4, 'first_name': 'Joben', 'last_name': 'Ilagan', 'base_pay': 1100.0},\n",
       " {'_id': 5, 'first_name': 'Sean', 'last_name': 'Uy', 'base_pay': 2200.0},\n",
       " {'_id': 6,\n",
       "  'first_name': 'Stephen',\n",
       "  'last_name': 'Chan',\n",
       "  'base_pay': 1650.0000000000002}]"
      ]
     },
     "execution_count": 13,
     "metadata": {},
     "output_type": "execute_result"
    }
   ],
   "source": [
    "employees_col = hr_db[\"employees\"]\n",
    "\n",
    "[e for e in employees_col.find()]"
   ]
  },
  {
   "cell_type": "markdown",
   "metadata": {},
   "source": [
    "Let's assign an employee id to make it easier to reference. The convention we will use is just to prefix a year, followed by `_id` with padded zeros.\n"
   ]
  },
  {
   "cell_type": "code",
   "execution_count": 78,
   "metadata": {},
   "outputs": [
    {
     "name": "stdout",
     "output_type": "stream",
     "text": [
      "190001\n",
      "190002\n",
      "190003\n",
      "190004\n",
      "190005\n",
      "190006\n",
      "{'_id': 1, 'first_name': 'Bong', 'last_name': 'Olpoc', 'base_pay': 2200.0, 'employee_id': '190001'}\n",
      "{'_id': 2, 'first_name': 'Chums', 'last_name': 'Uy', 'base_pay': 1650.0000000000002, 'employee_id': '190002'}\n",
      "{'_id': 3, 'first_name': 'Joaqs', 'last_name': 'Gonzales', 'base_pay': 1100.0, 'employee_id': '190003'}\n",
      "{'_id': 4, 'first_name': 'Joben', 'last_name': 'Ilagan', 'base_pay': 1100.0, 'employee_id': '190004'}\n",
      "{'_id': 5, 'first_name': 'Sean', 'last_name': 'Uy', 'base_pay': 2200.0, 'employee_id': '190005'}\n",
      "{'_id': 6, 'first_name': 'Stephen', 'last_name': 'Chan', 'base_pay': 1650.0000000000002, 'employee_id': '190006'}\n"
     ]
    }
   ],
   "source": [
    "# we will have to update one document at a time, unfortunately\n",
    "\n",
    "for e in employees_col.find({}):    \n",
    "    # print(\"{}\".format(str(e[\"_id\"]).zfill(3)))\n",
    "    employee_id = \"19{}\".format(str(e[\"_id\"]).zfill(4))\n",
    "    print(employee_id)\n",
    "    employees_col.update_one({\"_id\":e[\"_id\"]},{\"$set\":{\"employee_id\":employee_id}})\n",
    "    \n"
   ]
  },
  {
   "cell_type": "code",
   "execution_count": 79,
   "metadata": {},
   "outputs": [
    {
     "name": "stdout",
     "output_type": "stream",
     "text": [
      "{'_id': 1, 'first_name': 'Bong', 'last_name': 'Olpoc', 'base_pay': 2200.0, 'employee_id': '190001'}\n",
      "{'_id': 2, 'first_name': 'Chums', 'last_name': 'Uy', 'base_pay': 1650.0000000000002, 'employee_id': '190002'}\n",
      "{'_id': 3, 'first_name': 'Joaqs', 'last_name': 'Gonzales', 'base_pay': 1100.0, 'employee_id': '190003'}\n",
      "{'_id': 4, 'first_name': 'Joben', 'last_name': 'Ilagan', 'base_pay': 1100.0, 'employee_id': '190004'}\n",
      "{'_id': 5, 'first_name': 'Sean', 'last_name': 'Uy', 'base_pay': 2200.0, 'employee_id': '190005'}\n",
      "{'_id': 6, 'first_name': 'Stephen', 'last_name': 'Chan', 'base_pay': 1650.0000000000002, 'employee_id': '190006'}\n"
     ]
    }
   ],
   "source": [
    "# check if new column employee_id was created\n",
    "for x in employees_col.find():\n",
    "    print(x)"
   ]
  },
  {
   "cell_type": "markdown",
   "metadata": {},
   "source": [
    "### 1) Logging Sales Orders"
   ]
  },
  {
   "cell_type": "markdown",
   "metadata": {},
   "source": [
    "Let's create a function `create_sales_order(collection, shopping_cart)` that takes on a MongoDB collection and a shopping cart directory as parameters and inserts the data directly as a document in the passed collection parameter."
   ]
  },
  {
   "cell_type": "markdown",
   "metadata": {},
   "source": [
    "But first, we need to create the collection **sales_orders** in **order_management**:"
   ]
  },
  {
   "cell_type": "code",
   "execution_count": 89,
   "metadata": {},
   "outputs": [],
   "source": [
    "sales_orders_col = order_management_db[\"sales_orders\"]"
   ]
  },
  {
   "cell_type": "markdown",
   "metadata": {},
   "source": [
    "#### 1a) Insert existing shopping carts to the new collection\n",
    "\n",
    "Existing shopping cart documents have already been defined below. Insert into the new collection. Let MongoDB handle creating the new `_id`s so no need to define these.\n",
    "\n",
    "(10 points)"
   ]
  },
  {
   "cell_type": "code",
   "execution_count": 127,
   "metadata": {},
   "outputs": [],
   "source": [
    "from datetime import datetime\n",
    "\n",
    "shopping_cart_list = [\n",
    "    {\"transaction_date\":datetime.strptime('Jul 1 2019  1:30PM', '%b %d %Y %I:%M%p'),\n",
    "     \"customer_id\":1,\n",
    "     \"clerk_id\":\"190002\",\n",
    "     \"total\":400,\n",
    "     \"items\":[\n",
    "         {\n",
    "             \"code\":\"beer\",\n",
    "             \"qty\":1,\n",
    "             \"subtotal\":200\n",
    "         },\n",
    "         {\n",
    "             \"code\":\"turmericbutter\",\n",
    "             \"qty\":1,\n",
    "             \"subtotal\":200\n",
    "         }\n",
    "     ]\n",
    "    },\n",
    "    {\"transaction_date\":datetime.strptime('Jul 1 2019  1:35PM', '%b %d %Y %I:%M%p'),\n",
    "     \"customer_id\":2,\n",
    "     \"clerk_id\":\"190001\",\n",
    "     \"total\":400,\n",
    "     \"items\":[\n",
    "         {\n",
    "             \"code\":\"beer\",\n",
    "             \"qty\":1,\n",
    "             \"subtotal\":200\n",
    "         },\n",
    "         {\n",
    "             \"code\":\"turmericbutter\",\n",
    "             \"qty\":1,\n",
    "             \"subtotal\":200\n",
    "         }\n",
    "     ]\n",
    "    },\n",
    "    {\"transaction_date\":datetime.strptime('Jul 1 2019  3:30PM', '%b %d %Y %I:%M%p'),\n",
    "     \"customer_id\":3,\n",
    "     \"clerk_id\":\"190003\",\n",
    "     \"total\":400,\n",
    "     \"items\":[\n",
    "         {\n",
    "             \"code\":\"beer\",\n",
    "             \"qty\":1,\n",
    "             \"subtotal\":200\n",
    "         },\n",
    "         {\n",
    "             \"code\":\"turmericbutter\",\n",
    "             \"qty\":1,\n",
    "             \"subtotal\":200\n",
    "         }\n",
    "     ]\n",
    "    },\n",
    "    {\"transaction_date\":datetime.strptime('Jul 1 2019  3:30PM', '%b %d %Y %I:%M%p'),\n",
    "     \"customer_id\":4,\n",
    "     \"clerk_id\":\"190004\",\n",
    "     \"total\":400,\n",
    "     \"items\":[\n",
    "         {\n",
    "             \"code\":\"beer\",\n",
    "             \"qty\":1,\n",
    "             \"subtotal\":200\n",
    "         },\n",
    "         {\n",
    "             \"code\":\"turmericbutter\",\n",
    "             \"qty\":1,\n",
    "             \"subtotal\":200\n",
    "         }\n",
    "     ]\n",
    "    },\n",
    "    {\"transaction_date\":datetime.strptime('Jul 1 2019  4:30PM', '%b %d %Y %I:%M%p'),\n",
    "     \"customer_id\":5,\n",
    "     \"clerk_id\":\"190001\",\n",
    "     \"total\":400,\n",
    "     \"items\":[\n",
    "         {\n",
    "             \"code\":\"beer\",\n",
    "             \"qty\":1,\n",
    "             \"subtotal\":200\n",
    "         },\n",
    "         {\n",
    "             \"code\":\"turmericbutter\",\n",
    "             \"qty\":1,\n",
    "             \"subtotal\":200\n",
    "         }\n",
    "     ]\n",
    "    },\n",
    "    {\"transaction_date\":datetime.strptime('Jul 1 2019  5:30PM', '%b %d %Y %I:%M%p'),\n",
    "     \"customer_id\":6,\n",
    "     \"clerk_id\":\"190006\",\n",
    "     \"total\":400,\n",
    "     \"items\":[\n",
    "         {\n",
    "             \"code\":\"beer\",\n",
    "             \"qty\":1,\n",
    "             \"subtotal\":200\n",
    "         },\n",
    "         {\n",
    "             \"code\":\"turmericbutter\",\n",
    "             \"qty\":1,\n",
    "             \"subtotal\":200\n",
    "         }\n",
    "     ]\n",
    "    },\n",
    "    {\"transaction_date\":datetime.strptime('Jul 1 2019  6:30PM', '%b %d %Y %I:%M%p'),\n",
    "     \"customer_id\":7,\n",
    "     \"clerk_id\":\"190005\",\n",
    "     \"total\":400,\n",
    "     \"items\":[\n",
    "         {\n",
    "             \"code\":\"beer\",\n",
    "             \"qty\":1,\n",
    "             \"subtotal\":200\n",
    "         },\n",
    "         {\n",
    "             \"code\":\"turmericbutter\",\n",
    "             \"qty\":1,\n",
    "             \"subtotal\":200\n",
    "         }\n",
    "     ]\n",
    "    },\n",
    "]"
   ]
  },
  {
   "cell_type": "code",
   "execution_count": 128,
   "metadata": {},
   "outputs": [
    {
     "data": {
      "text/plain": [
       "[{'transaction_date': datetime.datetime(2019, 7, 1, 13, 30),\n",
       "  'customer_id': 1,\n",
       "  'clerk_id': '190002',\n",
       "  'total': 400,\n",
       "  'items': [{'code': 'beer', 'qty': 1, 'subtotal': 200},\n",
       "   {'code': 'turmericbutter', 'qty': 1, 'subtotal': 200}]},\n",
       " {'transaction_date': datetime.datetime(2019, 7, 1, 13, 35),\n",
       "  'customer_id': 2,\n",
       "  'clerk_id': '190001',\n",
       "  'total': 400,\n",
       "  'items': [{'code': 'beer', 'qty': 1, 'subtotal': 200},\n",
       "   {'code': 'turmericbutter', 'qty': 1, 'subtotal': 200}]},\n",
       " {'transaction_date': datetime.datetime(2019, 7, 1, 15, 30),\n",
       "  'customer_id': 3,\n",
       "  'clerk_id': '190003',\n",
       "  'total': 400,\n",
       "  'items': [{'code': 'beer', 'qty': 1, 'subtotal': 200},\n",
       "   {'code': 'turmericbutter', 'qty': 1, 'subtotal': 200}]},\n",
       " {'transaction_date': datetime.datetime(2019, 7, 1, 15, 30),\n",
       "  'customer_id': 4,\n",
       "  'clerk_id': '190004',\n",
       "  'total': 400,\n",
       "  'items': [{'code': 'beer', 'qty': 1, 'subtotal': 200},\n",
       "   {'code': 'turmericbutter', 'qty': 1, 'subtotal': 200}]},\n",
       " {'transaction_date': datetime.datetime(2019, 7, 1, 16, 30),\n",
       "  'customer_id': 5,\n",
       "  'clerk_id': '190001',\n",
       "  'total': 400,\n",
       "  'items': [{'code': 'beer', 'qty': 1, 'subtotal': 200},\n",
       "   {'code': 'turmericbutter', 'qty': 1, 'subtotal': 200}]},\n",
       " {'transaction_date': datetime.datetime(2019, 7, 1, 17, 30),\n",
       "  'customer_id': 6,\n",
       "  'clerk_id': '190006',\n",
       "  'total': 400,\n",
       "  'items': [{'code': 'beer', 'qty': 1, 'subtotal': 200},\n",
       "   {'code': 'turmericbutter', 'qty': 1, 'subtotal': 200}]},\n",
       " {'transaction_date': datetime.datetime(2019, 7, 1, 18, 30),\n",
       "  'customer_id': 7,\n",
       "  'clerk_id': '190005',\n",
       "  'total': 400,\n",
       "  'items': [{'code': 'beer', 'qty': 1, 'subtotal': 200},\n",
       "   {'code': 'turmericbutter', 'qty': 1, 'subtotal': 200}]}]"
      ]
     },
     "execution_count": 128,
     "metadata": {},
     "output_type": "execute_result"
    }
   ],
   "source": [
    "shopping_cart_list"
   ]
  },
  {
   "cell_type": "code",
   "execution_count": 129,
   "metadata": {},
   "outputs": [
    {
     "name": "stdout",
     "output_type": "stream",
     "text": [
      "[ObjectId('5d32a1fd8afb6df318e8b422'), ObjectId('5d32a1fd8afb6df318e8b423'), ObjectId('5d32a1fd8afb6df318e8b424'), ObjectId('5d32a1fd8afb6df318e8b425'), ObjectId('5d32a1fd8afb6df318e8b426'), ObjectId('5d32a1fd8afb6df318e8b427'), ObjectId('5d32a1fd8afb6df318e8b428')]\n"
     ]
    }
   ],
   "source": [
    "## write code to insert to new collection below\n",
    "## ---------------------------------------------\n",
    "\n",
    "\n",
    "\n",
    "\n",
    "## if you want to repeat the process due to a mistake, run the following line:\n",
    "# sales_orders_col.delete_many({})"
   ]
  },
  {
   "cell_type": "markdown",
   "metadata": {},
   "source": [
    "#### 1b) Define the function  `create_sales_order(collection, shopping_cart)` and test with a new shopping cart dictionary\n",
    "\n",
    "(10 points)"
   ]
  },
  {
   "cell_type": "code",
   "execution_count": 130,
   "metadata": {},
   "outputs": [],
   "source": [
    "new_shopping_cart = {\n",
    "    \"transaction_date\":datetime.strptime('Jul 2 2019  8:30AM', '%b %d %Y %I:%M%p'),\n",
    "     \"customer_id\":3,\n",
    "     \"clerk_id\":\"190002\",\n",
    "     \"total\":400,\n",
    "     \"items\":[\n",
    "         {\n",
    "             \"code\":\"beer\",\n",
    "             \"qty\":2,\n",
    "             \"subtotal\":400\n",
    "         }\n",
    "     ]\n",
    "    }"
   ]
  },
  {
   "cell_type": "code",
   "execution_count": 131,
   "metadata": {},
   "outputs": [],
   "source": [
    "# define function here\n",
    "\n",
    "def create_sales_order(collection, shopping_cart):\n",
    "    # write code here\n",
    "    \n",
    "    pass\n",
    "    "
   ]
  },
  {
   "cell_type": "code",
   "execution_count": 133,
   "metadata": {},
   "outputs": [
    {
     "data": {
      "text/plain": [
       "[{'_id': ObjectId('5d32a1fd8afb6df318e8b422'),\n",
       "  'transaction_date': datetime.datetime(2019, 7, 1, 13, 30),\n",
       "  'customer_id': 1,\n",
       "  'clerk_id': '190002',\n",
       "  'total': 400,\n",
       "  'items': [{'code': 'beer', 'qty': 1, 'subtotal': 200},\n",
       "   {'code': 'turmericbutter', 'qty': 1, 'subtotal': 200}]},\n",
       " {'_id': ObjectId('5d32a1fd8afb6df318e8b423'),\n",
       "  'transaction_date': datetime.datetime(2019, 7, 1, 13, 35),\n",
       "  'customer_id': 2,\n",
       "  'clerk_id': '190001',\n",
       "  'total': 400,\n",
       "  'items': [{'code': 'beer', 'qty': 1, 'subtotal': 200},\n",
       "   {'code': 'turmericbutter', 'qty': 1, 'subtotal': 200}]},\n",
       " {'_id': ObjectId('5d32a1fd8afb6df318e8b424'),\n",
       "  'transaction_date': datetime.datetime(2019, 7, 1, 15, 30),\n",
       "  'customer_id': 3,\n",
       "  'clerk_id': '190003',\n",
       "  'total': 400,\n",
       "  'items': [{'code': 'beer', 'qty': 1, 'subtotal': 200},\n",
       "   {'code': 'turmericbutter', 'qty': 1, 'subtotal': 200}]},\n",
       " {'_id': ObjectId('5d32a1fd8afb6df318e8b425'),\n",
       "  'transaction_date': datetime.datetime(2019, 7, 1, 15, 30),\n",
       "  'customer_id': 4,\n",
       "  'clerk_id': '190004',\n",
       "  'total': 400,\n",
       "  'items': [{'code': 'beer', 'qty': 1, 'subtotal': 200},\n",
       "   {'code': 'turmericbutter', 'qty': 1, 'subtotal': 200}]},\n",
       " {'_id': ObjectId('5d32a1fd8afb6df318e8b426'),\n",
       "  'transaction_date': datetime.datetime(2019, 7, 1, 16, 30),\n",
       "  'customer_id': 5,\n",
       "  'clerk_id': '190001',\n",
       "  'total': 400,\n",
       "  'items': [{'code': 'beer', 'qty': 1, 'subtotal': 200},\n",
       "   {'code': 'turmericbutter', 'qty': 1, 'subtotal': 200}]},\n",
       " {'_id': ObjectId('5d32a1fd8afb6df318e8b427'),\n",
       "  'transaction_date': datetime.datetime(2019, 7, 1, 17, 30),\n",
       "  'customer_id': 6,\n",
       "  'clerk_id': '190006',\n",
       "  'total': 400,\n",
       "  'items': [{'code': 'beer', 'qty': 1, 'subtotal': 200},\n",
       "   {'code': 'turmericbutter', 'qty': 1, 'subtotal': 200}]},\n",
       " {'_id': ObjectId('5d32a1fd8afb6df318e8b428'),\n",
       "  'transaction_date': datetime.datetime(2019, 7, 1, 18, 30),\n",
       "  'customer_id': 7,\n",
       "  'clerk_id': '190005',\n",
       "  'total': 400,\n",
       "  'items': [{'code': 'beer', 'qty': 1, 'subtotal': 200},\n",
       "   {'code': 'turmericbutter', 'qty': 1, 'subtotal': 200}]},\n",
       " {'_id': ObjectId('5d32a2078afb6df318e8b429'),\n",
       "  'transaction_date': datetime.datetime(2019, 7, 2, 8, 30),\n",
       "  'customer_id': 3,\n",
       "  'clerk_id': '190002',\n",
       "  'total': 400,\n",
       "  'items': [{'code': 'beer', 'qty': 2, 'subtotal': 400}]}]"
      ]
     },
     "execution_count": 133,
     "metadata": {},
     "output_type": "execute_result"
    }
   ],
   "source": [
    "# test your new function here:\n",
    "\n",
    "create_sales_order(sales_orders_col, new_shopping_cart)\n",
    "\n",
    "# inspect whole sales_order collection\n",
    "[s for s in sales_orders_col.find({})]"
   ]
  },
  {
   "cell_type": "markdown",
   "metadata": {},
   "source": [
    "### 2) Determine commissions of clerks from sales orders"
   ]
  },
  {
   "cell_type": "markdown",
   "metadata": {},
   "source": [
    "Assuming each salesperson/clerk gets 1% of gross sales, list potentential commissions earned per sales order."
   ]
  },
  {
   "cell_type": "code",
   "execution_count": 134,
   "metadata": {},
   "outputs": [
    {
     "data": {
      "text/plain": [
       "[{'clerk_id': '190002', 'total': 400},\n",
       " {'clerk_id': '190001', 'total': 400},\n",
       " {'clerk_id': '190003', 'total': 400},\n",
       " {'clerk_id': '190004', 'total': 400},\n",
       " {'clerk_id': '190001', 'total': 400},\n",
       " {'clerk_id': '190006', 'total': 400},\n",
       " {'clerk_id': '190005', 'total': 400},\n",
       " {'clerk_id': '190002', 'total': 400}]"
      ]
     },
     "execution_count": 134,
     "metadata": {},
     "output_type": "execute_result"
    }
   ],
   "source": [
    "# do a quick dump of sales orders showing just the clerk id and total amount per sales order\n",
    "[o for o in sales_orders_col.find({},{\"_id\":0,\"clerk_id\":1,\"total\":1})]"
   ]
  },
  {
   "cell_type": "markdown",
   "metadata": {},
   "source": [
    "If you wish to display the name of the clerk, let's apply a lookup function"
   ]
  },
  {
   "cell_type": "code",
   "execution_count": 135,
   "metadata": {},
   "outputs": [
    {
     "data": {
      "text/plain": [
       "[{'Uy, Chums': {'total': 400, 'commissions': 4.0}},\n",
       " {'Olpoc, Bong': {'total': 400, 'commissions': 4.0}},\n",
       " {'Gonzales, Joaqs': {'total': 400, 'commissions': 4.0}},\n",
       " {'Ilagan, Joben': {'total': 400, 'commissions': 4.0}},\n",
       " {'Olpoc, Bong': {'total': 400, 'commissions': 4.0}},\n",
       " {'Chan, Stephen': {'total': 400, 'commissions': 4.0}},\n",
       " {'Uy, Sean': {'total': 400, 'commissions': 4.0}},\n",
       " {'Uy, Chums': {'total': 400, 'commissions': 4.0}}]"
      ]
     },
     "execution_count": 135,
     "metadata": {},
     "output_type": "execute_result"
    }
   ],
   "source": [
    "def employee_lookup(x):\n",
    "    employee = employees_col.find_one({\"employee_id\":x})\n",
    "    return \"{}, {}\".format(employee[\"last_name\"], employee[\"first_name\"])\n",
    "\n",
    "commission_rate = 0.01\n",
    "\n",
    "[{employee_lookup(o[\"clerk_id\"]):{\"total\":o[\"total\"], \"commissions\":o[\"total\"]*.01}} for o in sales_orders_col.find({},{\"_id\":0,\"clerk_id\":1,\"total\":1})]\n",
    "\n"
   ]
  },
  {
   "cell_type": "markdown",
   "metadata": {},
   "source": [
    "#### 2a) Generate a csv file containing total commissions earned per employee\n",
    "\n",
    "Go wild, be creative. Whether you generate the aggregate totals through accumulation (via regular iterators), Pandas dataframes, or through MongoDB aggregations, it's up to you.\n",
    "\n",
    "The file must be saved as **commissions.csv\""
   ]
  },
  {
   "cell_type": "markdown",
   "metadata": {},
   "source": [
    "The csv must have the following format:\n",
    "```\n",
    "last_name,first_name,total_sales,total_commissions\n",
    "```\n",
    "\n",
    "(20 points)"
   ]
  },
  {
   "cell_type": "markdown",
   "metadata": {},
   "source": [
    "#### 2b) Generate a payslip per clerk\n",
    "\n",
    "Each clerk must receive a payslip (as represented by separate files with the format <employee id>-commissions.html) containing the following:\n",
    "    \n",
    "```\n",
    "<html>\n",
    "   <div>{first_name} {last_name}</div><br/>\n",
    "   <div id=\"total_sales\">\n",
    "       <div>Total Sales: </div><div>{total}</div>\n",
    "   <div><br/>\n",
    "   <div id=\"total_commissions\">\n",
    "       <div>Total Commissions: </div><div>{total}</div>\n",
    "   <div><br/>\n",
    "</html>\n",
    "```\n",
    "\n",
    "(20 points)"
   ]
  },
  {
   "cell_type": "code",
   "execution_count": null,
   "metadata": {},
   "outputs": [],
   "source": []
  }
 ],
 "metadata": {
  "kernelspec": {
   "display_name": "Python 3",
   "language": "python",
   "name": "python3"
  },
  "language_info": {
   "codemirror_mode": {
    "name": "ipython",
    "version": 3
   },
   "file_extension": ".py",
   "mimetype": "text/x-python",
   "name": "python",
   "nbconvert_exporter": "python",
   "pygments_lexer": "ipython3",
   "version": "3.7.3"
  }
 },
 "nbformat": 4,
 "nbformat_minor": 2
}
